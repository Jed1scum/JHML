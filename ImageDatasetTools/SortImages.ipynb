{
 "cells": [
  {
   "cell_type": "code",
   "execution_count": 53,
   "metadata": {},
   "outputs": [
    {
     "name": "stdout",
     "output_type": "stream",
     "text": [
      "1.4.0\n",
      "1.4.0\n"
     ]
    }
   ],
   "source": [
    "import tensorflow as tf\n",
    "exec(open(\"scripts/JH_label_image.py\").read())\n",
    "print (tf.VERSION)\n",
    "print (tf.VERSION)"
   ]
  },
  {
   "cell_type": "code",
   "execution_count": 119,
   "metadata": {},
   "outputs": [
    {
     "name": "stdout",
     "output_type": "stream",
     "text": [
      "INFO:tensorflow:Looking for images in 'apple'\n"
     ]
    },
    {
     "name": "stderr",
     "output_type": "stream",
     "text": [
      "INFO:tensorflow:Looking for images in 'apple'\n"
     ]
    },
    {
     "name": "stdout",
     "output_type": "stream",
     "text": [
      "INFO:tensorflow:Looking for images in 'coffee_mug'\n"
     ]
    },
    {
     "name": "stderr",
     "output_type": "stream",
     "text": [
      "INFO:tensorflow:Looking for images in 'coffee_mug'\n"
     ]
    },
    {
     "name": "stdout",
     "output_type": "stream",
     "text": [
      "INFO:tensorflow:Looking for images in 'fork'\n"
     ]
    },
    {
     "name": "stderr",
     "output_type": "stream",
     "text": [
      "INFO:tensorflow:Looking for images in 'fork'\n"
     ]
    },
    {
     "name": "stdout",
     "output_type": "stream",
     "text": [
      "INFO:tensorflow:Creating bottleneck at tf_files/bottlenecks/fork/7. orange_fork.jpg_mobilenet_0.50_224.txt\n"
     ]
    },
    {
     "name": "stderr",
     "output_type": "stream",
     "text": [
      "INFO:tensorflow:Creating bottleneck at tf_files/bottlenecks/fork/7. orange_fork.jpg_mobilenet_0.50_224.txt\n"
     ]
    },
    {
     "name": "stdout",
     "output_type": "stream",
     "text": [
      "INFO:tensorflow:Creating bottleneck at tf_files/bottlenecks/fork/48. fj007gafd5iwl9l.large.jpg_mobilenet_0.50_224.txt\n"
     ]
    },
    {
     "name": "stderr",
     "output_type": "stream",
     "text": [
      "INFO:tensorflow:Creating bottleneck at tf_files/bottlenecks/fork/48. fj007gafd5iwl9l.large.jpg_mobilenet_0.50_224.txt\n"
     ]
    },
    {
     "name": "stdout",
     "output_type": "stream",
     "text": [
      "INFO:tensorflow:Creating bottleneck at tf_files/bottlenecks/fork/10. duna-matt-black-dessert-fork-338045.jpg_mobilenet_0.50_224.txt\n"
     ]
    },
    {
     "name": "stderr",
     "output_type": "stream",
     "text": [
      "INFO:tensorflow:Creating bottleneck at tf_files/bottlenecks/fork/10. duna-matt-black-dessert-fork-338045.jpg_mobilenet_0.50_224.txt\n"
     ]
    },
    {
     "name": "stdout",
     "output_type": "stream",
     "text": [
      "INFO:tensorflow:Creating bottleneck at tf_files/bottlenecks/fork/17. fork-04.jpg_mobilenet_0.50_224.txt\n"
     ]
    },
    {
     "name": "stderr",
     "output_type": "stream",
     "text": [
      "INFO:tensorflow:Creating bottleneck at tf_files/bottlenecks/fork/17. fork-04.jpg_mobilenet_0.50_224.txt\n"
     ]
    },
    {
     "name": "stdout",
     "output_type": "stream",
     "text": [
      "INFO:tensorflow:100 bottleneck files created.\n"
     ]
    },
    {
     "name": "stderr",
     "output_type": "stream",
     "text": [
      "INFO:tensorflow:100 bottleneck files created.\n"
     ]
    },
    {
     "name": "stdout",
     "output_type": "stream",
     "text": [
      "INFO:tensorflow:Creating bottleneck at tf_files/bottlenecks/fork/38. bigstock-fork-1211956-640x428.jpg_mobilenet_0.50_224.txt\n"
     ]
    },
    {
     "name": "stderr",
     "output_type": "stream",
     "text": [
      "INFO:tensorflow:Creating bottleneck at tf_files/bottlenecks/fork/38. bigstock-fork-1211956-640x428.jpg_mobilenet_0.50_224.txt\n"
     ]
    },
    {
     "name": "stdout",
     "output_type": "stream",
     "text": [
      "INFO:tensorflow:Creating bottleneck at tf_files/bottlenecks/fork/36. 18585.jpg_mobilenet_0.50_224.txt\n"
     ]
    },
    {
     "name": "stderr",
     "output_type": "stream",
     "text": [
      "INFO:tensorflow:Creating bottleneck at tf_files/bottlenecks/fork/36. 18585.jpg_mobilenet_0.50_224.txt\n"
     ]
    },
    {
     "name": "stdout",
     "output_type": "stream",
     "text": [
      "INFO:tensorflow:Creating bottleneck at tf_files/bottlenecks/fork/8. shutterstock_88722283.jpg_mobilenet_0.50_224.txt\n"
     ]
    },
    {
     "name": "stderr",
     "output_type": "stream",
     "text": [
      "INFO:tensorflow:Creating bottleneck at tf_files/bottlenecks/fork/8. shutterstock_88722283.jpg_mobilenet_0.50_224.txt\n"
     ]
    },
    {
     "name": "stdout",
     "output_type": "stream",
     "text": [
      "INFO:tensorflow:Creating bottleneck at tf_files/bottlenecks/fork/37. 22930_57575_43957.jpg_mobilenet_0.50_224.txt\n"
     ]
    },
    {
     "name": "stderr",
     "output_type": "stream",
     "text": [
      "INFO:tensorflow:Creating bottleneck at tf_files/bottlenecks/fork/37. 22930_57575_43957.jpg_mobilenet_0.50_224.txt\n"
     ]
    },
    {
     "name": "stdout",
     "output_type": "stream",
     "text": [
      "INFO:tensorflow:Creating bottleneck at tf_files/bottlenecks/fork/26. regency-dinner-fork.jpg_mobilenet_0.50_224.txt\n"
     ]
    },
    {
     "name": "stderr",
     "output_type": "stream",
     "text": [
      "INFO:tensorflow:Creating bottleneck at tf_files/bottlenecks/fork/26. regency-dinner-fork.jpg_mobilenet_0.50_224.txt\n"
     ]
    },
    {
     "name": "stdout",
     "output_type": "stream",
     "text": [
      "INFO:tensorflow:Creating bottleneck at tf_files/bottlenecks/fork/6. fork_115920517_250.jpg_mobilenet_0.50_224.txt\n"
     ]
    },
    {
     "name": "stderr",
     "output_type": "stream",
     "text": [
      "INFO:tensorflow:Creating bottleneck at tf_files/bottlenecks/fork/6. fork_115920517_250.jpg_mobilenet_0.50_224.txt\n"
     ]
    },
    {
     "name": "stdout",
     "output_type": "stream",
     "text": [
      "INFO:tensorflow:Creating bottleneck at tf_files/bottlenecks/fork/19. hag-cu249605.jpg_mobilenet_0.50_224.txt\n"
     ]
    },
    {
     "name": "stderr",
     "output_type": "stream",
     "text": [
      "INFO:tensorflow:Creating bottleneck at tf_files/bottlenecks/fork/19. hag-cu249605.jpg_mobilenet_0.50_224.txt\n"
     ]
    },
    {
     "name": "stdout",
     "output_type": "stream",
     "text": [
      "INFO:tensorflow:Creating bottleneck at tf_files/bottlenecks/fork/27. dinner-fork-stainless.jpg_mobilenet_0.50_224.txt\n"
     ]
    },
    {
     "name": "stderr",
     "output_type": "stream",
     "text": [
      "INFO:tensorflow:Creating bottleneck at tf_files/bottlenecks/fork/27. dinner-fork-stainless.jpg_mobilenet_0.50_224.txt\n"
     ]
    },
    {
     "name": "stdout",
     "output_type": "stream",
     "text": [
      "INFO:tensorflow:Creating bottleneck at tf_files/bottlenecks/fork/1. 0302.341_1.jpg_mobilenet_0.50_224.txt\n"
     ]
    },
    {
     "name": "stderr",
     "output_type": "stream",
     "text": [
      "INFO:tensorflow:Creating bottleneck at tf_files/bottlenecks/fork/1. 0302.341_1.jpg_mobilenet_0.50_224.txt\n"
     ]
    },
    {
     "name": "stdout",
     "output_type": "stream",
     "text": [
      "INFO:tensorflow:Creating bottleneck at tf_files/bottlenecks/fork/20. baguette-fish-fork.jpg_mobilenet_0.50_224.txt\n"
     ]
    },
    {
     "name": "stderr",
     "output_type": "stream",
     "text": [
      "INFO:tensorflow:Creating bottleneck at tf_files/bottlenecks/fork/20. baguette-fish-fork.jpg_mobilenet_0.50_224.txt\n"
     ]
    },
    {
     "name": "stdout",
     "output_type": "stream",
     "text": [
      "INFO:tensorflow:Creating bottleneck at tf_files/bottlenecks/fork/5. 71z-hgjp6yl._sy355_.jpg_mobilenet_0.50_224.txt\n"
     ]
    },
    {
     "name": "stderr",
     "output_type": "stream",
     "text": [
      "INFO:tensorflow:Creating bottleneck at tf_files/bottlenecks/fork/5. 71z-hgjp6yl._sy355_.jpg_mobilenet_0.50_224.txt\n"
     ]
    },
    {
     "name": "stdout",
     "output_type": "stream",
     "text": [
      "INFO:tensorflow:Creating bottleneck at tf_files/bottlenecks/fork/4. fork-eat-metal-fork-dine-39565.jpeg_mobilenet_0.50_224.txt\n"
     ]
    },
    {
     "name": "stderr",
     "output_type": "stream",
     "text": [
      "INFO:tensorflow:Creating bottleneck at tf_files/bottlenecks/fork/4. fork-eat-metal-fork-dine-39565.jpeg_mobilenet_0.50_224.txt\n"
     ]
    },
    {
     "name": "stdout",
     "output_type": "stream",
     "text": [
      "INFO:tensorflow:Creating bottleneck at tf_files/bottlenecks/fork/45. ruth-pretty-blending-fork_f_grande.jpeg_mobilenet_0.50_224.txt\n"
     ]
    },
    {
     "name": "stderr",
     "output_type": "stream",
     "text": [
      "INFO:tensorflow:Creating bottleneck at tf_files/bottlenecks/fork/45. ruth-pretty-blending-fork_f_grande.jpeg_mobilenet_0.50_224.txt\n"
     ]
    },
    {
     "name": "stdout",
     "output_type": "stream",
     "text": [
      "INFO:tensorflow:Creating bottleneck at tf_files/bottlenecks/fork/9. 31jo9j8hvel._sl500_ac_ss350_.jpg_mobilenet_0.50_224.txt\n"
     ]
    },
    {
     "name": "stderr",
     "output_type": "stream",
     "text": [
      "INFO:tensorflow:Creating bottleneck at tf_files/bottlenecks/fork/9. 31jo9j8hvel._sl500_ac_ss350_.jpg_mobilenet_0.50_224.txt\n"
     ]
    },
    {
     "name": "stdout",
     "output_type": "stream",
     "text": [
      "INFO:tensorflow:Creating bottleneck at tf_files/bottlenecks/fork/49. garden-fork-1.jpg_mobilenet_0.50_224.txt\n"
     ]
    },
    {
     "name": "stderr",
     "output_type": "stream",
     "text": [
      "INFO:tensorflow:Creating bottleneck at tf_files/bottlenecks/fork/49. garden-fork-1.jpg_mobilenet_0.50_224.txt\n"
     ]
    },
    {
     "name": "stdout",
     "output_type": "stream",
     "text": [
      "INFO:tensorflow:Creating bottleneck at tf_files/bottlenecks/fork/23. fork-06.jpg_mobilenet_0.50_224.txt\n"
     ]
    },
    {
     "name": "stderr",
     "output_type": "stream",
     "text": [
      "INFO:tensorflow:Creating bottleneck at tf_files/bottlenecks/fork/23. fork-06.jpg_mobilenet_0.50_224.txt\n"
     ]
    },
    {
     "name": "stdout",
     "output_type": "stream",
     "text": [
      "INFO:tensorflow:Creating bottleneck at tf_files/bottlenecks/fork/12. hisf12800.jpg_mobilenet_0.50_224.txt\n"
     ]
    },
    {
     "name": "stderr",
     "output_type": "stream",
     "text": [
      "INFO:tensorflow:Creating bottleneck at tf_files/bottlenecks/fork/12. hisf12800.jpg_mobilenet_0.50_224.txt\n"
     ]
    },
    {
     "name": "stdout",
     "output_type": "stream",
     "text": [
      "INFO:tensorflow:Creating bottleneck at tf_files/bottlenecks/fork/25. 3134jdbwghl._sl500_ac_ss350_.jpg_mobilenet_0.50_224.txt\n"
     ]
    },
    {
     "name": "stderr",
     "output_type": "stream",
     "text": [
      "INFO:tensorflow:Creating bottleneck at tf_files/bottlenecks/fork/25. 3134jdbwghl._sl500_ac_ss350_.jpg_mobilenet_0.50_224.txt\n"
     ]
    },
    {
     "name": "stdout",
     "output_type": "stream",
     "text": [
      "INFO:tensorflow:Creating bottleneck at tf_files/bottlenecks/fork/50. fork-13.jpg_mobilenet_0.50_224.txt\n"
     ]
    },
    {
     "name": "stderr",
     "output_type": "stream",
     "text": [
      "INFO:tensorflow:Creating bottleneck at tf_files/bottlenecks/fork/50. fork-13.jpg_mobilenet_0.50_224.txt\n"
     ]
    },
    {
     "name": "stdout",
     "output_type": "stream",
     "text": [
      "INFO:tensorflow:Creating bottleneck at tf_files/bottlenecks/fork/11. williams-sonoma-open-kitchen-fork-o.jpg_mobilenet_0.50_224.txt\n"
     ]
    },
    {
     "name": "stderr",
     "output_type": "stream",
     "text": [
      "INFO:tensorflow:Creating bottleneck at tf_files/bottlenecks/fork/11. williams-sonoma-open-kitchen-fork-o.jpg_mobilenet_0.50_224.txt\n"
     ]
    },
    {
     "name": "stdout",
     "output_type": "stream",
     "text": [
      "INFO:tensorflow:Creating bottleneck at tf_files/bottlenecks/fork/31. lossy-page1-220px-tranchergaffel%2c_1640-tal_-_skoklosters_slott_-_102831.tif.jpg_mobilenet_0.50_224.txt\n"
     ]
    },
    {
     "name": "stderr",
     "output_type": "stream",
     "text": [
      "INFO:tensorflow:Creating bottleneck at tf_files/bottlenecks/fork/31. lossy-page1-220px-tranchergaffel%2c_1640-tal_-_skoklosters_slott_-_102831.tif.jpg_mobilenet_0.50_224.txt\n"
     ]
    },
    {
     "name": "stdout",
     "output_type": "stream",
     "text": [
      "INFO:tensorflow:Creating bottleneck at tf_files/bottlenecks/fork/30. victoria_gold_starter_dessert_fork_resize_2016.jpg_mobilenet_0.50_224.txt\n"
     ]
    },
    {
     "name": "stderr",
     "output_type": "stream",
     "text": [
      "INFO:tensorflow:Creating bottleneck at tf_files/bottlenecks/fork/30. victoria_gold_starter_dessert_fork_resize_2016.jpg_mobilenet_0.50_224.txt\n"
     ]
    },
    {
     "name": "stdout",
     "output_type": "stream",
     "text": [
      "INFO:tensorflow:2018-08-14 22:38:41.275460: Step 0: Train accuracy = 98.0%\n"
     ]
    },
    {
     "name": "stderr",
     "output_type": "stream",
     "text": [
      "INFO:tensorflow:2018-08-14 22:38:41.275460: Step 0: Train accuracy = 98.0%\n"
     ]
    },
    {
     "name": "stdout",
     "output_type": "stream",
     "text": [
      "INFO:tensorflow:2018-08-14 22:38:41.276968: Step 0: Cross entropy = 0.049697\n"
     ]
    },
    {
     "name": "stderr",
     "output_type": "stream",
     "text": [
      "INFO:tensorflow:2018-08-14 22:38:41.276968: Step 0: Cross entropy = 0.049697\n"
     ]
    },
    {
     "name": "stdout",
     "output_type": "stream",
     "text": [
      "INFO:tensorflow:2018-08-14 22:38:41.419523: Step 0: Validation accuracy = 100.0% (N=100)\n"
     ]
    },
    {
     "name": "stderr",
     "output_type": "stream",
     "text": [
      "INFO:tensorflow:2018-08-14 22:38:41.419523: Step 0: Validation accuracy = 100.0% (N=100)\n"
     ]
    },
    {
     "name": "stdout",
     "output_type": "stream",
     "text": [
      "INFO:tensorflow:2018-08-14 22:38:41.958857: Step 10: Train accuracy = 100.0%\n"
     ]
    },
    {
     "name": "stderr",
     "output_type": "stream",
     "text": [
      "INFO:tensorflow:2018-08-14 22:38:41.958857: Step 10: Train accuracy = 100.0%\n"
     ]
    },
    {
     "name": "stdout",
     "output_type": "stream",
     "text": [
      "INFO:tensorflow:2018-08-14 22:38:41.960430: Step 10: Cross entropy = 0.000366\n"
     ]
    },
    {
     "name": "stderr",
     "output_type": "stream",
     "text": [
      "INFO:tensorflow:2018-08-14 22:38:41.960430: Step 10: Cross entropy = 0.000366\n"
     ]
    },
    {
     "name": "stdout",
     "output_type": "stream",
     "text": [
      "INFO:tensorflow:2018-08-14 22:38:42.052518: Step 10: Validation accuracy = 100.0% (N=100)\n"
     ]
    },
    {
     "name": "stderr",
     "output_type": "stream",
     "text": [
      "INFO:tensorflow:2018-08-14 22:38:42.052518: Step 10: Validation accuracy = 100.0% (N=100)\n"
     ]
    },
    {
     "name": "stdout",
     "output_type": "stream",
     "text": [
      "INFO:tensorflow:2018-08-14 22:38:42.690296: Step 20: Train accuracy = 100.0%\n"
     ]
    },
    {
     "name": "stderr",
     "output_type": "stream",
     "text": [
      "INFO:tensorflow:2018-08-14 22:38:42.690296: Step 20: Train accuracy = 100.0%\n"
     ]
    },
    {
     "name": "stdout",
     "output_type": "stream",
     "text": [
      "INFO:tensorflow:2018-08-14 22:38:42.698054: Step 20: Cross entropy = 0.000332\n"
     ]
    },
    {
     "name": "stderr",
     "output_type": "stream",
     "text": [
      "INFO:tensorflow:2018-08-14 22:38:42.698054: Step 20: Cross entropy = 0.000332\n"
     ]
    },
    {
     "name": "stdout",
     "output_type": "stream",
     "text": [
      "INFO:tensorflow:2018-08-14 22:38:42.850603: Step 20: Validation accuracy = 100.0% (N=100)\n"
     ]
    },
    {
     "name": "stderr",
     "output_type": "stream",
     "text": [
      "INFO:tensorflow:2018-08-14 22:38:42.850603: Step 20: Validation accuracy = 100.0% (N=100)\n"
     ]
    },
    {
     "name": "stdout",
     "output_type": "stream",
     "text": [
      "INFO:tensorflow:2018-08-14 22:38:43.525840: Step 30: Train accuracy = 100.0%\n"
     ]
    },
    {
     "name": "stderr",
     "output_type": "stream",
     "text": [
      "INFO:tensorflow:2018-08-14 22:38:43.525840: Step 30: Train accuracy = 100.0%\n"
     ]
    },
    {
     "name": "stdout",
     "output_type": "stream",
     "text": [
      "INFO:tensorflow:2018-08-14 22:38:43.527109: Step 30: Cross entropy = 0.000313\n"
     ]
    },
    {
     "name": "stderr",
     "output_type": "stream",
     "text": [
      "INFO:tensorflow:2018-08-14 22:38:43.527109: Step 30: Cross entropy = 0.000313\n"
     ]
    },
    {
     "name": "stdout",
     "output_type": "stream",
     "text": [
      "INFO:tensorflow:2018-08-14 22:38:43.588011: Step 30: Validation accuracy = 100.0% (N=100)\n"
     ]
    },
    {
     "name": "stderr",
     "output_type": "stream",
     "text": [
      "INFO:tensorflow:2018-08-14 22:38:43.588011: Step 30: Validation accuracy = 100.0% (N=100)\n"
     ]
    },
    {
     "name": "stdout",
     "output_type": "stream",
     "text": [
      "INFO:tensorflow:2018-08-14 22:38:44.094771: Step 40: Train accuracy = 100.0%\n"
     ]
    },
    {
     "name": "stderr",
     "output_type": "stream",
     "text": [
      "INFO:tensorflow:2018-08-14 22:38:44.094771: Step 40: Train accuracy = 100.0%\n"
     ]
    },
    {
     "name": "stdout",
     "output_type": "stream",
     "text": [
      "INFO:tensorflow:2018-08-14 22:38:44.096012: Step 40: Cross entropy = 0.000498\n"
     ]
    },
    {
     "name": "stderr",
     "output_type": "stream",
     "text": [
      "INFO:tensorflow:2018-08-14 22:38:44.096012: Step 40: Cross entropy = 0.000498\n"
     ]
    },
    {
     "name": "stdout",
     "output_type": "stream",
     "text": [
      "INFO:tensorflow:2018-08-14 22:38:44.154934: Step 40: Validation accuracy = 100.0% (N=100)\n"
     ]
    },
    {
     "name": "stderr",
     "output_type": "stream",
     "text": [
      "INFO:tensorflow:2018-08-14 22:38:44.154934: Step 40: Validation accuracy = 100.0% (N=100)\n"
     ]
    },
    {
     "name": "stdout",
     "output_type": "stream",
     "text": [
      "INFO:tensorflow:2018-08-14 22:38:44.788398: Step 50: Train accuracy = 100.0%\n"
     ]
    },
    {
     "name": "stderr",
     "output_type": "stream",
     "text": [
      "INFO:tensorflow:2018-08-14 22:38:44.788398: Step 50: Train accuracy = 100.0%\n"
     ]
    },
    {
     "name": "stdout",
     "output_type": "stream",
     "text": [
      "INFO:tensorflow:2018-08-14 22:38:44.790345: Step 50: Cross entropy = 0.000393\n"
     ]
    },
    {
     "name": "stderr",
     "output_type": "stream",
     "text": [
      "INFO:tensorflow:2018-08-14 22:38:44.790345: Step 50: Cross entropy = 0.000393\n"
     ]
    },
    {
     "name": "stdout",
     "output_type": "stream",
     "text": [
      "INFO:tensorflow:2018-08-14 22:38:44.867775: Step 50: Validation accuracy = 100.0% (N=100)\n"
     ]
    },
    {
     "name": "stderr",
     "output_type": "stream",
     "text": [
      "INFO:tensorflow:2018-08-14 22:38:44.867775: Step 50: Validation accuracy = 100.0% (N=100)\n"
     ]
    },
    {
     "name": "stdout",
     "output_type": "stream",
     "text": [
      "INFO:tensorflow:2018-08-14 22:38:45.355277: Step 60: Train accuracy = 100.0%\n"
     ]
    },
    {
     "name": "stderr",
     "output_type": "stream",
     "text": [
      "INFO:tensorflow:2018-08-14 22:38:45.355277: Step 60: Train accuracy = 100.0%\n"
     ]
    },
    {
     "name": "stdout",
     "output_type": "stream",
     "text": [
      "INFO:tensorflow:2018-08-14 22:38:45.356615: Step 60: Cross entropy = 0.000222\n"
     ]
    },
    {
     "name": "stderr",
     "output_type": "stream",
     "text": [
      "INFO:tensorflow:2018-08-14 22:38:45.356615: Step 60: Cross entropy = 0.000222\n"
     ]
    },
    {
     "name": "stdout",
     "output_type": "stream",
     "text": [
      "INFO:tensorflow:2018-08-14 22:38:45.418741: Step 60: Validation accuracy = 100.0% (N=100)\n"
     ]
    },
    {
     "name": "stderr",
     "output_type": "stream",
     "text": [
      "INFO:tensorflow:2018-08-14 22:38:45.418741: Step 60: Validation accuracy = 100.0% (N=100)\n"
     ]
    },
    {
     "name": "stdout",
     "output_type": "stream",
     "text": [
      "INFO:tensorflow:2018-08-14 22:38:46.130588: Step 70: Train accuracy = 100.0%\n"
     ]
    },
    {
     "name": "stderr",
     "output_type": "stream",
     "text": [
      "INFO:tensorflow:2018-08-14 22:38:46.130588: Step 70: Train accuracy = 100.0%\n"
     ]
    },
    {
     "name": "stdout",
     "output_type": "stream",
     "text": [
      "INFO:tensorflow:2018-08-14 22:38:46.131861: Step 70: Cross entropy = 0.000445\n"
     ]
    },
    {
     "name": "stderr",
     "output_type": "stream",
     "text": [
      "INFO:tensorflow:2018-08-14 22:38:46.131861: Step 70: Cross entropy = 0.000445\n"
     ]
    },
    {
     "name": "stdout",
     "output_type": "stream",
     "text": [
      "INFO:tensorflow:2018-08-14 22:38:46.187884: Step 70: Validation accuracy = 100.0% (N=100)\n"
     ]
    },
    {
     "name": "stderr",
     "output_type": "stream",
     "text": [
      "INFO:tensorflow:2018-08-14 22:38:46.187884: Step 70: Validation accuracy = 100.0% (N=100)\n"
     ]
    },
    {
     "name": "stdout",
     "output_type": "stream",
     "text": [
      "INFO:tensorflow:2018-08-14 22:38:46.747882: Step 80: Train accuracy = 100.0%\n"
     ]
    },
    {
     "name": "stderr",
     "output_type": "stream",
     "text": [
      "INFO:tensorflow:2018-08-14 22:38:46.747882: Step 80: Train accuracy = 100.0%\n"
     ]
    },
    {
     "name": "stdout",
     "output_type": "stream",
     "text": [
      "INFO:tensorflow:2018-08-14 22:38:46.751822: Step 80: Cross entropy = 0.000347\n"
     ]
    },
    {
     "name": "stderr",
     "output_type": "stream",
     "text": [
      "INFO:tensorflow:2018-08-14 22:38:46.751822: Step 80: Cross entropy = 0.000347\n"
     ]
    },
    {
     "name": "stdout",
     "output_type": "stream",
     "text": [
      "INFO:tensorflow:2018-08-14 22:38:46.834631: Step 80: Validation accuracy = 100.0% (N=100)\n"
     ]
    },
    {
     "name": "stderr",
     "output_type": "stream",
     "text": [
      "INFO:tensorflow:2018-08-14 22:38:46.834631: Step 80: Validation accuracy = 100.0% (N=100)\n"
     ]
    },
    {
     "name": "stdout",
     "output_type": "stream",
     "text": [
      "INFO:tensorflow:2018-08-14 22:38:47.334242: Step 90: Train accuracy = 100.0%\n"
     ]
    },
    {
     "name": "stderr",
     "output_type": "stream",
     "text": [
      "INFO:tensorflow:2018-08-14 22:38:47.334242: Step 90: Train accuracy = 100.0%\n"
     ]
    },
    {
     "name": "stdout",
     "output_type": "stream",
     "text": [
      "INFO:tensorflow:2018-08-14 22:38:47.335506: Step 90: Cross entropy = 0.000391\n"
     ]
    },
    {
     "name": "stderr",
     "output_type": "stream",
     "text": [
      "INFO:tensorflow:2018-08-14 22:38:47.335506: Step 90: Cross entropy = 0.000391\n"
     ]
    },
    {
     "name": "stdout",
     "output_type": "stream",
     "text": [
      "INFO:tensorflow:2018-08-14 22:38:47.390485: Step 90: Validation accuracy = 100.0% (N=100)\n"
     ]
    },
    {
     "name": "stderr",
     "output_type": "stream",
     "text": [
      "INFO:tensorflow:2018-08-14 22:38:47.390485: Step 90: Validation accuracy = 100.0% (N=100)\n"
     ]
    },
    {
     "name": "stdout",
     "output_type": "stream",
     "text": [
      "INFO:tensorflow:2018-08-14 22:38:48.050087: Step 100: Train accuracy = 100.0%\n"
     ]
    },
    {
     "name": "stderr",
     "output_type": "stream",
     "text": [
      "INFO:tensorflow:2018-08-14 22:38:48.050087: Step 100: Train accuracy = 100.0%\n"
     ]
    },
    {
     "name": "stdout",
     "output_type": "stream",
     "text": [
      "INFO:tensorflow:2018-08-14 22:38:48.053355: Step 100: Cross entropy = 0.000126\n"
     ]
    },
    {
     "name": "stderr",
     "output_type": "stream",
     "text": [
      "INFO:tensorflow:2018-08-14 22:38:48.053355: Step 100: Cross entropy = 0.000126\n"
     ]
    },
    {
     "name": "stdout",
     "output_type": "stream",
     "text": [
      "INFO:tensorflow:2018-08-14 22:38:48.137525: Step 100: Validation accuracy = 100.0% (N=100)\n"
     ]
    },
    {
     "name": "stderr",
     "output_type": "stream",
     "text": [
      "INFO:tensorflow:2018-08-14 22:38:48.137525: Step 100: Validation accuracy = 100.0% (N=100)\n"
     ]
    },
    {
     "name": "stdout",
     "output_type": "stream",
     "text": [
      "INFO:tensorflow:2018-08-14 22:38:48.631658: Step 110: Train accuracy = 100.0%\n"
     ]
    },
    {
     "name": "stderr",
     "output_type": "stream",
     "text": [
      "INFO:tensorflow:2018-08-14 22:38:48.631658: Step 110: Train accuracy = 100.0%\n"
     ]
    },
    {
     "name": "stdout",
     "output_type": "stream",
     "text": [
      "INFO:tensorflow:2018-08-14 22:38:48.632920: Step 110: Cross entropy = 0.000330\n"
     ]
    },
    {
     "name": "stderr",
     "output_type": "stream",
     "text": [
      "INFO:tensorflow:2018-08-14 22:38:48.632920: Step 110: Cross entropy = 0.000330\n"
     ]
    },
    {
     "name": "stdout",
     "output_type": "stream",
     "text": [
      "INFO:tensorflow:2018-08-14 22:38:48.690399: Step 110: Validation accuracy = 100.0% (N=100)\n"
     ]
    },
    {
     "name": "stderr",
     "output_type": "stream",
     "text": [
      "INFO:tensorflow:2018-08-14 22:38:48.690399: Step 110: Validation accuracy = 100.0% (N=100)\n"
     ]
    },
    {
     "name": "stdout",
     "output_type": "stream",
     "text": [
      "INFO:tensorflow:2018-08-14 22:38:49.223452: Step 120: Train accuracy = 100.0%\n"
     ]
    },
    {
     "name": "stderr",
     "output_type": "stream",
     "text": [
      "INFO:tensorflow:2018-08-14 22:38:49.223452: Step 120: Train accuracy = 100.0%\n"
     ]
    },
    {
     "name": "stdout",
     "output_type": "stream",
     "text": [
      "INFO:tensorflow:2018-08-14 22:38:49.227720: Step 120: Cross entropy = 0.000049\n"
     ]
    },
    {
     "name": "stderr",
     "output_type": "stream",
     "text": [
      "INFO:tensorflow:2018-08-14 22:38:49.227720: Step 120: Cross entropy = 0.000049\n"
     ]
    },
    {
     "name": "stdout",
     "output_type": "stream",
     "text": [
      "INFO:tensorflow:2018-08-14 22:38:49.328302: Step 120: Validation accuracy = 100.0% (N=100)\n"
     ]
    },
    {
     "name": "stderr",
     "output_type": "stream",
     "text": [
      "INFO:tensorflow:2018-08-14 22:38:49.328302: Step 120: Validation accuracy = 100.0% (N=100)\n"
     ]
    },
    {
     "name": "stdout",
     "output_type": "stream",
     "text": [
      "INFO:tensorflow:2018-08-14 22:38:49.944913: Step 130: Train accuracy = 100.0%\n"
     ]
    },
    {
     "name": "stderr",
     "output_type": "stream",
     "text": [
      "INFO:tensorflow:2018-08-14 22:38:49.944913: Step 130: Train accuracy = 100.0%\n"
     ]
    },
    {
     "name": "stdout",
     "output_type": "stream",
     "text": [
      "INFO:tensorflow:2018-08-14 22:38:49.946214: Step 130: Cross entropy = 0.000489\n"
     ]
    },
    {
     "name": "stderr",
     "output_type": "stream",
     "text": [
      "INFO:tensorflow:2018-08-14 22:38:49.946214: Step 130: Cross entropy = 0.000489\n"
     ]
    },
    {
     "name": "stdout",
     "output_type": "stream",
     "text": [
      "INFO:tensorflow:2018-08-14 22:38:50.020332: Step 130: Validation accuracy = 100.0% (N=100)\n"
     ]
    },
    {
     "name": "stderr",
     "output_type": "stream",
     "text": [
      "INFO:tensorflow:2018-08-14 22:38:50.020332: Step 130: Validation accuracy = 100.0% (N=100)\n"
     ]
    },
    {
     "name": "stdout",
     "output_type": "stream",
     "text": [
      "INFO:tensorflow:2018-08-14 22:38:50.659700: Step 140: Train accuracy = 100.0%\n"
     ]
    },
    {
     "name": "stderr",
     "output_type": "stream",
     "text": [
      "INFO:tensorflow:2018-08-14 22:38:50.659700: Step 140: Train accuracy = 100.0%\n"
     ]
    },
    {
     "name": "stdout",
     "output_type": "stream",
     "text": [
      "INFO:tensorflow:2018-08-14 22:38:50.662979: Step 140: Cross entropy = 0.000257\n"
     ]
    },
    {
     "name": "stderr",
     "output_type": "stream",
     "text": [
      "INFO:tensorflow:2018-08-14 22:38:50.662979: Step 140: Cross entropy = 0.000257\n"
     ]
    },
    {
     "name": "stdout",
     "output_type": "stream",
     "text": [
      "INFO:tensorflow:2018-08-14 22:38:50.761141: Step 140: Validation accuracy = 100.0% (N=100)\n"
     ]
    },
    {
     "name": "stderr",
     "output_type": "stream",
     "text": [
      "INFO:tensorflow:2018-08-14 22:38:50.761141: Step 140: Validation accuracy = 100.0% (N=100)\n"
     ]
    },
    {
     "name": "stdout",
     "output_type": "stream",
     "text": [
      "INFO:tensorflow:2018-08-14 22:38:51.307955: Step 150: Train accuracy = 100.0%\n"
     ]
    },
    {
     "name": "stderr",
     "output_type": "stream",
     "text": [
      "INFO:tensorflow:2018-08-14 22:38:51.307955: Step 150: Train accuracy = 100.0%\n"
     ]
    },
    {
     "name": "stdout",
     "output_type": "stream",
     "text": [
      "INFO:tensorflow:2018-08-14 22:38:51.310814: Step 150: Cross entropy = 0.000230\n"
     ]
    },
    {
     "name": "stderr",
     "output_type": "stream",
     "text": [
      "INFO:tensorflow:2018-08-14 22:38:51.310814: Step 150: Cross entropy = 0.000230\n"
     ]
    },
    {
     "name": "stdout",
     "output_type": "stream",
     "text": [
      "INFO:tensorflow:2018-08-14 22:38:51.373276: Step 150: Validation accuracy = 100.0% (N=100)\n"
     ]
    },
    {
     "name": "stderr",
     "output_type": "stream",
     "text": [
      "INFO:tensorflow:2018-08-14 22:38:51.373276: Step 150: Validation accuracy = 100.0% (N=100)\n"
     ]
    },
    {
     "name": "stdout",
     "output_type": "stream",
     "text": [
      "INFO:tensorflow:2018-08-14 22:38:52.046044: Step 160: Train accuracy = 100.0%\n"
     ]
    },
    {
     "name": "stderr",
     "output_type": "stream",
     "text": [
      "INFO:tensorflow:2018-08-14 22:38:52.046044: Step 160: Train accuracy = 100.0%\n"
     ]
    },
    {
     "name": "stdout",
     "output_type": "stream",
     "text": [
      "INFO:tensorflow:2018-08-14 22:38:52.047375: Step 160: Cross entropy = 0.000221\n"
     ]
    },
    {
     "name": "stderr",
     "output_type": "stream",
     "text": [
      "INFO:tensorflow:2018-08-14 22:38:52.047375: Step 160: Cross entropy = 0.000221\n"
     ]
    },
    {
     "name": "stdout",
     "output_type": "stream",
     "text": [
      "INFO:tensorflow:2018-08-14 22:38:52.105182: Step 160: Validation accuracy = 100.0% (N=100)\n"
     ]
    },
    {
     "name": "stderr",
     "output_type": "stream",
     "text": [
      "INFO:tensorflow:2018-08-14 22:38:52.105182: Step 160: Validation accuracy = 100.0% (N=100)\n"
     ]
    },
    {
     "name": "stdout",
     "output_type": "stream",
     "text": [
      "INFO:tensorflow:2018-08-14 22:38:52.581751: Step 170: Train accuracy = 100.0%\n"
     ]
    },
    {
     "name": "stderr",
     "output_type": "stream",
     "text": [
      "INFO:tensorflow:2018-08-14 22:38:52.581751: Step 170: Train accuracy = 100.0%\n"
     ]
    },
    {
     "name": "stdout",
     "output_type": "stream",
     "text": [
      "INFO:tensorflow:2018-08-14 22:38:52.584093: Step 170: Cross entropy = 0.000225\n"
     ]
    },
    {
     "name": "stderr",
     "output_type": "stream",
     "text": [
      "INFO:tensorflow:2018-08-14 22:38:52.584093: Step 170: Cross entropy = 0.000225\n"
     ]
    },
    {
     "name": "stdout",
     "output_type": "stream",
     "text": [
      "INFO:tensorflow:2018-08-14 22:38:52.647393: Step 170: Validation accuracy = 100.0% (N=100)\n"
     ]
    },
    {
     "name": "stderr",
     "output_type": "stream",
     "text": [
      "INFO:tensorflow:2018-08-14 22:38:52.647393: Step 170: Validation accuracy = 100.0% (N=100)\n"
     ]
    },
    {
     "name": "stdout",
     "output_type": "stream",
     "text": [
      "INFO:tensorflow:2018-08-14 22:38:53.136119: Step 180: Train accuracy = 100.0%\n"
     ]
    },
    {
     "name": "stderr",
     "output_type": "stream",
     "text": [
      "INFO:tensorflow:2018-08-14 22:38:53.136119: Step 180: Train accuracy = 100.0%\n"
     ]
    },
    {
     "name": "stdout",
     "output_type": "stream",
     "text": [
      "INFO:tensorflow:2018-08-14 22:38:53.137560: Step 180: Cross entropy = 0.000136\n"
     ]
    },
    {
     "name": "stderr",
     "output_type": "stream",
     "text": [
      "INFO:tensorflow:2018-08-14 22:38:53.137560: Step 180: Cross entropy = 0.000136\n"
     ]
    },
    {
     "name": "stdout",
     "output_type": "stream",
     "text": [
      "INFO:tensorflow:2018-08-14 22:38:53.205119: Step 180: Validation accuracy = 100.0% (N=100)\n"
     ]
    },
    {
     "name": "stderr",
     "output_type": "stream",
     "text": [
      "INFO:tensorflow:2018-08-14 22:38:53.205119: Step 180: Validation accuracy = 100.0% (N=100)\n"
     ]
    },
    {
     "name": "stdout",
     "output_type": "stream",
     "text": [
      "INFO:tensorflow:2018-08-14 22:38:53.673163: Step 190: Train accuracy = 100.0%\n"
     ]
    },
    {
     "name": "stderr",
     "output_type": "stream",
     "text": [
      "INFO:tensorflow:2018-08-14 22:38:53.673163: Step 190: Train accuracy = 100.0%\n"
     ]
    },
    {
     "name": "stdout",
     "output_type": "stream",
     "text": [
      "INFO:tensorflow:2018-08-14 22:38:53.674429: Step 190: Cross entropy = 0.000143\n"
     ]
    },
    {
     "name": "stderr",
     "output_type": "stream",
     "text": [
      "INFO:tensorflow:2018-08-14 22:38:53.674429: Step 190: Cross entropy = 0.000143\n"
     ]
    },
    {
     "name": "stdout",
     "output_type": "stream",
     "text": [
      "INFO:tensorflow:2018-08-14 22:38:53.729817: Step 190: Validation accuracy = 100.0% (N=100)\n"
     ]
    },
    {
     "name": "stderr",
     "output_type": "stream",
     "text": [
      "INFO:tensorflow:2018-08-14 22:38:53.729817: Step 190: Validation accuracy = 100.0% (N=100)\n"
     ]
    },
    {
     "name": "stdout",
     "output_type": "stream",
     "text": [
      "INFO:tensorflow:2018-08-14 22:38:54.189465: Step 200: Train accuracy = 100.0%\n"
     ]
    },
    {
     "name": "stderr",
     "output_type": "stream",
     "text": [
      "INFO:tensorflow:2018-08-14 22:38:54.189465: Step 200: Train accuracy = 100.0%\n"
     ]
    },
    {
     "name": "stdout",
     "output_type": "stream",
     "text": [
      "INFO:tensorflow:2018-08-14 22:38:54.190726: Step 200: Cross entropy = 0.000153\n"
     ]
    },
    {
     "name": "stderr",
     "output_type": "stream",
     "text": [
      "INFO:tensorflow:2018-08-14 22:38:54.190726: Step 200: Cross entropy = 0.000153\n"
     ]
    },
    {
     "name": "stdout",
     "output_type": "stream",
     "text": [
      "INFO:tensorflow:2018-08-14 22:38:54.245936: Step 200: Validation accuracy = 100.0% (N=100)\n"
     ]
    },
    {
     "name": "stderr",
     "output_type": "stream",
     "text": [
      "INFO:tensorflow:2018-08-14 22:38:54.245936: Step 200: Validation accuracy = 100.0% (N=100)\n"
     ]
    },
    {
     "name": "stdout",
     "output_type": "stream",
     "text": [
      "INFO:tensorflow:2018-08-14 22:38:54.708225: Step 210: Train accuracy = 100.0%\n"
     ]
    },
    {
     "name": "stderr",
     "output_type": "stream",
     "text": [
      "INFO:tensorflow:2018-08-14 22:38:54.708225: Step 210: Train accuracy = 100.0%\n"
     ]
    },
    {
     "name": "stdout",
     "output_type": "stream",
     "text": [
      "INFO:tensorflow:2018-08-14 22:38:54.709474: Step 210: Cross entropy = 0.000129\n"
     ]
    },
    {
     "name": "stderr",
     "output_type": "stream",
     "text": [
      "INFO:tensorflow:2018-08-14 22:38:54.709474: Step 210: Cross entropy = 0.000129\n"
     ]
    },
    {
     "name": "stdout",
     "output_type": "stream",
     "text": [
      "INFO:tensorflow:2018-08-14 22:38:54.765132: Step 210: Validation accuracy = 100.0% (N=100)\n"
     ]
    },
    {
     "name": "stderr",
     "output_type": "stream",
     "text": [
      "INFO:tensorflow:2018-08-14 22:38:54.765132: Step 210: Validation accuracy = 100.0% (N=100)\n"
     ]
    },
    {
     "name": "stdout",
     "output_type": "stream",
     "text": [
      "INFO:tensorflow:2018-08-14 22:38:55.305945: Step 220: Train accuracy = 100.0%\n"
     ]
    },
    {
     "name": "stderr",
     "output_type": "stream",
     "text": [
      "INFO:tensorflow:2018-08-14 22:38:55.305945: Step 220: Train accuracy = 100.0%\n"
     ]
    },
    {
     "name": "stdout",
     "output_type": "stream",
     "text": [
      "INFO:tensorflow:2018-08-14 22:38:55.309668: Step 220: Cross entropy = 0.000106\n"
     ]
    },
    {
     "name": "stderr",
     "output_type": "stream",
     "text": [
      "INFO:tensorflow:2018-08-14 22:38:55.309668: Step 220: Cross entropy = 0.000106\n"
     ]
    },
    {
     "name": "stdout",
     "output_type": "stream",
     "text": [
      "INFO:tensorflow:2018-08-14 22:38:55.368466: Step 220: Validation accuracy = 100.0% (N=100)\n"
     ]
    },
    {
     "name": "stderr",
     "output_type": "stream",
     "text": [
      "INFO:tensorflow:2018-08-14 22:38:55.368466: Step 220: Validation accuracy = 100.0% (N=100)\n"
     ]
    },
    {
     "name": "stdout",
     "output_type": "stream",
     "text": [
      "INFO:tensorflow:2018-08-14 22:38:55.832174: Step 230: Train accuracy = 100.0%\n"
     ]
    },
    {
     "name": "stderr",
     "output_type": "stream",
     "text": [
      "INFO:tensorflow:2018-08-14 22:38:55.832174: Step 230: Train accuracy = 100.0%\n"
     ]
    },
    {
     "name": "stdout",
     "output_type": "stream",
     "text": [
      "INFO:tensorflow:2018-08-14 22:38:55.833530: Step 230: Cross entropy = 0.000153\n"
     ]
    },
    {
     "name": "stderr",
     "output_type": "stream",
     "text": [
      "INFO:tensorflow:2018-08-14 22:38:55.833530: Step 230: Cross entropy = 0.000153\n"
     ]
    },
    {
     "name": "stdout",
     "output_type": "stream",
     "text": [
      "INFO:tensorflow:2018-08-14 22:38:55.889710: Step 230: Validation accuracy = 100.0% (N=100)\n"
     ]
    },
    {
     "name": "stderr",
     "output_type": "stream",
     "text": [
      "INFO:tensorflow:2018-08-14 22:38:55.889710: Step 230: Validation accuracy = 100.0% (N=100)\n"
     ]
    },
    {
     "name": "stdout",
     "output_type": "stream",
     "text": [
      "INFO:tensorflow:2018-08-14 22:38:56.353364: Step 240: Train accuracy = 100.0%\n"
     ]
    },
    {
     "name": "stderr",
     "output_type": "stream",
     "text": [
      "INFO:tensorflow:2018-08-14 22:38:56.353364: Step 240: Train accuracy = 100.0%\n"
     ]
    },
    {
     "name": "stdout",
     "output_type": "stream",
     "text": [
      "INFO:tensorflow:2018-08-14 22:38:56.354602: Step 240: Cross entropy = 0.000126\n"
     ]
    },
    {
     "name": "stderr",
     "output_type": "stream",
     "text": [
      "INFO:tensorflow:2018-08-14 22:38:56.354602: Step 240: Cross entropy = 0.000126\n"
     ]
    },
    {
     "name": "stdout",
     "output_type": "stream",
     "text": [
      "INFO:tensorflow:2018-08-14 22:38:56.410684: Step 240: Validation accuracy = 100.0% (N=100)\n"
     ]
    },
    {
     "name": "stderr",
     "output_type": "stream",
     "text": [
      "INFO:tensorflow:2018-08-14 22:38:56.410684: Step 240: Validation accuracy = 100.0% (N=100)\n"
     ]
    },
    {
     "name": "stdout",
     "output_type": "stream",
     "text": [
      "INFO:tensorflow:2018-08-14 22:38:56.871120: Step 250: Train accuracy = 100.0%\n"
     ]
    },
    {
     "name": "stderr",
     "output_type": "stream",
     "text": [
      "INFO:tensorflow:2018-08-14 22:38:56.871120: Step 250: Train accuracy = 100.0%\n"
     ]
    },
    {
     "name": "stdout",
     "output_type": "stream",
     "text": [
      "INFO:tensorflow:2018-08-14 22:38:56.872463: Step 250: Cross entropy = 0.000140\n"
     ]
    },
    {
     "name": "stderr",
     "output_type": "stream",
     "text": [
      "INFO:tensorflow:2018-08-14 22:38:56.872463: Step 250: Cross entropy = 0.000140\n"
     ]
    },
    {
     "name": "stdout",
     "output_type": "stream",
     "text": [
      "INFO:tensorflow:2018-08-14 22:38:56.928784: Step 250: Validation accuracy = 100.0% (N=100)\n"
     ]
    },
    {
     "name": "stderr",
     "output_type": "stream",
     "text": [
      "INFO:tensorflow:2018-08-14 22:38:56.928784: Step 250: Validation accuracy = 100.0% (N=100)\n"
     ]
    },
    {
     "name": "stdout",
     "output_type": "stream",
     "text": [
      "INFO:tensorflow:2018-08-14 22:38:57.391478: Step 260: Train accuracy = 100.0%\n"
     ]
    },
    {
     "name": "stderr",
     "output_type": "stream",
     "text": [
      "INFO:tensorflow:2018-08-14 22:38:57.391478: Step 260: Train accuracy = 100.0%\n"
     ]
    },
    {
     "name": "stdout",
     "output_type": "stream",
     "text": [
      "INFO:tensorflow:2018-08-14 22:38:57.392689: Step 260: Cross entropy = 0.000156\n"
     ]
    },
    {
     "name": "stderr",
     "output_type": "stream",
     "text": [
      "INFO:tensorflow:2018-08-14 22:38:57.392689: Step 260: Cross entropy = 0.000156\n"
     ]
    },
    {
     "name": "stdout",
     "output_type": "stream",
     "text": [
      "INFO:tensorflow:2018-08-14 22:38:57.448415: Step 260: Validation accuracy = 100.0% (N=100)\n"
     ]
    },
    {
     "name": "stderr",
     "output_type": "stream",
     "text": [
      "INFO:tensorflow:2018-08-14 22:38:57.448415: Step 260: Validation accuracy = 100.0% (N=100)\n"
     ]
    },
    {
     "name": "stdout",
     "output_type": "stream",
     "text": [
      "INFO:tensorflow:2018-08-14 22:38:57.907658: Step 270: Train accuracy = 100.0%\n"
     ]
    },
    {
     "name": "stderr",
     "output_type": "stream",
     "text": [
      "INFO:tensorflow:2018-08-14 22:38:57.907658: Step 270: Train accuracy = 100.0%\n"
     ]
    },
    {
     "name": "stdout",
     "output_type": "stream",
     "text": [
      "INFO:tensorflow:2018-08-14 22:38:57.908868: Step 270: Cross entropy = 0.000103\n"
     ]
    },
    {
     "name": "stderr",
     "output_type": "stream",
     "text": [
      "INFO:tensorflow:2018-08-14 22:38:57.908868: Step 270: Cross entropy = 0.000103\n"
     ]
    },
    {
     "name": "stdout",
     "output_type": "stream",
     "text": [
      "INFO:tensorflow:2018-08-14 22:38:57.963931: Step 270: Validation accuracy = 100.0% (N=100)\n"
     ]
    },
    {
     "name": "stderr",
     "output_type": "stream",
     "text": [
      "INFO:tensorflow:2018-08-14 22:38:57.963931: Step 270: Validation accuracy = 100.0% (N=100)\n"
     ]
    },
    {
     "name": "stdout",
     "output_type": "stream",
     "text": [
      "INFO:tensorflow:2018-08-14 22:38:58.506771: Step 280: Train accuracy = 100.0%\n"
     ]
    },
    {
     "name": "stderr",
     "output_type": "stream",
     "text": [
      "INFO:tensorflow:2018-08-14 22:38:58.506771: Step 280: Train accuracy = 100.0%\n"
     ]
    },
    {
     "name": "stdout",
     "output_type": "stream",
     "text": [
      "INFO:tensorflow:2018-08-14 22:38:58.508217: Step 280: Cross entropy = 0.000151\n"
     ]
    },
    {
     "name": "stderr",
     "output_type": "stream",
     "text": [
      "INFO:tensorflow:2018-08-14 22:38:58.508217: Step 280: Cross entropy = 0.000151\n"
     ]
    },
    {
     "name": "stdout",
     "output_type": "stream",
     "text": [
      "INFO:tensorflow:2018-08-14 22:38:58.573546: Step 280: Validation accuracy = 100.0% (N=100)\n"
     ]
    },
    {
     "name": "stderr",
     "output_type": "stream",
     "text": [
      "INFO:tensorflow:2018-08-14 22:38:58.573546: Step 280: Validation accuracy = 100.0% (N=100)\n"
     ]
    },
    {
     "name": "stdout",
     "output_type": "stream",
     "text": [
      "INFO:tensorflow:2018-08-14 22:38:59.162707: Step 290: Train accuracy = 100.0%\n"
     ]
    },
    {
     "name": "stderr",
     "output_type": "stream",
     "text": [
      "INFO:tensorflow:2018-08-14 22:38:59.162707: Step 290: Train accuracy = 100.0%\n"
     ]
    },
    {
     "name": "stdout",
     "output_type": "stream",
     "text": [
      "INFO:tensorflow:2018-08-14 22:38:59.164116: Step 290: Cross entropy = 0.000223\n"
     ]
    },
    {
     "name": "stderr",
     "output_type": "stream",
     "text": [
      "INFO:tensorflow:2018-08-14 22:38:59.164116: Step 290: Cross entropy = 0.000223\n"
     ]
    },
    {
     "name": "stdout",
     "output_type": "stream",
     "text": [
      "INFO:tensorflow:2018-08-14 22:38:59.236743: Step 290: Validation accuracy = 100.0% (N=100)\n"
     ]
    },
    {
     "name": "stderr",
     "output_type": "stream",
     "text": [
      "INFO:tensorflow:2018-08-14 22:38:59.236743: Step 290: Validation accuracy = 100.0% (N=100)\n"
     ]
    },
    {
     "name": "stdout",
     "output_type": "stream",
     "text": [
      "INFO:tensorflow:2018-08-14 22:38:59.858687: Step 300: Train accuracy = 100.0%\n"
     ]
    },
    {
     "name": "stderr",
     "output_type": "stream",
     "text": [
      "INFO:tensorflow:2018-08-14 22:38:59.858687: Step 300: Train accuracy = 100.0%\n"
     ]
    },
    {
     "name": "stdout",
     "output_type": "stream",
     "text": [
      "INFO:tensorflow:2018-08-14 22:38:59.859983: Step 300: Cross entropy = 0.000113\n"
     ]
    },
    {
     "name": "stderr",
     "output_type": "stream",
     "text": [
      "INFO:tensorflow:2018-08-14 22:38:59.859983: Step 300: Cross entropy = 0.000113\n"
     ]
    },
    {
     "name": "stdout",
     "output_type": "stream",
     "text": [
      "INFO:tensorflow:2018-08-14 22:38:59.928915: Step 300: Validation accuracy = 100.0% (N=100)\n"
     ]
    },
    {
     "name": "stderr",
     "output_type": "stream",
     "text": [
      "INFO:tensorflow:2018-08-14 22:38:59.928915: Step 300: Validation accuracy = 100.0% (N=100)\n"
     ]
    },
    {
     "name": "stdout",
     "output_type": "stream",
     "text": [
      "INFO:tensorflow:2018-08-14 22:39:00.536605: Step 310: Train accuracy = 100.0%\n"
     ]
    },
    {
     "name": "stderr",
     "output_type": "stream",
     "text": [
      "INFO:tensorflow:2018-08-14 22:39:00.536605: Step 310: Train accuracy = 100.0%\n"
     ]
    },
    {
     "name": "stdout",
     "output_type": "stream",
     "text": [
      "INFO:tensorflow:2018-08-14 22:39:00.537900: Step 310: Cross entropy = 0.000093\n"
     ]
    },
    {
     "name": "stderr",
     "output_type": "stream",
     "text": [
      "INFO:tensorflow:2018-08-14 22:39:00.537900: Step 310: Cross entropy = 0.000093\n"
     ]
    },
    {
     "name": "stdout",
     "output_type": "stream",
     "text": [
      "INFO:tensorflow:2018-08-14 22:39:00.600423: Step 310: Validation accuracy = 100.0% (N=100)\n"
     ]
    },
    {
     "name": "stderr",
     "output_type": "stream",
     "text": [
      "INFO:tensorflow:2018-08-14 22:39:00.600423: Step 310: Validation accuracy = 100.0% (N=100)\n"
     ]
    },
    {
     "name": "stdout",
     "output_type": "stream",
     "text": [
      "INFO:tensorflow:2018-08-14 22:39:01.053509: Step 320: Train accuracy = 100.0%\n"
     ]
    },
    {
     "name": "stderr",
     "output_type": "stream",
     "text": [
      "INFO:tensorflow:2018-08-14 22:39:01.053509: Step 320: Train accuracy = 100.0%\n"
     ]
    },
    {
     "name": "stdout",
     "output_type": "stream",
     "text": [
      "INFO:tensorflow:2018-08-14 22:39:01.054769: Step 320: Cross entropy = 0.000104\n"
     ]
    },
    {
     "name": "stderr",
     "output_type": "stream",
     "text": [
      "INFO:tensorflow:2018-08-14 22:39:01.054769: Step 320: Cross entropy = 0.000104\n"
     ]
    },
    {
     "name": "stdout",
     "output_type": "stream",
     "text": [
      "INFO:tensorflow:2018-08-14 22:39:01.109709: Step 320: Validation accuracy = 100.0% (N=100)\n"
     ]
    },
    {
     "name": "stderr",
     "output_type": "stream",
     "text": [
      "INFO:tensorflow:2018-08-14 22:39:01.109709: Step 320: Validation accuracy = 100.0% (N=100)\n"
     ]
    },
    {
     "name": "stdout",
     "output_type": "stream",
     "text": [
      "INFO:tensorflow:2018-08-14 22:39:01.609484: Step 330: Train accuracy = 100.0%\n"
     ]
    },
    {
     "name": "stderr",
     "output_type": "stream",
     "text": [
      "INFO:tensorflow:2018-08-14 22:39:01.609484: Step 330: Train accuracy = 100.0%\n"
     ]
    },
    {
     "name": "stdout",
     "output_type": "stream",
     "text": [
      "INFO:tensorflow:2018-08-14 22:39:01.610783: Step 330: Cross entropy = 0.000161\n"
     ]
    },
    {
     "name": "stderr",
     "output_type": "stream",
     "text": [
      "INFO:tensorflow:2018-08-14 22:39:01.610783: Step 330: Cross entropy = 0.000161\n"
     ]
    },
    {
     "name": "stdout",
     "output_type": "stream",
     "text": [
      "INFO:tensorflow:2018-08-14 22:39:01.668314: Step 330: Validation accuracy = 100.0% (N=100)\n"
     ]
    },
    {
     "name": "stderr",
     "output_type": "stream",
     "text": [
      "INFO:tensorflow:2018-08-14 22:39:01.668314: Step 330: Validation accuracy = 100.0% (N=100)\n"
     ]
    },
    {
     "name": "stdout",
     "output_type": "stream",
     "text": [
      "INFO:tensorflow:2018-08-14 22:39:02.134721: Step 340: Train accuracy = 100.0%\n"
     ]
    },
    {
     "name": "stderr",
     "output_type": "stream",
     "text": [
      "INFO:tensorflow:2018-08-14 22:39:02.134721: Step 340: Train accuracy = 100.0%\n"
     ]
    },
    {
     "name": "stdout",
     "output_type": "stream",
     "text": [
      "INFO:tensorflow:2018-08-14 22:39:02.136010: Step 340: Cross entropy = 0.000123\n"
     ]
    },
    {
     "name": "stderr",
     "output_type": "stream",
     "text": [
      "INFO:tensorflow:2018-08-14 22:39:02.136010: Step 340: Cross entropy = 0.000123\n"
     ]
    },
    {
     "name": "stdout",
     "output_type": "stream",
     "text": [
      "INFO:tensorflow:2018-08-14 22:39:02.191518: Step 340: Validation accuracy = 100.0% (N=100)\n"
     ]
    },
    {
     "name": "stderr",
     "output_type": "stream",
     "text": [
      "INFO:tensorflow:2018-08-14 22:39:02.191518: Step 340: Validation accuracy = 100.0% (N=100)\n"
     ]
    },
    {
     "name": "stdout",
     "output_type": "stream",
     "text": [
      "INFO:tensorflow:2018-08-14 22:39:02.768410: Step 350: Train accuracy = 100.0%\n"
     ]
    },
    {
     "name": "stderr",
     "output_type": "stream",
     "text": [
      "INFO:tensorflow:2018-08-14 22:39:02.768410: Step 350: Train accuracy = 100.0%\n"
     ]
    },
    {
     "name": "stdout",
     "output_type": "stream",
     "text": [
      "INFO:tensorflow:2018-08-14 22:39:02.769949: Step 350: Cross entropy = 0.000070\n"
     ]
    },
    {
     "name": "stderr",
     "output_type": "stream",
     "text": [
      "INFO:tensorflow:2018-08-14 22:39:02.769949: Step 350: Cross entropy = 0.000070\n"
     ]
    },
    {
     "name": "stdout",
     "output_type": "stream",
     "text": [
      "INFO:tensorflow:2018-08-14 22:39:02.843411: Step 350: Validation accuracy = 100.0% (N=100)\n"
     ]
    },
    {
     "name": "stderr",
     "output_type": "stream",
     "text": [
      "INFO:tensorflow:2018-08-14 22:39:02.843411: Step 350: Validation accuracy = 100.0% (N=100)\n"
     ]
    },
    {
     "name": "stdout",
     "output_type": "stream",
     "text": [
      "INFO:tensorflow:2018-08-14 22:39:03.391778: Step 360: Train accuracy = 100.0%\n"
     ]
    },
    {
     "name": "stderr",
     "output_type": "stream",
     "text": [
      "INFO:tensorflow:2018-08-14 22:39:03.391778: Step 360: Train accuracy = 100.0%\n"
     ]
    },
    {
     "name": "stdout",
     "output_type": "stream",
     "text": [
      "INFO:tensorflow:2018-08-14 22:39:03.393072: Step 360: Cross entropy = 0.000180\n"
     ]
    },
    {
     "name": "stderr",
     "output_type": "stream",
     "text": [
      "INFO:tensorflow:2018-08-14 22:39:03.393072: Step 360: Cross entropy = 0.000180\n"
     ]
    },
    {
     "name": "stdout",
     "output_type": "stream",
     "text": [
      "INFO:tensorflow:2018-08-14 22:39:03.451150: Step 360: Validation accuracy = 100.0% (N=100)\n"
     ]
    },
    {
     "name": "stderr",
     "output_type": "stream",
     "text": [
      "INFO:tensorflow:2018-08-14 22:39:03.451150: Step 360: Validation accuracy = 100.0% (N=100)\n"
     ]
    },
    {
     "name": "stdout",
     "output_type": "stream",
     "text": [
      "INFO:tensorflow:2018-08-14 22:39:03.949053: Step 370: Train accuracy = 100.0%\n"
     ]
    },
    {
     "name": "stderr",
     "output_type": "stream",
     "text": [
      "INFO:tensorflow:2018-08-14 22:39:03.949053: Step 370: Train accuracy = 100.0%\n"
     ]
    },
    {
     "name": "stdout",
     "output_type": "stream",
     "text": [
      "INFO:tensorflow:2018-08-14 22:39:03.950498: Step 370: Cross entropy = 0.000099\n"
     ]
    },
    {
     "name": "stderr",
     "output_type": "stream",
     "text": [
      "INFO:tensorflow:2018-08-14 22:39:03.950498: Step 370: Cross entropy = 0.000099\n"
     ]
    },
    {
     "name": "stdout",
     "output_type": "stream",
     "text": [
      "INFO:tensorflow:2018-08-14 22:39:04.008120: Step 370: Validation accuracy = 100.0% (N=100)\n"
     ]
    },
    {
     "name": "stderr",
     "output_type": "stream",
     "text": [
      "INFO:tensorflow:2018-08-14 22:39:04.008120: Step 370: Validation accuracy = 100.0% (N=100)\n"
     ]
    },
    {
     "name": "stdout",
     "output_type": "stream",
     "text": [
      "INFO:tensorflow:2018-08-14 22:39:04.471384: Step 380: Train accuracy = 100.0%\n"
     ]
    },
    {
     "name": "stderr",
     "output_type": "stream",
     "text": [
      "INFO:tensorflow:2018-08-14 22:39:04.471384: Step 380: Train accuracy = 100.0%\n"
     ]
    },
    {
     "name": "stdout",
     "output_type": "stream",
     "text": [
      "INFO:tensorflow:2018-08-14 22:39:04.472839: Step 380: Cross entropy = 0.000103\n"
     ]
    },
    {
     "name": "stderr",
     "output_type": "stream",
     "text": [
      "INFO:tensorflow:2018-08-14 22:39:04.472839: Step 380: Cross entropy = 0.000103\n"
     ]
    },
    {
     "name": "stdout",
     "output_type": "stream",
     "text": [
      "INFO:tensorflow:2018-08-14 22:39:04.528336: Step 380: Validation accuracy = 100.0% (N=100)\n"
     ]
    },
    {
     "name": "stderr",
     "output_type": "stream",
     "text": [
      "INFO:tensorflow:2018-08-14 22:39:04.528336: Step 380: Validation accuracy = 100.0% (N=100)\n"
     ]
    },
    {
     "name": "stdout",
     "output_type": "stream",
     "text": [
      "INFO:tensorflow:2018-08-14 22:39:05.028914: Step 390: Train accuracy = 100.0%\n"
     ]
    },
    {
     "name": "stderr",
     "output_type": "stream",
     "text": [
      "INFO:tensorflow:2018-08-14 22:39:05.028914: Step 390: Train accuracy = 100.0%\n"
     ]
    },
    {
     "name": "stdout",
     "output_type": "stream",
     "text": [
      "INFO:tensorflow:2018-08-14 22:39:05.033871: Step 390: Cross entropy = 0.000061\n"
     ]
    },
    {
     "name": "stderr",
     "output_type": "stream",
     "text": [
      "INFO:tensorflow:2018-08-14 22:39:05.033871: Step 390: Cross entropy = 0.000061\n"
     ]
    },
    {
     "name": "stdout",
     "output_type": "stream",
     "text": [
      "INFO:tensorflow:2018-08-14 22:39:05.118652: Step 390: Validation accuracy = 100.0% (N=100)\n"
     ]
    },
    {
     "name": "stderr",
     "output_type": "stream",
     "text": [
      "INFO:tensorflow:2018-08-14 22:39:05.118652: Step 390: Validation accuracy = 100.0% (N=100)\n"
     ]
    },
    {
     "name": "stdout",
     "output_type": "stream",
     "text": [
      "INFO:tensorflow:2018-08-14 22:39:05.703038: Step 400: Train accuracy = 100.0%\n"
     ]
    },
    {
     "name": "stderr",
     "output_type": "stream",
     "text": [
      "INFO:tensorflow:2018-08-14 22:39:05.703038: Step 400: Train accuracy = 100.0%\n"
     ]
    },
    {
     "name": "stdout",
     "output_type": "stream",
     "text": [
      "INFO:tensorflow:2018-08-14 22:39:05.704358: Step 400: Cross entropy = 0.000065\n"
     ]
    },
    {
     "name": "stderr",
     "output_type": "stream",
     "text": [
      "INFO:tensorflow:2018-08-14 22:39:05.704358: Step 400: Cross entropy = 0.000065\n"
     ]
    },
    {
     "name": "stdout",
     "output_type": "stream",
     "text": [
      "INFO:tensorflow:2018-08-14 22:39:05.801207: Step 400: Validation accuracy = 100.0% (N=100)\n"
     ]
    },
    {
     "name": "stderr",
     "output_type": "stream",
     "text": [
      "INFO:tensorflow:2018-08-14 22:39:05.801207: Step 400: Validation accuracy = 100.0% (N=100)\n"
     ]
    },
    {
     "name": "stdout",
     "output_type": "stream",
     "text": [
      "INFO:tensorflow:2018-08-14 22:39:06.411382: Step 410: Train accuracy = 100.0%\n"
     ]
    },
    {
     "name": "stderr",
     "output_type": "stream",
     "text": [
      "INFO:tensorflow:2018-08-14 22:39:06.411382: Step 410: Train accuracy = 100.0%\n"
     ]
    },
    {
     "name": "stdout",
     "output_type": "stream",
     "text": [
      "INFO:tensorflow:2018-08-14 22:39:06.412653: Step 410: Cross entropy = 0.000184\n"
     ]
    },
    {
     "name": "stderr",
     "output_type": "stream",
     "text": [
      "INFO:tensorflow:2018-08-14 22:39:06.412653: Step 410: Cross entropy = 0.000184\n"
     ]
    },
    {
     "name": "stdout",
     "output_type": "stream",
     "text": [
      "INFO:tensorflow:2018-08-14 22:39:06.469915: Step 410: Validation accuracy = 100.0% (N=100)\n"
     ]
    },
    {
     "name": "stderr",
     "output_type": "stream",
     "text": [
      "INFO:tensorflow:2018-08-14 22:39:06.469915: Step 410: Validation accuracy = 100.0% (N=100)\n"
     ]
    },
    {
     "name": "stdout",
     "output_type": "stream",
     "text": [
      "INFO:tensorflow:2018-08-14 22:39:06.945080: Step 420: Train accuracy = 100.0%\n"
     ]
    },
    {
     "name": "stderr",
     "output_type": "stream",
     "text": [
      "INFO:tensorflow:2018-08-14 22:39:06.945080: Step 420: Train accuracy = 100.0%\n"
     ]
    },
    {
     "name": "stdout",
     "output_type": "stream",
     "text": [
      "INFO:tensorflow:2018-08-14 22:39:06.946570: Step 420: Cross entropy = 0.000134\n"
     ]
    },
    {
     "name": "stderr",
     "output_type": "stream",
     "text": [
      "INFO:tensorflow:2018-08-14 22:39:06.946570: Step 420: Cross entropy = 0.000134\n"
     ]
    },
    {
     "name": "stdout",
     "output_type": "stream",
     "text": [
      "INFO:tensorflow:2018-08-14 22:39:07.011923: Step 420: Validation accuracy = 100.0% (N=100)\n"
     ]
    },
    {
     "name": "stderr",
     "output_type": "stream",
     "text": [
      "INFO:tensorflow:2018-08-14 22:39:07.011923: Step 420: Validation accuracy = 100.0% (N=100)\n"
     ]
    },
    {
     "name": "stdout",
     "output_type": "stream",
     "text": [
      "INFO:tensorflow:2018-08-14 22:39:07.568822: Step 430: Train accuracy = 100.0%\n"
     ]
    },
    {
     "name": "stderr",
     "output_type": "stream",
     "text": [
      "INFO:tensorflow:2018-08-14 22:39:07.568822: Step 430: Train accuracy = 100.0%\n"
     ]
    },
    {
     "name": "stdout",
     "output_type": "stream",
     "text": [
      "INFO:tensorflow:2018-08-14 22:39:07.570895: Step 430: Cross entropy = 0.000159\n"
     ]
    },
    {
     "name": "stderr",
     "output_type": "stream",
     "text": [
      "INFO:tensorflow:2018-08-14 22:39:07.570895: Step 430: Cross entropy = 0.000159\n"
     ]
    },
    {
     "name": "stdout",
     "output_type": "stream",
     "text": [
      "INFO:tensorflow:2018-08-14 22:39:07.645651: Step 430: Validation accuracy = 100.0% (N=100)\n"
     ]
    },
    {
     "name": "stderr",
     "output_type": "stream",
     "text": [
      "INFO:tensorflow:2018-08-14 22:39:07.645651: Step 430: Validation accuracy = 100.0% (N=100)\n"
     ]
    },
    {
     "name": "stdout",
     "output_type": "stream",
     "text": [
      "INFO:tensorflow:2018-08-14 22:39:08.153577: Step 440: Train accuracy = 100.0%\n"
     ]
    },
    {
     "name": "stderr",
     "output_type": "stream",
     "text": [
      "INFO:tensorflow:2018-08-14 22:39:08.153577: Step 440: Train accuracy = 100.0%\n"
     ]
    },
    {
     "name": "stdout",
     "output_type": "stream",
     "text": [
      "INFO:tensorflow:2018-08-14 22:39:08.155151: Step 440: Cross entropy = 0.000106\n"
     ]
    },
    {
     "name": "stderr",
     "output_type": "stream",
     "text": [
      "INFO:tensorflow:2018-08-14 22:39:08.155151: Step 440: Cross entropy = 0.000106\n"
     ]
    },
    {
     "name": "stdout",
     "output_type": "stream",
     "text": [
      "INFO:tensorflow:2018-08-14 22:39:08.212411: Step 440: Validation accuracy = 100.0% (N=100)\n"
     ]
    },
    {
     "name": "stderr",
     "output_type": "stream",
     "text": [
      "INFO:tensorflow:2018-08-14 22:39:08.212411: Step 440: Validation accuracy = 100.0% (N=100)\n"
     ]
    },
    {
     "name": "stdout",
     "output_type": "stream",
     "text": [
      "INFO:tensorflow:2018-08-14 22:39:08.706038: Step 450: Train accuracy = 100.0%\n"
     ]
    },
    {
     "name": "stderr",
     "output_type": "stream",
     "text": [
      "INFO:tensorflow:2018-08-14 22:39:08.706038: Step 450: Train accuracy = 100.0%\n"
     ]
    },
    {
     "name": "stdout",
     "output_type": "stream",
     "text": [
      "INFO:tensorflow:2018-08-14 22:39:08.708249: Step 450: Cross entropy = 0.000068\n"
     ]
    },
    {
     "name": "stderr",
     "output_type": "stream",
     "text": [
      "INFO:tensorflow:2018-08-14 22:39:08.708249: Step 450: Cross entropy = 0.000068\n"
     ]
    },
    {
     "name": "stdout",
     "output_type": "stream",
     "text": [
      "INFO:tensorflow:2018-08-14 22:39:08.800750: Step 450: Validation accuracy = 100.0% (N=100)\n"
     ]
    },
    {
     "name": "stderr",
     "output_type": "stream",
     "text": [
      "INFO:tensorflow:2018-08-14 22:39:08.800750: Step 450: Validation accuracy = 100.0% (N=100)\n"
     ]
    },
    {
     "name": "stdout",
     "output_type": "stream",
     "text": [
      "INFO:tensorflow:2018-08-14 22:39:09.360498: Step 460: Train accuracy = 100.0%\n"
     ]
    },
    {
     "name": "stderr",
     "output_type": "stream",
     "text": [
      "INFO:tensorflow:2018-08-14 22:39:09.360498: Step 460: Train accuracy = 100.0%\n"
     ]
    },
    {
     "name": "stdout",
     "output_type": "stream",
     "text": [
      "INFO:tensorflow:2018-08-14 22:39:09.361758: Step 460: Cross entropy = 0.000140\n"
     ]
    },
    {
     "name": "stderr",
     "output_type": "stream",
     "text": [
      "INFO:tensorflow:2018-08-14 22:39:09.361758: Step 460: Cross entropy = 0.000140\n"
     ]
    },
    {
     "name": "stdout",
     "output_type": "stream",
     "text": [
      "INFO:tensorflow:2018-08-14 22:39:09.419170: Step 460: Validation accuracy = 100.0% (N=100)\n"
     ]
    },
    {
     "name": "stderr",
     "output_type": "stream",
     "text": [
      "INFO:tensorflow:2018-08-14 22:39:09.419170: Step 460: Validation accuracy = 100.0% (N=100)\n"
     ]
    },
    {
     "name": "stdout",
     "output_type": "stream",
     "text": [
      "INFO:tensorflow:2018-08-14 22:39:09.965594: Step 470: Train accuracy = 100.0%\n"
     ]
    },
    {
     "name": "stderr",
     "output_type": "stream",
     "text": [
      "INFO:tensorflow:2018-08-14 22:39:09.965594: Step 470: Train accuracy = 100.0%\n"
     ]
    },
    {
     "name": "stdout",
     "output_type": "stream",
     "text": [
      "INFO:tensorflow:2018-08-14 22:39:09.967538: Step 470: Cross entropy = 0.000162\n"
     ]
    },
    {
     "name": "stderr",
     "output_type": "stream",
     "text": [
      "INFO:tensorflow:2018-08-14 22:39:09.967538: Step 470: Cross entropy = 0.000162\n"
     ]
    },
    {
     "name": "stdout",
     "output_type": "stream",
     "text": [
      "INFO:tensorflow:2018-08-14 22:39:10.038534: Step 470: Validation accuracy = 100.0% (N=100)\n"
     ]
    },
    {
     "name": "stderr",
     "output_type": "stream",
     "text": [
      "INFO:tensorflow:2018-08-14 22:39:10.038534: Step 470: Validation accuracy = 100.0% (N=100)\n"
     ]
    },
    {
     "name": "stdout",
     "output_type": "stream",
     "text": [
      "INFO:tensorflow:2018-08-14 22:39:10.551241: Step 480: Train accuracy = 100.0%\n"
     ]
    },
    {
     "name": "stderr",
     "output_type": "stream",
     "text": [
      "INFO:tensorflow:2018-08-14 22:39:10.551241: Step 480: Train accuracy = 100.0%\n"
     ]
    },
    {
     "name": "stdout",
     "output_type": "stream",
     "text": [
      "INFO:tensorflow:2018-08-14 22:39:10.552507: Step 480: Cross entropy = 0.000112\n"
     ]
    },
    {
     "name": "stderr",
     "output_type": "stream",
     "text": [
      "INFO:tensorflow:2018-08-14 22:39:10.552507: Step 480: Cross entropy = 0.000112\n"
     ]
    },
    {
     "name": "stdout",
     "output_type": "stream",
     "text": [
      "INFO:tensorflow:2018-08-14 22:39:10.609917: Step 480: Validation accuracy = 100.0% (N=100)\n"
     ]
    },
    {
     "name": "stderr",
     "output_type": "stream",
     "text": [
      "INFO:tensorflow:2018-08-14 22:39:10.609917: Step 480: Validation accuracy = 100.0% (N=100)\n"
     ]
    },
    {
     "name": "stdout",
     "output_type": "stream",
     "text": [
      "INFO:tensorflow:2018-08-14 22:39:11.102988: Step 490: Train accuracy = 100.0%\n"
     ]
    },
    {
     "name": "stderr",
     "output_type": "stream",
     "text": [
      "INFO:tensorflow:2018-08-14 22:39:11.102988: Step 490: Train accuracy = 100.0%\n"
     ]
    },
    {
     "name": "stdout",
     "output_type": "stream",
     "text": [
      "INFO:tensorflow:2018-08-14 22:39:11.104226: Step 490: Cross entropy = 0.000102\n"
     ]
    },
    {
     "name": "stderr",
     "output_type": "stream",
     "text": [
      "INFO:tensorflow:2018-08-14 22:39:11.104226: Step 490: Cross entropy = 0.000102\n"
     ]
    },
    {
     "name": "stdout",
     "output_type": "stream",
     "text": [
      "INFO:tensorflow:2018-08-14 22:39:11.162741: Step 490: Validation accuracy = 100.0% (N=100)\n"
     ]
    },
    {
     "name": "stderr",
     "output_type": "stream",
     "text": [
      "INFO:tensorflow:2018-08-14 22:39:11.162741: Step 490: Validation accuracy = 100.0% (N=100)\n"
     ]
    },
    {
     "name": "stdout",
     "output_type": "stream",
     "text": [
      "INFO:tensorflow:2018-08-14 22:39:11.788634: Step 499: Train accuracy = 100.0%\n"
     ]
    },
    {
     "name": "stderr",
     "output_type": "stream",
     "text": [
      "INFO:tensorflow:2018-08-14 22:39:11.788634: Step 499: Train accuracy = 100.0%\n"
     ]
    },
    {
     "name": "stdout",
     "output_type": "stream",
     "text": [
      "INFO:tensorflow:2018-08-14 22:39:11.790345: Step 499: Cross entropy = 0.000069\n"
     ]
    },
    {
     "name": "stderr",
     "output_type": "stream",
     "text": [
      "INFO:tensorflow:2018-08-14 22:39:11.790345: Step 499: Cross entropy = 0.000069\n"
     ]
    },
    {
     "name": "stdout",
     "output_type": "stream",
     "text": [
      "INFO:tensorflow:2018-08-14 22:39:11.856983: Step 499: Validation accuracy = 100.0% (N=100)\n"
     ]
    },
    {
     "name": "stderr",
     "output_type": "stream",
     "text": [
      "INFO:tensorflow:2018-08-14 22:39:11.856983: Step 499: Validation accuracy = 100.0% (N=100)\n"
     ]
    },
    {
     "name": "stdout",
     "output_type": "stream",
     "text": [
      "INFO:tensorflow:Final test accuracy = 100.0% (N=15)\n"
     ]
    },
    {
     "name": "stderr",
     "output_type": "stream",
     "text": [
      "INFO:tensorflow:Final test accuracy = 100.0% (N=15)\n"
     ]
    },
    {
     "name": "stdout",
     "output_type": "stream",
     "text": [
      "INFO:tensorflow:Froze 2 variables.\n"
     ]
    },
    {
     "name": "stderr",
     "output_type": "stream",
     "text": [
      "INFO:tensorflow:Froze 2 variables.\n"
     ]
    },
    {
     "name": "stdout",
     "output_type": "stream",
     "text": [
      "Converted 2 variables to const ops.\n"
     ]
    }
   ],
   "source": [
    "#use mobile net\n",
    "%run scripts/retrain.py \\\n",
    "  --bottleneck_dir=tf_files/bottlenecks \\\n",
    "  --how_many_training_steps=500 \\\n",
    "  --learning_rate=0.01 \\\n",
    "  --model_dir=tf_files/models/ \\\n",
    "  --summaries_dir=tf_files/training_summaries/\"mobilenet_0.50_224\" \\\n",
    "  --output_graph=tf_files/retrained_graph.pb \\\n",
    "  --output_labels=tf_files/retrained_labels.txt \\\n",
    "  --architecture=\"mobilenet_0.50_224\" \\\n",
    "  --image_dir=tf_files/data"
   ]
  },
  {
   "cell_type": "code",
   "execution_count": 135,
   "metadata": {},
   "outputs": [
    {
     "name": "stdout",
     "output_type": "stream",
     "text": [
      "apple (score=0.99969)\n",
      "coffee_mug (score=0.00031)\n",
      "fork (score=0.00000)\n",
      "\n",
      "1 CORRECT: Test  : apple == apple\n",
      "apple (score=1.00000)\n",
      "coffee_mug (score=0.00000)\n",
      "fork (score=0.00000)\n",
      "\n",
      "2 CORRECT: Test  : apple == apple\n",
      "apple (score=0.99999)\n",
      "coffee_mug (score=0.00001)\n",
      "fork (score=0.00000)\n",
      "\n",
      "3 CORRECT: Test  : apple == apple\n",
      "apple (score=1.00000)\n",
      "coffee_mug (score=0.00000)\n",
      "fork (score=0.00000)\n",
      "\n",
      "4 CORRECT: Test  : apple == apple\n",
      "apple (score=1.00000)\n",
      "coffee_mug (score=0.00000)\n",
      "fork (score=0.00000)\n",
      "\n",
      "5 CORRECT: Test  : apple == apple\n",
      "apple (score=1.00000)\n",
      "coffee_mug (score=0.00000)\n",
      "fork (score=0.00000)\n",
      "\n",
      "6 CORRECT: Test  : apple == apple\n",
      "apple (score=0.99981)\n",
      "coffee_mug (score=0.00018)\n",
      "fork (score=0.00001)\n",
      "\n",
      "7 CORRECT: Test  : apple == apple\n",
      "apple (score=1.00000)\n",
      "coffee_mug (score=0.00000)\n",
      "fork (score=0.00000)\n",
      "\n",
      "8 CORRECT: Test  : apple == apple\n",
      "apple (score=1.00000)\n",
      "coffee_mug (score=0.00000)\n",
      "fork (score=0.00000)\n",
      "\n",
      "9 CORRECT: Test  : apple == apple\n",
      "apple (score=0.99999)\n",
      "coffee_mug (score=0.00001)\n",
      "fork (score=0.00000)\n",
      "\n",
      "10 CORRECT: Test  : apple == apple\n",
      "fork (score=0.99500)\n",
      "apple (score=0.00322)\n",
      "coffee_mug (score=0.00179)\n",
      "\n",
      "11 CORRECT: Test  : fork == fork\n",
      "fork (score=1.00000)\n",
      "coffee_mug (score=0.00000)\n",
      "apple (score=0.00000)\n",
      "\n",
      "12 CORRECT: Test  : fork == fork\n",
      "fork (score=0.99999)\n",
      "coffee_mug (score=0.00001)\n",
      "apple (score=0.00000)\n",
      "\n",
      "13 CORRECT: Test  : fork == fork\n",
      "fork (score=0.99976)\n",
      "coffee_mug (score=0.00024)\n",
      "apple (score=0.00000)\n",
      "\n",
      "14 CORRECT: Test  : fork == fork\n",
      "fork (score=0.98592)\n",
      "coffee_mug (score=0.01349)\n",
      "apple (score=0.00059)\n",
      "\n",
      "15 CORRECT: Test  : fork == fork\n",
      "fork (score=0.99977)\n",
      "coffee_mug (score=0.00022)\n",
      "apple (score=0.00000)\n",
      "\n",
      "16 CORRECT: Test  : fork == fork\n",
      "fork (score=1.00000)\n",
      "coffee_mug (score=0.00000)\n",
      "apple (score=0.00000)\n",
      "\n",
      "17 CORRECT: Test  : fork == fork\n",
      "fork (score=0.99999)\n",
      "coffee_mug (score=0.00001)\n",
      "apple (score=0.00000)\n",
      "\n",
      "18 CORRECT: Test  : fork == fork\n",
      "fork (score=0.99948)\n",
      "coffee_mug (score=0.00052)\n",
      "apple (score=0.00000)\n",
      "\n",
      "19 CORRECT: Test  : fork == fork\n",
      "fork (score=1.00000)\n",
      "coffee_mug (score=0.00000)\n",
      "apple (score=0.00000)\n",
      "\n",
      "20 CORRECT: Test  : fork == fork\n",
      "fork (score=0.99980)\n",
      "coffee_mug (score=0.00020)\n",
      "apple (score=0.00000)\n",
      "\n",
      "21 CORRECT: Test  : fork == fork\n",
      "fork (score=0.99999)\n",
      "coffee_mug (score=0.00001)\n",
      "apple (score=0.00000)\n",
      "\n",
      "22 CORRECT: Test  : fork == fork\n",
      "coffee_mug (score=1.00000)\n",
      "fork (score=0.00000)\n",
      "apple (score=0.00000)\n",
      "\n",
      "23 CORRECT: Test  : coffee_mug == coffee_mug\n",
      "coffee_mug (score=1.00000)\n",
      "fork (score=0.00000)\n",
      "apple (score=0.00000)\n",
      "\n",
      "24 CORRECT: Test  : coffee_mug == coffee_mug\n",
      "coffee_mug (score=1.00000)\n",
      "fork (score=0.00000)\n",
      "apple (score=0.00000)\n",
      "\n",
      "25 CORRECT: Test  : coffee_mug == coffee_mug\n",
      "coffee_mug (score=0.99996)\n",
      "apple (score=0.00003)\n",
      "fork (score=0.00000)\n",
      "\n",
      "26 CORRECT: Test  : coffee_mug == coffee_mug\n",
      "coffee_mug (score=1.00000)\n",
      "fork (score=0.00000)\n",
      "apple (score=0.00000)\n",
      "\n",
      "27 CORRECT: Test  : coffee_mug == coffee_mug\n",
      "coffee_mug (score=1.00000)\n",
      "fork (score=0.00000)\n",
      "apple (score=0.00000)\n",
      "\n",
      "28 CORRECT: Test  : coffee_mug == coffee_mug\n",
      "coffee_mug (score=1.00000)\n",
      "fork (score=0.00000)\n",
      "apple (score=0.00000)\n",
      "\n",
      "29 CORRECT: Test  : coffee_mug == coffee_mug\n",
      "coffee_mug (score=1.00000)\n",
      "fork (score=0.00000)\n",
      "apple (score=0.00000)\n",
      "\n",
      "30 CORRECT: Test  : coffee_mug == coffee_mug\n",
      "coffee_mug (score=1.00000)\n",
      "apple (score=0.00000)\n",
      "fork (score=0.00000)\n",
      "\n",
      "31 CORRECT: Test  : coffee_mug == coffee_mug\n",
      "coffee_mug (score=1.00000)\n",
      "fork (score=0.00000)\n",
      "apple (score=0.00000)\n",
      "\n",
      "32 CORRECT: Test  : coffee_mug == coffee_mug\n",
      "coffee_mug (score=1.00000)\n",
      "apple (score=0.00000)\n",
      "fork (score=0.00000)\n",
      "\n",
      "33 CORRECT: Test  : coffee_mug == coffee_mug\n",
      "coffee_mug (score=0.99987)\n",
      "fork (score=0.00013)\n",
      "apple (score=0.00000)\n",
      "\n",
      "34 CORRECT: Test  : coffee_mug == coffee_mug\n",
      "34 out of 34 : 1.0\n"
     ]
    }
   ],
   "source": [
    "exec(open(\"scripts/JH_label_image.py\").read())\n",
    "#apply image classify to a folder and count the number of results\n",
    "directory = \"tf_files/test\"\n",
    "files = 0\n",
    "correct = 0\n",
    "\n",
    "for subdir, dirs, folder in os.walk(directory):\n",
    "    for file in folder:\n",
    "        \n",
    "        (name, extension) = os.path.splitext(file)\n",
    "        #only process images with .jpg extension\n",
    "        if(extension == \".jpg\"):\n",
    "            files+=1\n",
    "            filePath = os.path.join(subdir,file)\n",
    "            #print(filePath)\n",
    "            #run ml on the image and save the first text reults\n",
    "            \n",
    "            resultLabel = label_image(filePath)\n",
    "            test = str(os.path.basename(subdir))\n",
    "            \n",
    "            if(test == resultLabel):\n",
    "                correct+=1\n",
    "                print(str(files)+ \" CORRECT: Test \"+\" : \"+test + \" == \" + resultLabel +\"\\n\")\n",
    "                #print(str(files) + \":\" +str(resultText)+\"\\n\")\n",
    "            else:\n",
    "                print(str(files) + \" INCORRECT!! Test \"+\":\" +test + \" != \" + resultLabel+\"\\n\")\n",
    "            \n",
    "print(str(correct) + \" out of \" + str(files) + \" : \" + str(files/correct))      \n",
    "        "
   ]
  },
  {
   "cell_type": "code",
   "execution_count": 79,
   "metadata": {},
   "outputs": [
    {
     "name": "stdout",
     "output_type": "stream",
     "text": [
      "\n",
      "Evaluation time (1-image): 0.188s\n",
      "\n",
      "apple (score=1.00000)\n",
      "coffee mug (score=0.00000)\n"
     ]
    }
   ],
   "source": [
    "%run scripts/label_image.py \\\n",
    "    --graph=tf_files/retrained_graph.pb  \\\n",
    "    --image=tf_files/test/apple/apple1.jpg"
   ]
  },
  {
   "cell_type": "code",
   "execution_count": null,
   "metadata": {},
   "outputs": [],
   "source": []
  }
 ],
 "metadata": {
  "kernelspec": {
   "display_name": "Python 3",
   "language": "python",
   "name": "python3"
  },
  "language_info": {
   "codemirror_mode": {
    "name": "ipython",
    "version": 3
   },
   "file_extension": ".py",
   "mimetype": "text/x-python",
   "name": "python",
   "nbconvert_exporter": "python",
   "pygments_lexer": "ipython3",
   "version": "3.5.2"
  }
 },
 "nbformat": 4,
 "nbformat_minor": 2
}
