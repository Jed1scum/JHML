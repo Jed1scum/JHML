{
 "cells": [
  {
   "cell_type": "code",
   "execution_count": 53,
   "metadata": {},
   "outputs": [
    {
     "name": "stdout",
     "output_type": "stream",
     "text": [
      "1.4.0\n",
      "1.4.0\n"
     ]
    }
   ],
   "source": [
    "import tensorflow as tf\n",
    "exec(open(\"scripts/JH_label_image.py\").read())\n",
    "print (tf.VERSION)\n",
    "print (tf.VERSION)"
   ]
  },
  {
   "cell_type": "code",
   "execution_count": 119,
   "metadata": {},
   "outputs": [
    {
     "name": "stdout",
     "output_type": "stream",
     "text": [
      "INFO:tensorflow:Looking for images in 'apple'\n"
     ]
    },
    {
     "name": "stderr",
     "output_type": "stream",
     "text": [
      "INFO:tensorflow:Looking for images in 'apple'\n"
     ]
    },
    {
     "name": "stdout",
     "output_type": "stream",
     "text": [
      "INFO:tensorflow:Looking for images in 'coffee_mug'\n"
     ]
    },
    {
     "name": "stderr",
     "output_type": "stream",
     "text": [
      "INFO:tensorflow:Looking for images in 'coffee_mug'\n"
     ]
    },
    {
     "name": "stdout",
     "output_type": "stream",
     "text": [
      "INFO:tensorflow:Looking for images in 'fork'\n"
     ]
    },
    {
     "name": "stderr",
     "output_type": "stream",
     "text": [
      "INFO:tensorflow:Looking for images in 'fork'\n"
     ]
    },
    {
     "name": "stdout",
     "output_type": "stream",
     "text": [
      "INFO:tensorflow:Creating bottleneck at tf_files/bottlenecks/fork/7. orange_fork.jpg_mobilenet_0.50_224.txt\n"
     ]
    },
    {
     "name": "stderr",
     "output_type": "stream",
     "text": [
      "INFO:tensorflow:Creating bottleneck at tf_files/bottlenecks/fork/7. orange_fork.jpg_mobilenet_0.50_224.txt\n"
     ]
    },
    {
     "name": "stdout",
     "output_type": "stream",
     "text": [
      "INFO:tensorflow:Creating bottleneck at tf_files/bottlenecks/fork/48. fj007gafd5iwl9l.large.jpg_mobilenet_0.50_224.txt\n"
     ]
    },
    {
     "name": "stderr",
     "output_type": "stream",
     "text": [
      "INFO:tensorflow:Creating bottleneck at tf_files/bottlenecks/fork/48. fj007gafd5iwl9l.large.jpg_mobilenet_0.50_224.txt\n"
     ]
    },
    {
     "name": "stdout",
     "output_type": "stream",
     "text": [
      "INFO:tensorflow:Creating bottleneck at tf_files/bottlenecks/fork/10. duna-matt-black-dessert-fork-338045.jpg_mobilenet_0.50_224.txt\n"
     ]
    },
    {
     "name": "stderr",
     "output_type": "stream",
     "text": [
      "INFO:tensorflow:Creating bottleneck at tf_files/bottlenecks/fork/10. duna-matt-black-dessert-fork-338045.jpg_mobilenet_0.50_224.txt\n"
     ]
    },
    {
     "name": "stdout",
     "output_type": "stream",
     "text": [
      "INFO:tensorflow:Creating bottleneck at tf_files/bottlenecks/fork/17. fork-04.jpg_mobilenet_0.50_224.txt\n"
     ]
    },
    {
     "name": "stderr",
     "output_type": "stream",
     "text": [
      "INFO:tensorflow:Creating bottleneck at tf_files/bottlenecks/fork/17. fork-04.jpg_mobilenet_0.50_224.txt\n"
     ]
    },
    {
     "name": "stdout",
     "output_type": "stream",
     "text": [
      "INFO:tensorflow:100 bottleneck files created.\n"
     ]
    },
    {
     "name": "stderr",
     "output_type": "stream",
     "text": [
      "INFO:tensorflow:100 bottleneck files created.\n"
     ]
    },
    {
     "name": "stdout",
     "output_type": "stream",
     "text": [
      "INFO:tensorflow:Creating bottleneck at tf_files/bottlenecks/fork/38. bigstock-fork-1211956-640x428.jpg_mobilenet_0.50_224.txt\n"
     ]
    },
    {
     "name": "stderr",
     "output_type": "stream",
     "text": [
      "INFO:tensorflow:Creating bottleneck at tf_files/bottlenecks/fork/38. bigstock-fork-1211956-640x428.jpg_mobilenet_0.50_224.txt\n"
     ]
    },
    {
     "name": "stdout",
     "output_type": "stream",
     "text": [
      "INFO:tensorflow:Creating bottleneck at tf_files/bottlenecks/fork/36. 18585.jpg_mobilenet_0.50_224.txt\n"
     ]
    },
    {
     "name": "stderr",
     "output_type": "stream",
     "text": [
      "INFO:tensorflow:Creating bottleneck at tf_files/bottlenecks/fork/36. 18585.jpg_mobilenet_0.50_224.txt\n"
     ]
    },
    {
     "name": "stdout",
     "output_type": "stream",
     "text": [
      "INFO:tensorflow:Creating bottleneck at tf_files/bottlenecks/fork/8. shutterstock_88722283.jpg_mobilenet_0.50_224.txt\n"
     ]
    },
    {
     "name": "stderr",
     "output_type": "stream",
     "text": [
      "INFO:tensorflow:Creating bottleneck at tf_files/bottlenecks/fork/8. shutterstock_88722283.jpg_mobilenet_0.50_224.txt\n"
     ]
    },
    {
     "name": "stdout",
     "output_type": "stream",
     "text": [
      "INFO:tensorflow:Creating bottleneck at tf_files/bottlenecks/fork/37. 22930_57575_43957.jpg_mobilenet_0.50_224.txt\n"
     ]
    },
    {
     "name": "stderr",
     "output_type": "stream",
     "text": [
      "INFO:tensorflow:Creating bottleneck at tf_files/bottlenecks/fork/37. 22930_57575_43957.jpg_mobilenet_0.50_224.txt\n"
     ]
    },
    {
     "name": "stdout",
     "output_type": "stream",
     "text": [
      "INFO:tensorflow:Creating bottleneck at tf_files/bottlenecks/fork/26. regency-dinner-fork.jpg_mobilenet_0.50_224.txt\n"
     ]
    },
    {
     "name": "stderr",
     "output_type": "stream",
     "text": [
      "INFO:tensorflow:Creating bottleneck at tf_files/bottlenecks/fork/26. regency-dinner-fork.jpg_mobilenet_0.50_224.txt\n"
     ]
    },
    {
     "name": "stdout",
     "output_type": "stream",
     "text": [
      "INFO:tensorflow:Creating bottleneck at tf_files/bottlenecks/fork/6. fork_115920517_250.jpg_mobilenet_0.50_224.txt\n"
     ]
    },
    {
     "name": "stderr",
     "output_type": "stream",
     "text": [
      "INFO:tensorflow:Creating bottleneck at tf_files/bottlenecks/fork/6. fork_115920517_250.jpg_mobilenet_0.50_224.txt\n"
     ]
    },
    {
     "name": "stdout",
     "output_type": "stream",
     "text": [
      "INFO:tensorflow:Creating bottleneck at tf_files/bottlenecks/fork/19. hag-cu249605.jpg_mobilenet_0.50_224.txt\n"
     ]
    },
    {
     "name": "stderr",
     "output_type": "stream",
     "text": [
      "INFO:tensorflow:Creating bottleneck at tf_files/bottlenecks/fork/19. hag-cu249605.jpg_mobilenet_0.50_224.txt\n"
     ]
    },
    {
     "name": "stdout",
     "output_type": "stream",
     "text": [
      "INFO:tensorflow:Creating bottleneck at tf_files/bottlenecks/fork/27. dinner-fork-stainless.jpg_mobilenet_0.50_224.txt\n"
     ]
    },
    {
     "name": "stderr",
     "output_type": "stream",
     "text": [
      "INFO:tensorflow:Creating bottleneck at tf_files/bottlenecks/fork/27. dinner-fork-stainless.jpg_mobilenet_0.50_224.txt\n"
     ]
    },
    {
     "name": "stdout",
     "output_type": "stream",
     "text": [
      "INFO:tensorflow:Creating bottleneck at tf_files/bottlenecks/fork/1. 0302.341_1.jpg_mobilenet_0.50_224.txt\n"
     ]
    },
    {
     "name": "stderr",
     "output_type": "stream",
     "text": [
      "INFO:tensorflow:Creating bottleneck at tf_files/bottlenecks/fork/1. 0302.341_1.jpg_mobilenet_0.50_224.txt\n"
     ]
    },
    {
     "name": "stdout",
     "output_type": "stream",
     "text": [
      "INFO:tensorflow:Creating bottleneck at tf_files/bottlenecks/fork/20. baguette-fish-fork.jpg_mobilenet_0.50_224.txt\n"
     ]
    },
    {
     "name": "stderr",
     "output_type": "stream",
     "text": [
      "INFO:tensorflow:Creating bottleneck at tf_files/bottlenecks/fork/20. baguette-fish-fork.jpg_mobilenet_0.50_224.txt\n"
     ]
    },
    {
     "name": "stdout",
     "output_type": "stream",
     "text": [
      "INFO:tensorflow:Creating bottleneck at tf_files/bottlenecks/fork/5. 71z-hgjp6yl._sy355_.jpg_mobilenet_0.50_224.txt\n"
     ]
    },
    {
     "name": "stderr",
     "output_type": "stream",
     "text": [
      "INFO:tensorflow:Creating bottleneck at tf_files/bottlenecks/fork/5. 71z-hgjp6yl._sy355_.jpg_mobilenet_0.50_224.txt\n"
     ]
    },
    {
     "name": "stdout",
     "output_type": "stream",
     "text": [
      "INFO:tensorflow:Creating bottleneck at tf_files/bottlenecks/fork/4. fork-eat-metal-fork-dine-39565.jpeg_mobilenet_0.50_224.txt\n"
     ]
    },
    {
     "name": "stderr",
     "output_type": "stream",
     "text": [
      "INFO:tensorflow:Creating bottleneck at tf_files/bottlenecks/fork/4. fork-eat-metal-fork-dine-39565.jpeg_mobilenet_0.50_224.txt\n"
     ]
    },
    {
     "name": "stdout",
     "output_type": "stream",
     "text": [
      "INFO:tensorflow:Creating bottleneck at tf_files/bottlenecks/fork/45. ruth-pretty-blending-fork_f_grande.jpeg_mobilenet_0.50_224.txt\n"
     ]
    },
    {
     "name": "stderr",
     "output_type": "stream",
     "text": [
      "INFO:tensorflow:Creating bottleneck at tf_files/bottlenecks/fork/45. ruth-pretty-blending-fork_f_grande.jpeg_mobilenet_0.50_224.txt\n"
     ]
    },
    {
     "name": "stdout",
     "output_type": "stream",
     "text": [
      "INFO:tensorflow:Creating bottleneck at tf_files/bottlenecks/fork/9. 31jo9j8hvel._sl500_ac_ss350_.jpg_mobilenet_0.50_224.txt\n"
     ]
    },
    {
     "name": "stderr",
     "output_type": "stream",
     "text": [
      "INFO:tensorflow:Creating bottleneck at tf_files/bottlenecks/fork/9. 31jo9j8hvel._sl500_ac_ss350_.jpg_mobilenet_0.50_224.txt\n"
     ]
    },
    {
     "name": "stdout",
     "output_type": "stream",
     "text": [
      "INFO:tensorflow:Creating bottleneck at tf_files/bottlenecks/fork/49. garden-fork-1.jpg_mobilenet_0.50_224.txt\n"
     ]
    },
    {
     "name": "stderr",
     "output_type": "stream",
     "text": [
      "INFO:tensorflow:Creating bottleneck at tf_files/bottlenecks/fork/49. garden-fork-1.jpg_mobilenet_0.50_224.txt\n"
     ]
    },
    {
     "name": "stdout",
     "output_type": "stream",
     "text": [
      "INFO:tensorflow:Creating bottleneck at tf_files/bottlenecks/fork/23. fork-06.jpg_mobilenet_0.50_224.txt\n"
     ]
    },
    {
     "name": "stderr",
     "output_type": "stream",
     "text": [
      "INFO:tensorflow:Creating bottleneck at tf_files/bottlenecks/fork/23. fork-06.jpg_mobilenet_0.50_224.txt\n"
     ]
    },
    {
     "name": "stdout",
     "output_type": "stream",
     "text": [
      "INFO:tensorflow:Creating bottleneck at tf_files/bottlenecks/fork/12. hisf12800.jpg_mobilenet_0.50_224.txt\n"
     ]
    },
    {
     "name": "stderr",
     "output_type": "stream",
     "text": [
      "INFO:tensorflow:Creating bottleneck at tf_files/bottlenecks/fork/12. hisf12800.jpg_mobilenet_0.50_224.txt\n"
     ]
    },
    {
     "name": "stdout",
     "output_type": "stream",
     "text": [
      "INFO:tensorflow:Creating bottleneck at tf_files/bottlenecks/fork/25. 3134jdbwghl._sl500_ac_ss350_.jpg_mobilenet_0.50_224.txt\n"
     ]
    },
    {
     "name": "stderr",
     "output_type": "stream",
     "text": [
      "INFO:tensorflow:Creating bottleneck at tf_files/bottlenecks/fork/25. 3134jdbwghl._sl500_ac_ss350_.jpg_mobilenet_0.50_224.txt\n"
     ]
    },
    {
     "name": "stdout",
     "output_type": "stream",
     "text": [
      "INFO:tensorflow:Creating bottleneck at tf_files/bottlenecks/fork/50. fork-13.jpg_mobilenet_0.50_224.txt\n"
     ]
    },
    {
     "name": "stderr",
     "output_type": "stream",
     "text": [
      "INFO:tensorflow:Creating bottleneck at tf_files/bottlenecks/fork/50. fork-13.jpg_mobilenet_0.50_224.txt\n"
     ]
    },
    {
     "name": "stdout",
     "output_type": "stream",
     "text": [
      "INFO:tensorflow:Creating bottleneck at tf_files/bottlenecks/fork/11. williams-sonoma-open-kitchen-fork-o.jpg_mobilenet_0.50_224.txt\n"
     ]
    },
    {
     "name": "stderr",
     "output_type": "stream",
     "text": [
      "INFO:tensorflow:Creating bottleneck at tf_files/bottlenecks/fork/11. williams-sonoma-open-kitchen-fork-o.jpg_mobilenet_0.50_224.txt\n"
     ]
    },
    {
     "name": "stdout",
     "output_type": "stream",
     "text": [
      "INFO:tensorflow:Creating bottleneck at tf_files/bottlenecks/fork/31. lossy-page1-220px-tranchergaffel%2c_1640-tal_-_skoklosters_slott_-_102831.tif.jpg_mobilenet_0.50_224.txt\n"
     ]
    },
    {
     "name": "stderr",
     "output_type": "stream",
     "text": [
      "INFO:tensorflow:Creating bottleneck at tf_files/bottlenecks/fork/31. lossy-page1-220px-tranchergaffel%2c_1640-tal_-_skoklosters_slott_-_102831.tif.jpg_mobilenet_0.50_224.txt\n"
     ]
    },
    {
     "name": "stdout",
     "output_type": "stream",
     "text": [
      "INFO:tensorflow:Creating bottleneck at tf_files/bottlenecks/fork/30. victoria_gold_starter_dessert_fork_resize_2016.jpg_mobilenet_0.50_224.txt\n"
     ]
    },
    {
     "name": "stderr",
     "output_type": "stream",
     "text": [
      "INFO:tensorflow:Creating bottleneck at tf_files/bottlenecks/fork/30. victoria_gold_starter_dessert_fork_resize_2016.jpg_mobilenet_0.50_224.txt\n"
     ]
    },
    {
     "name": "stdout",
     "output_type": "stream",
     "text": [
      "INFO:tensorflow:2018-08-14 22:38:41.275460: Step 0: Train accuracy = 98.0%\n"
     ]
    },
    {
     "name": "stderr",
     "output_type": "stream",
     "text": [
      "INFO:tensorflow:2018-08-14 22:38:41.275460: Step 0: Train accuracy = 98.0%\n"
     ]
    },
    {
     "name": "stdout",
     "output_type": "stream",
     "text": [
      "INFO:tensorflow:2018-08-14 22:38:41.276968: Step 0: Cross entropy = 0.049697\n"
     ]
    },
    {
     "name": "stderr",
     "output_type": "stream",
     "text": [
      "INFO:tensorflow:2018-08-14 22:38:41.276968: Step 0: Cross entropy = 0.049697\n"
     ]
    },
    {
     "name": "stdout",
     "output_type": "stream",
     "text": [
      "INFO:tensorflow:2018-08-14 22:38:41.419523: Step 0: Validation accuracy = 100.0% (N=100)\n"
     ]
    },
    {
     "name": "stderr",
     "output_type": "stream",
     "text": [
      "INFO:tensorflow:2018-08-14 22:38:41.419523: Step 0: Validation accuracy = 100.0% (N=100)\n"
     ]
    },
    {
     "name": "stdout",
     "output_type": "stream",
     "text": [
      "INFO:tensorflow:2018-08-14 22:38:41.958857: Step 10: Train accuracy = 100.0%\n"
     ]
    },
    {
     "name": "stderr",
     "output_type": "stream",
     "text": [
      "INFO:tensorflow:2018-08-14 22:38:41.958857: Step 10: Train accuracy = 100.0%\n"
     ]
    },
    {
     "name": "stdout",
     "output_type": "stream",
     "text": [
      "INFO:tensorflow:2018-08-14 22:38:41.960430: Step 10: Cross entropy = 0.000366\n"
     ]
    },
    {
     "name": "stderr",
     "output_type": "stream",
     "text": [
      "INFO:tensorflow:2018-08-14 22:38:41.960430: Step 10: Cross entropy = 0.000366\n"
     ]
    },
    {
     "name": "stdout",
     "output_type": "stream",
     "text": [
      "INFO:tensorflow:2018-08-14 22:38:42.052518: Step 10: Validation accuracy = 100.0% (N=100)\n"
     ]
    },
    {
     "name": "stderr",
     "output_type": "stream",
     "text": [
      "INFO:tensorflow:2018-08-14 22:38:42.052518: Step 10: Validation accuracy = 100.0% (N=100)\n"
     ]
    },
    {
     "name": "stdout",
     "output_type": "stream",
     "text": [
      "INFO:tensorflow:2018-08-14 22:38:42.690296: Step 20: Train accuracy = 100.0%\n"
     ]
    },
    {
     "name": "stderr",
     "output_type": "stream",
     "text": [
      "INFO:tensorflow:2018-08-14 22:38:42.690296: Step 20: Train accuracy = 100.0%\n"
     ]
    },
    {
     "name": "stdout",
     "output_type": "stream",
     "text": [
      "INFO:tensorflow:2018-08-14 22:38:42.698054: Step 20: Cross entropy = 0.000332\n"
     ]
    },
    {
     "name": "stderr",
     "output_type": "stream",
     "text": [
      "INFO:tensorflow:2018-08-14 22:38:42.698054: Step 20: Cross entropy = 0.000332\n"
     ]
    },
    {
     "name": "stdout",
     "output_type": "stream",
     "text": [
      "INFO:tensorflow:2018-08-14 22:38:42.850603: Step 20: Validation accuracy = 100.0% (N=100)\n"
     ]
    },
    {
     "name": "stderr",
     "output_type": "stream",
     "text": [
      "INFO:tensorflow:2018-08-14 22:38:42.850603: Step 20: Validation accuracy = 100.0% (N=100)\n"
     ]
    },
    {
     "name": "stdout",
     "output_type": "stream",
     "text": [
      "INFO:tensorflow:2018-08-14 22:38:43.525840: Step 30: Train accuracy = 100.0%\n"
     ]
    },
    {
     "name": "stderr",
     "output_type": "stream",
     "text": [
      "INFO:tensorflow:2018-08-14 22:38:43.525840: Step 30: Train accuracy = 100.0%\n"
     ]
    },
    {
     "name": "stdout",
     "output_type": "stream",
     "text": [
      "INFO:tensorflow:2018-08-14 22:38:43.527109: Step 30: Cross entropy = 0.000313\n"
     ]
    },
    {
     "name": "stderr",
     "output_type": "stream",
     "text": [
      "INFO:tensorflow:2018-08-14 22:38:43.527109: Step 30: Cross entropy = 0.000313\n"
     ]
    },
    {
     "name": "stdout",
     "output_type": "stream",
     "text": [
      "INFO:tensorflow:2018-08-14 22:38:43.588011: Step 30: Validation accuracy = 100.0% (N=100)\n"
     ]
    },
    {
     "name": "stderr",
     "output_type": "stream",
     "text": [
      "INFO:tensorflow:2018-08-14 22:38:43.588011: Step 30: Validation accuracy = 100.0% (N=100)\n"
     ]
    },
    {
     "name": "stdout",
     "output_type": "stream",
     "text": [
      "INFO:tensorflow:2018-08-14 22:38:44.094771: Step 40: Train accuracy = 100.0%\n"
     ]
    },
    {
     "name": "stderr",
     "output_type": "stream",
     "text": [
      "INFO:tensorflow:2018-08-14 22:38:44.094771: Step 40: Train accuracy = 100.0%\n"
     ]
    },
    {
     "name": "stdout",
     "output_type": "stream",
     "text": [
      "INFO:tensorflow:2018-08-14 22:38:44.096012: Step 40: Cross entropy = 0.000498\n"
     ]
    },
    {
     "name": "stderr",
     "output_type": "stream",
     "text": [
      "INFO:tensorflow:2018-08-14 22:38:44.096012: Step 40: Cross entropy = 0.000498\n"
     ]
    },
    {
     "name": "stdout",
     "output_type": "stream",
     "text": [
      "INFO:tensorflow:2018-08-14 22:38:44.154934: Step 40: Validation accuracy = 100.0% (N=100)\n"
     ]
    },
    {
     "name": "stderr",
     "output_type": "stream",
     "text": [
      "INFO:tensorflow:2018-08-14 22:38:44.154934: Step 40: Validation accuracy = 100.0% (N=100)\n"
     ]
    },
    {
     "name": "stdout",
     "output_type": "stream",
     "text": [
      "INFO:tensorflow:2018-08-14 22:38:44.788398: Step 50: Train accuracy = 100.0%\n"
     ]
    },
    {
     "name": "stderr",
     "output_type": "stream",
     "text": [
      "INFO:tensorflow:2018-08-14 22:38:44.788398: Step 50: Train accuracy = 100.0%\n"
     ]
    },
    {
     "name": "stdout",
     "output_type": "stream",
     "text": [
      "INFO:tensorflow:2018-08-14 22:38:44.790345: Step 50: Cross entropy = 0.000393\n"
     ]
    },
    {
     "name": "stderr",
     "output_type": "stream",
     "text": [
      "INFO:tensorflow:2018-08-14 22:38:44.790345: Step 50: Cross entropy = 0.000393\n"
     ]
    },
    {
     "name": "stdout",
     "output_type": "stream",
     "text": [
      "INFO:tensorflow:2018-08-14 22:38:44.867775: Step 50: Validation accuracy = 100.0% (N=100)\n"
     ]
    },
    {
     "name": "stderr",
     "output_type": "stream",
     "text": [
      "INFO:tensorflow:2018-08-14 22:38:44.867775: Step 50: Validation accuracy = 100.0% (N=100)\n"
     ]
    },
    {
     "name": "stdout",
     "output_type": "stream",
     "text": [
      "INFO:tensorflow:2018-08-14 22:38:45.355277: Step 60: Train accuracy = 100.0%\n"
     ]
    },
    {
     "name": "stderr",
     "output_type": "stream",
     "text": [
      "INFO:tensorflow:2018-08-14 22:38:45.355277: Step 60: Train accuracy = 100.0%\n"
     ]
    },
    {
     "name": "stdout",
     "output_type": "stream",
     "text": [
      "INFO:tensorflow:2018-08-14 22:38:45.356615: Step 60: Cross entropy = 0.000222\n"
     ]
    },
    {
     "name": "stderr",
     "output_type": "stream",
     "text": [
      "INFO:tensorflow:2018-08-14 22:38:45.356615: Step 60: Cross entropy = 0.000222\n"
     ]
    },
    {
     "name": "stdout",
     "output_type": "stream",
     "text": [
      "INFO:tensorflow:2018-08-14 22:38:45.418741: Step 60: Validation accuracy = 100.0% (N=100)\n"
     ]
    },
    {
     "name": "stderr",
     "output_type": "stream",
     "text": [
      "INFO:tensorflow:2018-08-14 22:38:45.418741: Step 60: Validation accuracy = 100.0% (N=100)\n"
     ]
    },
    {
     "name": "stdout",
     "output_type": "stream",
     "text": [
      "INFO:tensorflow:2018-08-14 22:38:46.130588: Step 70: Train accuracy = 100.0%\n"
     ]
    },
    {
     "name": "stderr",
     "output_type": "stream",
     "text": [
      "INFO:tensorflow:2018-08-14 22:38:46.130588: Step 70: Train accuracy = 100.0%\n"
     ]
    },
    {
     "name": "stdout",
     "output_type": "stream",
     "text": [
      "INFO:tensorflow:2018-08-14 22:38:46.131861: Step 70: Cross entropy = 0.000445\n"
     ]
    },
    {
     "name": "stderr",
     "output_type": "stream",
     "text": [
      "INFO:tensorflow:2018-08-14 22:38:46.131861: Step 70: Cross entropy = 0.000445\n"
     ]
    },
    {
     "name": "stdout",
     "output_type": "stream",
     "text": [
      "INFO:tensorflow:2018-08-14 22:38:46.187884: Step 70: Validation accuracy = 100.0% (N=100)\n"
     ]
    },
    {
     "name": "stderr",
     "output_type": "stream",
     "text": [
      "INFO:tensorflow:2018-08-14 22:38:46.187884: Step 70: Validation accuracy = 100.0% (N=100)\n"
     ]
    },
    {
     "name": "stdout",
     "output_type": "stream",
     "text": [
      "INFO:tensorflow:2018-08-14 22:38:46.747882: Step 80: Train accuracy = 100.0%\n"
     ]
    },
    {
     "name": "stderr",
     "output_type": "stream",
     "text": [
      "INFO:tensorflow:2018-08-14 22:38:46.747882: Step 80: Train accuracy = 100.0%\n"
     ]
    },
    {
     "name": "stdout",
     "output_type": "stream",
     "text": [
      "INFO:tensorflow:2018-08-14 22:38:46.751822: Step 80: Cross entropy = 0.000347\n"
     ]
    },
    {
     "name": "stderr",
     "output_type": "stream",
     "text": [
      "INFO:tensorflow:2018-08-14 22:38:46.751822: Step 80: Cross entropy = 0.000347\n"
     ]
    },
    {
     "name": "stdout",
     "output_type": "stream",
     "text": [
      "INFO:tensorflow:2018-08-14 22:38:46.834631: Step 80: Validation accuracy = 100.0% (N=100)\n"
     ]
    },
    {
     "name": "stderr",
     "output_type": "stream",
     "text": [
      "INFO:tensorflow:2018-08-14 22:38:46.834631: Step 80: Validation accuracy = 100.0% (N=100)\n"
     ]
    },
    {
     "name": "stdout",
     "output_type": "stream",
     "text": [
      "INFO:tensorflow:2018-08-14 22:38:47.334242: Step 90: Train accuracy = 100.0%\n"
     ]
    },
    {
     "name": "stderr",
     "output_type": "stream",
     "text": [
      "INFO:tensorflow:2018-08-14 22:38:47.334242: Step 90: Train accuracy = 100.0%\n"
     ]
    },
    {
     "name": "stdout",
     "output_type": "stream",
     "text": [
      "INFO:tensorflow:2018-08-14 22:38:47.335506: Step 90: Cross entropy = 0.000391\n"
     ]
    },
    {
     "name": "stderr",
     "output_type": "stream",
     "text": [
      "INFO:tensorflow:2018-08-14 22:38:47.335506: Step 90: Cross entropy = 0.000391\n"
     ]
    },
    {
     "name": "stdout",
     "output_type": "stream",
     "text": [
      "INFO:tensorflow:2018-08-14 22:38:47.390485: Step 90: Validation accuracy = 100.0% (N=100)\n"
     ]
    },
    {
     "name": "stderr",
     "output_type": "stream",
     "text": [
      "INFO:tensorflow:2018-08-14 22:38:47.390485: Step 90: Validation accuracy = 100.0% (N=100)\n"
     ]
    },
    {
     "name": "stdout",
     "output_type": "stream",
     "text": [
      "INFO:tensorflow:2018-08-14 22:38:48.050087: Step 100: Train accuracy = 100.0%\n"
     ]
    },
    {
     "name": "stderr",
     "output_type": "stream",
     "text": [
      "INFO:tensorflow:2018-08-14 22:38:48.050087: Step 100: Train accuracy = 100.0%\n"
     ]
    },
    {
     "name": "stdout",
     "output_type": "stream",
     "text": [
      "INFO:tensorflow:2018-08-14 22:38:48.053355: Step 100: Cross entropy = 0.000126\n"
     ]
    },
    {
     "name": "stderr",
     "output_type": "stream",
     "text": [
      "INFO:tensorflow:2018-08-14 22:38:48.053355: Step 100: Cross entropy = 0.000126\n"
     ]
    },
    {
     "name": "stdout",
     "output_type": "stream",
     "text": [
      "INFO:tensorflow:2018-08-14 22:38:48.137525: Step 100: Validation accuracy = 100.0% (N=100)\n"
     ]
    },
    {
     "name": "stderr",
     "output_type": "stream",
     "text": [
      "INFO:tensorflow:2018-08-14 22:38:48.137525: Step 100: Validation accuracy = 100.0% (N=100)\n"
     ]
    },
    {
     "name": "stdout",
     "output_type": "stream",
     "text": [
      "INFO:tensorflow:2018-08-14 22:38:48.631658: Step 110: Train accuracy = 100.0%\n"
     ]
    },
    {
     "name": "stderr",
     "output_type": "stream",
     "text": [
      "INFO:tensorflow:2018-08-14 22:38:48.631658: Step 110: Train accuracy = 100.0%\n"
     ]
    },
    {
     "name": "stdout",
     "output_type": "stream",
     "text": [
      "INFO:tensorflow:2018-08-14 22:38:48.632920: Step 110: Cross entropy = 0.000330\n"
     ]
    },
    {
     "name": "stderr",
     "output_type": "stream",
     "text": [
      "INFO:tensorflow:2018-08-14 22:38:48.632920: Step 110: Cross entropy = 0.000330\n"
     ]
    },
    {
     "name": "stdout",
     "output_type": "stream",
     "text": [
      "INFO:tensorflow:2018-08-14 22:38:48.690399: Step 110: Validation accuracy = 100.0% (N=100)\n"
     ]
    },
    {
     "name": "stderr",
     "output_type": "stream",
     "text": [
      "INFO:tensorflow:2018-08-14 22:38:48.690399: Step 110: Validation accuracy = 100.0% (N=100)\n"
     ]
    },
    {
     "name": "stdout",
     "output_type": "stream",
     "text": [
      "INFO:tensorflow:2018-08-14 22:38:49.223452: Step 120: Train accuracy = 100.0%\n"
     ]
    },
    {
     "name": "stderr",
     "output_type": "stream",
     "text": [
      "INFO:tensorflow:2018-08-14 22:38:49.223452: Step 120: Train accuracy = 100.0%\n"
     ]
    },
    {
     "name": "stdout",
     "output_type": "stream",
     "text": [
      "INFO:tensorflow:2018-08-14 22:38:49.227720: Step 120: Cross entropy = 0.000049\n"
     ]
    },
    {
     "name": "stderr",
     "output_type": "stream",
     "text": [
      "INFO:tensorflow:2018-08-14 22:38:49.227720: Step 120: Cross entropy = 0.000049\n"
     ]
    },
    {
     "name": "stdout",
     "output_type": "stream",
     "text": [
      "INFO:tensorflow:2018-08-14 22:38:49.328302: Step 120: Validation accuracy = 100.0% (N=100)\n"
     ]
    },
    {
     "name": "stderr",
     "output_type": "stream",
     "text": [
      "INFO:tensorflow:2018-08-14 22:38:49.328302: Step 120: Validation accuracy = 100.0% (N=100)\n"
     ]
    },
    {
     "name": "stdout",
     "output_type": "stream",
     "text": [
      "INFO:tensorflow:2018-08-14 22:38:49.944913: Step 130: Train accuracy = 100.0%\n"
     ]
    },
    {
     "name": "stderr",
     "output_type": "stream",
     "text": [
      "INFO:tensorflow:2018-08-14 22:38:49.944913: Step 130: Train accuracy = 100.0%\n"
     ]
    },
    {
     "name": "stdout",
     "output_type": "stream",
     "text": [
      "INFO:tensorflow:2018-08-14 22:38:49.946214: Step 130: Cross entropy = 0.000489\n"
     ]
    },
    {
     "name": "stderr",
     "output_type": "stream",
     "text": [
      "INFO:tensorflow:2018-08-14 22:38:49.946214: Step 130: Cross entropy = 0.000489\n"
     ]
    },
    {
     "name": "stdout",
     "output_type": "stream",
     "text": [
      "INFO:tensorflow:2018-08-14 22:38:50.020332: Step 130: Validation accuracy = 100.0% (N=100)\n"
     ]
    },
    {
     "name": "stderr",
     "output_type": "stream",
     "text": [
      "INFO:tensorflow:2018-08-14 22:38:50.020332: Step 130: Validation accuracy = 100.0% (N=100)\n"
     ]
    },
    {
     "name": "stdout",
     "output_type": "stream",
     "text": [
      "INFO:tensorflow:2018-08-14 22:38:50.659700: Step 140: Train accuracy = 100.0%\n"
     ]
    },
    {
     "name": "stderr",
     "output_type": "stream",
     "text": [
      "INFO:tensorflow:2018-08-14 22:38:50.659700: Step 140: Train accuracy = 100.0%\n"
     ]
    },
    {
     "name": "stdout",
     "output_type": "stream",
     "text": [
      "INFO:tensorflow:2018-08-14 22:38:50.662979: Step 140: Cross entropy = 0.000257\n"
     ]
    },
    {
     "name": "stderr",
     "output_type": "stream",
     "text": [
      "INFO:tensorflow:2018-08-14 22:38:50.662979: Step 140: Cross entropy = 0.000257\n"
     ]
    },
    {
     "name": "stdout",
     "output_type": "stream",
     "text": [
      "INFO:tensorflow:2018-08-14 22:38:50.761141: Step 140: Validation accuracy = 100.0% (N=100)\n"
     ]
    },
    {
     "name": "stderr",
     "output_type": "stream",
     "text": [
      "INFO:tensorflow:2018-08-14 22:38:50.761141: Step 140: Validation accuracy = 100.0% (N=100)\n"
     ]
    },
    {
     "name": "stdout",
     "output_type": "stream",
     "text": [
      "INFO:tensorflow:2018-08-14 22:38:51.307955: Step 150: Train accuracy = 100.0%\n"
     ]
    },
    {
     "name": "stderr",
     "output_type": "stream",
     "text": [
      "INFO:tensorflow:2018-08-14 22:38:51.307955: Step 150: Train accuracy = 100.0%\n"
     ]
    },
    {
     "name": "stdout",
     "output_type": "stream",
     "text": [
      "INFO:tensorflow:2018-08-14 22:38:51.310814: Step 150: Cross entropy = 0.000230\n"
     ]
    },
    {
     "name": "stderr",
     "output_type": "stream",
     "text": [
      "INFO:tensorflow:2018-08-14 22:38:51.310814: Step 150: Cross entropy = 0.000230\n"
     ]
    },
    {
     "name": "stdout",
     "output_type": "stream",
     "text": [
      "INFO:tensorflow:2018-08-14 22:38:51.373276: Step 150: Validation accuracy = 100.0% (N=100)\n"
     ]
    },
    {
     "name": "stderr",
     "output_type": "stream",
     "text": [
      "INFO:tensorflow:2018-08-14 22:38:51.373276: Step 150: Validation accuracy = 100.0% (N=100)\n"
     ]
    },
    {
     "name": "stdout",
     "output_type": "stream",
     "text": [
      "INFO:tensorflow:2018-08-14 22:38:52.046044: Step 160: Train accuracy = 100.0%\n"
     ]
    },
    {
     "name": "stderr",
     "output_type": "stream",
     "text": [
      "INFO:tensorflow:2018-08-14 22:38:52.046044: Step 160: Train accuracy = 100.0%\n"
     ]
    },
    {
     "name": "stdout",
     "output_type": "stream",
     "text": [
      "INFO:tensorflow:2018-08-14 22:38:52.047375: Step 160: Cross entropy = 0.000221\n"
     ]
    },
    {
     "name": "stderr",
     "output_type": "stream",
     "text": [
      "INFO:tensorflow:2018-08-14 22:38:52.047375: Step 160: Cross entropy = 0.000221\n"
     ]
    },
    {
     "name": "stdout",
     "output_type": "stream",
     "text": [
      "INFO:tensorflow:2018-08-14 22:38:52.105182: Step 160: Validation accuracy = 100.0% (N=100)\n"
     ]
    },
    {
     "name": "stderr",
     "output_type": "stream",
     "text": [
      "INFO:tensorflow:2018-08-14 22:38:52.105182: Step 160: Validation accuracy = 100.0% (N=100)\n"
     ]
    },
    {
     "name": "stdout",
     "output_type": "stream",
     "text": [
      "INFO:tensorflow:2018-08-14 22:38:52.581751: Step 170: Train accuracy = 100.0%\n"
     ]
    },
    {
     "name": "stderr",
     "output_type": "stream",
     "text": [
      "INFO:tensorflow:2018-08-14 22:38:52.581751: Step 170: Train accuracy = 100.0%\n"
     ]
    },
    {
     "name": "stdout",
     "output_type": "stream",
     "text": [
      "INFO:tensorflow:2018-08-14 22:38:52.584093: Step 170: Cross entropy = 0.000225\n"
     ]
    },
    {
     "name": "stderr",
     "output_type": "stream",
     "text": [
      "INFO:tensorflow:2018-08-14 22:38:52.584093: Step 170: Cross entropy = 0.000225\n"
     ]
    },
    {
     "name": "stdout",
     "output_type": "stream",
     "text": [
      "INFO:tensorflow:2018-08-14 22:38:52.647393: Step 170: Validation accuracy = 100.0% (N=100)\n"
     ]
    },
    {
     "name": "stderr",
     "output_type": "stream",
     "text": [
      "INFO:tensorflow:2018-08-14 22:38:52.647393: Step 170: Validation accuracy = 100.0% (N=100)\n"
     ]
    },
    {
     "name": "stdout",
     "output_type": "stream",
     "text": [
      "INFO:tensorflow:2018-08-14 22:38:53.136119: Step 180: Train accuracy = 100.0%\n"
     ]
    },
    {
     "name": "stderr",
     "output_type": "stream",
     "text": [
      "INFO:tensorflow:2018-08-14 22:38:53.136119: Step 180: Train accuracy = 100.0%\n"
     ]
    },
    {
     "name": "stdout",
     "output_type": "stream",
     "text": [
      "INFO:tensorflow:2018-08-14 22:38:53.137560: Step 180: Cross entropy = 0.000136\n"
     ]
    },
    {
     "name": "stderr",
     "output_type": "stream",
     "text": [
      "INFO:tensorflow:2018-08-14 22:38:53.137560: Step 180: Cross entropy = 0.000136\n"
     ]
    },
    {
     "name": "stdout",
     "output_type": "stream",
     "text": [
      "INFO:tensorflow:2018-08-14 22:38:53.205119: Step 180: Validation accuracy = 100.0% (N=100)\n"
     ]
    },
    {
     "name": "stderr",
     "output_type": "stream",
     "text": [
      "INFO:tensorflow:2018-08-14 22:38:53.205119: Step 180: Validation accuracy = 100.0% (N=100)\n"
     ]
    },
    {
     "name": "stdout",
     "output_type": "stream",
     "text": [
      "INFO:tensorflow:2018-08-14 22:38:53.673163: Step 190: Train accuracy = 100.0%\n"
     ]
    },
    {
     "name": "stderr",
     "output_type": "stream",
     "text": [
      "INFO:tensorflow:2018-08-14 22:38:53.673163: Step 190: Train accuracy = 100.0%\n"
     ]
    },
    {
     "name": "stdout",
     "output_type": "stream",
     "text": [
      "INFO:tensorflow:2018-08-14 22:38:53.674429: Step 190: Cross entropy = 0.000143\n"
     ]
    },
    {
     "name": "stderr",
     "output_type": "stream",
     "text": [
      "INFO:tensorflow:2018-08-14 22:38:53.674429: Step 190: Cross entropy = 0.000143\n"
     ]
    },
    {
     "name": "stdout",
     "output_type": "stream",
     "text": [
      "INFO:tensorflow:2018-08-14 22:38:53.729817: Step 190: Validation accuracy = 100.0% (N=100)\n"
     ]
    },
    {
     "name": "stderr",
     "output_type": "stream",
     "text": [
      "INFO:tensorflow:2018-08-14 22:38:53.729817: Step 190: Validation accuracy = 100.0% (N=100)\n"
     ]
    },
    {
     "name": "stdout",
     "output_type": "stream",
     "text": [
      "INFO:tensorflow:2018-08-14 22:38:54.189465: Step 200: Train accuracy = 100.0%\n"
     ]
    },
    {
     "name": "stderr",
     "output_type": "stream",
     "text": [
      "INFO:tensorflow:2018-08-14 22:38:54.189465: Step 200: Train accuracy = 100.0%\n"
     ]
    },
    {
     "name": "stdout",
     "output_type": "stream",
     "text": [
      "INFO:tensorflow:2018-08-14 22:38:54.190726: Step 200: Cross entropy = 0.000153\n"
     ]
    },
    {
     "name": "stderr",
     "output_type": "stream",
     "text": [
      "INFO:tensorflow:2018-08-14 22:38:54.190726: Step 200: Cross entropy = 0.000153\n"
     ]
    },
    {
     "name": "stdout",
     "output_type": "stream",
     "text": [
      "INFO:tensorflow:2018-08-14 22:38:54.245936: Step 200: Validation accuracy = 100.0% (N=100)\n"
     ]
    },
    {
     "name": "stderr",
     "output_type": "stream",
     "text": [
      "INFO:tensorflow:2018-08-14 22:38:54.245936: Step 200: Validation accuracy = 100.0% (N=100)\n"
     ]
    },
    {
     "name": "stdout",
     "output_type": "stream",
     "text": [
      "INFO:tensorflow:2018-08-14 22:38:54.708225: Step 210: Train accuracy = 100.0%\n"
     ]
    },
    {
     "name": "stderr",
     "output_type": "stream",
     "text": [
      "INFO:tensorflow:2018-08-14 22:38:54.708225: Step 210: Train accuracy = 100.0%\n"
     ]
    },
    {
     "name": "stdout",
     "output_type": "stream",
     "text": [
      "INFO:tensorflow:2018-08-14 22:38:54.709474: Step 210: Cross entropy = 0.000129\n"
     ]
    },
    {
     "name": "stderr",
     "output_type": "stream",
     "text": [
      "INFO:tensorflow:2018-08-14 22:38:54.709474: Step 210: Cross entropy = 0.000129\n"
     ]
    },
    {
     "name": "stdout",
     "output_type": "stream",
     "text": [
      "INFO:tensorflow:2018-08-14 22:38:54.765132: Step 210: Validation accuracy = 100.0% (N=100)\n"
     ]
    },
    {
     "name": "stderr",
     "output_type": "stream",
     "text": [
      "INFO:tensorflow:2018-08-14 22:38:54.765132: Step 210: Validation accuracy = 100.0% (N=100)\n"
     ]
    },
    {
     "name": "stdout",
     "output_type": "stream",
     "text": [
      "INFO:tensorflow:2018-08-14 22:38:55.305945: Step 220: Train accuracy = 100.0%\n"
     ]
    },
    {
     "name": "stderr",
     "output_type": "stream",
     "text": [
      "INFO:tensorflow:2018-08-14 22:38:55.305945: Step 220: Train accuracy = 100.0%\n"
     ]
    },
    {
     "name": "stdout",
     "output_type": "stream",
     "text": [
      "INFO:tensorflow:2018-08-14 22:38:55.309668: Step 220: Cross entropy = 0.000106\n"
     ]
    },
    {
     "name": "stderr",
     "output_type": "stream",
     "text": [
      "INFO:tensorflow:2018-08-14 22:38:55.309668: Step 220: Cross entropy = 0.000106\n"
     ]
    },
    {
     "name": "stdout",
     "output_type": "stream",
     "text": [
      "INFO:tensorflow:2018-08-14 22:38:55.368466: Step 220: Validation accuracy = 100.0% (N=100)\n"
     ]
    },
    {
     "name": "stderr",
     "output_type": "stream",
     "text": [
      "INFO:tensorflow:2018-08-14 22:38:55.368466: Step 220: Validation accuracy = 100.0% (N=100)\n"
     ]
    },
    {
     "name": "stdout",
     "output_type": "stream",
     "text": [
      "INFO:tensorflow:2018-08-14 22:38:55.832174: Step 230: Train accuracy = 100.0%\n"
     ]
    },
    {
     "name": "stderr",
     "output_type": "stream",
     "text": [
      "INFO:tensorflow:2018-08-14 22:38:55.832174: Step 230: Train accuracy = 100.0%\n"
     ]
    },
    {
     "name": "stdout",
     "output_type": "stream",
     "text": [
      "INFO:tensorflow:2018-08-14 22:38:55.833530: Step 230: Cross entropy = 0.000153\n"
     ]
    },
    {
     "name": "stderr",
     "output_type": "stream",
     "text": [
      "INFO:tensorflow:2018-08-14 22:38:55.833530: Step 230: Cross entropy = 0.000153\n"
     ]
    },
    {
     "name": "stdout",
     "output_type": "stream",
     "text": [
      "INFO:tensorflow:2018-08-14 22:38:55.889710: Step 230: Validation accuracy = 100.0% (N=100)\n"
     ]
    },
    {
     "name": "stderr",
     "output_type": "stream",
     "text": [
      "INFO:tensorflow:2018-08-14 22:38:55.889710: Step 230: Validation accuracy = 100.0% (N=100)\n"
     ]
    },
    {
     "name": "stdout",
     "output_type": "stream",
     "text": [
      "INFO:tensorflow:2018-08-14 22:38:56.353364: Step 240: Train accuracy = 100.0%\n"
     ]
    },
    {
     "name": "stderr",
     "output_type": "stream",
     "text": [
      "INFO:tensorflow:2018-08-14 22:38:56.353364: Step 240: Train accuracy = 100.0%\n"
     ]
    },
    {
     "name": "stdout",
     "output_type": "stream",
     "text": [
      "INFO:tensorflow:2018-08-14 22:38:56.354602: Step 240: Cross entropy = 0.000126\n"
     ]
    },
    {
     "name": "stderr",
     "output_type": "stream",
     "text": [
      "INFO:tensorflow:2018-08-14 22:38:56.354602: Step 240: Cross entropy = 0.000126\n"
     ]
    },
    {
     "name": "stdout",
     "output_type": "stream",
     "text": [
      "INFO:tensorflow:2018-08-14 22:38:56.410684: Step 240: Validation accuracy = 100.0% (N=100)\n"
     ]
    },
    {
     "name": "stderr",
     "output_type": "stream",
     "text": [
      "INFO:tensorflow:2018-08-14 22:38:56.410684: Step 240: Validation accuracy = 100.0% (N=100)\n"
     ]
    },
    {
     "name": "stdout",
     "output_type": "stream",
     "text": [
      "INFO:tensorflow:2018-08-14 22:38:56.871120: Step 250: Train accuracy = 100.0%\n"
     ]
    },
    {
     "name": "stderr",
     "output_type": "stream",
     "text": [
      "INFO:tensorflow:2018-08-14 22:38:56.871120: Step 250: Train accuracy = 100.0%\n"
     ]
    },
    {
     "name": "stdout",
     "output_type": "stream",
     "text": [
      "INFO:tensorflow:2018-08-14 22:38:56.872463: Step 250: Cross entropy = 0.000140\n"
     ]
    },
    {
     "name": "stderr",
     "output_type": "stream",
     "text": [
      "INFO:tensorflow:2018-08-14 22:38:56.872463: Step 250: Cross entropy = 0.000140\n"
     ]
    },
    {
     "name": "stdout",
     "output_type": "stream",
     "text": [
      "INFO:tensorflow:2018-08-14 22:38:56.928784: Step 250: Validation accuracy = 100.0% (N=100)\n"
     ]
    },
    {
     "name": "stderr",
     "output_type": "stream",
     "text": [
      "INFO:tensorflow:2018-08-14 22:38:56.928784: Step 250: Validation accuracy = 100.0% (N=100)\n"
     ]
    },
    {
     "name": "stdout",
     "output_type": "stream",
     "text": [
      "INFO:tensorflow:2018-08-14 22:38:57.391478: Step 260: Train accuracy = 100.0%\n"
     ]
    },
    {
     "name": "stderr",
     "output_type": "stream",
     "text": [
      "INFO:tensorflow:2018-08-14 22:38:57.391478: Step 260: Train accuracy = 100.0%\n"
     ]
    },
    {
     "name": "stdout",
     "output_type": "stream",
     "text": [
      "INFO:tensorflow:2018-08-14 22:38:57.392689: Step 260: Cross entropy = 0.000156\n"
     ]
    },
    {
     "name": "stderr",
     "output_type": "stream",
     "text": [
      "INFO:tensorflow:2018-08-14 22:38:57.392689: Step 260: Cross entropy = 0.000156\n"
     ]
    },
    {
     "name": "stdout",
     "output_type": "stream",
     "text": [
      "INFO:tensorflow:2018-08-14 22:38:57.448415: Step 260: Validation accuracy = 100.0% (N=100)\n"
     ]
    },
    {
     "name": "stderr",
     "output_type": "stream",
     "text": [
      "INFO:tensorflow:2018-08-14 22:38:57.448415: Step 260: Validation accuracy = 100.0% (N=100)\n"
     ]
    },
    {
     "name": "stdout",
     "output_type": "stream",
     "text": [
      "INFO:tensorflow:2018-08-14 22:38:57.907658: Step 270: Train accuracy = 100.0%\n"
     ]
    },
    {
     "name": "stderr",
     "output_type": "stream",
     "text": [
      "INFO:tensorflow:2018-08-14 22:38:57.907658: Step 270: Train accuracy = 100.0%\n"
     ]
    },
    {
     "name": "stdout",
     "output_type": "stream",
     "text": [
      "INFO:tensorflow:2018-08-14 22:38:57.908868: Step 270: Cross entropy = 0.000103\n"
     ]
    },
    {
     "name": "stderr",
     "output_type": "stream",
     "text": [
      "INFO:tensorflow:2018-08-14 22:38:57.908868: Step 270: Cross entropy = 0.000103\n"
     ]
    },
    {
     "name": "stdout",
     "output_type": "stream",
     "text": [
      "INFO:tensorflow:2018-08-14 22:38:57.963931: Step 270: Validation accuracy = 100.0% (N=100)\n"
     ]
    },
    {
     "name": "stderr",
     "output_type": "stream",
     "text": [
      "INFO:tensorflow:2018-08-14 22:38:57.963931: Step 270: Validation accuracy = 100.0% (N=100)\n"
     ]
    },
    {
     "name": "stdout",
     "output_type": "stream",
     "text": [
      "INFO:tensorflow:2018-08-14 22:38:58.506771: Step 280: Train accuracy = 100.0%\n"
     ]
    },
    {
     "name": "stderr",
     "output_type": "stream",
     "text": [
      "INFO:tensorflow:2018-08-14 22:38:58.506771: Step 280: Train accuracy = 100.0%\n"
     ]
    },
    {
     "name": "stdout",
     "output_type": "stream",
     "text": [
      "INFO:tensorflow:2018-08-14 22:38:58.508217: Step 280: Cross entropy = 0.000151\n"
     ]
    },
    {
     "name": "stderr",
     "output_type": "stream",
     "text": [
      "INFO:tensorflow:2018-08-14 22:38:58.508217: Step 280: Cross entropy = 0.000151\n"
     ]
    },
    {
     "name": "stdout",
     "output_type": "stream",
     "text": [
      "INFO:tensorflow:2018-08-14 22:38:58.573546: Step 280: Validation accuracy = 100.0% (N=100)\n"
     ]
    },
    {
     "name": "stderr",
     "output_type": "stream",
     "text": [
      "INFO:tensorflow:2018-08-14 22:38:58.573546: Step 280: Validation accuracy = 100.0% (N=100)\n"
     ]
    },
    {
     "name": "stdout",
     "output_type": "stream",
     "text": [
      "INFO:tensorflow:2018-08-14 22:38:59.162707: Step 290: Train accuracy = 100.0%\n"
     ]
    },
    {
     "name": "stderr",
     "output_type": "stream",
     "text": [
      "INFO:tensorflow:2018-08-14 22:38:59.162707: Step 290: Train accuracy = 100.0%\n"
     ]
    },
    {
     "name": "stdout",
     "output_type": "stream",
     "text": [
      "INFO:tensorflow:2018-08-14 22:38:59.164116: Step 290: Cross entropy = 0.000223\n"
     ]
    },
    {
     "name": "stderr",
     "output_type": "stream",
     "text": [
      "INFO:tensorflow:2018-08-14 22:38:59.164116: Step 290: Cross entropy = 0.000223\n"
     ]
    },
    {
     "name": "stdout",
     "output_type": "stream",
     "text": [
      "INFO:tensorflow:2018-08-14 22:38:59.236743: Step 290: Validation accuracy = 100.0% (N=100)\n"
     ]
    },
    {
     "name": "stderr",
     "output_type": "stream",
     "text": [
      "INFO:tensorflow:2018-08-14 22:38:59.236743: Step 290: Validation accuracy = 100.0% (N=100)\n"
     ]
    },
    {
     "name": "stdout",
     "output_type": "stream",
     "text": [
      "INFO:tensorflow:2018-08-14 22:38:59.858687: Step 300: Train accuracy = 100.0%\n"
     ]
    },
    {
     "name": "stderr",
     "output_type": "stream",
     "text": [
      "INFO:tensorflow:2018-08-14 22:38:59.858687: Step 300: Train accuracy = 100.0%\n"
     ]
    },
    {
     "name": "stdout",
     "output_type": "stream",
     "text": [
      "INFO:tensorflow:2018-08-14 22:38:59.859983: Step 300: Cross entropy = 0.000113\n"
     ]
    },
    {
     "name": "stderr",
     "output_type": "stream",
     "text": [
      "INFO:tensorflow:2018-08-14 22:38:59.859983: Step 300: Cross entropy = 0.000113\n"
     ]
    },
    {
     "name": "stdout",
     "output_type": "stream",
     "text": [
      "INFO:tensorflow:2018-08-14 22:38:59.928915: Step 300: Validation accuracy = 100.0% (N=100)\n"
     ]
    },
    {
     "name": "stderr",
     "output_type": "stream",
     "text": [
      "INFO:tensorflow:2018-08-14 22:38:59.928915: Step 300: Validation accuracy = 100.0% (N=100)\n"
     ]
    },
    {
     "name": "stdout",
     "output_type": "stream",
     "text": [
      "INFO:tensorflow:2018-08-14 22:39:00.536605: Step 310: Train accuracy = 100.0%\n"
     ]
    },
    {
     "name": "stderr",
     "output_type": "stream",
     "text": [
      "INFO:tensorflow:2018-08-14 22:39:00.536605: Step 310: Train accuracy = 100.0%\n"
     ]
    },
    {
     "name": "stdout",
     "output_type": "stream",
     "text": [
      "INFO:tensorflow:2018-08-14 22:39:00.537900: Step 310: Cross entropy = 0.000093\n"
     ]
    },
    {
     "name": "stderr",
     "output_type": "stream",
     "text": [
      "INFO:tensorflow:2018-08-14 22:39:00.537900: Step 310: Cross entropy = 0.000093\n"
     ]
    },
    {
     "name": "stdout",
     "output_type": "stream",
     "text": [
      "INFO:tensorflow:2018-08-14 22:39:00.600423: Step 310: Validation accuracy = 100.0% (N=100)\n"
     ]
    },
    {
     "name": "stderr",
     "output_type": "stream",
     "text": [
      "INFO:tensorflow:2018-08-14 22:39:00.600423: Step 310: Validation accuracy = 100.0% (N=100)\n"
     ]
    },
    {
     "name": "stdout",
     "output_type": "stream",
     "text": [
      "INFO:tensorflow:2018-08-14 22:39:01.053509: Step 320: Train accuracy = 100.0%\n"
     ]
    },
    {
     "name": "stderr",
     "output_type": "stream",
     "text": [
      "INFO:tensorflow:2018-08-14 22:39:01.053509: Step 320: Train accuracy = 100.0%\n"
     ]
    },
    {
     "name": "stdout",
     "output_type": "stream",
     "text": [
      "INFO:tensorflow:2018-08-14 22:39:01.054769: Step 320: Cross entropy = 0.000104\n"
     ]
    },
    {
     "name": "stderr",
     "output_type": "stream",
     "text": [
      "INFO:tensorflow:2018-08-14 22:39:01.054769: Step 320: Cross entropy = 0.000104\n"
     ]
    },
    {
     "name": "stdout",
     "output_type": "stream",
     "text": [
      "INFO:tensorflow:2018-08-14 22:39:01.109709: Step 320: Validation accuracy = 100.0% (N=100)\n"
     ]
    },
    {
     "name": "stderr",
     "output_type": "stream",
     "text": [
      "INFO:tensorflow:2018-08-14 22:39:01.109709: Step 320: Validation accuracy = 100.0% (N=100)\n"
     ]
    },
    {
     "name": "stdout",
     "output_type": "stream",
     "text": [
      "INFO:tensorflow:2018-08-14 22:39:01.609484: Step 330: Train accuracy = 100.0%\n"
     ]
    },
    {
     "name": "stderr",
     "output_type": "stream",
     "text": [
      "INFO:tensorflow:2018-08-14 22:39:01.609484: Step 330: Train accuracy = 100.0%\n"
     ]
    },
    {
     "name": "stdout",
     "output_type": "stream",
     "text": [
      "INFO:tensorflow:2018-08-14 22:39:01.610783: Step 330: Cross entropy = 0.000161\n"
     ]
    },
    {
     "name": "stderr",
     "output_type": "stream",
     "text": [
      "INFO:tensorflow:2018-08-14 22:39:01.610783: Step 330: Cross entropy = 0.000161\n"
     ]
    },
    {
     "name": "stdout",
     "output_type": "stream",
     "text": [
      "INFO:tensorflow:2018-08-14 22:39:01.668314: Step 330: Validation accuracy = 100.0% (N=100)\n"
     ]
    },
    {
     "name": "stderr",
     "output_type": "stream",
     "text": [
      "INFO:tensorflow:2018-08-14 22:39:01.668314: Step 330: Validation accuracy = 100.0% (N=100)\n"
     ]
    },
    {
     "name": "stdout",
     "output_type": "stream",
     "text": [
      "INFO:tensorflow:2018-08-14 22:39:02.134721: Step 340: Train accuracy = 100.0%\n"
     ]
    },
    {
     "name": "stderr",
     "output_type": "stream",
     "text": [
      "INFO:tensorflow:2018-08-14 22:39:02.134721: Step 340: Train accuracy = 100.0%\n"
     ]
    },
    {
     "name": "stdout",
     "output_type": "stream",
     "text": [
      "INFO:tensorflow:2018-08-14 22:39:02.136010: Step 340: Cross entropy = 0.000123\n"
     ]
    },
    {
     "name": "stderr",
     "output_type": "stream",
     "text": [
      "INFO:tensorflow:2018-08-14 22:39:02.136010: Step 340: Cross entropy = 0.000123\n"
     ]
    },
    {
     "name": "stdout",
     "output_type": "stream",
     "text": [
      "INFO:tensorflow:2018-08-14 22:39:02.191518: Step 340: Validation accuracy = 100.0% (N=100)\n"
     ]
    },
    {
     "name": "stderr",
     "output_type": "stream",
     "text": [
      "INFO:tensorflow:2018-08-14 22:39:02.191518: Step 340: Validation accuracy = 100.0% (N=100)\n"
     ]
    },
    {
     "name": "stdout",
     "output_type": "stream",
     "text": [
      "INFO:tensorflow:2018-08-14 22:39:02.768410: Step 350: Train accuracy = 100.0%\n"
     ]
    },
    {
     "name": "stderr",
     "output_type": "stream",
     "text": [
      "INFO:tensorflow:2018-08-14 22:39:02.768410: Step 350: Train accuracy = 100.0%\n"
     ]
    },
    {
     "name": "stdout",
     "output_type": "stream",
     "text": [
      "INFO:tensorflow:2018-08-14 22:39:02.769949: Step 350: Cross entropy = 0.000070\n"
     ]
    },
    {
     "name": "stderr",
     "output_type": "stream",
     "text": [
      "INFO:tensorflow:2018-08-14 22:39:02.769949: Step 350: Cross entropy = 0.000070\n"
     ]
    },
    {
     "name": "stdout",
     "output_type": "stream",
     "text": [
      "INFO:tensorflow:2018-08-14 22:39:02.843411: Step 350: Validation accuracy = 100.0% (N=100)\n"
     ]
    },
    {
     "name": "stderr",
     "output_type": "stream",
     "text": [
      "INFO:tensorflow:2018-08-14 22:39:02.843411: Step 350: Validation accuracy = 100.0% (N=100)\n"
     ]
    },
    {
     "name": "stdout",
     "output_type": "stream",
     "text": [
      "INFO:tensorflow:2018-08-14 22:39:03.391778: Step 360: Train accuracy = 100.0%\n"
     ]
    },
    {
     "name": "stderr",
     "output_type": "stream",
     "text": [
      "INFO:tensorflow:2018-08-14 22:39:03.391778: Step 360: Train accuracy = 100.0%\n"
     ]
    },
    {
     "name": "stdout",
     "output_type": "stream",
     "text": [
      "INFO:tensorflow:2018-08-14 22:39:03.393072: Step 360: Cross entropy = 0.000180\n"
     ]
    },
    {
     "name": "stderr",
     "output_type": "stream",
     "text": [
      "INFO:tensorflow:2018-08-14 22:39:03.393072: Step 360: Cross entropy = 0.000180\n"
     ]
    },
    {
     "name": "stdout",
     "output_type": "stream",
     "text": [
      "INFO:tensorflow:2018-08-14 22:39:03.451150: Step 360: Validation accuracy = 100.0% (N=100)\n"
     ]
    },
    {
     "name": "stderr",
     "output_type": "stream",
     "text": [
      "INFO:tensorflow:2018-08-14 22:39:03.451150: Step 360: Validation accuracy = 100.0% (N=100)\n"
     ]
    },
    {
     "name": "stdout",
     "output_type": "stream",
     "text": [
      "INFO:tensorflow:2018-08-14 22:39:03.949053: Step 370: Train accuracy = 100.0%\n"
     ]
    },
    {
     "name": "stderr",
     "output_type": "stream",
     "text": [
      "INFO:tensorflow:2018-08-14 22:39:03.949053: Step 370: Train accuracy = 100.0%\n"
     ]
    },
    {
     "name": "stdout",
     "output_type": "stream",
     "text": [
      "INFO:tensorflow:2018-08-14 22:39:03.950498: Step 370: Cross entropy = 0.000099\n"
     ]
    },
    {
     "name": "stderr",
     "output_type": "stream",
     "text": [
      "INFO:tensorflow:2018-08-14 22:39:03.950498: Step 370: Cross entropy = 0.000099\n"
     ]
    },
    {
     "name": "stdout",
     "output_type": "stream",
     "text": [
      "INFO:tensorflow:2018-08-14 22:39:04.008120: Step 370: Validation accuracy = 100.0% (N=100)\n"
     ]
    },
    {
     "name": "stderr",
     "output_type": "stream",
     "text": [
      "INFO:tensorflow:2018-08-14 22:39:04.008120: Step 370: Validation accuracy = 100.0% (N=100)\n"
     ]
    },
    {
     "name": "stdout",
     "output_type": "stream",
     "text": [
      "INFO:tensorflow:2018-08-14 22:39:04.471384: Step 380: Train accuracy = 100.0%\n"
     ]
    },
    {
     "name": "stderr",
     "output_type": "stream",
     "text": [
      "INFO:tensorflow:2018-08-14 22:39:04.471384: Step 380: Train accuracy = 100.0%\n"
     ]
    },
    {
     "name": "stdout",
     "output_type": "stream",
     "text": [
      "INFO:tensorflow:2018-08-14 22:39:04.472839: Step 380: Cross entropy = 0.000103\n"
     ]
    },
    {
     "name": "stderr",
     "output_type": "stream",
     "text": [
      "INFO:tensorflow:2018-08-14 22:39:04.472839: Step 380: Cross entropy = 0.000103\n"
     ]
    },
    {
     "name": "stdout",
     "output_type": "stream",
     "text": [
      "INFO:tensorflow:2018-08-14 22:39:04.528336: Step 380: Validation accuracy = 100.0% (N=100)\n"
     ]
    },
    {
     "name": "stderr",
     "output_type": "stream",
     "text": [
      "INFO:tensorflow:2018-08-14 22:39:04.528336: Step 380: Validation accuracy = 100.0% (N=100)\n"
     ]
    },
    {
     "name": "stdout",
     "output_type": "stream",
     "text": [
      "INFO:tensorflow:2018-08-14 22:39:05.028914: Step 390: Train accuracy = 100.0%\n"
     ]
    },
    {
     "name": "stderr",
     "output_type": "stream",
     "text": [
      "INFO:tensorflow:2018-08-14 22:39:05.028914: Step 390: Train accuracy = 100.0%\n"
     ]
    },
    {
     "name": "stdout",
     "output_type": "stream",
     "text": [
      "INFO:tensorflow:2018-08-14 22:39:05.033871: Step 390: Cross entropy = 0.000061\n"
     ]
    },
    {
     "name": "stderr",
     "output_type": "stream",
     "text": [
      "INFO:tensorflow:2018-08-14 22:39:05.033871: Step 390: Cross entropy = 0.000061\n"
     ]
    },
    {
     "name": "stdout",
     "output_type": "stream",
     "text": [
      "INFO:tensorflow:2018-08-14 22:39:05.118652: Step 390: Validation accuracy = 100.0% (N=100)\n"
     ]
    },
    {
     "name": "stderr",
     "output_type": "stream",
     "text": [
      "INFO:tensorflow:2018-08-14 22:39:05.118652: Step 390: Validation accuracy = 100.0% (N=100)\n"
     ]
    },
    {
     "name": "stdout",
     "output_type": "stream",
     "text": [
      "INFO:tensorflow:2018-08-14 22:39:05.703038: Step 400: Train accuracy = 100.0%\n"
     ]
    },
    {
     "name": "stderr",
     "output_type": "stream",
     "text": [
      "INFO:tensorflow:2018-08-14 22:39:05.703038: Step 400: Train accuracy = 100.0%\n"
     ]
    },
    {
     "name": "stdout",
     "output_type": "stream",
     "text": [
      "INFO:tensorflow:2018-08-14 22:39:05.704358: Step 400: Cross entropy = 0.000065\n"
     ]
    },
    {
     "name": "stderr",
     "output_type": "stream",
     "text": [
      "INFO:tensorflow:2018-08-14 22:39:05.704358: Step 400: Cross entropy = 0.000065\n"
     ]
    },
    {
     "name": "stdout",
     "output_type": "stream",
     "text": [
      "INFO:tensorflow:2018-08-14 22:39:05.801207: Step 400: Validation accuracy = 100.0% (N=100)\n"
     ]
    },
    {
     "name": "stderr",
     "output_type": "stream",
     "text": [
      "INFO:tensorflow:2018-08-14 22:39:05.801207: Step 400: Validation accuracy = 100.0% (N=100)\n"
     ]
    },
    {
     "name": "stdout",
     "output_type": "stream",
     "text": [
      "INFO:tensorflow:2018-08-14 22:39:06.411382: Step 410: Train accuracy = 100.0%\n"
     ]
    },
    {
     "name": "stderr",
     "output_type": "stream",
     "text": [
      "INFO:tensorflow:2018-08-14 22:39:06.411382: Step 410: Train accuracy = 100.0%\n"
     ]
    },
    {
     "name": "stdout",
     "output_type": "stream",
     "text": [
      "INFO:tensorflow:2018-08-14 22:39:06.412653: Step 410: Cross entropy = 0.000184\n"
     ]
    },
    {
     "name": "stderr",
     "output_type": "stream",
     "text": [
      "INFO:tensorflow:2018-08-14 22:39:06.412653: Step 410: Cross entropy = 0.000184\n"
     ]
    },
    {
     "name": "stdout",
     "output_type": "stream",
     "text": [
      "INFO:tensorflow:2018-08-14 22:39:06.469915: Step 410: Validation accuracy = 100.0% (N=100)\n"
     ]
    },
    {
     "name": "stderr",
     "output_type": "stream",
     "text": [
      "INFO:tensorflow:2018-08-14 22:39:06.469915: Step 410: Validation accuracy = 100.0% (N=100)\n"
     ]
    },
    {
     "name": "stdout",
     "output_type": "stream",
     "text": [
      "INFO:tensorflow:2018-08-14 22:39:06.945080: Step 420: Train accuracy = 100.0%\n"
     ]
    },
    {
     "name": "stderr",
     "output_type": "stream",
     "text": [
      "INFO:tensorflow:2018-08-14 22:39:06.945080: Step 420: Train accuracy = 100.0%\n"
     ]
    },
    {
     "name": "stdout",
     "output_type": "stream",
     "text": [
      "INFO:tensorflow:2018-08-14 22:39:06.946570: Step 420: Cross entropy = 0.000134\n"
     ]
    },
    {
     "name": "stderr",
     "output_type": "stream",
     "text": [
      "INFO:tensorflow:2018-08-14 22:39:06.946570: Step 420: Cross entropy = 0.000134\n"
     ]
    },
    {
     "name": "stdout",
     "output_type": "stream",
     "text": [
      "INFO:tensorflow:2018-08-14 22:39:07.011923: Step 420: Validation accuracy = 100.0% (N=100)\n"
     ]
    },
    {
     "name": "stderr",
     "output_type": "stream",
     "text": [
      "INFO:tensorflow:2018-08-14 22:39:07.011923: Step 420: Validation accuracy = 100.0% (N=100)\n"
     ]
    },
    {
     "name": "stdout",
     "output_type": "stream",
     "text": [
      "INFO:tensorflow:2018-08-14 22:39:07.568822: Step 430: Train accuracy = 100.0%\n"
     ]
    },
    {
     "name": "stderr",
     "output_type": "stream",
     "text": [
      "INFO:tensorflow:2018-08-14 22:39:07.568822: Step 430: Train accuracy = 100.0%\n"
     ]
    },
    {
     "name": "stdout",
     "output_type": "stream",
     "text": [
      "INFO:tensorflow:2018-08-14 22:39:07.570895: Step 430: Cross entropy = 0.000159\n"
     ]
    },
    {
     "name": "stderr",
     "output_type": "stream",
     "text": [
      "INFO:tensorflow:2018-08-14 22:39:07.570895: Step 430: Cross entropy = 0.000159\n"
     ]
    },
    {
     "name": "stdout",
     "output_type": "stream",
     "text": [
      "INFO:tensorflow:2018-08-14 22:39:07.645651: Step 430: Validation accuracy = 100.0% (N=100)\n"
     ]
    },
    {
     "name": "stderr",
     "output_type": "stream",
     "text": [
      "INFO:tensorflow:2018-08-14 22:39:07.645651: Step 430: Validation accuracy = 100.0% (N=100)\n"
     ]
    },
    {
     "name": "stdout",
     "output_type": "stream",
     "text": [
      "INFO:tensorflow:2018-08-14 22:39:08.153577: Step 440: Train accuracy = 100.0%\n"
     ]
    },
    {
     "name": "stderr",
     "output_type": "stream",
     "text": [
      "INFO:tensorflow:2018-08-14 22:39:08.153577: Step 440: Train accuracy = 100.0%\n"
     ]
    },
    {
     "name": "stdout",
     "output_type": "stream",
     "text": [
      "INFO:tensorflow:2018-08-14 22:39:08.155151: Step 440: Cross entropy = 0.000106\n"
     ]
    },
    {
     "name": "stderr",
     "output_type": "stream",
     "text": [
      "INFO:tensorflow:2018-08-14 22:39:08.155151: Step 440: Cross entropy = 0.000106\n"
     ]
    },
    {
     "name": "stdout",
     "output_type": "stream",
     "text": [
      "INFO:tensorflow:2018-08-14 22:39:08.212411: Step 440: Validation accuracy = 100.0% (N=100)\n"
     ]
    },
    {
     "name": "stderr",
     "output_type": "stream",
     "text": [
      "INFO:tensorflow:2018-08-14 22:39:08.212411: Step 440: Validation accuracy = 100.0% (N=100)\n"
     ]
    },
    {
     "name": "stdout",
     "output_type": "stream",
     "text": [
      "INFO:tensorflow:2018-08-14 22:39:08.706038: Step 450: Train accuracy = 100.0%\n"
     ]
    },
    {
     "name": "stderr",
     "output_type": "stream",
     "text": [
      "INFO:tensorflow:2018-08-14 22:39:08.706038: Step 450: Train accuracy = 100.0%\n"
     ]
    },
    {
     "name": "stdout",
     "output_type": "stream",
     "text": [
      "INFO:tensorflow:2018-08-14 22:39:08.708249: Step 450: Cross entropy = 0.000068\n"
     ]
    },
    {
     "name": "stderr",
     "output_type": "stream",
     "text": [
      "INFO:tensorflow:2018-08-14 22:39:08.708249: Step 450: Cross entropy = 0.000068\n"
     ]
    },
    {
     "name": "stdout",
     "output_type": "stream",
     "text": [
      "INFO:tensorflow:2018-08-14 22:39:08.800750: Step 450: Validation accuracy = 100.0% (N=100)\n"
     ]
    },
    {
     "name": "stderr",
     "output_type": "stream",
     "text": [
      "INFO:tensorflow:2018-08-14 22:39:08.800750: Step 450: Validation accuracy = 100.0% (N=100)\n"
     ]
    },
    {
     "name": "stdout",
     "output_type": "stream",
     "text": [
      "INFO:tensorflow:2018-08-14 22:39:09.360498: Step 460: Train accuracy = 100.0%\n"
     ]
    },
    {
     "name": "stderr",
     "output_type": "stream",
     "text": [
      "INFO:tensorflow:2018-08-14 22:39:09.360498: Step 460: Train accuracy = 100.0%\n"
     ]
    },
    {
     "name": "stdout",
     "output_type": "stream",
     "text": [
      "INFO:tensorflow:2018-08-14 22:39:09.361758: Step 460: Cross entropy = 0.000140\n"
     ]
    },
    {
     "name": "stderr",
     "output_type": "stream",
     "text": [
      "INFO:tensorflow:2018-08-14 22:39:09.361758: Step 460: Cross entropy = 0.000140\n"
     ]
    },
    {
     "name": "stdout",
     "output_type": "stream",
     "text": [
      "INFO:tensorflow:2018-08-14 22:39:09.419170: Step 460: Validation accuracy = 100.0% (N=100)\n"
     ]
    },
    {
     "name": "stderr",
     "output_type": "stream",
     "text": [
      "INFO:tensorflow:2018-08-14 22:39:09.419170: Step 460: Validation accuracy = 100.0% (N=100)\n"
     ]
    },
    {
     "name": "stdout",
     "output_type": "stream",
     "text": [
      "INFO:tensorflow:2018-08-14 22:39:09.965594: Step 470: Train accuracy = 100.0%\n"
     ]
    },
    {
     "name": "stderr",
     "output_type": "stream",
     "text": [
      "INFO:tensorflow:2018-08-14 22:39:09.965594: Step 470: Train accuracy = 100.0%\n"
     ]
    },
    {
     "name": "stdout",
     "output_type": "stream",
     "text": [
      "INFO:tensorflow:2018-08-14 22:39:09.967538: Step 470: Cross entropy = 0.000162\n"
     ]
    },
    {
     "name": "stderr",
     "output_type": "stream",
     "text": [
      "INFO:tensorflow:2018-08-14 22:39:09.967538: Step 470: Cross entropy = 0.000162\n"
     ]
    },
    {
     "name": "stdout",
     "output_type": "stream",
     "text": [
      "INFO:tensorflow:2018-08-14 22:39:10.038534: Step 470: Validation accuracy = 100.0% (N=100)\n"
     ]
    },
    {
     "name": "stderr",
     "output_type": "stream",
     "text": [
      "INFO:tensorflow:2018-08-14 22:39:10.038534: Step 470: Validation accuracy = 100.0% (N=100)\n"
     ]
    },
    {
     "name": "stdout",
     "output_type": "stream",
     "text": [
      "INFO:tensorflow:2018-08-14 22:39:10.551241: Step 480: Train accuracy = 100.0%\n"
     ]
    },
    {
     "name": "stderr",
     "output_type": "stream",
     "text": [
      "INFO:tensorflow:2018-08-14 22:39:10.551241: Step 480: Train accuracy = 100.0%\n"
     ]
    },
    {
     "name": "stdout",
     "output_type": "stream",
     "text": [
      "INFO:tensorflow:2018-08-14 22:39:10.552507: Step 480: Cross entropy = 0.000112\n"
     ]
    },
    {
     "name": "stderr",
     "output_type": "stream",
     "text": [
      "INFO:tensorflow:2018-08-14 22:39:10.552507: Step 480: Cross entropy = 0.000112\n"
     ]
    },
    {
     "name": "stdout",
     "output_type": "stream",
     "text": [
      "INFO:tensorflow:2018-08-14 22:39:10.609917: Step 480: Validation accuracy = 100.0% (N=100)\n"
     ]
    },
    {
     "name": "stderr",
     "output_type": "stream",
     "text": [
      "INFO:tensorflow:2018-08-14 22:39:10.609917: Step 480: Validation accuracy = 100.0% (N=100)\n"
     ]
    },
    {
     "name": "stdout",
     "output_type": "stream",
     "text": [
      "INFO:tensorflow:2018-08-14 22:39:11.102988: Step 490: Train accuracy = 100.0%\n"
     ]
    },
    {
     "name": "stderr",
     "output_type": "stream",
     "text": [
      "INFO:tensorflow:2018-08-14 22:39:11.102988: Step 490: Train accuracy = 100.0%\n"
     ]
    },
    {
     "name": "stdout",
     "output_type": "stream",
     "text": [
      "INFO:tensorflow:2018-08-14 22:39:11.104226: Step 490: Cross entropy = 0.000102\n"
     ]
    },
    {
     "name": "stderr",
     "output_type": "stream",
     "text": [
      "INFO:tensorflow:2018-08-14 22:39:11.104226: Step 490: Cross entropy = 0.000102\n"
     ]
    },
    {
     "name": "stdout",
     "output_type": "stream",
     "text": [
      "INFO:tensorflow:2018-08-14 22:39:11.162741: Step 490: Validation accuracy = 100.0% (N=100)\n"
     ]
    },
    {
     "name": "stderr",
     "output_type": "stream",
     "text": [
      "INFO:tensorflow:2018-08-14 22:39:11.162741: Step 490: Validation accuracy = 100.0% (N=100)\n"
     ]
    },
    {
     "name": "stdout",
     "output_type": "stream",
     "text": [
      "INFO:tensorflow:2018-08-14 22:39:11.788634: Step 499: Train accuracy = 100.0%\n"
     ]
    },
    {
     "name": "stderr",
     "output_type": "stream",
     "text": [
      "INFO:tensorflow:2018-08-14 22:39:11.788634: Step 499: Train accuracy = 100.0%\n"
     ]
    },
    {
     "name": "stdout",
     "output_type": "stream",
     "text": [
      "INFO:tensorflow:2018-08-14 22:39:11.790345: Step 499: Cross entropy = 0.000069\n"
     ]
    },
    {
     "name": "stderr",
     "output_type": "stream",
     "text": [
      "INFO:tensorflow:2018-08-14 22:39:11.790345: Step 499: Cross entropy = 0.000069\n"
     ]
    },
    {
     "name": "stdout",
     "output_type": "stream",
     "text": [
      "INFO:tensorflow:2018-08-14 22:39:11.856983: Step 499: Validation accuracy = 100.0% (N=100)\n"
     ]
    },
    {
     "name": "stderr",
     "output_type": "stream",
     "text": [
      "INFO:tensorflow:2018-08-14 22:39:11.856983: Step 499: Validation accuracy = 100.0% (N=100)\n"
     ]
    },
    {
     "name": "stdout",
     "output_type": "stream",
     "text": [
      "INFO:tensorflow:Final test accuracy = 100.0% (N=15)\n"
     ]
    },
    {
     "name": "stderr",
     "output_type": "stream",
     "text": [
      "INFO:tensorflow:Final test accuracy = 100.0% (N=15)\n"
     ]
    },
    {
     "name": "stdout",
     "output_type": "stream",
     "text": [
      "INFO:tensorflow:Froze 2 variables.\n"
     ]
    },
    {
     "name": "stderr",
     "output_type": "stream",
     "text": [
      "INFO:tensorflow:Froze 2 variables.\n"
     ]
    },
    {
     "name": "stdout",
     "output_type": "stream",
     "text": [
      "Converted 2 variables to const ops.\n"
     ]
    }
   ],
   "source": [
    "#use mobile net\n",
    "%run scripts/retrain.py \\\n",
    "  --bottleneck_dir=tf_files/bottlenecks \\\n",
    "  --how_many_training_steps=500 \\\n",
    "  --learning_rate=0.01 \\\n",
    "  --model_dir=tf_files/models/ \\\n",
    "  --summaries_dir=tf_files/training_summaries/\"mobilenet_0.50_224\" \\\n",
    "  --output_graph=tf_files/retrained_graph.pb \\\n",
    "  --output_labels=tf_files/retrained_labels.txt \\\n",
    "  --architecture=\"mobilenet_0.50_224\" \\\n",
    "  --image_dir=tf_files/data"
   ]
  },
  {
   "cell_type": "code",
   "execution_count": 40,
   "metadata": {},
   "outputs": [
    {
     "name": "stdout",
     "output_type": "stream",
     "text": [
      "tf_files/sort/fork/82.luxor-entree-fork-olympic-party-hire-adelaide_bd78932829a64e340667602cd6642751.jpg\n",
      "fork (score=0.99992)\n",
      "coffee_mug (score=0.00008)\n",
      "apple (score=0.00000)\n",
      "1 CORRECT: Test  : fork == fork\n",
      "\n",
      "0.99992\n",
      "tf_files/sort/fork/77.74769.jpg\n",
      "fork (score=0.99993)\n",
      "coffee_mug (score=0.00006)\n",
      "apple (score=0.00001)\n",
      "2 CORRECT: Test  : fork == fork\n",
      "\n",
      "0.999934\n",
      "tf_files/sort/fork/308.bugatti-duetto-stainless-steel-dessert-fork.jpg\n",
      "fork (score=0.99997)\n",
      "coffee_mug (score=0.00003)\n",
      "apple (score=0.00000)\n",
      "3 CORRECT: Test  : fork == fork\n",
      "\n",
      "0.999966\n",
      "tf_files/sort/fork/27.dinner-fork-stainless.jpg\n",
      "fork (score=1.00000)\n",
      "coffee_mug (score=0.00000)\n",
      "apple (score=0.00000)\n",
      "4 CORRECT: Test  : fork == fork\n",
      "\n",
      "0.999997\n",
      "tf_files/sort/fork/253.apexzerostandardfork.jpg\n"
     ]
    },
    {
     "ename": "KeyboardInterrupt",
     "evalue": "",
     "output_type": "error",
     "traceback": [
      "\u001b[0;31m---------------------------------------------------------------------------\u001b[0m",
      "\u001b[0;31mKeyboardInterrupt\u001b[0m                         Traceback (most recent call last)",
      "\u001b[0;32m<ipython-input-40-88bcf191f6a1>\u001b[0m in \u001b[0;36m<module>\u001b[0;34m()\u001b[0m\n\u001b[1;32m     16\u001b[0m             \u001b[0;31m#run ml on the image and save the first text reults\u001b[0m\u001b[0;34m\u001b[0m\u001b[0;34m\u001b[0m\u001b[0m\n\u001b[1;32m     17\u001b[0m             \u001b[0mprint\u001b[0m\u001b[0;34m(\u001b[0m\u001b[0mfilePath\u001b[0m\u001b[0;34m)\u001b[0m\u001b[0;34m\u001b[0m\u001b[0m\n\u001b[0;32m---> 18\u001b[0;31m             \u001b[0mresultLabel\u001b[0m\u001b[0;34m,\u001b[0m \u001b[0mresultValue\u001b[0m \u001b[0;34m=\u001b[0m \u001b[0mlabel_image\u001b[0m\u001b[0;34m(\u001b[0m\u001b[0mfilePath\u001b[0m\u001b[0;34m)\u001b[0m\u001b[0;34m\u001b[0m\u001b[0m\n\u001b[0m\u001b[1;32m     19\u001b[0m             \u001b[0mtest\u001b[0m \u001b[0;34m=\u001b[0m \u001b[0mstr\u001b[0m\u001b[0;34m(\u001b[0m\u001b[0mos\u001b[0m\u001b[0;34m.\u001b[0m\u001b[0mpath\u001b[0m\u001b[0;34m.\u001b[0m\u001b[0mbasename\u001b[0m\u001b[0;34m(\u001b[0m\u001b[0msubdir\u001b[0m\u001b[0;34m)\u001b[0m\u001b[0;34m)\u001b[0m\u001b[0;34m\u001b[0m\u001b[0m\n\u001b[1;32m     20\u001b[0m \u001b[0;34m\u001b[0m\u001b[0m\n",
      "\u001b[0;32m<string>\u001b[0m in \u001b[0;36mlabel_image\u001b[0;34m(file)\u001b[0m\n",
      "\u001b[0;32m<string>\u001b[0m in \u001b[0;36mread_tensor_from_image_file\u001b[0;34m(file_name, input_height, input_width, input_mean, input_std)\u001b[0m\n",
      "\u001b[0;32m/usr/local/Cellar/python3/3.5.2_3/Frameworks/Python.framework/Versions/3.5/lib/python3.5/site-packages/tensorflow/python/client/session.py\u001b[0m in \u001b[0;36mrun\u001b[0;34m(self, fetches, feed_dict, options, run_metadata)\u001b[0m\n\u001b[1;32m    887\u001b[0m     \u001b[0;32mtry\u001b[0m\u001b[0;34m:\u001b[0m\u001b[0;34m\u001b[0m\u001b[0m\n\u001b[1;32m    888\u001b[0m       result = self._run(None, fetches, feed_dict, options_ptr,\n\u001b[0;32m--> 889\u001b[0;31m                          run_metadata_ptr)\n\u001b[0m\u001b[1;32m    890\u001b[0m       \u001b[0;32mif\u001b[0m \u001b[0mrun_metadata\u001b[0m\u001b[0;34m:\u001b[0m\u001b[0;34m\u001b[0m\u001b[0m\n\u001b[1;32m    891\u001b[0m         \u001b[0mproto_data\u001b[0m \u001b[0;34m=\u001b[0m \u001b[0mtf_session\u001b[0m\u001b[0;34m.\u001b[0m\u001b[0mTF_GetBuffer\u001b[0m\u001b[0;34m(\u001b[0m\u001b[0mrun_metadata_ptr\u001b[0m\u001b[0;34m)\u001b[0m\u001b[0;34m\u001b[0m\u001b[0m\n",
      "\u001b[0;32m/usr/local/Cellar/python3/3.5.2_3/Frameworks/Python.framework/Versions/3.5/lib/python3.5/site-packages/tensorflow/python/client/session.py\u001b[0m in \u001b[0;36m_run\u001b[0;34m(self, handle, fetches, feed_dict, options, run_metadata)\u001b[0m\n\u001b[1;32m   1118\u001b[0m     \u001b[0;32mif\u001b[0m \u001b[0mfinal_fetches\u001b[0m \u001b[0;32mor\u001b[0m \u001b[0mfinal_targets\u001b[0m \u001b[0;32mor\u001b[0m \u001b[0;34m(\u001b[0m\u001b[0mhandle\u001b[0m \u001b[0;32mand\u001b[0m \u001b[0mfeed_dict_tensor\u001b[0m\u001b[0;34m)\u001b[0m\u001b[0;34m:\u001b[0m\u001b[0;34m\u001b[0m\u001b[0m\n\u001b[1;32m   1119\u001b[0m       results = self._do_run(handle, final_targets, final_fetches,\n\u001b[0;32m-> 1120\u001b[0;31m                              feed_dict_tensor, options, run_metadata)\n\u001b[0m\u001b[1;32m   1121\u001b[0m     \u001b[0;32melse\u001b[0m\u001b[0;34m:\u001b[0m\u001b[0;34m\u001b[0m\u001b[0m\n\u001b[1;32m   1122\u001b[0m       \u001b[0mresults\u001b[0m \u001b[0;34m=\u001b[0m \u001b[0;34m[\u001b[0m\u001b[0;34m]\u001b[0m\u001b[0;34m\u001b[0m\u001b[0m\n",
      "\u001b[0;32m/usr/local/Cellar/python3/3.5.2_3/Frameworks/Python.framework/Versions/3.5/lib/python3.5/site-packages/tensorflow/python/client/session.py\u001b[0m in \u001b[0;36m_do_run\u001b[0;34m(self, handle, target_list, fetch_list, feed_dict, options, run_metadata)\u001b[0m\n\u001b[1;32m   1315\u001b[0m     \u001b[0;32mif\u001b[0m \u001b[0mhandle\u001b[0m \u001b[0;32mis\u001b[0m \u001b[0;32mNone\u001b[0m\u001b[0;34m:\u001b[0m\u001b[0;34m\u001b[0m\u001b[0m\n\u001b[1;32m   1316\u001b[0m       return self._do_call(_run_fn, self._session, feeds, fetches, targets,\n\u001b[0;32m-> 1317\u001b[0;31m                            options, run_metadata)\n\u001b[0m\u001b[1;32m   1318\u001b[0m     \u001b[0;32melse\u001b[0m\u001b[0;34m:\u001b[0m\u001b[0;34m\u001b[0m\u001b[0m\n\u001b[1;32m   1319\u001b[0m       \u001b[0;32mreturn\u001b[0m \u001b[0mself\u001b[0m\u001b[0;34m.\u001b[0m\u001b[0m_do_call\u001b[0m\u001b[0;34m(\u001b[0m\u001b[0m_prun_fn\u001b[0m\u001b[0;34m,\u001b[0m \u001b[0mself\u001b[0m\u001b[0;34m.\u001b[0m\u001b[0m_session\u001b[0m\u001b[0;34m,\u001b[0m \u001b[0mhandle\u001b[0m\u001b[0;34m,\u001b[0m \u001b[0mfeeds\u001b[0m\u001b[0;34m,\u001b[0m \u001b[0mfetches\u001b[0m\u001b[0;34m)\u001b[0m\u001b[0;34m\u001b[0m\u001b[0m\n",
      "\u001b[0;32m/usr/local/Cellar/python3/3.5.2_3/Frameworks/Python.framework/Versions/3.5/lib/python3.5/site-packages/tensorflow/python/client/session.py\u001b[0m in \u001b[0;36m_do_call\u001b[0;34m(self, fn, *args)\u001b[0m\n\u001b[1;32m   1321\u001b[0m   \u001b[0;32mdef\u001b[0m \u001b[0m_do_call\u001b[0m\u001b[0;34m(\u001b[0m\u001b[0mself\u001b[0m\u001b[0;34m,\u001b[0m \u001b[0mfn\u001b[0m\u001b[0;34m,\u001b[0m \u001b[0;34m*\u001b[0m\u001b[0margs\u001b[0m\u001b[0;34m)\u001b[0m\u001b[0;34m:\u001b[0m\u001b[0;34m\u001b[0m\u001b[0m\n\u001b[1;32m   1322\u001b[0m     \u001b[0;32mtry\u001b[0m\u001b[0;34m:\u001b[0m\u001b[0;34m\u001b[0m\u001b[0m\n\u001b[0;32m-> 1323\u001b[0;31m       \u001b[0;32mreturn\u001b[0m \u001b[0mfn\u001b[0m\u001b[0;34m(\u001b[0m\u001b[0;34m*\u001b[0m\u001b[0margs\u001b[0m\u001b[0;34m)\u001b[0m\u001b[0;34m\u001b[0m\u001b[0m\n\u001b[0m\u001b[1;32m   1324\u001b[0m     \u001b[0;32mexcept\u001b[0m \u001b[0merrors\u001b[0m\u001b[0;34m.\u001b[0m\u001b[0mOpError\u001b[0m \u001b[0;32mas\u001b[0m \u001b[0me\u001b[0m\u001b[0;34m:\u001b[0m\u001b[0;34m\u001b[0m\u001b[0m\n\u001b[1;32m   1325\u001b[0m       \u001b[0mmessage\u001b[0m \u001b[0;34m=\u001b[0m \u001b[0mcompat\u001b[0m\u001b[0;34m.\u001b[0m\u001b[0mas_text\u001b[0m\u001b[0;34m(\u001b[0m\u001b[0me\u001b[0m\u001b[0;34m.\u001b[0m\u001b[0mmessage\u001b[0m\u001b[0;34m)\u001b[0m\u001b[0;34m\u001b[0m\u001b[0m\n",
      "\u001b[0;32m/usr/local/Cellar/python3/3.5.2_3/Frameworks/Python.framework/Versions/3.5/lib/python3.5/site-packages/tensorflow/python/client/session.py\u001b[0m in \u001b[0;36m_run_fn\u001b[0;34m(session, feed_dict, fetch_list, target_list, options, run_metadata)\u001b[0m\n\u001b[1;32m   1291\u001b[0m                 run_metadata):\n\u001b[1;32m   1292\u001b[0m       \u001b[0;31m# Ensure any changes to the graph are reflected in the runtime.\u001b[0m\u001b[0;34m\u001b[0m\u001b[0;34m\u001b[0m\u001b[0m\n\u001b[0;32m-> 1293\u001b[0;31m       \u001b[0mself\u001b[0m\u001b[0;34m.\u001b[0m\u001b[0m_extend_graph\u001b[0m\u001b[0;34m(\u001b[0m\u001b[0;34m)\u001b[0m\u001b[0;34m\u001b[0m\u001b[0m\n\u001b[0m\u001b[1;32m   1294\u001b[0m       \u001b[0;32mwith\u001b[0m \u001b[0merrors\u001b[0m\u001b[0;34m.\u001b[0m\u001b[0mraise_exception_on_not_ok_status\u001b[0m\u001b[0;34m(\u001b[0m\u001b[0;34m)\u001b[0m \u001b[0;32mas\u001b[0m \u001b[0mstatus\u001b[0m\u001b[0;34m:\u001b[0m\u001b[0;34m\u001b[0m\u001b[0m\n\u001b[1;32m   1295\u001b[0m         \u001b[0;32mif\u001b[0m \u001b[0mself\u001b[0m\u001b[0;34m.\u001b[0m\u001b[0m_created_with_new_api\u001b[0m\u001b[0;34m:\u001b[0m\u001b[0;34m\u001b[0m\u001b[0m\n",
      "\u001b[0;32m/usr/local/Cellar/python3/3.5.2_3/Frameworks/Python.framework/Versions/3.5/lib/python3.5/site-packages/tensorflow/python/client/session.py\u001b[0m in \u001b[0;36m_extend_graph\u001b[0;34m(self)\u001b[0m\n\u001b[1;32m   1352\u001b[0m         \u001b[0;32mwith\u001b[0m \u001b[0merrors\u001b[0m\u001b[0;34m.\u001b[0m\u001b[0mraise_exception_on_not_ok_status\u001b[0m\u001b[0;34m(\u001b[0m\u001b[0;34m)\u001b[0m \u001b[0;32mas\u001b[0m \u001b[0mstatus\u001b[0m\u001b[0;34m:\u001b[0m\u001b[0;34m\u001b[0m\u001b[0m\n\u001b[1;32m   1353\u001b[0m           tf_session.TF_ExtendGraph(\n\u001b[0;32m-> 1354\u001b[0;31m               self._session, graph_def.SerializeToString(), status)\n\u001b[0m\u001b[1;32m   1355\u001b[0m         \u001b[0mself\u001b[0m\u001b[0;34m.\u001b[0m\u001b[0m_opened\u001b[0m \u001b[0;34m=\u001b[0m \u001b[0;32mTrue\u001b[0m\u001b[0;34m\u001b[0m\u001b[0m\n\u001b[1;32m   1356\u001b[0m \u001b[0;34m\u001b[0m\u001b[0m\n",
      "\u001b[0;31mKeyboardInterrupt\u001b[0m: "
     ]
    }
   ],
   "source": [
    "exec(open(\"scripts/JH_label_image.py\").read())\n",
    "#apply image classify to a folder and count the number of results\n",
    "directory = \"tf_files/sort/fork\"\n",
    "files = 0\n",
    "correct = 0\n",
    "\n",
    "for subdir, dirs, folder in os.walk(directory):\n",
    "    for file in folder:\n",
    "        \n",
    "        (name, extension) = os.path.splitext(file)\n",
    "        #only process images with .jpg extension\n",
    "        if(extension == \".jpg\"):\n",
    "            files+=1\n",
    "            filePath = os.path.join(subdir,file)\n",
    "            #print(filePath)\n",
    "            #run ml on the image and save the first text reults\n",
    "            print(filePath)\n",
    "            resultLabel, resultValue = label_image(filePath)\n",
    "            test = str(os.path.basename(subdir))\n",
    "            \n",
    "            if(test == resultLabel):\n",
    "                correct+=1\n",
    "                print(str(files)+ \" CORRECT: Test \"+\" : \"+test + \" == \" + resultLabel +\"\\n\")\n",
    "                print(resultValue)\n",
    "                #print(str(files) + \":\" +str(resultText)+\"\\n\")\n",
    "            else:\n",
    "                print(str(files) + \" INCORRECT!! Test \"+\":\" +test + \" != \" + resultLabel+\"\\n\")\n",
    "            \n",
    "print(str(correct) + \" out of \" + str(files) + \" : \" + str(files/correct))      \n",
    "        "
   ]
  },
  {
   "cell_type": "code",
   "execution_count": null,
   "metadata": {},
   "outputs": [],
   "source": []
  },
  {
   "cell_type": "code",
   "execution_count": null,
   "metadata": {},
   "outputs": [],
   "source": []
  },
  {
   "cell_type": "code",
   "execution_count": null,
   "metadata": {},
   "outputs": [],
   "source": []
  },
  {
   "cell_type": "code",
   "execution_count": 45,
   "metadata": {},
   "outputs": [],
   "source": [
    "import shutil\n",
    "import os\n",
    "\n",
    "#how accurate we need to be\n",
    "threshold = .99\n",
    "def move(src, dest):\n",
    "    shutil.move(src, dest)\n",
    "\n",
    "#look at each image in a folder and determine if it looks anything like what it is supposed to be.\n",
    "exec(open(\"scripts/JH_label_image.py\").read())\n",
    "\n",
    "#apply image classify to a folder and count the number of results\n",
    "directory = \"tf_files/sort\"\n",
    "files = 0\n",
    "correct = 0\n",
    "\n",
    "#\n",
    "appleFolderPath = os.path.join(directory, \"apple\")\n",
    "forkFolderPath = os.path.join(directory, \"fork\")\n",
    "coffeeFolderPath = os.path.join(directory, \"coffee_mug\")\n",
    "discardFolderPath = os.path.join(directory, \"discard\")\n",
    "\n",
    "if not os.path.exists(appleFolderPath):\n",
    "    os.makedirs(appleFolderPath)\n",
    "    \n",
    "if not os.path.exists(forkFolderPath):\n",
    "    os.makedirs(forkFolderPath)\n",
    "    \n",
    "if not os.path.exists(coffeeFolderPath):\n",
    "    os.makedirs(coffeeFolderPath)\n",
    "\n",
    "if not os.path.exists(discardFolderPath):\n",
    "    os.makedirs(discardFolderPath)\n",
    "\n",
    "    "
   ]
  },
  {
   "cell_type": "code",
   "execution_count": 46,
   "metadata": {},
   "outputs": [
    {
     "name": "stdout",
     "output_type": "stream",
     "text": [
      "reading tf_files/sort/82.luxor-entree-fork-olympic-party-hire-adelaide_bd78932829a64e340667602cd6642751.jpg\n",
      "fork (score=0.99992)\n",
      "coffee_mug (score=0.00008)\n",
      "apple (score=0.00000)\n",
      "1Test  : sort == fork\n",
      "\n",
      "reading tf_files/sort/77.74769.jpg\n",
      "fork (score=0.99993)\n",
      "coffee_mug (score=0.00006)\n",
      "apple (score=0.00001)\n",
      "2Test  : sort == fork\n",
      "\n",
      "reading tf_files/sort/308.bugatti-duetto-stainless-steel-dessert-fork.jpg\n",
      "fork (score=0.99997)\n",
      "coffee_mug (score=0.00003)\n",
      "apple (score=0.00000)\n",
      "3Test  : sort == fork\n",
      "\n",
      "reading tf_files/sort/27.dinner-fork-stainless.jpg\n",
      "fork (score=1.00000)\n",
      "coffee_mug (score=0.00000)\n",
      "apple (score=0.00000)\n",
      "4Test  : sort == fork\n",
      "\n",
      "reading tf_files/sort/286.6632.jpg\n",
      "fork (score=0.99999)\n",
      "coffee_mug (score=0.00001)\n",
      "apple (score=0.00000)\n",
      "5Test  : sort == fork\n",
      "\n",
      "reading tf_files/sort/129.forks.jpg\n",
      "fork (score=0.99995)\n",
      "apple (score=0.00003)\n",
      "coffee_mug (score=0.00002)\n",
      "6Test  : sort == fork\n",
      "\n",
      "reading tf_files/sort/509.atfty21.jpg\n",
      "fork (score=0.99975)\n",
      "coffee_mug (score=0.00025)\n",
      "apple (score=0.00000)\n",
      "7Test  : sort == fork\n",
      "\n",
      "reading tf_files/sort/47.royal-fork-blk1.jpg\n",
      "fork (score=0.99962)\n",
      "coffee_mug (score=0.00038)\n",
      "apple (score=0.00000)\n",
      "8Test  : sort == fork\n",
      "\n",
      "reading tf_files/sort/653.3-tine-fork-flatware-set-contemporary-amazon-com-horntide-6-piece-dessert-forks-tines-fruit-salad-pertaining-to.jpg\n",
      "fork (score=0.99973)\n",
      "coffee_mug (score=0.00027)\n",
      "apple (score=0.00000)\n",
      "9Test  : sort == fork\n",
      "\n",
      "reading tf_files/sort/202.41rs830kv9l._sy355_.jpg\n",
      "fork (score=0.99994)\n",
      "coffee_mug (score=0.00006)\n",
      "apple (score=0.00000)\n",
      "10Test  : sort == fork\n",
      "\n",
      "reading tf_files/sort/620.forkbamboo_full.jpg\n",
      "fork (score=0.99996)\n",
      "coffee_mug (score=0.00004)\n",
      "apple (score=0.00000)\n",
      "11Test  : sort == fork\n",
      "\n",
      "reading tf_files/sort/37.22930_57575_43957.jpg\n",
      "fork (score=0.99996)\n",
      "coffee_mug (score=0.00004)\n",
      "apple (score=0.00000)\n",
      "12Test  : sort == fork\n",
      "\n",
      "reading tf_files/sort/235.fork_terra_color_2_00017.jpg\n",
      "fork (score=0.99739)\n",
      "coffee_mug (score=0.00261)\n",
      "apple (score=0.00000)\n",
      "13Test  : sort == fork\n",
      "\n",
      "reading tf_files/sort/64.2017_6ku_aluminumfork_black_studiophoto_001_2000x.jpg\n",
      "fork (score=0.99986)\n",
      "coffee_mug (score=0.00014)\n",
      "apple (score=0.00000)\n",
      "14Test  : sort == fork\n",
      "\n",
      "reading tf_files/sort/88.layer_443__50746.1513558049.1280.1280.jpg\n",
      "fork (score=0.99708)\n",
      "coffee_mug (score=0.00292)\n",
      "apple (score=0.00000)\n",
      "15Test  : sort == fork\n",
      "\n",
      "reading tf_files/sort/640.09-rose-gold-cake-fork-570x570.jpg\n",
      "fork (score=1.00000)\n",
      "coffee_mug (score=0.00000)\n",
      "apple (score=0.00000)\n",
      "16Test  : sort == fork\n",
      "\n",
      "reading tf_files/sort/49.garden-fork-1.jpg\n",
      "fork (score=0.99997)\n",
      "coffee_mug (score=0.00003)\n",
      "apple (score=0.00000)\n",
      "17Test  : sort == fork\n",
      "\n",
      "reading tf_files/sort/307.cutlery_1050x700.jpg\n",
      "fork (score=0.99997)\n",
      "coffee_mug (score=0.00003)\n",
      "apple (score=0.00000)\n",
      "18Test  : sort == fork\n",
      "\n",
      "reading tf_files/sort/604.fork-spring_1.jpg\n",
      "fork (score=0.99868)\n",
      "coffee_mug (score=0.00132)\n",
      "apple (score=0.00000)\n",
      "19Test  : sort == fork\n",
      "\n",
      "reading tf_files/sort/254.6020908-800x800.jpg\n",
      "fork (score=0.99993)\n",
      "coffee_mug (score=0.00007)\n",
      "apple (score=0.00000)\n",
      "20Test  : sort == fork\n",
      "\n",
      "reading tf_files/sort/355.fork-clipart-8.jpg\n",
      "fork (score=0.99964)\n",
      "coffee_mug (score=0.00036)\n",
      "apple (score=0.00000)\n",
      "21Test  : sort == fork\n",
      "\n",
      "reading tf_files/sort/118.arthur_krupp_baguette_bagurzkrcf_grande.jpg\n",
      "fork (score=0.99956)\n",
      "coffee_mug (score=0.00044)\n",
      "apple (score=0.00000)\n",
      "22Test  : sort == fork\n",
      "\n",
      "reading tf_files/sort/281.knife-fork-spoon-with-ornaments-vector-1174917.jpg\n",
      "fork (score=0.99995)\n",
      "coffee_mug (score=0.00005)\n",
      "apple (score=0.00000)\n",
      "23Test  : sort == fork\n",
      "\n",
      "reading tf_files/sort/462.89673.jpg\n",
      "fork (score=0.96031)\n",
      "coffee_mug (score=0.03953)\n",
      "apple (score=0.00017)\n",
      "24Test  : sort == fork\n",
      "\n",
      "reading tf_files/sort/452.bigger-blocks-and-smarter-contracts-whats-in-bitcoin-cashs-next-fork-1.jpg\n",
      "fork (score=0.99647)\n",
      "coffee_mug (score=0.00353)\n",
      "apple (score=0.00000)\n",
      "25Test  : sort == fork\n",
      "\n",
      "reading tf_files/sort/108.1_blue__67084.1525314770.1280.1280.jpg\n",
      "fork (score=0.99806)\n",
      "coffee_mug (score=0.00194)\n",
      "apple (score=0.00000)\n",
      "26Test  : sort == fork\n",
      "\n",
      "reading tf_files/sort/255.11-rose-gold-entree-fork-570x570.jpg\n",
      "fork (score=1.00000)\n",
      "coffee_mug (score=0.00000)\n",
      "apple (score=0.00000)\n",
      "27Test  : sort == fork\n",
      "\n",
      "reading tf_files/sort/87.4269.jpg\n",
      "fork (score=0.97372)\n",
      "coffee_mug (score=0.01863)\n",
      "apple (score=0.00765)\n",
      "28Test  : sort == fork\n",
      "\n",
      "reading tf_files/sort/432.colnago-v1r-fork-unrd.jpg\n",
      "fork (score=0.99965)\n",
      "coffee_mug (score=0.00035)\n",
      "apple (score=0.00000)\n",
      "29Test  : sort == fork\n",
      "\n",
      "reading tf_files/sort/181.lucky-hurracane-scooter-fork-black_25da9b52-1e6a-472e-b26f-2addf1c3b25c_large.jpg\n",
      "fork (score=0.99947)\n",
      "coffee_mug (score=0.00053)\n",
      "apple (score=0.00000)\n",
      "30Test  : sort == fork\n",
      "\n",
      "reading tf_files/sort/443.bitcoin-fork-vw-760x400.jpg\n",
      "fork (score=0.96524)\n",
      "coffee_mug (score=0.02798)\n",
      "apple (score=0.00678)\n",
      "31Test  : sort == fork\n",
      "\n",
      "reading tf_files/sort/534.tuning-forks-set-8_8.jpg\n",
      "fork (score=0.95100)\n",
      "coffee_mug (score=0.04900)\n",
      "apple (score=0.00000)\n",
      "32Test  : sort == fork\n",
      "\n",
      "reading tf_files/sort/264.no9_rd_plus_fork_croped.jpg\n",
      "fork (score=0.99834)\n",
      "coffee_mug (score=0.00166)\n",
      "apple (score=0.00000)\n",
      "33Test  : sort == fork\n",
      "\n",
      "reading tf_files/sort/489.stainless-steel-swage-stud-fork-3mm-500x500.jpg\n",
      "fork (score=0.97457)\n",
      "coffee_mug (score=0.02542)\n",
      "apple (score=0.00000)\n",
      "34Test  : sort == fork\n",
      "\n",
      "reading tf_files/sort/261.40089e3e-ef74-48cf-9098-b83846f35583.jpg\n",
      "fork (score=0.99998)\n",
      "coffee_mug (score=0.00002)\n",
      "apple (score=0.00000)\n",
      "35Test  : sort == fork\n",
      "\n",
      "reading tf_files/sort/410.xforks.jpg\n",
      "fork (score=0.98888)\n",
      "coffee_mug (score=0.01112)\n",
      "apple (score=0.00000)\n",
      "36Test  : sort == fork\n",
      "\n",
      "reading tf_files/sort/17.fork-04.jpg\n",
      "fork (score=0.99999)\n",
      "coffee_mug (score=0.00001)\n",
      "apple (score=0.00000)\n",
      "37Test  : sort == fork\n",
      "\n",
      "reading tf_files/sort/89.553721-zoom.jpg\n",
      "fork (score=0.99969)\n",
      "coffee_mug (score=0.00031)\n",
      "apple (score=0.00000)\n",
      "38Test  : sort == fork\n",
      "\n",
      "reading tf_files/sort/377.jpg\n",
      "fork (score=0.99989)\n",
      "coffee_mug (score=0.00011)\n",
      "apple (score=0.00000)\n",
      "39Test  : sort == fork\n",
      "\n",
      "reading tf_files/sort/282.rtl5224200k.jpg\n",
      "fork (score=0.99972)\n",
      "coffee_mug (score=0.00026)\n",
      "apple (score=0.00001)\n",
      "40Test  : sort == fork\n",
      "\n",
      "reading tf_files/sort/559.700c_threadless_carbon_fork.jpg\n",
      "fork (score=0.99909)\n",
      "coffee_mug (score=0.00091)\n",
      "apple (score=0.00000)\n",
      "41Test  : sort == fork\n",
      "\n",
      "reading tf_files/sort/201.otg_fork_and_spoon_set_-_pink_-_500__76215.1530567622.jpg\n",
      "fork (score=0.96973)\n",
      "coffee_mug (score=0.03027)\n",
      "apple (score=0.00000)\n",
      "42Test  : sort == fork\n",
      "\n",
      "reading tf_files/sort/466.kinkcastingfork.jpg\n",
      "fork (score=0.98955)\n",
      "coffee_mug (score=0.01045)\n",
      "apple (score=0.00000)\n",
      "43Test  : sort == fork\n",
      "\n",
      "reading tf_files/sort/515.origin-8-pro-pulsion-synergy-fork-copy-201214-1.jpg\n",
      "fork (score=0.99895)\n",
      "coffee_mug (score=0.00105)\n",
      "apple (score=0.00000)\n",
      "44Test  : sort == fork\n",
      "\n",
      "reading tf_files/sort/658.fork%2bcriticism.jpg\n",
      "fork (score=0.99712)\n",
      "coffee_mug (score=0.00288)\n",
      "apple (score=0.00000)\n",
      "45Test  : sort == fork\n",
      "\n",
      "reading tf_files/sort/116.94217.jpg\n",
      "fork (score=0.97851)\n",
      "coffee_mug (score=0.02149)\n",
      "apple (score=0.00000)\n",
      "46Test  : sort == fork\n",
      "\n",
      "reading tf_files/sort/366.division-forks-group2-wbg.jpg\n",
      "fork (score=0.99654)\n",
      "coffee_mug (score=0.00346)\n",
      "apple (score=0.00000)\n",
      "47Test  : sort == fork\n",
      "\n",
      "reading tf_files/sort/169.fork-springs.jpg\n",
      "fork (score=0.99998)\n",
      "coffee_mug (score=0.00002)\n",
      "apple (score=0.00000)\n",
      "48Test  : sort == fork\n",
      "\n",
      "reading tf_files/sort/587.battleaxe.jpg\n",
      "fork (score=0.98288)\n",
      "coffee_mug (score=0.01712)\n",
      "apple (score=0.00000)\n",
      "49Test  : sort == fork\n",
      "\n",
      "reading tf_files/sort/204.set-of-3-plastic-camping-hiking-cutlery-items-knife-fork-spoon-green.jpg\n",
      "fork (score=0.99730)\n",
      "coffee_mug (score=0.00270)\n",
      "apple (score=0.00000)\n",
      "50Test  : sort == fork\n",
      "\n",
      "reading tf_files/sort/258.all_road_fork_4.jpg\n",
      "fork (score=0.99933)\n",
      "coffee_mug (score=0.00067)\n",
      "apple (score=0.00000)\n",
      "51Test  : sort == fork\n",
      "\n",
      "reading tf_files/sort/173.rockshox-revelation-rc-fork-2017.jpg\n",
      "fork (score=0.98183)\n",
      "coffee_mug (score=0.01817)\n",
      "apple (score=0.00000)\n",
      "52Test  : sort == fork\n",
      "\n",
      "reading tf_files/sort/585.front%20forks_small.jpg\n",
      "fork (score=0.99131)\n",
      "coffee_mug (score=0.00869)\n",
      "apple (score=0.00000)\n",
      "53Test  : sort == fork\n",
      "\n",
      "reading tf_files/sort/533.stainless-steel-cuttlery-home-lot-black-western-food-stainless-steel-cutlery-set-flatware-tableware-sets-fork.jpg\n",
      "fork (score=0.99997)\n",
      "coffee_mug (score=0.00003)\n",
      "apple (score=0.00000)\n",
      "54Test  : sort == fork\n",
      "\n",
      "reading tf_files/sort/461.31w5gd9aswl._sl500_ac_ss350_.jpg\n"
     ]
    },
    {
     "name": "stdout",
     "output_type": "stream",
     "text": [
      "fork (score=1.00000)\n",
      "coffee_mug (score=0.00000)\n",
      "apple (score=0.00000)\n",
      "55Test  : sort == fork\n",
      "\n",
      "reading tf_files/sort/438.d530e9abb35cfcc92b8d146b49cabc04--rumah-pohon-allrecipes.jpg\n",
      "fork (score=0.99034)\n",
      "coffee_mug (score=0.00966)\n",
      "apple (score=0.00000)\n",
      "56Test  : sort == fork\n",
      "\n",
      "reading tf_files/sort/346.urban_artt_forks_black__42258.1398989143.1280.1280.jpg\n",
      "fork (score=0.99938)\n",
      "coffee_mug (score=0.00062)\n",
      "apple (score=0.00000)\n",
      "57Test  : sort == fork\n",
      "\n",
      "reading tf_files/sort/263.fork-extensions-1-1024x633.jpg\n",
      "fork (score=0.99975)\n",
      "coffee_mug (score=0.00025)\n",
      "apple (score=0.00000)\n",
      "58Test  : sort == fork\n",
      "\n",
      "reading tf_files/sort/644.guardian-forks-group.jpg\n",
      "fork (score=0.96536)\n",
      "coffee_mug (score=0.03464)\n",
      "apple (score=0.00000)\n",
      "59Test  : sort == fork\n",
      "\n",
      "reading tf_files/sort/105.bitcoin-fork-670x335.jpg\n",
      "fork (score=0.99607)\n",
      "coffee_mug (score=0.00231)\n",
      "apple (score=0.00162)\n",
      "60Test  : sort == fork\n",
      "\n",
      "reading tf_files/sort/595.amefa-austin-cake-fork.jpg\n",
      "fork (score=0.99997)\n",
      "coffee_mug (score=0.00003)\n",
      "apple (score=0.00000)\n",
      "61Test  : sort == fork\n",
      "\n",
      "reading tf_files/sort/218.fork_tubes_10.jpg\n",
      "fork (score=0.96696)\n",
      "coffee_mug (score=0.03304)\n",
      "apple (score=0.00000)\n",
      "62Test  : sort == fork\n",
      "\n",
      "reading tf_files/sort/450.grabease-australia-baby-cutlery-fork-and-spoon-set-white.jpg\n",
      "fork (score=0.95590)\n",
      "coffee_mug (score=0.04386)\n",
      "apple (score=0.00024)\n",
      "63Test  : sort == fork\n",
      "\n",
      "reading tf_files/sort/569.fk-fox-01.jpg\n",
      "fork (score=0.99995)\n",
      "coffee_mug (score=0.00005)\n",
      "apple (score=0.00000)\n",
      "64Test  : sort == fork\n",
      "\n",
      "reading tf_files/sort/119.fork-cutlery-tool-metal-tableware-kitchen-knife-cake-fork-small-fork-918907.jpg\n",
      "fork (score=1.00000)\n",
      "coffee_mug (score=0.00000)\n",
      "apple (score=0.00000)\n",
      "65Test  : sort == fork\n",
      "\n",
      "reading tf_files/sort/9.31jo9j8hvel._sl500_ac_ss350_.jpg\n",
      "fork (score=0.99998)\n",
      "coffee_mug (score=0.00002)\n",
      "apple (score=0.00000)\n",
      "66Test  : sort == fork\n",
      "\n",
      "reading tf_files/sort/237.3035810-poster-p-1-the-surprisingly-interesting-history-of-the-fork.jpg\n",
      "fork (score=0.99991)\n",
      "coffee_mug (score=0.00009)\n",
      "apple (score=0.00000)\n",
      "67Test  : sort == fork\n",
      "\n",
      "reading tf_files/sort/268.tuning-forks.jpg\n",
      "fork (score=0.99406)\n",
      "coffee_mug (score=0.00594)\n",
      "apple (score=0.00000)\n",
      "68Test  : sort == fork\n",
      "\n",
      "reading tf_files/sort/303.cake-fork-amalfi.jpg\n",
      "fork (score=0.99909)\n",
      "coffee_mug (score=0.00091)\n",
      "apple (score=0.00000)\n",
      "69Test  : sort == fork\n",
      "\n",
      "reading tf_files/sort/306.5ab92dfd716bc.jpg\n",
      "fork (score=0.99966)\n",
      "coffee_mug (score=0.00034)\n",
      "apple (score=0.00000)\n",
      "70Test  : sort == fork\n",
      "\n",
      "reading tf_files/sort/356.cbg23b-stanley-rogers-baguette-table-fork-loose-rs-hr_1000x.jpg\n",
      "fork (score=1.00000)\n",
      "coffee_mug (score=0.00000)\n",
      "apple (score=0.00000)\n",
      "71Test  : sort == fork\n",
      "\n",
      "reading tf_files/sort/405.3-tine-fork-flatware-set-awesome-prong-piece-pertaining-to-13.jpg\n",
      "fork (score=0.99955)\n",
      "coffee_mug (score=0.00045)\n",
      "apple (score=0.00000)\n",
      "72Test  : sort == fork\n",
      "\n",
      "reading tf_files/sort/7.orange_fork.jpg\n",
      "fork (score=0.99942)\n",
      "coffee_mug (score=0.00056)\n",
      "apple (score=0.00001)\n",
      "73Test  : sort == fork\n",
      "\n",
      "reading tf_files/sort/136.0015008_folding-utensils-4pk-spoons-forks_1100.jpg\n",
      "fork (score=0.97455)\n",
      "coffee_mug (score=0.02545)\n",
      "apple (score=0.00000)\n",
      "74Test  : sort == fork\n",
      "\n",
      "reading tf_files/sort/323.images%252fslides%252fdessert_fork_1.jpg\n",
      "fork (score=1.00000)\n",
      "coffee_mug (score=0.00000)\n",
      "apple (score=0.00000)\n",
      "75Test  : sort == fork\n",
      "\n",
      "reading tf_files/sort/241.701587143356.jpg\n",
      "fork (score=0.99278)\n",
      "coffee_mug (score=0.00722)\n",
      "apple (score=0.00000)\n",
      "76Test  : sort == fork\n",
      "\n",
      "reading tf_files/sort/299.lucky_indy_fork_chrome_d65d50a0-7425-4573-8460-e51039ff68a3_1024x1024.jpg\n",
      "fork (score=0.98910)\n",
      "coffee_mug (score=0.01090)\n",
      "apple (score=0.00000)\n",
      "77Test  : sort == fork\n",
      "\n",
      "reading tf_files/sort/200.kay-bojesen-s%c3%b8lv-gaffel.jpg\n",
      "fork (score=0.99088)\n",
      "coffee_mug (score=0.00912)\n",
      "apple (score=0.00000)\n",
      "78Test  : sort == fork\n",
      "\n",
      "reading tf_files/sort/488.zephyr.jpg\n",
      "fork (score=0.99993)\n",
      "coffee_mug (score=0.00007)\n",
      "apple (score=0.00000)\n",
      "79Test  : sort == fork\n",
      "\n",
      "reading tf_files/sort/230.dg324_forkthumb.jpg\n",
      "fork (score=0.99999)\n",
      "coffee_mug (score=0.00001)\n",
      "apple (score=0.00000)\n",
      "80Test  : sort == fork\n",
      "\n",
      "reading tf_files/sort/107.maxresdefault.jpg\n",
      "fork (score=0.99993)\n",
      "coffee_mug (score=0.00007)\n",
      "apple (score=0.00000)\n",
      "81Test  : sort == fork\n",
      "\n",
      "reading tf_files/sort/557.8thcent.two-pronged.jpg\n",
      "fork (score=0.99996)\n",
      "coffee_mug (score=0.00004)\n",
      "apple (score=0.00000)\n",
      "82Test  : sort == fork\n",
      "\n",
      "reading tf_files/sort/182.580b57fcd9996e24bc43c554.jpg\n",
      "fork (score=0.99856)\n",
      "coffee_mug (score=0.00144)\n",
      "apple (score=0.00000)\n",
      "83Test  : sort == fork\n",
      "\n",
      "reading tf_files/sort/670.3-tine-fork-flatware-set-attractive-three-prong-jpemarket-pertaining-to-8.jpg\n",
      "fork (score=0.99869)\n",
      "coffee_mug (score=0.00130)\n",
      "apple (score=0.00000)\n",
      "84Test  : sort == fork\n",
      "\n",
      "reading tf_files/sort/65.pampfi-009.jpg\n",
      "fork (score=0.98880)\n",
      "coffee_mug (score=0.01118)\n",
      "apple (score=0.00002)\n",
      "85Test  : sort == fork\n",
      "\n",
      "reading tf_files/sort/83.wtpswitchforks.jpg\n",
      "fork (score=0.99933)\n",
      "coffee_mug (score=0.00067)\n",
      "apple (score=0.00000)\n",
      "86Test  : sort == fork\n",
      "\n",
      "reading tf_files/sort/451.oil-level-gauge.jpg\n",
      "fork (score=0.99921)\n",
      "coffee_mug (score=0.00079)\n",
      "apple (score=0.00000)\n",
      "87Test  : sort == fork\n",
      "\n",
      "reading tf_files/sort/55.0031306_columbus-pista-leggera-carbon-fork-black.jpg\n",
      "fork (score=0.99999)\n",
      "coffee_mug (score=0.00001)\n",
      "apple (score=0.00000)\n",
      "88Test  : sort == fork\n",
      "\n",
      "reading tf_files/sort/101.main-qimg-cff39a808b759db672b5c9ab7c700935-c.jpg\n",
      "fork (score=0.99827)\n",
      "coffee_mug (score=0.00173)\n",
      "apple (score=0.00000)\n",
      "89Test  : sort == fork\n",
      "\n",
      "reading tf_files/sort/434.luxor-oyster-fork-olympic-party-hire-adelaide_a4d2c6273071fa5538d05c1bcfeeb864.jpg\n",
      "fork (score=1.00000)\n",
      "coffee_mug (score=0.00000)\n",
      "apple (score=0.00000)\n",
      "90Test  : sort == fork\n",
      "\n",
      "reading tf_files/sort/517.fish-fork-mirror-finish-ovation.jpg\n",
      "fork (score=1.00000)\n",
      "coffee_mug (score=0.00000)\n",
      "apple (score=0.00000)\n",
      "91Test  : sort == fork\n",
      "\n",
      "reading tf_files/sort/28.redlineflightprofork.jpg\n",
      "fork (score=0.99067)\n",
      "coffee_mug (score=0.00933)\n",
      "apple (score=0.00000)\n",
      "92Test  : sort == fork\n",
      "\n",
      "reading tf_files/sort/609.stainless-salad-fork.jpg\n",
      "fork (score=0.99995)\n",
      "coffee_mug (score=0.00005)\n",
      "apple (score=0.00000)\n",
      "93Test  : sort == fork\n",
      "\n",
      "reading tf_files/sort/103.road_disc_fork_ndside.jpg\n",
      "fork (score=0.99991)\n",
      "coffee_mug (score=0.00009)\n",
      "apple (score=0.00000)\n",
      "94Test  : sort == fork\n",
      "\n",
      "reading tf_files/sort/584.3-tine-fork-flatware-set-awesome-personalized-sets-matte-black-regarding-17.jpg\n",
      "fork (score=0.99915)\n",
      "coffee_mug (score=0.00084)\n",
      "apple (score=0.00001)\n",
      "95Test  : sort == fork\n",
      "\n",
      "reading tf_files/sort/492.tfr01020603.jpg\n",
      "fork (score=0.99994)\n",
      "coffee_mug (score=0.00006)\n",
      "apple (score=0.00000)\n",
      "96Test  : sort == fork\n",
      "\n",
      "reading tf_files/sort/135.rbca010-fork-mounted-bike-rack-02.jpg\n",
      "fork (score=0.99461)\n",
      "coffee_mug (score=0.00539)\n",
      "apple (score=0.00000)\n",
      "97Test  : sort == fork\n",
      "\n",
      "reading tf_files/sort/84.fk-pe-001.jpg\n",
      "fork (score=0.99999)\n",
      "coffee_mug (score=0.00001)\n",
      "apple (score=0.00000)\n",
      "98Test  : sort == fork\n",
      "\n",
      "reading tf_files/sort/610.replica-foscarini-diesel-fork-floor-lamp-0e6.jpg\n",
      "fork (score=0.98303)\n",
      "coffee_mug (score=0.01697)\n",
      "apple (score=0.00000)\n",
      "99Test  : sort == fork\n",
      "\n",
      "reading tf_files/sort/397.road-fork-mvvn0240.jpg\n",
      "fork (score=0.99907)\n",
      "coffee_mug (score=0.00093)\n",
      "apple (score=0.00000)\n",
      "100Test  : sort == fork\n",
      "\n",
      "reading tf_files/sort/50.fork-13.jpg\n",
      "fork (score=0.99997)\n",
      "coffee_mug (score=0.00003)\n",
      "apple (score=0.00000)\n",
      "101Test  : sort == fork\n",
      "\n",
      "reading tf_files/sort/635.main-qimg-94f8871fd774be73d3bb06d246909748-c.jpg\n",
      "fork (score=0.99861)\n",
      "coffee_mug (score=0.00139)\n",
      "apple (score=0.00000)\n",
      "102Test  : sort == fork\n",
      "\n",
      "reading tf_files/sort/470.3204.jpg\n",
      "fork (score=0.99787)\n",
      "coffee_mug (score=0.00213)\n",
      "apple (score=0.00000)\n",
      "103Test  : sort == fork\n",
      "\n",
      "reading tf_files/sort/171.sparta_straight_3.jpg\n",
      "fork (score=0.99958)\n",
      "coffee_mug (score=0.00042)\n",
      "apple (score=0.00000)\n",
      "104Test  : sort == fork\n",
      "\n",
      "reading tf_files/sort/490.winter-eyebrow-ink-chestnut-patented-microblading-tattoo-brow-ink-pen-929950334992_1050x.progressive-400x400-1-2.jpg\n",
      "fork (score=0.99857)\n",
      "coffee_mug (score=0.00143)\n",
      "apple (score=0.00000)\n",
      "105Test  : sort == fork\n",
      "\n",
      "reading tf_files/sort/67.77290723-8d55-47db-8228-c5dfa3c15652.jpg\n",
      "fork (score=0.99999)\n",
      "coffee_mug (score=0.00001)\n",
      "apple (score=0.00000)\n",
      "106Test  : sort == fork\n",
      "\n",
      "reading tf_files/sort/414.binary.jpg\n",
      "fork (score=0.96996)\n",
      "coffee_mug (score=0.03004)\n",
      "apple (score=0.00000)\n",
      "107Test  : sort == fork\n",
      "\n",
      "reading tf_files/sort/288.xcm_ds_26-27.5-29_large.jpg\n"
     ]
    },
    {
     "name": "stdout",
     "output_type": "stream",
     "text": [
      "fork (score=0.95606)\n",
      "coffee_mug (score=0.04394)\n",
      "apple (score=0.00000)\n",
      "108Test  : sort == fork\n",
      "\n",
      "reading tf_files/sort/57.164478.jpg\n",
      "fork (score=1.00000)\n",
      "coffee_mug (score=0.00000)\n",
      "apple (score=0.00000)\n",
      "109Test  : sort == fork\n",
      "\n",
      "reading tf_files/sort/125.3308-fork-splade-classic.jpg\n",
      "fork (score=0.99998)\n",
      "coffee_mug (score=0.00002)\n",
      "apple (score=0.00000)\n",
      "110Test  : sort == fork\n",
      "\n",
      "reading tf_files/sort/668.3-tine-fork-flatware-set-stylish-the-best-reviews-by-wirecutter-a-new-york-times-company-within-15.jpg\n",
      "fork (score=0.99803)\n",
      "coffee_mug (score=0.00197)\n",
      "apple (score=0.00000)\n",
      "111Test  : sort == fork\n",
      "\n",
      "reading tf_files/sort/257.gecc_coco_fork_spoon_set.jpg\n",
      "fork (score=0.99871)\n",
      "apple (score=0.00111)\n",
      "coffee_mug (score=0.00019)\n",
      "112Test  : sort == fork\n",
      "\n",
      "reading tf_files/sort/6.fork_115920517_250.jpg\n",
      "fork (score=1.00000)\n",
      "coffee_mug (score=0.00000)\n",
      "apple (score=0.00000)\n",
      "113Test  : sort == fork\n",
      "\n",
      "reading tf_files/sort/95.106979xlg.jpg_mitre10-workingformat.jpg\n",
      "fork (score=0.99995)\n",
      "coffee_mug (score=0.00005)\n",
      "apple (score=0.00000)\n",
      "114Test  : sort == fork\n",
      "\n",
      "reading tf_files/sort/374.$_35.jpg\n",
      "fork (score=0.95768)\n",
      "coffee_mug (score=0.04232)\n",
      "apple (score=0.00000)\n",
      "115Test  : sort == fork\n",
      "\n",
      "reading tf_files/sort/426.mzs000fob22.tag.0.jpg\n",
      "fork (score=0.98292)\n",
      "coffee_mug (score=0.01708)\n",
      "apple (score=0.00000)\n",
      "116Test  : sort == fork\n",
      "\n",
      "reading tf_files/sort/487.fork-in-diagonal_318-61187.jpg\n",
      "fork (score=1.00000)\n",
      "coffee_mug (score=0.00000)\n",
      "apple (score=0.00000)\n",
      "117Test  : sort == fork\n",
      "\n",
      "reading tf_files/sort/224.171017_ft_shouldthisbesmart_fork.jpg\n",
      "fork (score=0.98968)\n",
      "coffee_mug (score=0.01032)\n",
      "apple (score=0.00000)\n",
      "118Test  : sort == fork\n",
      "\n",
      "reading tf_files/sort/180.red-toasting-fork-hero-image.jpg\n",
      "fork (score=0.99886)\n",
      "coffee_mug (score=0.00114)\n",
      "apple (score=0.00000)\n",
      "119Test  : sort == fork\n",
      "\n",
      "reading tf_files/sort/19.hag-cu249605.jpg\n",
      "fork (score=0.99998)\n",
      "coffee_mug (score=0.00002)\n",
      "apple (score=0.00000)\n",
      "120Test  : sort == fork\n",
      "\n",
      "reading tf_files/sort/497.m-va-mythosone-lm-fork.jpg\n",
      "fork (score=0.98012)\n",
      "coffee_mug (score=0.01988)\n",
      "apple (score=0.00000)\n",
      "121Test  : sort == fork\n",
      "\n",
      "reading tf_files/sort/59.899006-zoom.jpg\n",
      "fork (score=0.99945)\n",
      "coffee_mug (score=0.00055)\n",
      "apple (score=0.00000)\n",
      "122Test  : sort == fork\n",
      "\n",
      "reading tf_files/sort/244.skip-hop-zootensils-fork-spoon-ladybug.jpg\n",
      "fork (score=0.97869)\n",
      "coffee_mug (score=0.01906)\n",
      "apple (score=0.00225)\n",
      "123Test  : sort == fork\n",
      "\n",
      "reading tf_files/sort/576.bitcoin-folk-logo.jpg\n",
      "fork (score=0.99979)\n",
      "coffee_mug (score=0.00021)\n",
      "apple (score=0.00000)\n",
      "124Test  : sort == fork\n",
      "\n",
      "reading tf_files/sort/100.wooden-fork.jpg\n",
      "fork (score=0.99776)\n",
      "coffee_mug (score=0.00224)\n",
      "apple (score=0.00001)\n",
      "125Test  : sort == fork\n",
      "\n",
      "reading tf_files/sort/298.kf.jpg\n",
      "fork (score=0.99987)\n",
      "coffee_mug (score=0.00013)\n",
      "apple (score=0.00000)\n",
      "126Test  : sort == fork\n",
      "\n",
      "reading tf_files/sort/372.stainless-serving-fork.jpg\n",
      "fork (score=0.99992)\n",
      "coffee_mug (score=0.00008)\n",
      "apple (score=0.00000)\n",
      "127Test  : sort == fork\n",
      "\n",
      "reading tf_files/sort/142.2204-570x570.jpg\n",
      "fork (score=0.99999)\n",
      "coffee_mug (score=0.00001)\n",
      "apple (score=0.00000)\n",
      "128Test  : sort == fork\n",
      "\n",
      "reading tf_files/sort/104.6308-tm_home_default.jpg\n",
      "fork (score=0.99274)\n",
      "coffee_mug (score=0.00726)\n",
      "apple (score=0.00000)\n",
      "129Test  : sort == fork\n",
      "\n",
      "reading tf_files/sort/319.knife-and-fork-2656027_960_720.jpg\n",
      "fork (score=0.99899)\n",
      "coffee_mug (score=0.00101)\n",
      "apple (score=0.00000)\n",
      "130Test  : sort == fork\n",
      "\n",
      "reading tf_files/sort/433.33928156.jpg\n",
      "fork (score=0.99996)\n",
      "coffee_mug (score=0.00004)\n",
      "apple (score=0.00000)\n",
      "131Test  : sort == fork\n",
      "\n",
      "reading tf_files/sort/117.21ky1tvj9wl.jpg\n",
      "fork (score=0.99999)\n",
      "coffee_mug (score=0.00001)\n",
      "apple (score=0.00000)\n",
      "132Test  : sort == fork\n",
      "\n",
      "reading tf_files/sort/23.fork-06.jpg\n",
      "fork (score=0.99998)\n",
      "coffee_mug (score=0.00002)\n",
      "apple (score=0.00000)\n",
      "133Test  : sort == fork\n",
      "\n",
      "reading tf_files/sort/630.apex-fork-zero-silver.jpg\n",
      "fork (score=0.96462)\n",
      "coffee_mug (score=0.03538)\n",
      "apple (score=0.00000)\n",
      "134Test  : sort == fork\n",
      "\n",
      "reading tf_files/sort/192.des018,%20samantha%20dennis,%20fork%20lapel%20pin.jpg\n",
      "fork (score=0.98592)\n",
      "coffee_mug (score=0.01349)\n",
      "apple (score=0.00059)\n",
      "135Test  : sort == fork\n",
      "\n",
      "reading tf_files/sort/36.18585.jpg\n",
      "fork (score=0.99997)\n",
      "coffee_mug (score=0.00003)\n",
      "apple (score=0.00000)\n",
      "136Test  : sort == fork\n",
      "\n",
      "reading tf_files/sort/29.jpg\n",
      "fork (score=1.00000)\n",
      "coffee_mug (score=0.00000)\n",
      "apple (score=0.00000)\n",
      "137Test  : sort == fork\n",
      "\n",
      "reading tf_files/sort/86.flatware_geneva_dinner_fork.jpg\n",
      "fork (score=0.99994)\n",
      "coffee_mug (score=0.00006)\n",
      "apple (score=0.00000)\n",
      "138Test  : sort == fork\n",
      "\n",
      "reading tf_files/sort/21.planetbox_fork_and_spoon_stainless_steel_grande.jpg\n",
      "fork (score=0.99969)\n",
      "coffee_mug (score=0.00030)\n",
      "apple (score=0.00001)\n",
      "139Test  : sort == fork\n",
      "\n",
      "reading tf_files/sort/301.dessert-fork-sydney-basics-sydney-18152-img1.jpg\n",
      "fork (score=0.99986)\n",
      "coffee_mug (score=0.00014)\n",
      "apple (score=0.00000)\n",
      "140Test  : sort == fork\n",
      "\n",
      "reading tf_files/sort/11.williams-sonoma-open-kitchen-fork-o.jpg\n",
      "fork (score=1.00000)\n",
      "coffee_mug (score=0.00000)\n",
      "apple (score=0.00000)\n",
      "141Test  : sort == fork\n",
      "\n",
      "reading tf_files/sort/277.pexels-photo-940302.jpg\n",
      "fork (score=0.99605)\n",
      "coffee_mug (score=0.00392)\n",
      "apple (score=0.00002)\n",
      "142Test  : sort == fork\n",
      "\n",
      "reading tf_files/sort/305.1k0213-01.jpg\n",
      "fork (score=0.99634)\n",
      "coffee_mug (score=0.00366)\n",
      "apple (score=0.00000)\n",
      "143Test  : sort == fork\n",
      "\n",
      "reading tf_files/sort/327.u520322_web_fork_3-500x500.jpg\n",
      "fork (score=0.99435)\n",
      "coffee_mug (score=0.00565)\n",
      "apple (score=0.00000)\n",
      "144Test  : sort == fork\n",
      "\n",
      "reading tf_files/sort/256.wooden_cutlery_p_57d7529a42336.jpg\n",
      "fork (score=0.99371)\n",
      "coffee_mug (score=0.00626)\n",
      "apple (score=0.00003)\n",
      "145Test  : sort == fork\n",
      "\n",
      "reading tf_files/sort/221.garden-fork.jpg\n",
      "fork (score=0.99998)\n",
      "coffee_mug (score=0.00001)\n",
      "apple (score=0.00000)\n",
      "146Test  : sort == fork\n",
      "\n",
      "reading tf_files/sort/300.fork-stem-product__32585.1526649074.386.513.jpg\n",
      "fork (score=0.99861)\n",
      "coffee_mug (score=0.00139)\n",
      "apple (score=0.00000)\n",
      "147Test  : sort == fork\n",
      "\n",
      "reading tf_files/sort/172.elegance-oyster-fork.jpg\n",
      "fork (score=0.99998)\n",
      "coffee_mug (score=0.00002)\n",
      "apple (score=0.00000)\n",
      "148Test  : sort == fork\n",
      "\n",
      "reading tf_files/sort/554.salad-fork-set-buy.jpg\n",
      "fork (score=0.99959)\n",
      "coffee_mug (score=0.00041)\n",
      "apple (score=0.00000)\n",
      "149Test  : sort == fork\n",
      "\n",
      "reading tf_files/sort/448.2977_fork_thumb.jpg\n",
      "fork (score=0.99881)\n",
      "coffee_mug (score=0.00119)\n",
      "apple (score=0.00000)\n",
      "150Test  : sort == fork\n",
      "\n",
      "reading tf_files/sort/625.itahookblockfork.jpg\n",
      "fork (score=0.99262)\n",
      "coffee_mug (score=0.00738)\n",
      "apple (score=0.00000)\n",
      "151Test  : sort == fork\n",
      "\n",
      "reading tf_files/sort/249.camping-fork-with-marshmallows_web.jpg\n",
      "fork (score=0.99988)\n",
      "coffee_mug (score=0.00012)\n",
      "apple (score=0.00000)\n",
      "152Test  : sort == fork\n",
      "\n",
      "reading tf_files/sort/335.kinesis-uk-maxlight-carbon-mtb-fork-p332984-487361_thumb.jpg\n",
      "fork (score=0.99342)\n",
      "coffee_mug (score=0.00658)\n",
      "apple (score=0.00000)\n",
      "153Test  : sort == fork\n",
      "\n",
      "reading tf_files/sort/393.sweet-tooth-forks1.jpg\n",
      "fork (score=0.96437)\n",
      "coffee_mug (score=0.03563)\n",
      "apple (score=0.00000)\n",
      "154Test  : sort == fork\n",
      "\n",
      "reading tf_files/sort/220.enve-gravel-road-fork-alt5.jpg\n",
      "fork (score=0.99991)\n",
      "coffee_mug (score=0.00009)\n",
      "apple (score=0.00000)\n",
      "155Test  : sort == fork\n",
      "\n",
      "reading tf_files/sort/271.3134.jpg\n",
      "fork (score=0.99413)\n",
      "coffee_mug (score=0.00586)\n",
      "apple (score=0.00001)\n",
      "156Test  : sort == fork\n",
      "\n",
      "reading tf_files/sort/353.fork_cx_15mmback.jpg\n",
      "fork (score=0.99956)\n",
      "coffee_mug (score=0.00044)\n",
      "apple (score=0.00000)\n",
      "157Test  : sort == fork\n",
      "\n",
      "reading tf_files/sort/671.fork-pictures-11.jpg\n",
      "fork (score=0.99983)\n",
      "coffee_mug (score=0.00017)\n",
      "apple (score=0.00000)\n",
      "158Test  : sort == fork\n",
      "\n",
      "reading tf_files/sort/184.fork.jpg\n",
      "fork (score=1.00000)\n",
      "coffee_mug (score=0.00000)\n",
      "apple (score=0.00000)\n",
      "159Test  : sort == fork\n",
      "\n",
      "reading tf_files/sort/558.34219815.jpg\n",
      "fork (score=0.99989)\n",
      "coffee_mug (score=0.00011)\n",
      "apple (score=0.00000)\n",
      "160Test  : sort == fork\n",
      "\n",
      "reading tf_files/sort/146.9137ef8a-bf93-4e02-9552-4054363ddc9e.jpg\n",
      "fork (score=0.99984)\n",
      "coffee_mug (score=0.00016)\n",
      "apple (score=0.00000)\n",
      "161Test  : sort == fork\n",
      "\n",
      "reading tf_files/sort/648.quantum-forks-silver1.jpg\n",
      "fork (score=0.96683)\n",
      "coffee_mug (score=0.03317)\n",
      "apple (score=0.00000)\n",
      "162Test  : sort == fork\n",
      "\n",
      "reading tf_files/sort/647.square-bale-fork.jpg\n",
      "fork (score=0.96838)\n",
      "coffee_mug (score=0.03162)\n",
      "apple (score=0.00000)\n",
      "163Test  : sort == fork\n",
      "\n",
      "reading tf_files/sort/207.pcp-1012622.jpg\n"
     ]
    },
    {
     "name": "stdout",
     "output_type": "stream",
     "text": [
      "fork (score=0.99999)\n",
      "coffee_mug (score=0.00001)\n",
      "apple (score=0.00000)\n",
      "164Test  : sort == fork\n",
      "\n",
      "reading tf_files/sort/536.3-tine-fork-flatware-set-stylish-sets-with-forks-compare-prices-at-nextag-throughout-12.jpg\n",
      "fork (score=0.96674)\n",
      "coffee_mug (score=0.03326)\n",
      "apple (score=0.00000)\n",
      "165Test  : sort == fork\n",
      "\n",
      "reading tf_files/sort/92.6088.jpg\n",
      "fork (score=0.99329)\n",
      "coffee_mug (score=0.00671)\n",
      "apple (score=0.00000)\n",
      "166Test  : sort == fork\n",
      "\n",
      "reading tf_files/sort/10.duna-matt-black-dessert-fork-338045.jpg\n",
      "fork (score=0.99991)\n",
      "coffee_mug (score=0.00009)\n",
      "apple (score=0.00000)\n",
      "167Test  : sort == fork\n",
      "\n",
      "reading tf_files/sort/164.fork-1-small.jpg\n",
      "fork (score=0.99999)\n",
      "coffee_mug (score=0.00001)\n",
      "apple (score=0.00000)\n",
      "168Test  : sort == fork\n",
      "\n",
      "reading tf_files/sort/383.439560-standard.jpg\n",
      "fork (score=0.99749)\n",
      "coffee_mug (score=0.00251)\n",
      "apple (score=0.00000)\n",
      "169Test  : sort == fork\n",
      "\n",
      "reading tf_files/sort/133.p-4206-compost_fork_4_prong_claw_-_bulldog_garden_tools_equipment.jpg\n",
      "fork (score=0.99985)\n",
      "coffee_mug (score=0.00015)\n",
      "apple (score=0.00000)\n",
      "170Test  : sort == fork\n",
      "\n",
      "reading tf_files/sort/636.650c_fork.jpg\n",
      "fork (score=0.99111)\n",
      "coffee_mug (score=0.00889)\n",
      "apple (score=0.00000)\n",
      "171Test  : sort == fork\n",
      "\n",
      "reading tf_files/sort/26.regency-dinner-fork.jpg\n",
      "fork (score=0.99990)\n",
      "coffee_mug (score=0.00010)\n",
      "apple (score=0.00000)\n",
      "172Test  : sort == fork\n",
      "\n",
      "reading tf_files/sort/150.jh1119461.jpg\n",
      "fork (score=0.99591)\n",
      "coffee_mug (score=0.00409)\n",
      "apple (score=0.00000)\n",
      "173Test  : sort == fork\n",
      "\n",
      "reading tf_files/sort/364.rsprct3da66-3.jpg\n",
      "fork (score=0.99965)\n",
      "coffee_mug (score=0.00035)\n",
      "apple (score=0.00000)\n",
      "174Test  : sort == fork\n",
      "\n",
      "reading tf_files/sort/423.4737103050.jpg\n",
      "fork (score=1.00000)\n",
      "coffee_mug (score=0.00000)\n",
      "apple (score=0.00000)\n",
      "175Test  : sort == fork\n",
      "\n",
      "reading tf_files/sort/597.efe.jpg\n",
      "fork (score=1.00000)\n",
      "coffee_mug (score=0.00000)\n",
      "apple (score=0.00000)\n",
      "176Test  : sort == fork\n",
      "\n",
      "reading tf_files/sort/124.colonysweettoothfork.jpg\n",
      "fork (score=1.00000)\n",
      "coffee_mug (score=0.00000)\n",
      "apple (score=0.00000)\n",
      "177Test  : sort == fork\n",
      "\n",
      "reading tf_files/sort/338.imagehandler.jpg\n",
      "fork (score=0.99989)\n",
      "coffee_mug (score=0.00011)\n",
      "apple (score=0.00000)\n",
      "178Test  : sort == fork\n",
      "\n",
      "reading tf_files/sort/322.img_2557_1024x1024@2x.jpg\n",
      "fork (score=0.99735)\n",
      "coffee_mug (score=0.00262)\n",
      "apple (score=0.00003)\n",
      "179Test  : sort == fork\n",
      "\n",
      "reading tf_files/sort/598.t50-fork-1.jpg\n",
      "fork (score=0.99896)\n",
      "coffee_mug (score=0.00069)\n",
      "apple (score=0.00035)\n",
      "180Test  : sort == fork\n",
      "\n",
      "reading tf_files/sort/266.chain_fork_02_p.jpg\n",
      "fork (score=0.99985)\n",
      "coffee_mug (score=0.00014)\n",
      "apple (score=0.00001)\n",
      "181Test  : sort == fork\n",
      "\n",
      "reading tf_files/sort/68.fork.jpg\n",
      "fork (score=0.99998)\n",
      "coffee_mug (score=0.00002)\n",
      "apple (score=0.00000)\n",
      "182Test  : sort == fork\n",
      "\n",
      "reading tf_files/sort/514.big-spoon-and-fork-wall-decor-fork-wall-decor-fork-and-spoon-wall-decor-unique-x-large-fork-and-spoon-wall-decor.jpg\n",
      "fork (score=0.99858)\n",
      "coffee_mug (score=0.00140)\n",
      "apple (score=0.00002)\n",
      "183Test  : sort == fork\n",
      "\n",
      "reading tf_files/sort/4.fork-eat-metal-fork-dine-39565.jpg\n",
      "fork (score=1.00000)\n",
      "coffee_mug (score=0.00000)\n",
      "apple (score=0.00000)\n",
      "184Test  : sort == fork\n",
      "\n",
      "reading tf_files/sort/187.0000800_tuning-fork-256student_560.jpg\n",
      "fork (score=0.99989)\n",
      "coffee_mug (score=0.00011)\n",
      "apple (score=0.00000)\n",
      "185Test  : sort == fork\n",
      "\n",
      "reading tf_files/sort/661.3-tine-fork-flatware-set-brilliant-three-prong-baby-piece-with-regard-to-16.jpg\n",
      "fork (score=0.99969)\n",
      "coffee_mug (score=0.00031)\n",
      "apple (score=0.00000)\n",
      "186Test  : sort == fork\n",
      "\n",
      "reading tf_files/sort/127.u641-lightweight-fork-wh.jpg\n",
      "fork (score=0.99980)\n",
      "coffee_mug (score=0.00020)\n",
      "apple (score=0.00000)\n",
      "187Test  : sort == fork\n",
      "\n",
      "reading tf_files/sort/600.formula-35-fork-v2-10.jpg\n",
      "fork (score=0.96386)\n",
      "coffee_mug (score=0.03585)\n",
      "apple (score=0.00030)\n",
      "188Test  : sort == fork\n",
      "\n",
      "reading tf_files/sort/548.77-1125.jpg\n",
      "fork (score=0.99065)\n",
      "coffee_mug (score=0.00934)\n",
      "apple (score=0.00001)\n",
      "189Test  : sort == fork\n",
      "\n",
      "reading tf_files/sort/259.f754eb13c842f86cdab17c7624b6a73e_forks-images-free-fork-picture-download-clip-art-clipartbarn-fork-clipart-free_1024-768.jpg\n",
      "fork (score=0.99996)\n",
      "coffee_mug (score=0.00004)\n",
      "apple (score=0.00000)\n",
      "190Test  : sort == fork\n",
      "\n",
      "reading tf_files/sort/400.fox-34-ebike-fork-04617.jpg\n",
      "fork (score=0.96877)\n",
      "coffee_mug (score=0.03123)\n",
      "apple (score=0.00000)\n",
      "191Test  : sort == fork\n",
      "\n",
      "reading tf_files/sort/260.cargo-fork-side-view.jpg\n",
      "fork (score=0.99389)\n",
      "coffee_mug (score=0.00610)\n",
      "apple (score=0.00001)\n",
      "192Test  : sort == fork\n",
      "\n",
      "reading tf_files/sort/337.titanium-single-arm-fork-mvvn0350d.jpg\n",
      "fork (score=0.99999)\n",
      "coffee_mug (score=0.00001)\n",
      "apple (score=0.00000)\n",
      "193Test  : sort == fork\n",
      "\n",
      "reading tf_files/sort/216.18-10-cutlery-fish-forks-specially-designed.jpg\n",
      "fork (score=0.99999)\n",
      "coffee_mug (score=0.00001)\n",
      "apple (score=0.00000)\n",
      "194Test  : sort == fork\n",
      "\n",
      "reading tf_files/sort/555.trendy-metal-fork-knife-spoon-isolated-whit-4705046.jpg\n",
      "fork (score=0.99965)\n",
      "coffee_mug (score=0.00035)\n",
      "apple (score=0.00000)\n",
      "195Test  : sort == fork\n",
      "\n",
      "reading tf_files/sort/280.weeding-fork.jpg\n",
      "fork (score=0.99912)\n",
      "coffee_mug (score=0.00087)\n",
      "apple (score=0.00001)\n",
      "196Test  : sort == fork\n",
      "\n",
      "reading tf_files/sort/295.kicut-star14%20%20fork%20spoon%20toddler%20kids%20melamine%20cutlery%20green%20&%20red%20blue%20star%20print%20rice%20dk%20-%20copy.jpg\n",
      "fork (score=0.99957)\n",
      "coffee_mug (score=0.00043)\n",
      "apple (score=0.00000)\n",
      "197Test  : sort == fork\n",
      "\n",
      "reading tf_files/sort/656.maxresdefault.jpg\n",
      "fork (score=0.98271)\n",
      "coffee_mug (score=0.01729)\n",
      "apple (score=0.00000)\n",
      "198Test  : sort == fork\n",
      "\n",
      "reading tf_files/sort/226.a-fork.jpg\n",
      "fork (score=0.99999)\n",
      "coffee_mug (score=0.00001)\n",
      "apple (score=0.00000)\n",
      "199Test  : sort == fork\n",
      "\n",
      "reading tf_files/sort/61.k306-df-2.jpg\n",
      "fork (score=0.99976)\n",
      "coffee_mug (score=0.00024)\n",
      "apple (score=0.00000)\n",
      "200Test  : sort == fork\n",
      "\n",
      "reading tf_files/sort/642.3-tine-fork-flatware-set-awesome-kids-sets-with-forks-dugunsusleme-info-intended-for-10.jpg\n",
      "fork (score=0.99992)\n",
      "coffee_mug (score=0.00008)\n",
      "apple (score=0.00000)\n",
      "201Test  : sort == fork\n",
      "\n",
      "reading tf_files/sort/594.fork-clipart-black-and-white-613329-732096.jpg\n",
      "fork (score=0.99544)\n",
      "coffee_mug (score=0.00433)\n",
      "apple (score=0.00023)\n",
      "202Test  : sort == fork\n",
      "\n",
      "reading tf_files/sort/239.tramontina-spanish-polywood-steak-knife-and-fork-set-12pc_1_750px.jpg\n",
      "fork (score=0.99964)\n",
      "coffee_mug (score=0.00036)\n",
      "apple (score=0.00000)\n",
      "203Test  : sort == fork\n",
      "\n",
      "reading tf_files/sort/309.fork-clipart-613325-2687320.jpg\n",
      "fork (score=0.99758)\n",
      "coffee_mug (score=0.00242)\n",
      "apple (score=0.00000)\n",
      "204Test  : sort == fork\n",
      "\n",
      "reading tf_files/sort/106.fork-eat-metal-fork-dine-39565.jpg\n",
      "fork (score=0.99995)\n",
      "coffee_mug (score=0.00005)\n",
      "apple (score=0.00000)\n",
      "205Test  : sort == fork\n",
      "\n",
      "reading tf_files/sort/523.product-9564-161004-110250.jpg\n",
      "fork (score=0.98888)\n",
      "coffee_mug (score=0.01112)\n",
      "apple (score=0.00000)\n",
      "206Test  : sort == fork\n",
      "\n",
      "reading tf_files/sort/603.sterling-silver-baby-fork-spoon-restored.jpg\n",
      "fork (score=0.99976)\n",
      "coffee_mug (score=0.00021)\n",
      "apple (score=0.00003)\n",
      "207Test  : sort == fork\n",
      "\n",
      "reading tf_files/sort/386.img_1520.jpg\n",
      "fork (score=0.99998)\n",
      "coffee_mug (score=0.00002)\n",
      "apple (score=0.00000)\n",
      "208Test  : sort == fork\n",
      "\n",
      "reading tf_files/sort/138.130107035356-smart-fork-story-body.jpg\n",
      "fork (score=0.99974)\n",
      "coffee_mug (score=0.00026)\n",
      "apple (score=0.00000)\n",
      "209Test  : sort == fork\n",
      "\n",
      "reading tf_files/sort/373.dessert-fork.jpg\n",
      "fork (score=0.99997)\n",
      "coffee_mug (score=0.00003)\n",
      "apple (score=0.00000)\n",
      "210Test  : sort == fork\n",
      "\n",
      "reading tf_files/sort/240.bionic-scs-fork-matte-blue-back.jpg\n",
      "fork (score=0.99133)\n",
      "coffee_mug (score=0.00867)\n",
      "apple (score=0.00000)\n",
      "211Test  : sort == fork\n",
      "\n",
      "reading tf_files/sort/430.fundi.jpg\n",
      "fork (score=0.99980)\n",
      "coffee_mug (score=0.00020)\n",
      "apple (score=0.00000)\n",
      "212Test  : sort == fork\n",
      "\n",
      "reading tf_files/sort/664.appetizer-cocktail-fork-all-about-events.jpg\n",
      "fork (score=1.00000)\n",
      "coffee_mug (score=0.00000)\n",
      "apple (score=0.00000)\n",
      "213Test  : sort == fork\n",
      "\n",
      "reading tf_files/sort/632.1f1d9a850a3123fedb02715b76b904fd--printable-stencils-stencil-art.jpg\n",
      "fork (score=0.99999)\n",
      "coffee_mug (score=0.00001)\n",
      "apple (score=0.00000)\n",
      "214Test  : sort == fork\n",
      "\n",
      "reading tf_files/sort/472.large-fork-and-spoon-wall-fork-and-spoon-wall-decor-with-large-wall-decor.jpg\n",
      "fork (score=0.98245)\n",
      "coffee_mug (score=0.01755)\n",
      "apple (score=0.00000)\n",
      "215Test  : sort == fork\n",
      "\n",
      "reading tf_files/sort/185.rd12-fork-thru-road-angleweb_grande.jpg\n"
     ]
    },
    {
     "name": "stdout",
     "output_type": "stream",
     "text": [
      "fork (score=0.99996)\n",
      "coffee_mug (score=0.00004)\n",
      "apple (score=0.00000)\n",
      "216Test  : sort == fork\n",
      "\n",
      "reading tf_files/sort/262.fsbqqpvr.jpg\n",
      "fork (score=0.99995)\n",
      "coffee_mug (score=0.00005)\n",
      "apple (score=0.00000)\n",
      "217Test  : sort == fork\n",
      "\n",
      "reading tf_files/sort/232.43291.lg.jpg\n",
      "fork (score=0.99998)\n",
      "coffee_mug (score=0.00002)\n",
      "apple (score=0.00000)\n",
      "218Test  : sort == fork\n",
      "\n",
      "reading tf_files/sort/128.86263_p&$prodimagemedium$.jpg\n",
      "fork (score=0.99648)\n",
      "coffee_mug (score=0.00352)\n",
      "apple (score=0.00000)\n",
      "219Test  : sort == fork\n",
      "\n",
      "reading tf_files/sort/91.k303tf.jpg\n",
      "fork (score=0.99987)\n",
      "coffee_mug (score=0.00013)\n",
      "apple (score=0.00000)\n",
      "220Test  : sort == fork\n",
      "\n",
      "reading tf_files/sort/41.2848.jpg\n",
      "fork (score=0.99609)\n",
      "coffee_mug (score=0.00391)\n",
      "apple (score=0.00000)\n",
      "221Test  : sort == fork\n",
      "\n",
      "reading tf_files/sort/365.fork-wall-decor-best-rustic-wall-decor.jpg\n",
      "fork (score=0.98352)\n",
      "coffee_mug (score=0.01647)\n",
      "apple (score=0.00000)\n",
      "222Test  : sort == fork\n",
      "\n",
      "reading tf_files/sort/465.fango.jpg\n",
      "fork (score=0.99757)\n",
      "coffee_mug (score=0.00243)\n",
      "apple (score=0.00000)\n",
      "223Test  : sort == fork\n",
      "\n",
      "reading tf_files/sort/526.aid1403694-v4-728px-replace-fork-seals-step-2.jpg\n",
      "fork (score=0.99931)\n",
      "coffee_mug (score=0.00068)\n",
      "apple (score=0.00000)\n",
      "224Test  : sort == fork\n",
      "\n",
      "reading tf_files/sort/123.bambu-home-knife-fork-spoon-set-22720575949_1000x1000.jpg\n",
      "fork (score=0.97803)\n",
      "coffee_mug (score=0.02136)\n",
      "apple (score=0.00061)\n",
      "225Test  : sort == fork\n",
      "\n",
      "reading tf_files/sort/233.lucky_vektor_fork_black__38964.1419393896.1280.1280.jpg\n",
      "fork (score=0.99862)\n",
      "coffee_mug (score=0.00138)\n",
      "apple (score=0.00000)\n",
      "226Test  : sort == fork\n",
      "\n",
      "reading tf_files/sort/330.enve_cx_fork_through_axle_hirez_1-1-1300x0-c-default.jpg\n",
      "fork (score=0.99995)\n",
      "coffee_mug (score=0.00005)\n",
      "apple (score=0.00000)\n",
      "227Test  : sort == fork\n",
      "\n",
      "reading tf_files/sort/30.victoria_gold_starter_dessert_fork_resize_2016.jpg\n",
      "fork (score=0.99409)\n",
      "coffee_mug (score=0.00591)\n",
      "apple (score=0.00000)\n",
      "228Test  : sort == fork\n",
      "\n",
      "reading tf_files/sort/35.jpg\n",
      "fork (score=0.99207)\n",
      "coffee_mug (score=0.00793)\n",
      "apple (score=0.00000)\n",
      "229Test  : sort == fork\n",
      "\n",
      "reading tf_files/sort/516.pasta-promotional-product-idea-twist-spaghetti-forks.jpg\n",
      "fork (score=0.99989)\n",
      "coffee_mug (score=0.00011)\n",
      "apple (score=0.00000)\n",
      "230Test  : sort == fork\n",
      "\n",
      "reading tf_files/sort/639.ritchey-pro-carbon-forks-med.jpg\n",
      "fork (score=0.99949)\n",
      "coffee_mug (score=0.00051)\n",
      "apple (score=0.00000)\n",
      "231Test  : sort == fork\n",
      "\n",
      "reading tf_files/sort/38.bigstock-fork-1211956-640x428.jpg\n",
      "fork (score=0.99999)\n",
      "coffee_mug (score=0.00001)\n",
      "apple (score=0.00000)\n",
      "232Test  : sort == fork\n",
      "\n",
      "reading tf_files/sort/562.12741-pr16648%20fiskars%20garden%20light%20digging%20fork.jpg\n",
      "fork (score=0.99979)\n",
      "coffee_mug (score=0.00021)\n",
      "apple (score=0.00000)\n",
      "233Test  : sort == fork\n",
      "\n",
      "reading tf_files/sort/504.rockshox-pike-dj-fork.jpg\n",
      "fork (score=0.98967)\n",
      "coffee_mug (score=0.01033)\n",
      "apple (score=0.00000)\n",
      "234Test  : sort == fork\n",
      "\n",
      "reading tf_files/sort/228.image-151.jpg\n",
      "fork (score=0.99293)\n",
      "coffee_mug (score=0.00707)\n",
      "apple (score=0.00000)\n",
      "235Test  : sort == fork\n",
      "\n",
      "reading tf_files/sort/71.fork.jpg\n",
      "fork (score=0.99999)\n",
      "coffee_mug (score=0.00001)\n",
      "apple (score=0.00000)\n",
      "236Test  : sort == fork\n",
      "\n",
      "reading tf_files/sort/14.lct004met-0_01.jpg\n",
      "fork (score=0.99990)\n",
      "coffee_mug (score=0.00010)\n",
      "apple (score=0.00000)\n",
      "237Test  : sort == fork\n",
      "\n",
      "reading tf_files/sort/662.fork-and-spoon-wall-art-wooden-fork-and-spoon-wall-decor-cute-decorative-wall-clocks.jpg\n",
      "fork (score=0.99718)\n",
      "apple (score=0.00255)\n",
      "coffee_mug (score=0.00027)\n",
      "238Test  : sort == fork\n",
      "\n",
      "reading tf_files/sort/158.41876817-1-tf.jpg\n",
      "fork (score=0.99847)\n",
      "coffee_mug (score=0.00152)\n",
      "apple (score=0.00000)\n",
      "239Test  : sort == fork\n",
      "\n",
      "reading tf_files/sort/390.rxf-36-27.5-front-fork_4-380x240.jpg\n",
      "fork (score=0.99971)\n",
      "coffee_mug (score=0.00029)\n",
      "apple (score=0.00000)\n",
      "240Test  : sort == fork\n",
      "\n",
      "reading tf_files/sort/402.3171injupjl._sy300_ql70_.jpg\n",
      "fork (score=1.00000)\n",
      "coffee_mug (score=0.00000)\n",
      "apple (score=0.00000)\n",
      "241Test  : sort == fork\n",
      "\n",
      "reading tf_files/sort/34.lucky_2017_helux_fork_teal_1024x1024.jpg\n",
      "fork (score=0.98665)\n",
      "coffee_mug (score=0.01335)\n",
      "apple (score=0.00000)\n",
      "242Test  : sort == fork\n",
      "\n",
      "reading tf_files/sort/45.ruth-pretty-blending-fork_f_grande.jpg\n",
      "fork (score=0.99992)\n",
      "coffee_mug (score=0.00008)\n",
      "apple (score=0.00000)\n",
      "243Test  : sort == fork\n",
      "\n",
      "reading tf_files/sort/52.garden-fork-with-long-handle.jpg\n",
      "fork (score=0.99998)\n",
      "coffee_mug (score=0.00002)\n",
      "apple (score=0.00000)\n",
      "244Test  : sort == fork\n",
      "\n",
      "reading tf_files/sort/418.love_fork_spoon_chopsticks_set.jpg\n",
      "fork (score=0.99940)\n",
      "coffee_mug (score=0.00060)\n",
      "apple (score=0.00000)\n",
      "245Test  : sort == fork\n",
      "\n",
      "reading tf_files/sort/222.cake-fork-sydney-basics-sydney-18158-img1.jpg\n",
      "fork (score=0.99987)\n",
      "coffee_mug (score=0.00013)\n",
      "apple (score=0.00000)\n",
      "246Test  : sort == fork\n",
      "\n",
      "reading tf_files/sort/272.p-4198-border_fork-_bulldog_garden_fork_australia.jpg\n",
      "fork (score=1.00000)\n",
      "coffee_mug (score=0.00000)\n",
      "apple (score=0.00000)\n",
      "247Test  : sort == fork\n",
      "\n",
      "reading tf_files/sort/294.jpg\n",
      "fork (score=0.99893)\n",
      "coffee_mug (score=0.00107)\n",
      "apple (score=0.00000)\n",
      "248Test  : sort == fork\n",
      "\n",
      "reading tf_files/sort/333.mix-salad-fork.jpg\n",
      "fork (score=0.99981)\n",
      "coffee_mug (score=0.00019)\n",
      "apple (score=0.00000)\n",
      "249Test  : sort == fork\n",
      "\n",
      "reading tf_files/sort/518.6710.jpg\n",
      "fork (score=0.98751)\n",
      "coffee_mug (score=0.01249)\n",
      "apple (score=0.00000)\n",
      "250Test  : sort == fork\n",
      "\n",
      "reading tf_files/sort/8.shutterstock_88722283.jpg\n",
      "fork (score=0.99915)\n",
      "coffee_mug (score=0.00085)\n",
      "apple (score=0.00000)\n",
      "251Test  : sort == fork\n",
      "\n",
      "reading tf_files/sort/121.princess-serving-spoon-fork.jpg\n",
      "fork (score=0.99996)\n",
      "coffee_mug (score=0.00004)\n",
      "apple (score=0.00000)\n",
      "252Test  : sort == fork\n",
      "\n",
      "reading tf_files/sort/156.image-2420.jpg\n",
      "fork (score=0.99689)\n",
      "coffee_mug (score=0.00311)\n",
      "apple (score=0.00000)\n",
      "253Test  : sort == fork\n",
      "\n",
      "reading tf_files/sort/560.p-2168-432-hz-tuning-fork-18.jpg\n",
      "fork (score=0.98935)\n",
      "coffee_mug (score=0.01064)\n",
      "apple (score=0.00001)\n",
      "254Test  : sort == fork\n",
      "\n",
      "reading tf_files/sort/215.864ffa4f-4d4a-4433-96ad-ecbabcf153d2.jpg\n",
      "fork (score=0.99845)\n",
      "coffee_mug (score=0.00155)\n",
      "apple (score=0.00000)\n",
      "255Test  : sort == fork\n",
      "\n",
      "reading tf_files/sort/530.3t-funda-team-forks-med.jpg\n",
      "fork (score=0.99683)\n",
      "coffee_mug (score=0.00317)\n",
      "apple (score=0.00000)\n",
      "256Test  : sort == fork\n",
      "\n",
      "reading tf_files/sort/284.0086719_tea-spoon-fork-small-06-piece-nc14_550.jpg\n",
      "fork (score=0.99997)\n",
      "coffee_mug (score=0.00003)\n",
      "apple (score=0.00000)\n",
      "257Test  : sort == fork\n",
      "\n",
      "reading tf_files/sort/66.fox_kabolt.jpg\n",
      "fork (score=0.98631)\n",
      "coffee_mug (score=0.01369)\n",
      "apple (score=0.00000)\n",
      "258Test  : sort == fork\n",
      "\n",
      "reading tf_files/sort/149.oxo-fork-and-spoon-set-aqua_27.jpg\n",
      "fork (score=0.98146)\n",
      "coffee_mug (score=0.01854)\n",
      "apple (score=0.00000)\n",
      "259Test  : sort == fork\n",
      "\n",
      "reading tf_files/sort/666.3-tine-fork-flatware-set-amazing-prong-5-piece-regarding-18.jpg\n",
      "fork (score=0.95037)\n",
      "coffee_mug (score=0.04962)\n",
      "apple (score=0.00000)\n",
      "260Test  : sort == fork\n",
      "\n",
      "reading tf_files/sort/193.271.jpg\n",
      "fork (score=0.99987)\n",
      "coffee_mug (score=0.00013)\n",
      "apple (score=0.00000)\n",
      "261Test  : sort == fork\n",
      "\n",
      "reading tf_files/sort/267.hc28-56905-grape-fork-white-28_56905-800x800.jpg\n",
      "fork (score=0.99966)\n",
      "coffee_mug (score=0.00034)\n",
      "apple (score=0.00000)\n",
      "262Test  : sort == fork\n",
      "\n",
      "reading tf_files/sort/477.fork_02.jpg\n",
      "fork (score=0.99773)\n",
      "coffee_mug (score=0.00227)\n",
      "apple (score=0.00000)\n",
      "263Test  : sort == fork\n",
      "\n",
      "reading tf_files/sort/252.mami_fork.jpg\n",
      "fork (score=0.99996)\n",
      "coffee_mug (score=0.00004)\n",
      "apple (score=0.00000)\n",
      "264Test  : sort == fork\n",
      "\n",
      "reading tf_files/sort/73.may-the-fork-be-with-you-300x250.jpg\n",
      "fork (score=0.99716)\n",
      "coffee_mug (score=0.00282)\n",
      "apple (score=0.00002)\n",
      "265Test  : sort == fork\n",
      "\n",
      "reading tf_files/sort/279.rockshox-sektor-gold-rl-solo-air-130-29-tapered-black-ev302318-8500-1.jpg\n",
      "fork (score=0.99179)\n",
      "coffee_mug (score=0.00821)\n",
      "apple (score=0.00000)\n",
      "266Test  : sort == fork\n",
      "\n",
      "reading tf_files/sort/81.enve-carbon-fiber-rake-road-fork.jpg\n",
      "fork (score=0.99904)\n",
      "coffee_mug (score=0.00096)\n",
      "apple (score=0.00000)\n",
      "267Test  : sort == fork\n",
      "\n",
      "reading tf_files/sort/359.ca0055011_fork-large-amalfi-300x300.jpg\n",
      "fork (score=0.99942)\n",
      "coffee_mug (score=0.00058)\n",
      "apple (score=0.00000)\n",
      "268Test  : sort == fork\n",
      "\n",
      "reading tf_files/sort/369.old-fork-knife-hand-drawing-cutlery-transparent-background-97670555.jpg\n"
     ]
    },
    {
     "name": "stdout",
     "output_type": "stream",
     "text": [
      "fork (score=0.99985)\n",
      "coffee_mug (score=0.00015)\n",
      "apple (score=0.00000)\n",
      "269Test  : sort == fork\n",
      "\n",
      "reading tf_files/sort/334.pexels-photo-262896.jpg\n",
      "fork (score=0.99998)\n",
      "coffee_mug (score=0.00002)\n",
      "apple (score=0.00000)\n",
      "270Test  : sort == fork\n",
      "\n",
      "reading tf_files/sort/527.exon-forks1.jpg\n",
      "fork (score=0.99939)\n",
      "coffee_mug (score=0.00061)\n",
      "apple (score=0.00000)\n",
      "271Test  : sort == fork\n",
      "\n",
      "reading tf_files/sort/112.31kk0aqfifl._sl500_ac_ss350_.jpg\n",
      "fork (score=0.99999)\n",
      "coffee_mug (score=0.00001)\n",
      "apple (score=0.00000)\n",
      "272Test  : sort == fork\n",
      "\n",
      "reading tf_files/sort/122.tuningfork_c-512_1.jpg\n",
      "fork (score=0.99987)\n",
      "coffee_mug (score=0.00013)\n",
      "apple (score=0.00000)\n",
      "273Test  : sort == fork\n",
      "\n",
      "reading tf_files/sort/225.props-hire-cutlery-glamorous-gold-metal-forks-knives-spoons-event-melbourne-hire-2_grande.jpg\n",
      "fork (score=0.99842)\n",
      "coffee_mug (score=0.00158)\n",
      "apple (score=0.00000)\n",
      "274Test  : sort == fork\n",
      "\n",
      "reading tf_files/sort/392.2bff59fcbb0dca9b9fc3251eeff2d46e.jpg\n",
      "fork (score=0.99500)\n",
      "coffee_mug (score=0.00500)\n",
      "apple (score=0.00000)\n",
      "275Test  : sort == fork\n",
      "\n",
      "reading tf_files/sort/446.jpg\n",
      "fork (score=1.00000)\n",
      "coffee_mug (score=0.00000)\n",
      "apple (score=0.00000)\n",
      "276Test  : sort == fork\n",
      "\n",
      "reading tf_files/sort/535.154667.jpg\n",
      "fork (score=0.99675)\n",
      "coffee_mug (score=0.00325)\n",
      "apple (score=0.00000)\n",
      "277Test  : sort == fork\n",
      "\n",
      "reading tf_files/sort/368.long_timber_fork_1.jpg\n",
      "fork (score=0.99982)\n",
      "coffee_mug (score=0.00018)\n",
      "apple (score=0.00000)\n",
      "278Test  : sort == fork\n",
      "\n",
      "reading tf_files/sort/351.set-of-3-cutlery-knife-fork-spoon-hiker-s-camp-plastic-blue.jpg\n",
      "fork (score=0.99817)\n",
      "coffee_mug (score=0.00183)\n",
      "apple (score=0.00000)\n",
      "279Test  : sort == fork\n",
      "\n",
      "reading tf_files/sort/547.rbca010-fork-mounted-bike-rack-01.jpg\n",
      "fork (score=0.98787)\n",
      "coffee_mug (score=0.01213)\n",
      "apple (score=0.00000)\n",
      "280Test  : sort == fork\n",
      "\n",
      "reading tf_files/sort/538.apex-infinity-fork-green.jpg\n",
      "fork (score=0.99738)\n",
      "coffee_mug (score=0.00262)\n",
      "apple (score=0.00000)\n",
      "281Test  : sort == fork\n",
      "\n",
      "reading tf_files/sort/292.full.jpg\n",
      "fork (score=0.99999)\n",
      "coffee_mug (score=0.00001)\n",
      "apple (score=0.00000)\n",
      "282Test  : sort == fork\n",
      "\n",
      "reading tf_files/sort/236.fork_cx_15mm_with_steerer.jpg\n",
      "fork (score=0.99996)\n",
      "coffee_mug (score=0.00004)\n",
      "apple (score=0.00000)\n",
      "283Test  : sort == fork\n",
      "\n",
      "reading tf_files/sort/190.doodle-fork-spoon-knife_1034-536.jpg\n",
      "fork (score=0.99910)\n",
      "coffee_mug (score=0.00090)\n",
      "apple (score=0.00000)\n",
      "284Test  : sort == fork\n",
      "\n",
      "reading tf_files/sort/586.fork-spoon-wall-art-fork-and-spoon-wall-decor-big-large-decorative-wall-clocks.jpg\n",
      "fork (score=0.98920)\n",
      "coffee_mug (score=0.00966)\n",
      "apple (score=0.00114)\n",
      "285Test  : sort == fork\n",
      "\n",
      "reading tf_files/sort/650.fork%2bcriticism.jpg\n",
      "fork (score=0.99525)\n",
      "coffee_mug (score=0.00474)\n",
      "apple (score=0.00001)\n",
      "286Test  : sort == fork\n",
      "\n",
      "reading tf_files/sort/439.goedesfo.jpg\n",
      "fork (score=0.99902)\n",
      "coffee_mug (score=0.00098)\n",
      "apple (score=0.00000)\n",
      "287Test  : sort == fork\n",
      "\n",
      "reading tf_files/sort/637.sardine_fork_main_art.jpg\n",
      "fork (score=0.98108)\n",
      "coffee_mug (score=0.01892)\n",
      "apple (score=0.00000)\n",
      "288Test  : sort == fork\n",
      "\n",
      "reading tf_files/sort/401.cal21b-stanley-rogers-albany-dessert-fork-loose-rs-hr_394x.jpg\n",
      "fork (score=0.99996)\n",
      "coffee_mug (score=0.00004)\n",
      "apple (score=0.00000)\n",
      "289Test  : sort == fork\n",
      "\n",
      "reading tf_files/sort/556.apex-fork-zero-black.jpg\n",
      "fork (score=0.95165)\n",
      "coffee_mug (score=0.04835)\n",
      "apple (score=0.00000)\n",
      "290Test  : sort == fork\n",
      "\n",
      "reading tf_files/sort/251.what-is-a-fork.jpg\n",
      "fork (score=0.99960)\n",
      "coffee_mug (score=0.00040)\n",
      "apple (score=0.00000)\n",
      "291Test  : sort == fork\n",
      "\n",
      "reading tf_files/sort/273.enve-carbon-fiber-road-disc-brake-fork-alt1.jpg\n",
      "fork (score=0.99983)\n",
      "coffee_mug (score=0.00017)\n",
      "apple (score=0.00000)\n",
      "292Test  : sort == fork\n",
      "\n",
      "reading tf_files/sort/419.tuning_fork-demo-large-new_1.jpg\n",
      "fork (score=0.99701)\n",
      "coffee_mug (score=0.00299)\n",
      "apple (score=0.00000)\n",
      "293Test  : sort == fork\n",
      "\n",
      "reading tf_files/sort/449.10071.jpg\n",
      "fork (score=0.99673)\n",
      "coffee_mug (score=0.00327)\n",
      "apple (score=0.00000)\n",
      "294Test  : sort == fork\n",
      "\n",
      "reading tf_files/sort/74.childrens_fork_-_dark_blue.jpg\n",
      "fork (score=0.99988)\n",
      "coffee_mug (score=0.00012)\n",
      "apple (score=0.00000)\n",
      "295Test  : sort == fork\n",
      "\n",
      "reading tf_files/sort/325.rssu0n810_zoom.jpg\n",
      "fork (score=0.98235)\n",
      "coffee_mug (score=0.01765)\n",
      "apple (score=0.00000)\n",
      "296Test  : sort == fork\n",
      "\n",
      "reading tf_files/sort/24.1200px-assorted_forks.jpg\n",
      "fork (score=0.99795)\n",
      "coffee_mug (score=0.00190)\n",
      "apple (score=0.00015)\n",
      "297Test  : sort == fork\n",
      "\n",
      "reading tf_files/sort/212.home-design.jpg\n",
      "fork (score=0.99834)\n",
      "coffee_mug (score=0.00166)\n",
      "apple (score=0.00000)\n",
      "298Test  : sort == fork\n",
      "\n",
      "reading tf_files/sort/315.scanpan-classic-carving-fork-15cm_1_750px.jpg\n",
      "fork (score=0.99996)\n",
      "coffee_mug (score=0.00004)\n",
      "apple (score=0.00000)\n",
      "299Test  : sort == fork\n",
      "\n",
      "reading tf_files/sort/194.cuisinart-carving-fork-15cm_1a_750px.jpg\n",
      "fork (score=0.99998)\n",
      "coffee_mug (score=0.00002)\n",
      "apple (score=0.00000)\n",
      "300Test  : sort == fork\n",
      "\n",
      "reading tf_files/sort/395.fork-spring-kit_2.jpg\n",
      "fork (score=0.99824)\n",
      "coffee_mug (score=0.00176)\n",
      "apple (score=0.00000)\n",
      "301Test  : sort == fork\n",
      "\n",
      "reading tf_files/sort/44.class-10mm-black_850x.jpg\n",
      "fork (score=0.99997)\n",
      "coffee_mug (score=0.00003)\n",
      "apple (score=0.00000)\n",
      "302Test  : sort == fork\n",
      "\n",
      "reading tf_files/sort/566.colonyexonforks.jpg\n",
      "fork (score=0.95666)\n",
      "coffee_mug (score=0.04334)\n",
      "apple (score=0.00000)\n",
      "303Test  : sort == fork\n",
      "\n",
      "reading tf_files/sort/631.cake-fork-bogart.jpg\n",
      "fork (score=0.99219)\n",
      "coffee_mug (score=0.00682)\n",
      "apple (score=0.00099)\n",
      "304Test  : sort == fork\n",
      "\n",
      "reading tf_files/sort/579.72-96141.jpg\n",
      "fork (score=0.98777)\n",
      "coffee_mug (score=0.01221)\n",
      "apple (score=0.00002)\n",
      "305Test  : sort == fork\n",
      "\n",
      "reading tf_files/sort/318.knork%20combination%20knife%20and%20fork.jpg\n",
      "fork (score=1.00000)\n",
      "coffee_mug (score=0.00000)\n",
      "apple (score=0.00000)\n",
      "306Test  : sort == fork\n",
      "\n",
      "reading tf_files/sort/290.ixqmn5kb08tibmyqoe1r.jpg\n",
      "fork (score=0.99100)\n",
      "coffee_mug (score=0.00597)\n",
      "apple (score=0.00303)\n",
      "307Test  : sort == fork\n",
      "\n",
      "reading tf_files/sort/189.b_black_x_t_gold-1000x1000.jpg\n",
      "fork (score=0.99858)\n",
      "coffee_mug (score=0.00142)\n",
      "apple (score=0.00000)\n",
      "308Test  : sort == fork\n",
      "\n",
      "reading tf_files/sort/479.96025.jpg\n",
      "fork (score=0.95839)\n",
      "coffee_mug (score=0.04160)\n",
      "apple (score=0.00001)\n",
      "309Test  : sort == fork\n",
      "\n",
      "reading tf_files/sort/283.250px-bicycle_fork_labeled.svg.jpg\n",
      "fork (score=0.99939)\n",
      "coffee_mug (score=0.00060)\n",
      "apple (score=0.00000)\n",
      "310Test  : sort == fork\n",
      "\n",
      "reading tf_files/sort/12.hisf12800.jpg\n",
      "fork (score=0.99999)\n",
      "coffee_mug (score=0.00001)\n",
      "apple (score=0.00000)\n",
      "311Test  : sort == fork\n",
      "\n",
      "reading tf_files/sort/468.5.jpg\n",
      "fork (score=0.98852)\n",
      "coffee_mug (score=0.01135)\n",
      "apple (score=0.00013)\n",
      "312Test  : sort == fork\n",
      "\n",
      "reading tf_files/sort/349.no9_cx_15mm_fork.jpg\n",
      "fork (score=0.99982)\n",
      "coffee_mug (score=0.00018)\n",
      "apple (score=0.00000)\n",
      "313Test  : sort == fork\n",
      "\n",
      "reading tf_files/sort/110.tablekraft-bogart-table-fork_1_500px.jpg\n",
      "fork (score=0.99935)\n",
      "coffee_mug (score=0.00065)\n",
      "apple (score=0.00000)\n",
      "314Test  : sort == fork\n",
      "\n",
      "reading tf_files/sort/137.fork-973901__340.jpg\n",
      "fork (score=0.99986)\n",
      "coffee_mug (score=0.00014)\n",
      "apple (score=0.00000)\n",
      "315Test  : sort == fork\n",
      "\n",
      "reading tf_files/sort/385.aid23872-v4-728px-use-a-fork-and-knife-properly-step-6.jpg\n",
      "fork (score=0.50680)\n",
      "apple (score=0.47102)\n",
      "coffee_mug (score=0.02218)\n",
      "316Test  : sort == fork\n",
      "\n",
      "reading tf_files/sort/499.cultsectv3forks.jpg\n",
      "fork (score=0.99986)\n",
      "coffee_mug (score=0.00014)\n",
      "apple (score=0.00000)\n",
      "317Test  : sort == fork\n",
      "\n",
      "reading tf_files/sort/513.1e35b5d4fd95b24775aab11c702b3f1c--free-vector-graphics-vector-clipart.jpg\n",
      "fork (score=0.99992)\n",
      "coffee_mug (score=0.00008)\n",
      "apple (score=0.00000)\n",
      "318Test  : sort == fork\n",
      "\n",
      "reading tf_files/sort/437.fork-positioner-lg1.jpg\n",
      "fork (score=0.81891)\n",
      "coffee_mug (score=0.18109)\n",
      "apple (score=0.00000)\n",
      "319Test  : sort == fork\n",
      "\n",
      "reading tf_files/sort/32.jpg\n",
      "fork (score=0.99978)\n",
      "coffee_mug (score=0.00022)\n",
      "apple (score=0.00000)\n",
      "320Test  : sort == fork\n",
      "\n",
      "reading tf_files/sort/304.animalstreetfork15mm.jpg\n",
      "fork (score=0.99860)\n",
      "coffee_mug (score=0.00140)\n",
      "apple (score=0.00000)\n",
      "321Test  : sort == fork\n",
      "\n",
      "reading tf_files/sort/109.img_3766.jpg\n",
      "fork (score=0.93828)\n",
      "coffee_mug (score=0.06172)\n",
      "apple (score=0.00000)\n",
      "322Test  : sort == fork\n",
      "\n",
      "reading tf_files/sort/285.fork.jpg\n",
      "fork (score=0.99997)\n",
      "coffee_mug (score=0.00003)\n",
      "apple (score=0.00000)\n",
      "323Test  : sort == fork\n",
      "\n",
      "reading tf_files/sort/607.guardian-forks-chrome.jpg\n"
     ]
    },
    {
     "name": "stdout",
     "output_type": "stream",
     "text": [
      "fork (score=0.99675)\n",
      "coffee_mug (score=0.00325)\n",
      "apple (score=0.00000)\n",
      "324Test  : sort == fork\n",
      "\n",
      "reading tf_files/sort/131.jpg\n",
      "fork (score=0.99604)\n",
      "coffee_mug (score=0.00395)\n",
      "apple (score=0.00000)\n",
      "325Test  : sort == fork\n",
      "\n",
      "reading tf_files/sort/336.0001025_crank-style-fork.jpg\n",
      "fork (score=0.99760)\n",
      "coffee_mug (score=0.00240)\n",
      "apple (score=0.00000)\n",
      "326Test  : sort == fork\n",
      "\n",
      "reading tf_files/sort/250.mazzer-rest-fork-various.jpg\n",
      "fork (score=0.92538)\n",
      "coffee_mug (score=0.07462)\n",
      "apple (score=0.00000)\n",
      "327Test  : sort == fork\n",
      "\n",
      "reading tf_files/sort/481.road_forks.jpg\n",
      "fork (score=0.99980)\n",
      "coffee_mug (score=0.00020)\n",
      "apple (score=0.00000)\n",
      "328Test  : sort == fork\n",
      "\n",
      "reading tf_files/sort/427.airpistonkitfeature2.jpg\n",
      "fork (score=0.99902)\n",
      "coffee_mug (score=0.00098)\n",
      "apple (score=0.00000)\n",
      "329Test  : sort == fork\n",
      "\n",
      "reading tf_files/sort/455.jpg\n",
      "fork (score=0.99963)\n",
      "coffee_mug (score=0.00037)\n",
      "apple (score=0.00000)\n",
      "330Test  : sort == fork\n",
      "\n",
      "reading tf_files/sort/525.fork.jpg\n",
      "fork (score=1.00000)\n",
      "coffee_mug (score=0.00000)\n",
      "apple (score=0.00000)\n",
      "331Test  : sort == fork\n",
      "\n",
      "reading tf_files/sort/183.8426400129.jpg\n",
      "fork (score=0.77317)\n",
      "coffee_mug (score=0.22683)\n",
      "apple (score=0.00000)\n",
      "332Test  : sort == fork\n",
      "\n",
      "reading tf_files/sort/412.mg_0065_982a7383-490d-432c-ae39-5582175f7091_1024x1024.jpg\n",
      "fork (score=0.56102)\n",
      "coffee_mug (score=0.43898)\n",
      "apple (score=0.00000)\n",
      "333Test  : sort == fork\n",
      "\n",
      "reading tf_files/sort/573.fork_and_knife_312397.jpg\n",
      "fork (score=1.00000)\n",
      "coffee_mug (score=0.00000)\n",
      "apple (score=0.00000)\n",
      "334Test  : sort == fork\n",
      "\n",
      "reading tf_files/sort/370.depositphotos_204496732-stock-illustration-sausage-on-the-fork-mesh.jpg\n",
      "fork (score=0.99588)\n",
      "coffee_mug (score=0.00407)\n",
      "apple (score=0.00005)\n",
      "335Test  : sort == fork\n",
      "\n",
      "reading tf_files/sort/615.fork-clip-art.jpg\n",
      "fork (score=0.99971)\n",
      "coffee_mug (score=0.00029)\n",
      "apple (score=0.00000)\n",
      "336Test  : sort == fork\n",
      "\n",
      "reading tf_files/sort/278.cake-fork.jpg\n",
      "fork (score=0.99546)\n",
      "coffee_mug (score=0.00454)\n",
      "apple (score=0.00000)\n",
      "337Test  : sort == fork\n",
      "\n",
      "reading tf_files/sort/441.eating-table-kitchen-silver.jpg\n",
      "fork (score=0.99067)\n",
      "coffee_mug (score=0.00933)\n",
      "apple (score=0.00000)\n",
      "338Test  : sort == fork\n",
      "\n",
      "reading tf_files/sort/321.db_file_img_1640_pal_trans_300x300.jpg\n",
      "fork (score=0.99975)\n",
      "coffee_mug (score=0.00025)\n",
      "apple (score=0.00001)\n",
      "339Test  : sort == fork\n",
      "\n",
      "reading tf_files/sort/612.4d44532374d8cd54c8d812a8cee1cdb5.jpg\n",
      "fork (score=0.99763)\n",
      "coffee_mug (score=0.00237)\n",
      "apple (score=0.00000)\n",
      "340Test  : sort == fork\n",
      "\n",
      "reading tf_files/sort/567.p020_mbr_may16-copy.jpg\n",
      "fork (score=0.96814)\n",
      "coffee_mug (score=0.03186)\n",
      "apple (score=0.00000)\n",
      "341Test  : sort == fork\n",
      "\n",
      "reading tf_files/sort/655.bitcoin-gold-coin-fork-760x400.jpg\n",
      "fork (score=0.98282)\n",
      "coffee_mug (score=0.01688)\n",
      "apple (score=0.00030)\n",
      "342Test  : sort == fork\n",
      "\n",
      "reading tf_files/sort/375.lady-jane-dinner-fork.jpg\n",
      "fork (score=0.99999)\n",
      "coffee_mug (score=0.00001)\n",
      "apple (score=0.00000)\n",
      "343Test  : sort == fork\n",
      "\n",
      "reading tf_files/sort/324.wtpscorpiofork.jpg\n",
      "fork (score=0.92378)\n",
      "coffee_mug (score=0.07622)\n",
      "apple (score=0.00000)\n",
      "344Test  : sort == fork\n",
      "\n",
      "reading tf_files/sort/151.avanti-bbq-fork-w-pre-programmed-digital-themometer-grey_1_750px.jpg\n",
      "fork (score=0.99919)\n",
      "coffee_mug (score=0.00081)\n",
      "apple (score=0.00000)\n",
      "345Test  : sort == fork\n",
      "\n",
      "reading tf_files/sort/90.4c69de05abac3fbad16c2a335b353046--tangle-doodle-zentangle.jpg\n",
      "fork (score=0.99976)\n",
      "coffee_mug (score=0.00024)\n",
      "apple (score=0.00000)\n",
      "346Test  : sort == fork\n",
      "\n",
      "reading tf_files/sort/75.salt-plus-expert-bmx-fork-black_grande.jpg\n",
      "fork (score=0.99917)\n",
      "coffee_mug (score=0.00083)\n",
      "apple (score=0.00000)\n",
      "347Test  : sort == fork\n",
      "\n",
      "reading tf_files/sort/507.oxo-tot-fork-spoon-set.jpg\n",
      "fork (score=0.80534)\n",
      "coffee_mug (score=0.19456)\n",
      "apple (score=0.00009)\n",
      "348Test  : sort == fork\n",
      "\n",
      "reading tf_files/sort/581.e9fb617911d893a137696b0236583544.image.260x260.jpg\n",
      "fork (score=0.99955)\n",
      "coffee_mug (score=0.00045)\n",
      "apple (score=0.00000)\n",
      "349Test  : sort == fork\n",
      "\n",
      "reading tf_files/sort/143.cutlery-set1.jpg\n",
      "fork (score=0.99437)\n",
      "coffee_mug (score=0.00563)\n",
      "apple (score=0.00000)\n",
      "350Test  : sort == fork\n",
      "\n",
      "reading tf_files/sort/638.maxresdefault.jpg\n",
      "fork (score=0.99926)\n",
      "apple (score=0.00071)\n",
      "coffee_mug (score=0.00003)\n",
      "351Test  : sort == fork\n",
      "\n",
      "reading tf_files/sort/444.rxf34_frontfork_5_vital-1.jpg\n",
      "fork (score=0.98876)\n",
      "coffee_mug (score=0.01124)\n",
      "apple (score=0.00000)\n",
      "352Test  : sort == fork\n",
      "\n",
      "reading tf_files/sort/467.etac%20knife%20fork_left_handed.jpg\n",
      "fork (score=0.99881)\n",
      "coffee_mug (score=0.00119)\n",
      "apple (score=0.00000)\n",
      "353Test  : sort == fork\n",
      "\n",
      "reading tf_files/sort/313.0001040_cutlery-kings-angled-fork-left-hand_550.jpg\n",
      "fork (score=0.99969)\n",
      "coffee_mug (score=0.00031)\n",
      "apple (score=0.00000)\n",
      "354Test  : sort == fork\n",
      "\n",
      "reading tf_files/sort/404.wooden-fork-and-spoon-wall-decor-2018-decorative-wall-panels.jpg\n",
      "fork (score=0.98138)\n",
      "coffee_mug (score=0.01851)\n",
      "apple (score=0.00011)\n",
      "355Test  : sort == fork\n",
      "\n",
      "reading tf_files/sort/293.8cdb1092-115a-4999-ac5a-9cc160d9397c.jpg\n",
      "fork (score=0.99997)\n",
      "coffee_mug (score=0.00003)\n",
      "apple (score=0.00000)\n",
      "356Test  : sort == fork\n",
      "\n",
      "reading tf_files/sort/243.fork-hi.jpg\n",
      "fork (score=1.00000)\n",
      "coffee_mug (score=0.00000)\n",
      "apple (score=0.00000)\n",
      "357Test  : sort == fork\n",
      "\n",
      "reading tf_files/sort/196.tm040-1.jpg\n",
      "fork (score=0.99994)\n",
      "coffee_mug (score=0.00006)\n",
      "apple (score=0.00000)\n",
      "358Test  : sort == fork\n",
      "\n",
      "reading tf_files/sort/389.p_449.jpg\n",
      "fork (score=0.99199)\n",
      "coffee_mug (score=0.00801)\n",
      "apple (score=0.00001)\n",
      "359Test  : sort == fork\n",
      "\n",
      "reading tf_files/sort/102.tern-photo-tarsus-g2-34-blk-web_1024x1024.jpg\n",
      "fork (score=0.99980)\n",
      "coffee_mug (score=0.00020)\n",
      "apple (score=0.00000)\n",
      "360Test  : sort == fork\n",
      "\n",
      "reading tf_files/sort/531.unnamed.jpg\n",
      "fork (score=0.99984)\n",
      "coffee_mug (score=0.00016)\n",
      "apple (score=0.00000)\n",
      "361Test  : sort == fork\n",
      "\n",
      "reading tf_files/sort/546.wusthof-classic-curved-meat-fork.jpg\n",
      "fork (score=0.99985)\n",
      "coffee_mug (score=0.00015)\n",
      "apple (score=0.00000)\n",
      "362Test  : sort == fork\n",
      "\n",
      "reading tf_files/sort/486.10013.jpg\n",
      "fork (score=0.99994)\n",
      "coffee_mug (score=0.00006)\n",
      "apple (score=0.00000)\n",
      "363Test  : sort == fork\n",
      "\n",
      "reading tf_files/sort/422.disposable-wooden-fork-pack-of-1000-br.jpg\n",
      "fork (score=0.99500)\n",
      "apple (score=0.00322)\n",
      "coffee_mug (score=0.00179)\n",
      "364Test  : sort == fork\n",
      "\n",
      "reading tf_files/sort/511.baby-spoon-repaired-sterling-fork.jpg\n",
      "fork (score=0.99335)\n",
      "coffee_mug (score=0.00665)\n",
      "apple (score=0.00000)\n",
      "365Test  : sort == fork\n",
      "\n",
      "reading tf_files/sort/435.comboknifefork_18th_cent.jpg\n",
      "fork (score=0.99293)\n",
      "coffee_mug (score=0.00707)\n",
      "apple (score=0.00000)\n",
      "366Test  : sort == fork\n",
      "\n",
      "reading tf_files/sort/175.fork-1717638_960_720.jpg\n",
      "fork (score=0.89029)\n",
      "coffee_mug (score=0.10970)\n",
      "apple (score=0.00001)\n",
      "367Test  : sort == fork\n",
      "\n",
      "reading tf_files/sort/113.pcp-1026797.jpg\n",
      "fork (score=0.99985)\n",
      "coffee_mug (score=0.00015)\n",
      "apple (score=0.00000)\n",
      "368Test  : sort == fork\n",
      "\n",
      "reading tf_files/sort/329.magnamail-set-of-4-spaghetti-forks-main-k1720_1_1.jpg\n",
      "fork (score=0.99988)\n",
      "coffee_mug (score=0.00011)\n",
      "apple (score=0.00000)\n",
      "369Test  : sort == fork\n",
      "\n",
      "reading tf_files/sort/634.vegan-menu-with-a-spoon-and-a-fork_23-2147492927.jpg\n",
      "fork (score=0.89935)\n",
      "coffee_mug (score=0.10060)\n",
      "apple (score=0.00005)\n",
      "370Test  : sort == fork\n",
      "\n",
      "reading tf_files/sort/177.mozart-dinner-fork-1.jpg\n",
      "fork (score=0.99998)\n",
      "coffee_mug (score=0.00002)\n",
      "apple (score=0.00000)\n",
      "371Test  : sort == fork\n",
      "\n",
      "reading tf_files/sort/574.15009-athena-lobster-fork-stainless-steel-205mm.jpg\n",
      "fork (score=0.99863)\n",
      "coffee_mug (score=0.00137)\n",
      "apple (score=0.00000)\n",
      "372Test  : sort == fork\n",
      "\n",
      "reading tf_files/sort/453.forkandspoon_logo-forkspoonandleaf-15.jpg\n",
      "fork (score=0.91671)\n",
      "coffee_mug (score=0.07640)\n",
      "apple (score=0.00690)\n",
      "373Test  : sort == fork\n",
      "\n",
      "reading tf_files/sort/132.pallet-forks.jpg\n",
      "fork (score=0.96014)\n",
      "coffee_mug (score=0.03986)\n",
      "apple (score=0.00000)\n",
      "374Test  : sort == fork\n",
      "\n",
      "reading tf_files/sort/1.0302.341_1.jpg\n",
      "fork (score=1.00000)\n",
      "coffee_mug (score=0.00000)\n",
      "apple (score=0.00000)\n",
      "375Test  : sort == fork\n",
      "\n",
      "reading tf_files/sort/605.tablekraft-princess-cake-fork-12pk_1_500px.jpg\n",
      "fork (score=0.99977)\n",
      "coffee_mug (score=0.00022)\n",
      "apple (score=0.00000)\n",
      "376Test  : sort == fork\n",
      "\n",
      "reading tf_files/sort/660.spoon-and-fork-crossed_318-33017.jpg\n",
      "fork (score=0.99992)\n",
      "coffee_mug (score=0.00008)\n",
      "apple (score=0.00000)\n",
      "377Test  : sort == fork\n",
      "\n",
      "reading tf_files/sort/179.fc140.jpg\n"
     ]
    },
    {
     "name": "stdout",
     "output_type": "stream",
     "text": [
      "fork (score=0.99977)\n",
      "coffee_mug (score=0.00023)\n",
      "apple (score=0.00000)\n",
      "378Test  : sort == fork\n",
      "\n",
      "reading tf_files/sort/553.jpg\n",
      "fork (score=0.88987)\n",
      "coffee_mug (score=0.11013)\n",
      "apple (score=0.00000)\n",
      "379Test  : sort == fork\n",
      "\n",
      "reading tf_files/sort/120.s-l300.jpg\n",
      "fork (score=0.99996)\n",
      "coffee_mug (score=0.00004)\n",
      "apple (score=0.00000)\n",
      "380Test  : sort == fork\n",
      "\n",
      "reading tf_files/sort/289.etac_light_fork_thick.jpg\n",
      "fork (score=0.99982)\n",
      "coffee_mug (score=0.00018)\n",
      "apple (score=0.00000)\n",
      "381Test  : sort == fork\n",
      "\n",
      "reading tf_files/sort/25.3134jdbwghl._sl500_ac_ss350_.jpg\n",
      "fork (score=0.99998)\n",
      "coffee_mug (score=0.00002)\n",
      "apple (score=0.00000)\n",
      "382Test  : sort == fork\n",
      "\n",
      "reading tf_files/sort/398.fruit-fork-luxor.jpg\n",
      "fork (score=0.99943)\n",
      "coffee_mug (score=0.00057)\n",
      "apple (score=0.00000)\n",
      "383Test  : sort == fork\n",
      "\n",
      "reading tf_files/sort/54.cutlery_1-min_134c6306-2d8b-4c30-8f6b-92d450c16627_1200x1200.jpg\n",
      "fork (score=0.99995)\n",
      "coffee_mug (score=0.00005)\n",
      "apple (score=0.00000)\n",
      "384Test  : sort == fork\n",
      "\n",
      "reading tf_files/sort/170.versace_medusa_gold_dinnerfork-600x600.jpg\n",
      "fork (score=0.99989)\n",
      "coffee_mug (score=0.00011)\n",
      "apple (score=0.00000)\n",
      "385Test  : sort == fork\n",
      "\n",
      "reading tf_files/sort/473.goldcutlery-679x1024.jpg\n",
      "fork (score=0.79854)\n",
      "apple (score=0.20126)\n",
      "coffee_mug (score=0.00021)\n",
      "386Test  : sort == fork\n",
      "\n",
      "reading tf_files/sort/176.enve_thruaxle_roaddiscfork_3_hires-1-1300x0-c-default.jpg\n",
      "fork (score=0.99957)\n",
      "coffee_mug (score=0.00043)\n",
      "apple (score=0.00000)\n",
      "387Test  : sort == fork\n",
      "\n",
      "reading tf_files/sort/520.front-fork-adventure_6-380x240.jpg\n",
      "fork (score=0.99624)\n",
      "coffee_mug (score=0.00376)\n",
      "apple (score=0.00000)\n",
      "388Test  : sort == fork\n",
      "\n",
      "reading tf_files/sort/436.fork-spoon-knife-13524097.jpg\n",
      "fork (score=0.99812)\n",
      "coffee_mug (score=0.00188)\n",
      "apple (score=0.00000)\n",
      "389Test  : sort == fork\n",
      "\n",
      "reading tf_files/sort/484.supra-gearbox-selector-fork.jpg\n",
      "fork (score=0.95180)\n",
      "coffee_mug (score=0.04818)\n",
      "apple (score=0.00002)\n",
      "390Test  : sort == fork\n",
      "\n",
      "reading tf_files/sort/114.realistic-fork-and-spoon-silver-kitchen-stainless-utensil-set_33099-145.jpg\n",
      "fork (score=0.99255)\n",
      "coffee_mug (score=0.00745)\n",
      "apple (score=0.00000)\n",
      "391Test  : sort == fork\n",
      "\n",
      "reading tf_files/sort/174.image003.jpg\n",
      "fork (score=0.99963)\n",
      "coffee_mug (score=0.00037)\n",
      "apple (score=0.00000)\n",
      "392Test  : sort == fork\n",
      "\n",
      "reading tf_files/sort/624.infinity-fork-blue-view.jpg\n",
      "fork (score=0.99791)\n",
      "coffee_mug (score=0.00209)\n",
      "apple (score=0.00000)\n",
      "393Test  : sort == fork\n",
      "\n",
      "reading tf_files/sort/115.wound-up-duo-fork.jpg\n",
      "fork (score=0.99885)\n",
      "coffee_mug (score=0.00115)\n",
      "apple (score=0.00000)\n",
      "394Test  : sort == fork\n",
      "\n",
      "reading tf_files/sort/342.mulch-fork_productimage.jpg\n",
      "fork (score=0.99999)\n",
      "coffee_mug (score=0.00001)\n",
      "apple (score=0.00000)\n",
      "395Test  : sort == fork\n",
      "\n",
      "reading tf_files/sort/502.forcella.jpg\n",
      "fork (score=0.98351)\n",
      "coffee_mug (score=0.01649)\n",
      "apple (score=0.00000)\n",
      "396Test  : sort == fork\n",
      "\n",
      "reading tf_files/sort/408.7905044.jpg\n",
      "fork (score=0.99995)\n",
      "coffee_mug (score=0.00005)\n",
      "apple (score=0.00000)\n",
      "397Test  : sort == fork\n",
      "\n",
      "reading tf_files/sort/500.a-knife-fork-napkin-set-1000pk.jpg\n",
      "fork (score=0.96814)\n",
      "coffee_mug (score=0.03186)\n",
      "apple (score=0.00000)\n",
      "398Test  : sort == fork\n",
      "\n",
      "reading tf_files/sort/416.c5a4df97d64206ab9e555fbb23e984e9.jpg\n",
      "fork (score=0.98231)\n",
      "coffee_mug (score=0.01767)\n",
      "apple (score=0.00002)\n",
      "399Test  : sort == fork\n",
      "\n",
      "reading tf_files/sort/152.hy-16f.jpg\n",
      "fork (score=0.99948)\n",
      "coffee_mug (score=0.00052)\n",
      "apple (score=0.00000)\n",
      "400Test  : sort == fork\n",
      "\n",
      "reading tf_files/sort/561.img_1513.jpg\n",
      "fork (score=0.99995)\n",
      "coffee_mug (score=0.00005)\n",
      "apple (score=0.00000)\n",
      "401Test  : sort == fork\n",
      "\n",
      "reading tf_files/sort/454.enve_roadfork_qr_hires_1-300x0-c-default.jpg\n",
      "fork (score=0.99963)\n",
      "coffee_mug (score=0.00037)\n",
      "apple (score=0.00000)\n",
      "402Test  : sort == fork\n",
      "\n",
      "reading tf_files/sort/314.fork_cross-section.jpg\n",
      "fork (score=0.99991)\n",
      "coffee_mug (score=0.00009)\n",
      "apple (score=0.00000)\n",
      "403Test  : sort == fork\n",
      "\n",
      "reading tf_files/sort/5.71z-hgjp6yl._sy355_.jpg\n",
      "fork (score=1.00000)\n",
      "coffee_mug (score=0.00000)\n",
      "apple (score=0.00000)\n",
      "404Test  : sort == fork\n",
      "\n",
      "reading tf_files/sort/154.jpg\n",
      "fork (score=0.99997)\n",
      "coffee_mug (score=0.00003)\n",
      "apple (score=0.00000)\n",
      "405Test  : sort == fork\n",
      "\n",
      "reading tf_files/sort/148.m85474_1_knork_fork.jpg\n",
      "fork (score=0.99999)\n",
      "coffee_mug (score=0.00001)\n",
      "apple (score=0.00000)\n",
      "406Test  : sort == fork\n",
      "\n",
      "reading tf_files/sort/651.160624_wilbur-me1a1397-edit.jpg\n",
      "fork (score=0.95061)\n",
      "coffee_mug (score=0.04939)\n",
      "apple (score=0.00000)\n",
      "407Test  : sort == fork\n",
      "\n",
      "reading tf_files/sort/98.687474703a2f2f616c6c346465736b746f702e636f6d2f646174615f696d616765732f6f726967696e616c2f343234343638302d666f726b2e6a7067.jpg\n",
      "fork (score=0.99998)\n",
      "coffee_mug (score=0.00002)\n",
      "apple (score=0.00000)\n",
      "408Test  : sort == fork\n",
      "\n",
      "reading tf_files/sort/208.g-kfork.jpg\n",
      "fork (score=0.99999)\n",
      "coffee_mug (score=0.00001)\n",
      "apple (score=0.00000)\n",
      "409Test  : sort == fork\n",
      "\n",
      "reading tf_files/sort/51.zephyr-fork.jpg\n",
      "fork (score=0.99890)\n",
      "coffee_mug (score=0.00110)\n",
      "apple (score=0.00000)\n",
      "410Test  : sort == fork\n",
      "\n",
      "reading tf_files/sort/275.paper-fork.jpg\n",
      "fork (score=0.67918)\n",
      "coffee_mug (score=0.31979)\n",
      "apple (score=0.00102)\n",
      "411Test  : sort == fork\n",
      "\n",
      "reading tf_files/sort/521.31fxkkwxgcl._sl500_ac_ss350_.jpg\n",
      "fork (score=0.99999)\n",
      "coffee_mug (score=0.00001)\n",
      "apple (score=0.00000)\n",
      "412Test  : sort == fork\n",
      "\n",
      "reading tf_files/sort/269.bbnrs.jpg\n",
      "fork (score=1.00000)\n",
      "coffee_mug (score=0.00000)\n",
      "apple (score=0.00000)\n",
      "413Test  : sort == fork\n",
      "\n",
      "reading tf_files/sort/72.aero-dawn-table-fork.jpg\n",
      "fork (score=0.99978)\n",
      "coffee_mug (score=0.00022)\n",
      "apple (score=0.00000)\n",
      "414Test  : sort == fork\n",
      "\n",
      "reading tf_files/sort/665.plastic-forks-100pack-white.jpg\n",
      "fork (score=0.99991)\n",
      "coffee_mug (score=0.00008)\n",
      "apple (score=0.00000)\n",
      "415Test  : sort == fork\n",
      "\n",
      "reading tf_files/sort/62.enve-carbon-fiber-mountain-fork.jpg\n",
      "fork (score=0.99950)\n",
      "coffee_mug (score=0.00050)\n",
      "apple (score=0.00000)\n",
      "416Test  : sort == fork\n",
      "\n",
      "reading tf_files/sort/63.apex_quantum_fork_jesse__45689.1485043219.500.500.jpg\n",
      "fork (score=0.99256)\n",
      "coffee_mug (score=0.00744)\n",
      "apple (score=0.00000)\n",
      "417Test  : sort == fork\n",
      "\n",
      "reading tf_files/sort/627.cartoon-fork-clipart-best-7mk7vi.jpg\n",
      "fork (score=0.99776)\n",
      "coffee_mug (score=0.00224)\n",
      "apple (score=0.00000)\n",
      "418Test  : sort == fork\n",
      "\n",
      "reading tf_files/sort/99.42465706-1-tf.jpg\n",
      "fork (score=0.99834)\n",
      "coffee_mug (score=0.00166)\n",
      "apple (score=0.00001)\n",
      "419Test  : sort == fork\n",
      "\n",
      "reading tf_files/sort/564.dewit-garden-forks-31-8761-64_400_compressed.jpg\n",
      "fork (score=0.99996)\n",
      "coffee_mug (score=0.00004)\n",
      "apple (score=0.00000)\n",
      "420Test  : sort == fork\n",
      "\n",
      "reading tf_files/sort/311.$_3.jpg\n",
      "fork (score=0.99981)\n",
      "coffee_mug (score=0.00019)\n",
      "apple (score=0.00000)\n",
      "421Test  : sort == fork\n",
      "\n",
      "reading tf_files/sort/457.240_f_182649225_thczvpacrvtuqlv94kosxp9qmypqcqgl.jpg\n",
      "fork (score=0.99995)\n",
      "coffee_mug (score=0.00005)\n",
      "apple (score=0.00000)\n",
      "422Test  : sort == fork\n",
      "\n",
      "reading tf_files/sort/144.full-length-fork-timber-4.jpg\n",
      "fork (score=0.89102)\n",
      "coffee_mug (score=0.10898)\n",
      "apple (score=0.00000)\n",
      "423Test  : sort == fork\n",
      "\n",
      "reading tf_files/sort/209.fork-seals-ariete-ari-116-00-53-116-00.jpg\n",
      "fork (score=0.86048)\n",
      "coffee_mug (score=0.13942)\n",
      "apple (score=0.00010)\n",
      "424Test  : sort == fork\n",
      "\n",
      "reading tf_files/sort/191.rspkrct3fk.jpg\n",
      "fork (score=0.99819)\n",
      "coffee_mug (score=0.00181)\n",
      "apple (score=0.00000)\n",
      "425Test  : sort == fork\n",
      "\n",
      "reading tf_files/sort/111.e57840aae90c858abf6ceb9a7bc67f9a.jpg\n",
      "fork (score=0.99999)\n",
      "coffee_mug (score=0.00001)\n",
      "apple (score=0.00000)\n",
      "426Test  : sort == fork\n",
      "\n",
      "reading tf_files/sort/31.lossy-page1-220px-tranchergaffel%2c_1640-tal_-_skoklosters_slott_-_102831.tif.jpg\n",
      "fork (score=0.99972)\n",
      "coffee_mug (score=0.00028)\n",
      "apple (score=0.00000)\n",
      "427Test  : sort == fork\n",
      "\n",
      "reading tf_files/sort/493.road_fork01.jpg\n",
      "fork (score=0.99999)\n",
      "coffee_mug (score=0.00001)\n",
      "apple (score=0.00000)\n",
      "428Test  : sort == fork\n",
      "\n",
      "reading tf_files/sort/80.233071-3.jpg\n",
      "fork (score=0.99666)\n",
      "coffee_mug (score=0.00334)\n",
      "apple (score=0.00000)\n",
      "429Test  : sort == fork\n",
      "\n",
      "reading tf_files/sort/460.3-tine-fork-flatware-set-modern-abc-avon05-avon-dinner-18-0-stainless-steel-7-4-with-2.jpg\n",
      "fork (score=0.99999)\n",
      "coffee_mug (score=0.00001)\n",
      "apple (score=0.00000)\n",
      "430Test  : sort == fork\n",
      "\n",
      "reading tf_files/sort/245.wtpbattleshipforks17.jpg\n",
      "fork (score=0.99233)\n",
      "coffee_mug (score=0.00767)\n",
      "apple (score=0.00000)\n",
      "431Test  : sort == fork\n",
      "\n",
      "reading tf_files/sort/458.abert-linea-appetizer-2-prong-fork-106cm.jpg\n"
     ]
    },
    {
     "name": "stdout",
     "output_type": "stream",
     "text": [
      "fork (score=0.99954)\n",
      "coffee_mug (score=0.00046)\n",
      "apple (score=0.00000)\n",
      "432Test  : sort == fork\n",
      "\n",
      "reading tf_files/sort/96.13036.jpg\n",
      "fork (score=0.99519)\n",
      "coffee_mug (score=0.00481)\n",
      "apple (score=0.00001)\n",
      "433Test  : sort == fork\n",
      "\n",
      "reading tf_files/sort/464.spoon-and-fork-wall-decor-327133-kalalou-rustic-metal-fork-and-spoon-wall-decor-set-of-2-of-spoon-and-fork-wall-decor.jpg\n",
      "fork (score=0.98286)\n",
      "coffee_mug (score=0.01714)\n",
      "apple (score=0.00000)\n",
      "434Test  : sort == fork\n",
      "\n",
      "reading tf_files/sort/571.xwp_4cs_fork-753x411.jpg\n",
      "fork (score=0.99400)\n",
      "coffee_mug (score=0.00600)\n",
      "apple (score=0.00000)\n",
      "435Test  : sort == fork\n",
      "\n",
      "reading tf_files/sort/496.240_f_118951495_gcawyeej5whb9sz4yxvi2v1mfyavkhxq.jpg\n",
      "fork (score=0.99195)\n",
      "coffee_mug (score=0.00805)\n",
      "apple (score=0.00000)\n",
      "436Test  : sort == fork\n",
      "\n",
      "reading tf_files/sort/495.k306-tf-2-300x300.jpg\n",
      "fork (score=0.99997)\n",
      "coffee_mug (score=0.00003)\n",
      "apple (score=0.00000)\n",
      "437Test  : sort == fork\n",
      "\n",
      "reading tf_files/sort/247.27947_garden-fork.jpg\n",
      "fork (score=0.99910)\n",
      "coffee_mug (score=0.00090)\n",
      "apple (score=0.00000)\n",
      "438Test  : sort == fork\n",
      "\n",
      "reading tf_files/sort/541.00038046_550x550_3.jpg\n",
      "fork (score=0.99955)\n",
      "coffee_mug (score=0.00045)\n",
      "apple (score=0.00000)\n",
      "439Test  : sort == fork\n",
      "\n",
      "reading tf_files/sort/348.fork-clipart-illustrator-613426-1881859.jpg\n",
      "fork (score=0.99953)\n",
      "coffee_mug (score=0.00047)\n",
      "apple (score=0.00000)\n",
      "440Test  : sort == fork\n",
      "\n",
      "reading tf_files/sort/60.img_8902-fork.jpg\n",
      "fork (score=0.91174)\n",
      "coffee_mug (score=0.08826)\n",
      "apple (score=0.00000)\n",
      "441Test  : sort == fork\n",
      "\n",
      "reading tf_files/sort/476.valhalla-forks-black3.jpg\n",
      "fork (score=0.99825)\n",
      "coffee_mug (score=0.00175)\n",
      "apple (score=0.00000)\n",
      "442Test  : sort == fork\n",
      "\n",
      "reading tf_files/sort/166.acutfork.jpg\n",
      "fork (score=0.99999)\n",
      "coffee_mug (score=0.00001)\n",
      "apple (score=0.00000)\n",
      "443Test  : sort == fork\n",
      "\n",
      "reading tf_files/sort/469.rbca010-fork-mounted-bike-rack-00.jpg\n",
      "fork (score=0.98011)\n",
      "coffee_mug (score=0.01989)\n",
      "apple (score=0.00000)\n",
      "444Test  : sort == fork\n",
      "\n",
      "reading tf_files/sort/147.4020micro-crossneck-fork.jpg\n",
      "fork (score=0.91303)\n",
      "coffee_mug (score=0.08697)\n",
      "apple (score=0.00000)\n",
      "445Test  : sort == fork\n",
      "\n",
      "reading tf_files/sort/654.main-qimg-50b86ec2eeb2267dc7a54bf46d022246-c.jpg\n",
      "fork (score=0.99999)\n",
      "coffee_mug (score=0.00001)\n",
      "apple (score=0.00000)\n",
      "446Test  : sort == fork\n",
      "\n",
      "reading tf_files/sort/70.tern-xaris-fork-01-0_0_1024x1024.jpg\n",
      "fork (score=0.99774)\n",
      "coffee_mug (score=0.00226)\n",
      "apple (score=0.00000)\n",
      "447Test  : sort == fork\n",
      "\n",
      "reading tf_files/sort/162.fork.jpg\n",
      "fork (score=1.00000)\n",
      "coffee_mug (score=0.00000)\n",
      "apple (score=0.00000)\n",
      "448Test  : sort == fork\n",
      "\n",
      "reading tf_files/sort/20.baguette-fish-fork.jpg\n",
      "fork (score=1.00000)\n",
      "coffee_mug (score=0.00000)\n",
      "apple (score=0.00000)\n",
      "449Test  : sort == fork\n",
      "\n",
      "reading tf_files/sort/270.fox-34-ebike-fork-04609-1600x650.jpg\n",
      "fork (score=0.99943)\n",
      "coffee_mug (score=0.00055)\n",
      "apple (score=0.00001)\n",
      "450Test  : sort == fork\n",
      "\n",
      "reading tf_files/sort/69.enve-carbon-fiber-disc-brake-cyclocross.jpg\n",
      "fork (score=0.99975)\n",
      "coffee_mug (score=0.00025)\n",
      "apple (score=0.00000)\n",
      "451Test  : sort == fork\n",
      "\n",
      "reading tf_files/sort/363.jumbotron-545f732874.jpg\n",
      "apple (score=0.99805)\n",
      "coffee_mug (score=0.00136)\n",
      "fork (score=0.00059)\n",
      "452Test  : sort == apple\n",
      "\n",
      "reading tf_files/sort/506.set-of-3-cutlery-knife-fork-spoon-hiker-s-camp-plastic-blue.jpg\n",
      "fork (score=0.87788)\n",
      "coffee_mug (score=0.12212)\n",
      "apple (score=0.00000)\n",
      "453Test  : sort == fork\n",
      "\n",
      "reading tf_files/sort/508.tablekraft-luxor-fruit-fork-each_1_750px.jpg\n",
      "fork (score=0.99937)\n",
      "coffee_mug (score=0.00063)\n",
      "apple (score=0.00000)\n",
      "454Test  : sort == fork\n",
      "\n",
      "reading tf_files/sort/382.wiltshire-epicurean-carving-fork-knife.jpg\n",
      "fork (score=0.99993)\n",
      "coffee_mug (score=0.00007)\n",
      "apple (score=0.00000)\n",
      "455Test  : sort == fork\n",
      "\n",
      "reading tf_files/sort/198.fork-pattern.jpg\n",
      "fork (score=0.99945)\n",
      "coffee_mug (score=0.00055)\n",
      "apple (score=0.00000)\n",
      "456Test  : sort == fork\n",
      "\n",
      "reading tf_files/sort/429.0010847_cutlery-purple-fork-p25.jpg\n",
      "fork (score=0.99893)\n",
      "coffee_mug (score=0.00104)\n",
      "apple (score=0.00003)\n",
      "457Test  : sort == fork\n",
      "\n",
      "reading tf_files/sort/276.fork_01.jpg\n",
      "fork (score=0.85861)\n",
      "coffee_mug (score=0.14139)\n",
      "apple (score=0.00000)\n",
      "458Test  : sort == fork\n",
      "\n",
      "reading tf_files/sort/197.ames-garden-forks-2826200-64_1000.jpg\n",
      "fork (score=0.99923)\n",
      "coffee_mug (score=0.00077)\n",
      "apple (score=0.00000)\n",
      "459Test  : sort == fork\n",
      "\n",
      "reading tf_files/sort/552.7f10c022c5bad3fb6d248cf451edd9e1.jpg\n",
      "fork (score=0.99713)\n",
      "coffee_mug (score=0.00286)\n",
      "apple (score=0.00000)\n",
      "460Test  : sort == fork\n",
      "\n",
      "reading tf_files/sort/424.wilkie-brothers-8pc-steak-knife-fork-set_1_750px.jpg\n",
      "fork (score=0.99996)\n",
      "coffee_mug (score=0.00004)\n",
      "apple (score=0.00000)\n",
      "461Test  : sort == fork\n",
      "\n",
      "reading tf_files/sort/76.hag-cu249609.jpg\n",
      "fork (score=1.00000)\n",
      "coffee_mug (score=0.00000)\n",
      "apple (score=0.00000)\n",
      "462Test  : sort == fork\n",
      "\n",
      "reading tf_files/sort/611.khife-clipart-spoon-11.jpg\n",
      "fork (score=0.99882)\n",
      "coffee_mug (score=0.00118)\n",
      "apple (score=0.00000)\n",
      "463Test  : sort == fork\n",
      "\n",
      "reading tf_files/sort/58.475_______406.jpg\n",
      "fork (score=0.99995)\n",
      "coffee_mug (score=0.00005)\n",
      "apple (score=0.00000)\n",
      "464Test  : sort == fork\n",
      "\n",
      "reading tf_files/sort/140.sophia-spoon-fork-melamine-600x600.jpg\n",
      "fork (score=0.96733)\n",
      "coffee_mug (score=0.03264)\n",
      "apple (score=0.00004)\n",
      "465Test  : sort == fork\n",
      "\n",
      "reading tf_files/sort/274.ca-napcut-3_web_a.jpg\n",
      "fork (score=0.99922)\n",
      "coffee_mug (score=0.00078)\n",
      "apple (score=0.00000)\n",
      "466Test  : sort == fork\n",
      "\n",
      "reading tf_files/sort/205.8710.jpg\n",
      "fork (score=0.94334)\n",
      "coffee_mug (score=0.05665)\n",
      "apple (score=0.00000)\n",
      "467Test  : sort == fork\n",
      "\n",
      "reading tf_files/sort/445.answer_alumilite.jpg\n",
      "fork (score=0.99962)\n",
      "coffee_mug (score=0.00038)\n",
      "apple (score=0.00000)\n",
      "468Test  : sort == fork\n",
      "\n",
      "reading tf_files/sort/606.fantastic-fork-knife-spoon-on-modern-home-decoration-ideas-c14-with-fork-knife-spoon.jpg\n",
      "fork (score=0.99136)\n",
      "coffee_mug (score=0.00864)\n",
      "apple (score=0.00000)\n",
      "469Test  : sort == fork\n",
      "\n",
      "reading tf_files/sort/213.grabease-australia-baby-cutlery-fork-and-spoon-set-orange.jpg\n",
      "fork (score=0.87239)\n",
      "coffee_mug (score=0.10753)\n",
      "apple (score=0.02007)\n",
      "470Test  : sort == fork\n",
      "\n",
      "reading tf_files/sort/56.three-prongs-cake-fork-transparent-coloured-cutlery-aladdin-old-silverplated-ring-2303-z.jpg\n",
      "fork (score=0.99980)\n",
      "coffee_mug (score=0.00020)\n",
      "apple (score=0.00000)\n",
      "471Test  : sort == fork\n",
      "\n",
      "reading tf_files/sort/621.3-tine-fork-flatware-set-modern-three-prong-w-dinner-throughout-0.jpg\n",
      "fork (score=0.99976)\n",
      "coffee_mug (score=0.00024)\n",
      "apple (score=0.00000)\n",
      "472Test  : sort == fork\n",
      "\n",
      "reading tf_files/sort/361.budget-fork.jpg\n",
      "fork (score=0.99521)\n",
      "coffee_mug (score=0.00479)\n",
      "apple (score=0.00000)\n",
      "473Test  : sort == fork\n",
      "\n",
      "reading tf_files/sort/16.2b6e0529-1ac0-41db-91cb-208a00c0c51a.jpg\n",
      "fork (score=0.99912)\n",
      "coffee_mug (score=0.00088)\n",
      "apple (score=0.00000)\n",
      "474Test  : sort == fork\n",
      "\n",
      "reading tf_files/sort/652.3t-fork-manual-8cb805cc-63e8-4ace-91f7-f9a5061efb97-1-295x221jpg.jpg\n",
      "fork (score=0.99711)\n",
      "coffee_mug (score=0.00289)\n",
      "apple (score=0.00000)\n",
      "475Test  : sort == fork\n",
      "\n",
      "reading tf_files/sort/659.swissmar-meat-fondue-forks-set-of-6-black_1_750px.jpg\n",
      "fork (score=0.99999)\n",
      "coffee_mug (score=0.00001)\n",
      "apple (score=0.00000)\n",
      "476Test  : sort == fork\n",
      "\n",
      "reading tf_files/sort/463.fork-grab-for-web.jpg\n",
      "fork (score=0.58283)\n",
      "coffee_mug (score=0.41715)\n",
      "apple (score=0.00002)\n",
      "477Test  : sort == fork\n",
      "\n",
      "reading tf_files/sort/391.mankindjusticeforksbla.jpg\n",
      "fork (score=0.99944)\n",
      "coffee_mug (score=0.00056)\n",
      "apple (score=0.00000)\n",
      "478Test  : sort == fork\n",
      "\n",
      "reading tf_files/sort/421.1_black__48840.1519019406.1280.1280.jpg\n",
      "fork (score=0.99928)\n",
      "coffee_mug (score=0.00072)\n",
      "apple (score=0.00000)\n",
      "479Test  : sort == fork\n",
      "\n",
      "reading tf_files/sort/551.31m748jdgcl._sr600%2c315_piwhitestrip%2cbottomleft%2c0%2c35_piamznprime%2cbottomleft%2c0%2c-5_pistarratingfourandhalf%2cbottomleft%2c360%2c-6_sr600%2c315_za(142%20reviews)%2c445%2c291%2c400%2c400%2carial%2c12%2c4%2c0%2c0%2c5_sclzzzzzzz_.jpg\n",
      "fork (score=0.99999)\n",
      "coffee_mug (score=0.00001)\n",
      "apple (score=0.00000)\n",
      "480Test  : sort == fork\n",
      "\n",
      "reading tf_files/sort/633.fork_extensions_2500-1-800x600.jpg\n",
      "fork (score=0.96714)\n",
      "coffee_mug (score=0.03286)\n",
      "apple (score=0.00000)\n",
      "481Test  : sort == fork\n",
      "\n",
      "reading tf_files/sort/599.main-qimg-5a6efdf4195412c937099ef1a6aa8529-c.jpg\n",
      "fork (score=0.97372)\n",
      "coffee_mug (score=0.02628)\n",
      "apple (score=0.00000)\n",
      "482Test  : sort == fork\n",
      "\n",
      "reading tf_files/sort/350.xaer-fork-main.jpg\n"
     ]
    },
    {
     "name": "stdout",
     "output_type": "stream",
     "text": [
      "fork (score=0.92294)\n",
      "coffee_mug (score=0.07706)\n",
      "apple (score=0.00000)\n",
      "483Test  : sort == fork\n",
      "\n",
      "reading tf_files/sort/195.woodenspoonset_1440x.jpg\n",
      "fork (score=0.94338)\n",
      "apple (score=0.04373)\n",
      "coffee_mug (score=0.01289)\n",
      "484Test  : sort == fork\n",
      "\n",
      "reading tf_files/sort/459.drawn-fork-cartoon-2.jpg\n",
      "fork (score=0.99972)\n",
      "coffee_mug (score=0.00027)\n",
      "apple (score=0.00000)\n",
      "485Test  : sort == fork\n",
      "\n",
      "reading tf_files/sort/219.main-qimg-1f1357c03dc40fb991f367d65b6c29c1-c.jpg\n",
      "fork (score=0.99277)\n",
      "coffee_mug (score=0.00723)\n",
      "apple (score=0.00000)\n",
      "486Test  : sort == fork\n",
      "\n",
      "reading tf_files/sort/178.hand-fork-5.jpg\n",
      "fork (score=0.99996)\n",
      "coffee_mug (score=0.00004)\n",
      "apple (score=0.00000)\n",
      "487Test  : sort == fork\n",
      "\n",
      "reading tf_files/sort/568.2715-lg.jpg\n",
      "fork (score=0.99339)\n",
      "coffee_mug (score=0.00661)\n",
      "apple (score=0.00000)\n",
      "488Test  : sort == fork\n",
      "\n",
      "reading tf_files/sort/48.fj007gafd5iwl9l.large.jpg\n",
      "fork (score=1.00000)\n",
      "coffee_mug (score=0.00000)\n",
      "apple (score=0.00000)\n",
      "489Test  : sort == fork\n",
      "\n",
      "reading tf_files/sort/242.motorcycle-fork-service.jpg\n",
      "fork (score=0.98636)\n",
      "coffee_mug (score=0.01364)\n",
      "apple (score=0.00000)\n",
      "490Test  : sort == fork\n",
      "\n",
      "reading tf_files/sort/362.colnago-v1r-fork-unrd-front.jpg\n",
      "fork (score=0.99894)\n",
      "coffee_mug (score=0.00106)\n",
      "apple (score=0.00000)\n",
      "491Test  : sort == fork\n",
      "\n",
      "reading tf_files/sort/312.34979fd0e70cee405ca76bc0b20e4549.jpg\n",
      "fork (score=0.98621)\n",
      "coffee_mug (score=0.01379)\n",
      "apple (score=0.00000)\n",
      "492Test  : sort == fork\n",
      "\n",
      "reading tf_files/sort/590.ethicmerrowscshicpolished.jpg\n",
      "fork (score=0.99373)\n",
      "coffee_mug (score=0.00627)\n",
      "apple (score=0.00000)\n",
      "493Test  : sort == fork\n",
      "\n",
      "reading tf_files/sort/431.tuningfork_5.jpg\n",
      "fork (score=0.99997)\n",
      "coffee_mug (score=0.00003)\n",
      "apple (score=0.00000)\n",
      "494Test  : sort == fork\n",
      "\n",
      "reading tf_files/sort/582.image-3131.jpg\n",
      "fork (score=0.99479)\n",
      "coffee_mug (score=0.00521)\n",
      "apple (score=0.00000)\n",
      "495Test  : sort == fork\n",
      "\n",
      "reading tf_files/sort/139.fork-01.jpg\n",
      "fork (score=1.00000)\n",
      "coffee_mug (score=0.00000)\n",
      "apple (score=0.00000)\n",
      "496Test  : sort == fork\n",
      "\n",
      "reading tf_files/sort/159.fork_and_spoon_-_navy_-_zoom__19794.1530571859.jpg\n",
      "fork (score=0.99974)\n",
      "coffee_mug (score=0.00026)\n",
      "apple (score=0.00000)\n",
      "497Test  : sort == fork\n",
      "\n",
      "reading tf_files/sort/160.10670486159390.jpg\n",
      "fork (score=0.99992)\n",
      "coffee_mug (score=0.00008)\n",
      "apple (score=0.00000)\n",
      "498Test  : sort == fork\n",
      "\n",
      "reading tf_files/sort/287.1187.jpg\n",
      "fork (score=0.99071)\n",
      "coffee_mug (score=0.00929)\n",
      "apple (score=0.00000)\n",
      "499Test  : sort == fork\n",
      "\n",
      "reading tf_files/sort/153.spot_bikes_cxfork_600x400_new_grande.jpg\n",
      "fork (score=0.99997)\n",
      "coffee_mug (score=0.00003)\n",
      "apple (score=0.00000)\n",
      "500Test  : sort == fork\n",
      "\n",
      "reading tf_files/sort/apple/363.jumbotron-545f732874.jpg\n",
      "apple (score=0.99805)\n",
      "coffee_mug (score=0.00136)\n",
      "fork (score=0.00059)\n",
      "501Test  : apple == apple\n",
      "\n",
      "Problem moving tf_files/sort/apple/363.jumbotron-545f732874.jpg : Destination path 'tf_files/sort/apple/363.jumbotron-545f732874.jpg' already exists\n",
      "reading tf_files/sort/fork/82.luxor-entree-fork-olympic-party-hire-adelaide_bd78932829a64e340667602cd6642751.jpg\n",
      "fork (score=0.99992)\n",
      "coffee_mug (score=0.00008)\n",
      "apple (score=0.00000)\n",
      "502Test  : fork == fork\n",
      "\n",
      "Problem moving tf_files/sort/fork/82.luxor-entree-fork-olympic-party-hire-adelaide_bd78932829a64e340667602cd6642751.jpg : Destination path 'tf_files/sort/fork/82.luxor-entree-fork-olympic-party-hire-adelaide_bd78932829a64e340667602cd6642751.jpg' already exists\n",
      "reading tf_files/sort/fork/77.74769.jpg\n",
      "fork (score=0.99993)\n",
      "coffee_mug (score=0.00006)\n",
      "apple (score=0.00001)\n",
      "503Test  : fork == fork\n",
      "\n",
      "Problem moving tf_files/sort/fork/77.74769.jpg : Destination path 'tf_files/sort/fork/77.74769.jpg' already exists\n",
      "reading tf_files/sort/fork/308.bugatti-duetto-stainless-steel-dessert-fork.jpg\n",
      "fork (score=0.99997)\n",
      "coffee_mug (score=0.00003)\n",
      "apple (score=0.00000)\n",
      "504Test  : fork == fork\n",
      "\n",
      "Problem moving tf_files/sort/fork/308.bugatti-duetto-stainless-steel-dessert-fork.jpg : Destination path 'tf_files/sort/fork/308.bugatti-duetto-stainless-steel-dessert-fork.jpg' already exists\n",
      "reading tf_files/sort/fork/27.dinner-fork-stainless.jpg\n",
      "fork (score=1.00000)\n",
      "coffee_mug (score=0.00000)\n",
      "apple (score=0.00000)\n",
      "505Test  : fork == fork\n",
      "\n",
      "Problem moving tf_files/sort/fork/27.dinner-fork-stainless.jpg : Destination path 'tf_files/sort/fork/27.dinner-fork-stainless.jpg' already exists\n",
      "reading tf_files/sort/fork/286.6632.jpg\n",
      "fork (score=0.99999)\n",
      "coffee_mug (score=0.00001)\n",
      "apple (score=0.00000)\n",
      "506Test  : fork == fork\n",
      "\n",
      "Problem moving tf_files/sort/fork/286.6632.jpg : Destination path 'tf_files/sort/fork/286.6632.jpg' already exists\n",
      "reading tf_files/sort/fork/129.forks.jpg\n",
      "fork (score=0.99995)\n",
      "apple (score=0.00003)\n",
      "coffee_mug (score=0.00002)\n",
      "507Test  : fork == fork\n",
      "\n",
      "Problem moving tf_files/sort/fork/129.forks.jpg : Destination path 'tf_files/sort/fork/129.forks.jpg' already exists\n",
      "reading tf_files/sort/fork/509.atfty21.jpg\n",
      "fork (score=0.99975)\n",
      "coffee_mug (score=0.00025)\n",
      "apple (score=0.00000)\n",
      "508Test  : fork == fork\n",
      "\n",
      "Problem moving tf_files/sort/fork/509.atfty21.jpg : Destination path 'tf_files/sort/fork/509.atfty21.jpg' already exists\n",
      "reading tf_files/sort/fork/47.royal-fork-blk1.jpg\n",
      "fork (score=0.99962)\n",
      "coffee_mug (score=0.00038)\n",
      "apple (score=0.00000)\n",
      "509Test  : fork == fork\n",
      "\n",
      "Problem moving tf_files/sort/fork/47.royal-fork-blk1.jpg : Destination path 'tf_files/sort/fork/47.royal-fork-blk1.jpg' already exists\n",
      "reading tf_files/sort/fork/653.3-tine-fork-flatware-set-contemporary-amazon-com-horntide-6-piece-dessert-forks-tines-fruit-salad-pertaining-to.jpg\n",
      "fork (score=0.99973)\n",
      "coffee_mug (score=0.00027)\n",
      "apple (score=0.00000)\n",
      "510Test  : fork == fork\n",
      "\n",
      "Problem moving tf_files/sort/fork/653.3-tine-fork-flatware-set-contemporary-amazon-com-horntide-6-piece-dessert-forks-tines-fruit-salad-pertaining-to.jpg : Destination path 'tf_files/sort/fork/653.3-tine-fork-flatware-set-contemporary-amazon-com-horntide-6-piece-dessert-forks-tines-fruit-salad-pertaining-to.jpg' already exists\n",
      "reading tf_files/sort/fork/202.41rs830kv9l._sy355_.jpg\n",
      "fork (score=0.99994)\n",
      "coffee_mug (score=0.00006)\n",
      "apple (score=0.00000)\n",
      "511Test  : fork == fork\n",
      "\n",
      "Problem moving tf_files/sort/fork/202.41rs830kv9l._sy355_.jpg : Destination path 'tf_files/sort/fork/202.41rs830kv9l._sy355_.jpg' already exists\n",
      "reading tf_files/sort/fork/620.forkbamboo_full.jpg\n",
      "fork (score=0.99996)\n",
      "coffee_mug (score=0.00004)\n",
      "apple (score=0.00000)\n",
      "512Test  : fork == fork\n",
      "\n",
      "Problem moving tf_files/sort/fork/620.forkbamboo_full.jpg : Destination path 'tf_files/sort/fork/620.forkbamboo_full.jpg' already exists\n",
      "reading tf_files/sort/fork/37.22930_57575_43957.jpg\n",
      "fork (score=0.99996)\n",
      "coffee_mug (score=0.00004)\n",
      "apple (score=0.00000)\n",
      "513Test  : fork == fork\n",
      "\n",
      "Problem moving tf_files/sort/fork/37.22930_57575_43957.jpg : Destination path 'tf_files/sort/fork/37.22930_57575_43957.jpg' already exists\n",
      "reading tf_files/sort/fork/235.fork_terra_color_2_00017.jpg\n",
      "fork (score=0.99739)\n",
      "coffee_mug (score=0.00261)\n",
      "apple (score=0.00000)\n",
      "514Test  : fork == fork\n",
      "\n",
      "Problem moving tf_files/sort/fork/235.fork_terra_color_2_00017.jpg : Destination path 'tf_files/sort/fork/235.fork_terra_color_2_00017.jpg' already exists\n",
      "reading tf_files/sort/fork/64.2017_6ku_aluminumfork_black_studiophoto_001_2000x.jpg\n",
      "fork (score=0.99986)\n",
      "coffee_mug (score=0.00014)\n",
      "apple (score=0.00000)\n",
      "515Test  : fork == fork\n",
      "\n",
      "Problem moving tf_files/sort/fork/64.2017_6ku_aluminumfork_black_studiophoto_001_2000x.jpg : Destination path 'tf_files/sort/fork/64.2017_6ku_aluminumfork_black_studiophoto_001_2000x.jpg' already exists\n",
      "reading tf_files/sort/fork/88.layer_443__50746.1513558049.1280.1280.jpg\n",
      "fork (score=0.99708)\n",
      "coffee_mug (score=0.00292)\n",
      "apple (score=0.00000)\n",
      "516Test  : fork == fork\n",
      "\n",
      "Problem moving tf_files/sort/fork/88.layer_443__50746.1513558049.1280.1280.jpg : Destination path 'tf_files/sort/fork/88.layer_443__50746.1513558049.1280.1280.jpg' already exists\n",
      "reading tf_files/sort/fork/640.09-rose-gold-cake-fork-570x570.jpg\n",
      "fork (score=1.00000)\n",
      "coffee_mug (score=0.00000)\n",
      "apple (score=0.00000)\n",
      "517Test  : fork == fork\n",
      "\n",
      "Problem moving tf_files/sort/fork/640.09-rose-gold-cake-fork-570x570.jpg : Destination path 'tf_files/sort/fork/640.09-rose-gold-cake-fork-570x570.jpg' already exists\n",
      "reading tf_files/sort/fork/49.garden-fork-1.jpg\n",
      "fork (score=0.99997)\n",
      "coffee_mug (score=0.00003)\n",
      "apple (score=0.00000)\n",
      "518Test  : fork == fork\n",
      "\n",
      "Problem moving tf_files/sort/fork/49.garden-fork-1.jpg : Destination path 'tf_files/sort/fork/49.garden-fork-1.jpg' already exists\n",
      "reading tf_files/sort/fork/307.cutlery_1050x700.jpg\n"
     ]
    },
    {
     "name": "stdout",
     "output_type": "stream",
     "text": [
      "fork (score=0.99997)\n",
      "coffee_mug (score=0.00003)\n",
      "apple (score=0.00000)\n",
      "519Test  : fork == fork\n",
      "\n",
      "Problem moving tf_files/sort/fork/307.cutlery_1050x700.jpg : Destination path 'tf_files/sort/fork/307.cutlery_1050x700.jpg' already exists\n",
      "reading tf_files/sort/fork/254.6020908-800x800.jpg\n",
      "fork (score=0.99993)\n",
      "coffee_mug (score=0.00007)\n",
      "apple (score=0.00000)\n",
      "520Test  : fork == fork\n",
      "\n",
      "Problem moving tf_files/sort/fork/254.6020908-800x800.jpg : Destination path 'tf_files/sort/fork/254.6020908-800x800.jpg' already exists\n",
      "reading tf_files/sort/fork/355.fork-clipart-8.jpg\n",
      "fork (score=0.99964)\n",
      "coffee_mug (score=0.00036)\n",
      "apple (score=0.00000)\n",
      "521Test  : fork == fork\n",
      "\n",
      "Problem moving tf_files/sort/fork/355.fork-clipart-8.jpg : Destination path 'tf_files/sort/fork/355.fork-clipart-8.jpg' already exists\n",
      "reading tf_files/sort/fork/118.arthur_krupp_baguette_bagurzkrcf_grande.jpg\n",
      "fork (score=0.99956)\n",
      "coffee_mug (score=0.00044)\n",
      "apple (score=0.00000)\n",
      "522Test  : fork == fork\n",
      "\n",
      "Problem moving tf_files/sort/fork/118.arthur_krupp_baguette_bagurzkrcf_grande.jpg : Destination path 'tf_files/sort/fork/118.arthur_krupp_baguette_bagurzkrcf_grande.jpg' already exists\n",
      "reading tf_files/sort/fork/281.knife-fork-spoon-with-ornaments-vector-1174917.jpg\n",
      "fork (score=0.99995)\n",
      "coffee_mug (score=0.00005)\n",
      "apple (score=0.00000)\n",
      "523Test  : fork == fork\n",
      "\n",
      "Problem moving tf_files/sort/fork/281.knife-fork-spoon-with-ornaments-vector-1174917.jpg : Destination path 'tf_files/sort/fork/281.knife-fork-spoon-with-ornaments-vector-1174917.jpg' already exists\n",
      "reading tf_files/sort/fork/452.bigger-blocks-and-smarter-contracts-whats-in-bitcoin-cashs-next-fork-1.jpg\n",
      "fork (score=0.99647)\n",
      "coffee_mug (score=0.00353)\n",
      "apple (score=0.00000)\n",
      "524Test  : fork == fork\n",
      "\n",
      "Problem moving tf_files/sort/fork/452.bigger-blocks-and-smarter-contracts-whats-in-bitcoin-cashs-next-fork-1.jpg : Destination path 'tf_files/sort/fork/452.bigger-blocks-and-smarter-contracts-whats-in-bitcoin-cashs-next-fork-1.jpg' already exists\n",
      "reading tf_files/sort/fork/108.1_blue__67084.1525314770.1280.1280.jpg\n",
      "fork (score=0.99806)\n",
      "coffee_mug (score=0.00194)\n",
      "apple (score=0.00000)\n",
      "525Test  : fork == fork\n",
      "\n",
      "Problem moving tf_files/sort/fork/108.1_blue__67084.1525314770.1280.1280.jpg : Destination path 'tf_files/sort/fork/108.1_blue__67084.1525314770.1280.1280.jpg' already exists\n",
      "reading tf_files/sort/fork/255.11-rose-gold-entree-fork-570x570.jpg\n",
      "fork (score=1.00000)\n",
      "coffee_mug (score=0.00000)\n",
      "apple (score=0.00000)\n",
      "526Test  : fork == fork\n",
      "\n",
      "Problem moving tf_files/sort/fork/255.11-rose-gold-entree-fork-570x570.jpg : Destination path 'tf_files/sort/fork/255.11-rose-gold-entree-fork-570x570.jpg' already exists\n",
      "reading tf_files/sort/fork/432.colnago-v1r-fork-unrd.jpg\n",
      "fork (score=0.99965)\n",
      "coffee_mug (score=0.00035)\n",
      "apple (score=0.00000)\n",
      "527Test  : fork == fork\n",
      "\n",
      "Problem moving tf_files/sort/fork/432.colnago-v1r-fork-unrd.jpg : Destination path 'tf_files/sort/fork/432.colnago-v1r-fork-unrd.jpg' already exists\n",
      "reading tf_files/sort/fork/181.lucky-hurracane-scooter-fork-black_25da9b52-1e6a-472e-b26f-2addf1c3b25c_large.jpg\n",
      "fork (score=0.99947)\n",
      "coffee_mug (score=0.00053)\n",
      "apple (score=0.00000)\n",
      "528Test  : fork == fork\n",
      "\n",
      "Problem moving tf_files/sort/fork/181.lucky-hurracane-scooter-fork-black_25da9b52-1e6a-472e-b26f-2addf1c3b25c_large.jpg : Destination path 'tf_files/sort/fork/181.lucky-hurracane-scooter-fork-black_25da9b52-1e6a-472e-b26f-2addf1c3b25c_large.jpg' already exists\n",
      "reading tf_files/sort/fork/264.no9_rd_plus_fork_croped.jpg\n",
      "fork (score=0.99834)\n",
      "coffee_mug (score=0.00166)\n",
      "apple (score=0.00000)\n",
      "529Test  : fork == fork\n",
      "\n",
      "Problem moving tf_files/sort/fork/264.no9_rd_plus_fork_croped.jpg : Destination path 'tf_files/sort/fork/264.no9_rd_plus_fork_croped.jpg' already exists\n",
      "reading tf_files/sort/fork/261.40089e3e-ef74-48cf-9098-b83846f35583.jpg\n",
      "fork (score=0.99998)\n",
      "coffee_mug (score=0.00002)\n",
      "apple (score=0.00000)\n",
      "530Test  : fork == fork\n",
      "\n",
      "Problem moving tf_files/sort/fork/261.40089e3e-ef74-48cf-9098-b83846f35583.jpg : Destination path 'tf_files/sort/fork/261.40089e3e-ef74-48cf-9098-b83846f35583.jpg' already exists\n",
      "reading tf_files/sort/fork/17.fork-04.jpg\n",
      "fork (score=0.99999)\n",
      "coffee_mug (score=0.00001)\n",
      "apple (score=0.00000)\n",
      "531Test  : fork == fork\n",
      "\n",
      "Problem moving tf_files/sort/fork/17.fork-04.jpg : Destination path 'tf_files/sort/fork/17.fork-04.jpg' already exists\n",
      "reading tf_files/sort/fork/89.553721-zoom.jpg\n",
      "fork (score=0.99969)\n",
      "coffee_mug (score=0.00031)\n",
      "apple (score=0.00000)\n",
      "532Test  : fork == fork\n",
      "\n",
      "Problem moving tf_files/sort/fork/89.553721-zoom.jpg : Destination path 'tf_files/sort/fork/89.553721-zoom.jpg' already exists\n",
      "reading tf_files/sort/fork/377.jpg\n",
      "fork (score=0.99989)\n",
      "coffee_mug (score=0.00011)\n",
      "apple (score=0.00000)\n",
      "533Test  : fork == fork\n",
      "\n",
      "Problem moving tf_files/sort/fork/377.jpg : Destination path 'tf_files/sort/fork/377.jpg' already exists\n",
      "reading tf_files/sort/fork/282.rtl5224200k.jpg\n",
      "fork (score=0.99972)\n",
      "coffee_mug (score=0.00026)\n",
      "apple (score=0.00001)\n",
      "534Test  : fork == fork\n",
      "\n",
      "Problem moving tf_files/sort/fork/282.rtl5224200k.jpg : Destination path 'tf_files/sort/fork/282.rtl5224200k.jpg' already exists\n",
      "reading tf_files/sort/fork/559.700c_threadless_carbon_fork.jpg\n",
      "fork (score=0.99909)\n",
      "coffee_mug (score=0.00091)\n",
      "apple (score=0.00000)\n",
      "535Test  : fork == fork\n",
      "\n",
      "Problem moving tf_files/sort/fork/559.700c_threadless_carbon_fork.jpg : Destination path 'tf_files/sort/fork/559.700c_threadless_carbon_fork.jpg' already exists\n",
      "reading tf_files/sort/fork/515.origin-8-pro-pulsion-synergy-fork-copy-201214-1.jpg\n",
      "fork (score=0.99895)\n",
      "coffee_mug (score=0.00105)\n",
      "apple (score=0.00000)\n",
      "536Test  : fork == fork\n",
      "\n",
      "Problem moving tf_files/sort/fork/515.origin-8-pro-pulsion-synergy-fork-copy-201214-1.jpg : Destination path 'tf_files/sort/fork/515.origin-8-pro-pulsion-synergy-fork-copy-201214-1.jpg' already exists\n",
      "reading tf_files/sort/fork/658.fork%2bcriticism.jpg\n",
      "fork (score=0.99712)\n",
      "coffee_mug (score=0.00288)\n",
      "apple (score=0.00000)\n",
      "537Test  : fork == fork\n",
      "\n",
      "Problem moving tf_files/sort/fork/658.fork%2bcriticism.jpg : Destination path 'tf_files/sort/fork/658.fork%2bcriticism.jpg' already exists\n",
      "reading tf_files/sort/fork/366.division-forks-group2-wbg.jpg\n",
      "fork (score=0.99654)\n",
      "coffee_mug (score=0.00346)\n",
      "apple (score=0.00000)\n",
      "538Test  : fork == fork\n",
      "\n",
      "Problem moving tf_files/sort/fork/366.division-forks-group2-wbg.jpg : Destination path 'tf_files/sort/fork/366.division-forks-group2-wbg.jpg' already exists\n",
      "reading tf_files/sort/fork/169.fork-springs.jpg\n",
      "fork (score=0.99998)\n",
      "coffee_mug (score=0.00002)\n",
      "apple (score=0.00000)\n",
      "539Test  : fork == fork\n",
      "\n",
      "Problem moving tf_files/sort/fork/169.fork-springs.jpg : Destination path 'tf_files/sort/fork/169.fork-springs.jpg' already exists\n",
      "reading tf_files/sort/fork/204.set-of-3-plastic-camping-hiking-cutlery-items-knife-fork-spoon-green.jpg\n",
      "fork (score=0.99730)\n",
      "coffee_mug (score=0.00270)\n",
      "apple (score=0.00000)\n",
      "540Test  : fork == fork\n",
      "\n",
      "Problem moving tf_files/sort/fork/204.set-of-3-plastic-camping-hiking-cutlery-items-knife-fork-spoon-green.jpg : Destination path 'tf_files/sort/fork/204.set-of-3-plastic-camping-hiking-cutlery-items-knife-fork-spoon-green.jpg' already exists\n",
      "reading tf_files/sort/fork/258.all_road_fork_4.jpg\n",
      "fork (score=0.99933)\n",
      "coffee_mug (score=0.00067)\n",
      "apple (score=0.00000)\n",
      "541Test  : fork == fork\n",
      "\n",
      "Problem moving tf_files/sort/fork/258.all_road_fork_4.jpg : Destination path 'tf_files/sort/fork/258.all_road_fork_4.jpg' already exists\n",
      "reading tf_files/sort/fork/585.front%20forks_small.jpg\n",
      "fork (score=0.99131)\n",
      "coffee_mug (score=0.00869)\n",
      "apple (score=0.00000)\n",
      "542Test  : fork == fork\n",
      "\n",
      "Problem moving tf_files/sort/fork/585.front%20forks_small.jpg : Destination path 'tf_files/sort/fork/585.front%20forks_small.jpg' already exists\n",
      "reading tf_files/sort/fork/533.stainless-steel-cuttlery-home-lot-black-western-food-stainless-steel-cutlery-set-flatware-tableware-sets-fork.jpg\n",
      "fork (score=0.99997)\n",
      "coffee_mug (score=0.00003)\n",
      "apple (score=0.00000)\n",
      "543Test  : fork == fork\n",
      "\n",
      "Problem moving tf_files/sort/fork/533.stainless-steel-cuttlery-home-lot-black-western-food-stainless-steel-cutlery-set-flatware-tableware-sets-fork.jpg : Destination path 'tf_files/sort/fork/533.stainless-steel-cuttlery-home-lot-black-western-food-stainless-steel-cutlery-set-flatware-tableware-sets-fork.jpg' already exists\n",
      "reading tf_files/sort/fork/461.31w5gd9aswl._sl500_ac_ss350_.jpg\n"
     ]
    },
    {
     "name": "stdout",
     "output_type": "stream",
     "text": [
      "fork (score=1.00000)\n",
      "coffee_mug (score=0.00000)\n",
      "apple (score=0.00000)\n",
      "544Test  : fork == fork\n",
      "\n",
      "Problem moving tf_files/sort/fork/461.31w5gd9aswl._sl500_ac_ss350_.jpg : Destination path 'tf_files/sort/fork/461.31w5gd9aswl._sl500_ac_ss350_.jpg' already exists\n",
      "reading tf_files/sort/fork/438.d530e9abb35cfcc92b8d146b49cabc04--rumah-pohon-allrecipes.jpg\n",
      "fork (score=0.99034)\n",
      "coffee_mug (score=0.00966)\n",
      "apple (score=0.00000)\n",
      "545Test  : fork == fork\n",
      "\n",
      "Problem moving tf_files/sort/fork/438.d530e9abb35cfcc92b8d146b49cabc04--rumah-pohon-allrecipes.jpg : Destination path 'tf_files/sort/fork/438.d530e9abb35cfcc92b8d146b49cabc04--rumah-pohon-allrecipes.jpg' already exists\n",
      "reading tf_files/sort/fork/346.urban_artt_forks_black__42258.1398989143.1280.1280.jpg\n",
      "fork (score=0.99938)\n",
      "coffee_mug (score=0.00062)\n",
      "apple (score=0.00000)\n",
      "546Test  : fork == fork\n",
      "\n",
      "Problem moving tf_files/sort/fork/346.urban_artt_forks_black__42258.1398989143.1280.1280.jpg : Destination path 'tf_files/sort/fork/346.urban_artt_forks_black__42258.1398989143.1280.1280.jpg' already exists\n",
      "reading tf_files/sort/fork/263.fork-extensions-1-1024x633.jpg\n",
      "fork (score=0.99975)\n",
      "coffee_mug (score=0.00025)\n",
      "apple (score=0.00000)\n",
      "547Test  : fork == fork\n",
      "\n",
      "Problem moving tf_files/sort/fork/263.fork-extensions-1-1024x633.jpg : Destination path 'tf_files/sort/fork/263.fork-extensions-1-1024x633.jpg' already exists\n",
      "reading tf_files/sort/fork/105.bitcoin-fork-670x335.jpg\n",
      "fork (score=0.99607)\n",
      "coffee_mug (score=0.00231)\n",
      "apple (score=0.00162)\n",
      "548Test  : fork == fork\n",
      "\n",
      "Problem moving tf_files/sort/fork/105.bitcoin-fork-670x335.jpg : Destination path 'tf_files/sort/fork/105.bitcoin-fork-670x335.jpg' already exists\n",
      "reading tf_files/sort/fork/595.amefa-austin-cake-fork.jpg\n",
      "fork (score=0.99997)\n",
      "coffee_mug (score=0.00003)\n",
      "apple (score=0.00000)\n",
      "549Test  : fork == fork\n",
      "\n",
      "Problem moving tf_files/sort/fork/595.amefa-austin-cake-fork.jpg : Destination path 'tf_files/sort/fork/595.amefa-austin-cake-fork.jpg' already exists\n",
      "reading tf_files/sort/fork/569.fk-fox-01.jpg\n",
      "fork (score=0.99995)\n",
      "coffee_mug (score=0.00005)\n",
      "apple (score=0.00000)\n",
      "550Test  : fork == fork\n",
      "\n",
      "Problem moving tf_files/sort/fork/569.fk-fox-01.jpg : Destination path 'tf_files/sort/fork/569.fk-fox-01.jpg' already exists\n",
      "reading tf_files/sort/fork/119.fork-cutlery-tool-metal-tableware-kitchen-knife-cake-fork-small-fork-918907.jpg\n",
      "fork (score=1.00000)\n",
      "coffee_mug (score=0.00000)\n",
      "apple (score=0.00000)\n",
      "551Test  : fork == fork\n",
      "\n",
      "Problem moving tf_files/sort/fork/119.fork-cutlery-tool-metal-tableware-kitchen-knife-cake-fork-small-fork-918907.jpg : Destination path 'tf_files/sort/fork/119.fork-cutlery-tool-metal-tableware-kitchen-knife-cake-fork-small-fork-918907.jpg' already exists\n",
      "reading tf_files/sort/fork/9.31jo9j8hvel._sl500_ac_ss350_.jpg\n",
      "fork (score=0.99998)\n",
      "coffee_mug (score=0.00002)\n",
      "apple (score=0.00000)\n",
      "552Test  : fork == fork\n",
      "\n",
      "Problem moving tf_files/sort/fork/9.31jo9j8hvel._sl500_ac_ss350_.jpg : Destination path 'tf_files/sort/fork/9.31jo9j8hvel._sl500_ac_ss350_.jpg' already exists\n",
      "reading tf_files/sort/fork/237.3035810-poster-p-1-the-surprisingly-interesting-history-of-the-fork.jpg\n",
      "fork (score=0.99991)\n",
      "coffee_mug (score=0.00009)\n",
      "apple (score=0.00000)\n",
      "553Test  : fork == fork\n",
      "\n",
      "Problem moving tf_files/sort/fork/237.3035810-poster-p-1-the-surprisingly-interesting-history-of-the-fork.jpg : Destination path 'tf_files/sort/fork/237.3035810-poster-p-1-the-surprisingly-interesting-history-of-the-fork.jpg' already exists\n",
      "reading tf_files/sort/fork/268.tuning-forks.jpg\n",
      "fork (score=0.99406)\n",
      "coffee_mug (score=0.00594)\n",
      "apple (score=0.00000)\n",
      "554Test  : fork == fork\n",
      "\n",
      "Problem moving tf_files/sort/fork/268.tuning-forks.jpg : Destination path 'tf_files/sort/fork/268.tuning-forks.jpg' already exists\n",
      "reading tf_files/sort/fork/303.cake-fork-amalfi.jpg\n",
      "fork (score=0.99909)\n",
      "coffee_mug (score=0.00091)\n",
      "apple (score=0.00000)\n",
      "555Test  : fork == fork\n",
      "\n",
      "Problem moving tf_files/sort/fork/303.cake-fork-amalfi.jpg : Destination path 'tf_files/sort/fork/303.cake-fork-amalfi.jpg' already exists\n",
      "reading tf_files/sort/fork/306.5ab92dfd716bc.jpg\n",
      "fork (score=0.99966)\n",
      "coffee_mug (score=0.00034)\n",
      "apple (score=0.00000)\n",
      "556Test  : fork == fork\n",
      "\n",
      "Problem moving tf_files/sort/fork/306.5ab92dfd716bc.jpg : Destination path 'tf_files/sort/fork/306.5ab92dfd716bc.jpg' already exists\n",
      "reading tf_files/sort/fork/356.cbg23b-stanley-rogers-baguette-table-fork-loose-rs-hr_1000x.jpg\n",
      "fork (score=1.00000)\n",
      "coffee_mug (score=0.00000)\n",
      "apple (score=0.00000)\n",
      "557Test  : fork == fork\n",
      "\n",
      "Problem moving tf_files/sort/fork/356.cbg23b-stanley-rogers-baguette-table-fork-loose-rs-hr_1000x.jpg : Destination path 'tf_files/sort/fork/356.cbg23b-stanley-rogers-baguette-table-fork-loose-rs-hr_1000x.jpg' already exists\n",
      "reading tf_files/sort/fork/405.3-tine-fork-flatware-set-awesome-prong-piece-pertaining-to-13.jpg\n",
      "fork (score=0.99955)\n",
      "coffee_mug (score=0.00045)\n",
      "apple (score=0.00000)\n",
      "558Test  : fork == fork\n",
      "\n",
      "Problem moving tf_files/sort/fork/405.3-tine-fork-flatware-set-awesome-prong-piece-pertaining-to-13.jpg : Destination path 'tf_files/sort/fork/405.3-tine-fork-flatware-set-awesome-prong-piece-pertaining-to-13.jpg' already exists\n",
      "reading tf_files/sort/fork/7.orange_fork.jpg\n",
      "fork (score=0.99942)\n",
      "coffee_mug (score=0.00056)\n",
      "apple (score=0.00001)\n",
      "559Test  : fork == fork\n",
      "\n",
      "Problem moving tf_files/sort/fork/7.orange_fork.jpg : Destination path 'tf_files/sort/fork/7.orange_fork.jpg' already exists\n",
      "reading tf_files/sort/fork/323.images%252fslides%252fdessert_fork_1.jpg\n",
      "fork (score=1.00000)\n",
      "coffee_mug (score=0.00000)\n",
      "apple (score=0.00000)\n",
      "560Test  : fork == fork\n",
      "\n",
      "Problem moving tf_files/sort/fork/323.images%252fslides%252fdessert_fork_1.jpg : Destination path 'tf_files/sort/fork/323.images%252fslides%252fdessert_fork_1.jpg' already exists\n",
      "reading tf_files/sort/fork/241.701587143356.jpg\n",
      "fork (score=0.99278)\n",
      "coffee_mug (score=0.00722)\n",
      "apple (score=0.00000)\n",
      "561Test  : fork == fork\n",
      "\n",
      "Problem moving tf_files/sort/fork/241.701587143356.jpg : Destination path 'tf_files/sort/fork/241.701587143356.jpg' already exists\n",
      "reading tf_files/sort/fork/200.kay-bojesen-s%c3%b8lv-gaffel.jpg\n",
      "fork (score=0.99088)\n",
      "coffee_mug (score=0.00912)\n",
      "apple (score=0.00000)\n",
      "562Test  : fork == fork\n",
      "\n",
      "Problem moving tf_files/sort/fork/200.kay-bojesen-s%c3%b8lv-gaffel.jpg : Destination path 'tf_files/sort/fork/200.kay-bojesen-s%c3%b8lv-gaffel.jpg' already exists\n",
      "reading tf_files/sort/fork/488.zephyr.jpg\n",
      "fork (score=0.99993)\n",
      "coffee_mug (score=0.00007)\n",
      "apple (score=0.00000)\n",
      "563Test  : fork == fork\n",
      "\n",
      "Problem moving tf_files/sort/fork/488.zephyr.jpg : Destination path 'tf_files/sort/fork/488.zephyr.jpg' already exists\n",
      "reading tf_files/sort/fork/230.dg324_forkthumb.jpg\n",
      "fork (score=0.99999)\n",
      "coffee_mug (score=0.00001)\n",
      "apple (score=0.00000)\n",
      "564Test  : fork == fork\n",
      "\n",
      "Problem moving tf_files/sort/fork/230.dg324_forkthumb.jpg : Destination path 'tf_files/sort/fork/230.dg324_forkthumb.jpg' already exists\n",
      "reading tf_files/sort/fork/107.maxresdefault.jpg\n",
      "fork (score=0.99993)\n",
      "coffee_mug (score=0.00007)\n",
      "apple (score=0.00000)\n",
      "565Test  : fork == fork\n",
      "\n",
      "Problem moving tf_files/sort/fork/107.maxresdefault.jpg : Destination path 'tf_files/sort/fork/107.maxresdefault.jpg' already exists\n",
      "reading tf_files/sort/fork/557.8thcent.two-pronged.jpg\n",
      "fork (score=0.99996)\n",
      "coffee_mug (score=0.00004)\n",
      "apple (score=0.00000)\n",
      "566Test  : fork == fork\n",
      "\n",
      "Problem moving tf_files/sort/fork/557.8thcent.two-pronged.jpg : Destination path 'tf_files/sort/fork/557.8thcent.two-pronged.jpg' already exists\n",
      "reading tf_files/sort/fork/182.580b57fcd9996e24bc43c554.jpg\n",
      "fork (score=0.99856)\n",
      "coffee_mug (score=0.00144)\n",
      "apple (score=0.00000)\n",
      "567Test  : fork == fork\n",
      "\n",
      "Problem moving tf_files/sort/fork/182.580b57fcd9996e24bc43c554.jpg : Destination path 'tf_files/sort/fork/182.580b57fcd9996e24bc43c554.jpg' already exists\n",
      "reading tf_files/sort/fork/670.3-tine-fork-flatware-set-attractive-three-prong-jpemarket-pertaining-to-8.jpg\n",
      "fork (score=0.99869)\n",
      "coffee_mug (score=0.00130)\n",
      "apple (score=0.00000)\n",
      "568Test  : fork == fork\n",
      "\n",
      "Problem moving tf_files/sort/fork/670.3-tine-fork-flatware-set-attractive-three-prong-jpemarket-pertaining-to-8.jpg : Destination path 'tf_files/sort/fork/670.3-tine-fork-flatware-set-attractive-three-prong-jpemarket-pertaining-to-8.jpg' already exists\n",
      "reading tf_files/sort/fork/83.wtpswitchforks.jpg\n"
     ]
    },
    {
     "name": "stdout",
     "output_type": "stream",
     "text": [
      "fork (score=0.99933)\n",
      "coffee_mug (score=0.00067)\n",
      "apple (score=0.00000)\n",
      "569Test  : fork == fork\n",
      "\n",
      "Problem moving tf_files/sort/fork/83.wtpswitchforks.jpg : Destination path 'tf_files/sort/fork/83.wtpswitchforks.jpg' already exists\n",
      "reading tf_files/sort/fork/451.oil-level-gauge.jpg\n",
      "fork (score=0.99921)\n",
      "coffee_mug (score=0.00079)\n",
      "apple (score=0.00000)\n",
      "570Test  : fork == fork\n",
      "\n",
      "Problem moving tf_files/sort/fork/451.oil-level-gauge.jpg : Destination path 'tf_files/sort/fork/451.oil-level-gauge.jpg' already exists\n",
      "reading tf_files/sort/fork/55.0031306_columbus-pista-leggera-carbon-fork-black.jpg\n",
      "fork (score=0.99999)\n",
      "coffee_mug (score=0.00001)\n",
      "apple (score=0.00000)\n",
      "571Test  : fork == fork\n",
      "\n",
      "Problem moving tf_files/sort/fork/55.0031306_columbus-pista-leggera-carbon-fork-black.jpg : Destination path 'tf_files/sort/fork/55.0031306_columbus-pista-leggera-carbon-fork-black.jpg' already exists\n",
      "reading tf_files/sort/fork/101.main-qimg-cff39a808b759db672b5c9ab7c700935-c.jpg\n",
      "fork (score=0.99827)\n",
      "coffee_mug (score=0.00173)\n",
      "apple (score=0.00000)\n",
      "572Test  : fork == fork\n",
      "\n",
      "Problem moving tf_files/sort/fork/101.main-qimg-cff39a808b759db672b5c9ab7c700935-c.jpg : Destination path 'tf_files/sort/fork/101.main-qimg-cff39a808b759db672b5c9ab7c700935-c.jpg' already exists\n",
      "reading tf_files/sort/fork/434.luxor-oyster-fork-olympic-party-hire-adelaide_a4d2c6273071fa5538d05c1bcfeeb864.jpg\n",
      "fork (score=1.00000)\n",
      "coffee_mug (score=0.00000)\n",
      "apple (score=0.00000)\n",
      "573Test  : fork == fork\n",
      "\n",
      "Problem moving tf_files/sort/fork/434.luxor-oyster-fork-olympic-party-hire-adelaide_a4d2c6273071fa5538d05c1bcfeeb864.jpg : Destination path 'tf_files/sort/fork/434.luxor-oyster-fork-olympic-party-hire-adelaide_a4d2c6273071fa5538d05c1bcfeeb864.jpg' already exists\n",
      "reading tf_files/sort/fork/517.fish-fork-mirror-finish-ovation.jpg\n",
      "fork (score=1.00000)\n",
      "coffee_mug (score=0.00000)\n",
      "apple (score=0.00000)\n",
      "574Test  : fork == fork\n",
      "\n",
      "Problem moving tf_files/sort/fork/517.fish-fork-mirror-finish-ovation.jpg : Destination path 'tf_files/sort/fork/517.fish-fork-mirror-finish-ovation.jpg' already exists\n",
      "reading tf_files/sort/fork/28.redlineflightprofork.jpg\n",
      "fork (score=0.99067)\n",
      "coffee_mug (score=0.00933)\n",
      "apple (score=0.00000)\n",
      "575Test  : fork == fork\n",
      "\n",
      "Problem moving tf_files/sort/fork/28.redlineflightprofork.jpg : Destination path 'tf_files/sort/fork/28.redlineflightprofork.jpg' already exists\n",
      "reading tf_files/sort/fork/609.stainless-salad-fork.jpg\n",
      "fork (score=0.99995)\n",
      "coffee_mug (score=0.00005)\n",
      "apple (score=0.00000)\n",
      "576Test  : fork == fork\n",
      "\n",
      "Problem moving tf_files/sort/fork/609.stainless-salad-fork.jpg : Destination path 'tf_files/sort/fork/609.stainless-salad-fork.jpg' already exists\n",
      "reading tf_files/sort/fork/103.road_disc_fork_ndside.jpg\n",
      "fork (score=0.99991)\n",
      "coffee_mug (score=0.00009)\n",
      "apple (score=0.00000)\n",
      "577Test  : fork == fork\n",
      "\n",
      "Problem moving tf_files/sort/fork/103.road_disc_fork_ndside.jpg : Destination path 'tf_files/sort/fork/103.road_disc_fork_ndside.jpg' already exists\n",
      "reading tf_files/sort/fork/492.tfr01020603.jpg\n",
      "fork (score=0.99994)\n",
      "coffee_mug (score=0.00006)\n",
      "apple (score=0.00000)\n",
      "578Test  : fork == fork\n",
      "\n",
      "Problem moving tf_files/sort/fork/492.tfr01020603.jpg : Destination path 'tf_files/sort/fork/492.tfr01020603.jpg' already exists\n",
      "reading tf_files/sort/fork/135.rbca010-fork-mounted-bike-rack-02.jpg\n",
      "fork (score=0.99461)\n",
      "coffee_mug (score=0.00539)\n",
      "apple (score=0.00000)\n",
      "579Test  : fork == fork\n",
      "\n",
      "Problem moving tf_files/sort/fork/135.rbca010-fork-mounted-bike-rack-02.jpg : Destination path 'tf_files/sort/fork/135.rbca010-fork-mounted-bike-rack-02.jpg' already exists\n",
      "reading tf_files/sort/fork/84.fk-pe-001.jpg\n",
      "fork (score=0.99999)\n",
      "coffee_mug (score=0.00001)\n",
      "apple (score=0.00000)\n",
      "580Test  : fork == fork\n",
      "\n",
      "Problem moving tf_files/sort/fork/84.fk-pe-001.jpg : Destination path 'tf_files/sort/fork/84.fk-pe-001.jpg' already exists\n",
      "reading tf_files/sort/fork/397.road-fork-mvvn0240.jpg\n",
      "fork (score=0.99907)\n",
      "coffee_mug (score=0.00093)\n",
      "apple (score=0.00000)\n",
      "581Test  : fork == fork\n",
      "\n",
      "Problem moving tf_files/sort/fork/397.road-fork-mvvn0240.jpg : Destination path 'tf_files/sort/fork/397.road-fork-mvvn0240.jpg' already exists\n",
      "reading tf_files/sort/fork/50.fork-13.jpg\n",
      "fork (score=0.99997)\n",
      "coffee_mug (score=0.00003)\n",
      "apple (score=0.00000)\n",
      "582Test  : fork == fork\n",
      "\n",
      "Problem moving tf_files/sort/fork/50.fork-13.jpg : Destination path 'tf_files/sort/fork/50.fork-13.jpg' already exists\n",
      "reading tf_files/sort/fork/635.main-qimg-94f8871fd774be73d3bb06d246909748-c.jpg\n",
      "fork (score=0.99861)\n",
      "coffee_mug (score=0.00139)\n",
      "apple (score=0.00000)\n",
      "583Test  : fork == fork\n",
      "\n",
      "Problem moving tf_files/sort/fork/635.main-qimg-94f8871fd774be73d3bb06d246909748-c.jpg : Destination path 'tf_files/sort/fork/635.main-qimg-94f8871fd774be73d3bb06d246909748-c.jpg' already exists\n",
      "reading tf_files/sort/fork/470.3204.jpg\n",
      "fork (score=0.99787)\n",
      "coffee_mug (score=0.00213)\n",
      "apple (score=0.00000)\n",
      "584Test  : fork == fork\n",
      "\n",
      "Problem moving tf_files/sort/fork/470.3204.jpg : Destination path 'tf_files/sort/fork/470.3204.jpg' already exists\n",
      "reading tf_files/sort/fork/171.sparta_straight_3.jpg\n",
      "fork (score=0.99958)\n",
      "coffee_mug (score=0.00042)\n",
      "apple (score=0.00000)\n",
      "585Test  : fork == fork\n",
      "\n",
      "Problem moving tf_files/sort/fork/171.sparta_straight_3.jpg : Destination path 'tf_files/sort/fork/171.sparta_straight_3.jpg' already exists\n",
      "reading tf_files/sort/fork/490.winter-eyebrow-ink-chestnut-patented-microblading-tattoo-brow-ink-pen-929950334992_1050x.progressive-400x400-1-2.jpg\n",
      "fork (score=0.99857)\n",
      "coffee_mug (score=0.00143)\n",
      "apple (score=0.00000)\n",
      "586Test  : fork == fork\n",
      "\n",
      "Problem moving tf_files/sort/fork/490.winter-eyebrow-ink-chestnut-patented-microblading-tattoo-brow-ink-pen-929950334992_1050x.progressive-400x400-1-2.jpg : Destination path 'tf_files/sort/fork/490.winter-eyebrow-ink-chestnut-patented-microblading-tattoo-brow-ink-pen-929950334992_1050x.progressive-400x400-1-2.jpg' already exists\n",
      "reading tf_files/sort/fork/67.77290723-8d55-47db-8228-c5dfa3c15652.jpg\n",
      "fork (score=0.99999)\n",
      "coffee_mug (score=0.00001)\n",
      "apple (score=0.00000)\n",
      "587Test  : fork == fork\n",
      "\n",
      "Problem moving tf_files/sort/fork/67.77290723-8d55-47db-8228-c5dfa3c15652.jpg : Destination path 'tf_files/sort/fork/67.77290723-8d55-47db-8228-c5dfa3c15652.jpg' already exists\n",
      "reading tf_files/sort/fork/57.164478.jpg\n",
      "fork (score=1.00000)\n",
      "coffee_mug (score=0.00000)\n",
      "apple (score=0.00000)\n",
      "588Test  : fork == fork\n",
      "\n",
      "Problem moving tf_files/sort/fork/57.164478.jpg : Destination path 'tf_files/sort/fork/57.164478.jpg' already exists\n",
      "reading tf_files/sort/fork/125.3308-fork-splade-classic.jpg\n",
      "fork (score=0.99998)\n",
      "coffee_mug (score=0.00002)\n",
      "apple (score=0.00000)\n",
      "589Test  : fork == fork\n",
      "\n",
      "Problem moving tf_files/sort/fork/125.3308-fork-splade-classic.jpg : Destination path 'tf_files/sort/fork/125.3308-fork-splade-classic.jpg' already exists\n",
      "reading tf_files/sort/fork/668.3-tine-fork-flatware-set-stylish-the-best-reviews-by-wirecutter-a-new-york-times-company-within-15.jpg\n",
      "fork (score=0.99803)\n",
      "coffee_mug (score=0.00197)\n",
      "apple (score=0.00000)\n",
      "590Test  : fork == fork\n",
      "\n",
      "Problem moving tf_files/sort/fork/668.3-tine-fork-flatware-set-stylish-the-best-reviews-by-wirecutter-a-new-york-times-company-within-15.jpg : Destination path 'tf_files/sort/fork/668.3-tine-fork-flatware-set-stylish-the-best-reviews-by-wirecutter-a-new-york-times-company-within-15.jpg' already exists\n",
      "reading tf_files/sort/fork/257.gecc_coco_fork_spoon_set.jpg\n",
      "fork (score=0.99871)\n",
      "apple (score=0.00111)\n",
      "coffee_mug (score=0.00019)\n",
      "591Test  : fork == fork\n",
      "\n",
      "Problem moving tf_files/sort/fork/257.gecc_coco_fork_spoon_set.jpg : Destination path 'tf_files/sort/fork/257.gecc_coco_fork_spoon_set.jpg' already exists\n",
      "reading tf_files/sort/fork/6.fork_115920517_250.jpg\n",
      "fork (score=1.00000)\n",
      "coffee_mug (score=0.00000)\n",
      "apple (score=0.00000)\n",
      "592Test  : fork == fork\n",
      "\n",
      "Problem moving tf_files/sort/fork/6.fork_115920517_250.jpg : Destination path 'tf_files/sort/fork/6.fork_115920517_250.jpg' already exists\n",
      "reading tf_files/sort/fork/95.106979xlg.jpg_mitre10-workingformat.jpg\n",
      "fork (score=0.99995)\n",
      "coffee_mug (score=0.00005)\n",
      "apple (score=0.00000)\n",
      "593Test  : fork == fork\n",
      "\n",
      "Problem moving tf_files/sort/fork/95.106979xlg.jpg_mitre10-workingformat.jpg : Destination path 'tf_files/sort/fork/95.106979xlg.jpg_mitre10-workingformat.jpg' already exists\n",
      "reading tf_files/sort/fork/487.fork-in-diagonal_318-61187.jpg\n"
     ]
    },
    {
     "name": "stdout",
     "output_type": "stream",
     "text": [
      "fork (score=1.00000)\n",
      "coffee_mug (score=0.00000)\n",
      "apple (score=0.00000)\n",
      "594Test  : fork == fork\n",
      "\n",
      "Problem moving tf_files/sort/fork/487.fork-in-diagonal_318-61187.jpg : Destination path 'tf_files/sort/fork/487.fork-in-diagonal_318-61187.jpg' already exists\n",
      "reading tf_files/sort/fork/180.red-toasting-fork-hero-image.jpg\n",
      "fork (score=0.99886)\n",
      "coffee_mug (score=0.00114)\n",
      "apple (score=0.00000)\n",
      "595Test  : fork == fork\n",
      "\n",
      "Problem moving tf_files/sort/fork/180.red-toasting-fork-hero-image.jpg : Destination path 'tf_files/sort/fork/180.red-toasting-fork-hero-image.jpg' already exists\n",
      "reading tf_files/sort/fork/19.hag-cu249605.jpg\n",
      "fork (score=0.99998)\n",
      "coffee_mug (score=0.00002)\n",
      "apple (score=0.00000)\n",
      "596Test  : fork == fork\n",
      "\n",
      "Problem moving tf_files/sort/fork/19.hag-cu249605.jpg : Destination path 'tf_files/sort/fork/19.hag-cu249605.jpg' already exists\n",
      "reading tf_files/sort/fork/59.899006-zoom.jpg\n",
      "fork (score=0.99945)\n",
      "coffee_mug (score=0.00055)\n",
      "apple (score=0.00000)\n",
      "597Test  : fork == fork\n",
      "\n",
      "Problem moving tf_files/sort/fork/59.899006-zoom.jpg : Destination path 'tf_files/sort/fork/59.899006-zoom.jpg' already exists\n",
      "reading tf_files/sort/fork/576.bitcoin-folk-logo.jpg\n",
      "fork (score=0.99979)\n",
      "coffee_mug (score=0.00021)\n",
      "apple (score=0.00000)\n",
      "598Test  : fork == fork\n",
      "\n",
      "Problem moving tf_files/sort/fork/576.bitcoin-folk-logo.jpg : Destination path 'tf_files/sort/fork/576.bitcoin-folk-logo.jpg' already exists\n",
      "reading tf_files/sort/fork/100.wooden-fork.jpg\n",
      "fork (score=0.99776)\n",
      "coffee_mug (score=0.00224)\n",
      "apple (score=0.00001)\n",
      "599Test  : fork == fork\n",
      "\n",
      "Problem moving tf_files/sort/fork/100.wooden-fork.jpg : Destination path 'tf_files/sort/fork/100.wooden-fork.jpg' already exists\n",
      "reading tf_files/sort/fork/298.kf.jpg\n",
      "fork (score=0.99987)\n",
      "coffee_mug (score=0.00013)\n",
      "apple (score=0.00000)\n",
      "600Test  : fork == fork\n",
      "\n",
      "Problem moving tf_files/sort/fork/298.kf.jpg : Destination path 'tf_files/sort/fork/298.kf.jpg' already exists\n",
      "reading tf_files/sort/fork/372.stainless-serving-fork.jpg\n",
      "fork (score=0.99992)\n",
      "coffee_mug (score=0.00008)\n",
      "apple (score=0.00000)\n",
      "601Test  : fork == fork\n",
      "\n",
      "Problem moving tf_files/sort/fork/372.stainless-serving-fork.jpg : Destination path 'tf_files/sort/fork/372.stainless-serving-fork.jpg' already exists\n",
      "reading tf_files/sort/fork/142.2204-570x570.jpg\n",
      "fork (score=0.99999)\n",
      "coffee_mug (score=0.00001)\n",
      "apple (score=0.00000)\n",
      "602Test  : fork == fork\n",
      "\n",
      "Problem moving tf_files/sort/fork/142.2204-570x570.jpg : Destination path 'tf_files/sort/fork/142.2204-570x570.jpg' already exists\n",
      "reading tf_files/sort/fork/104.6308-tm_home_default.jpg\n",
      "fork (score=0.99274)\n",
      "coffee_mug (score=0.00726)\n",
      "apple (score=0.00000)\n",
      "603Test  : fork == fork\n",
      "\n",
      "Problem moving tf_files/sort/fork/104.6308-tm_home_default.jpg : Destination path 'tf_files/sort/fork/104.6308-tm_home_default.jpg' already exists\n",
      "reading tf_files/sort/fork/319.knife-and-fork-2656027_960_720.jpg\n",
      "fork (score=0.99899)\n",
      "coffee_mug (score=0.00101)\n",
      "apple (score=0.00000)\n",
      "604Test  : fork == fork\n",
      "\n",
      "Problem moving tf_files/sort/fork/319.knife-and-fork-2656027_960_720.jpg : Destination path 'tf_files/sort/fork/319.knife-and-fork-2656027_960_720.jpg' already exists\n",
      "reading tf_files/sort/fork/433.33928156.jpg\n",
      "fork (score=0.99996)\n",
      "coffee_mug (score=0.00004)\n",
      "apple (score=0.00000)\n",
      "605Test  : fork == fork\n",
      "\n",
      "Problem moving tf_files/sort/fork/433.33928156.jpg : Destination path 'tf_files/sort/fork/433.33928156.jpg' already exists\n",
      "reading tf_files/sort/fork/117.21ky1tvj9wl.jpg\n",
      "fork (score=0.99999)\n",
      "coffee_mug (score=0.00001)\n",
      "apple (score=0.00000)\n",
      "606Test  : fork == fork\n",
      "\n",
      "Problem moving tf_files/sort/fork/117.21ky1tvj9wl.jpg : Destination path 'tf_files/sort/fork/117.21ky1tvj9wl.jpg' already exists\n",
      "reading tf_files/sort/fork/23.fork-06.jpg\n",
      "fork (score=0.99998)\n",
      "coffee_mug (score=0.00002)\n",
      "apple (score=0.00000)\n",
      "607Test  : fork == fork\n",
      "\n",
      "Problem moving tf_files/sort/fork/23.fork-06.jpg : Destination path 'tf_files/sort/fork/23.fork-06.jpg' already exists\n",
      "reading tf_files/sort/fork/36.18585.jpg\n",
      "fork (score=0.99997)\n",
      "coffee_mug (score=0.00003)\n",
      "apple (score=0.00000)\n",
      "608Test  : fork == fork\n",
      "\n",
      "Problem moving tf_files/sort/fork/36.18585.jpg : Destination path 'tf_files/sort/fork/36.18585.jpg' already exists\n",
      "reading tf_files/sort/fork/29.jpg\n",
      "fork (score=1.00000)\n",
      "coffee_mug (score=0.00000)\n",
      "apple (score=0.00000)\n",
      "609Test  : fork == fork\n",
      "\n",
      "Problem moving tf_files/sort/fork/29.jpg : Destination path 'tf_files/sort/fork/29.jpg' already exists\n",
      "reading tf_files/sort/fork/86.flatware_geneva_dinner_fork.jpg\n",
      "fork (score=0.99994)\n",
      "coffee_mug (score=0.00006)\n",
      "apple (score=0.00000)\n",
      "610Test  : fork == fork\n",
      "\n",
      "Problem moving tf_files/sort/fork/86.flatware_geneva_dinner_fork.jpg : Destination path 'tf_files/sort/fork/86.flatware_geneva_dinner_fork.jpg' already exists\n",
      "reading tf_files/sort/fork/21.planetbox_fork_and_spoon_stainless_steel_grande.jpg\n",
      "fork (score=0.99969)\n",
      "coffee_mug (score=0.00030)\n",
      "apple (score=0.00001)\n",
      "611Test  : fork == fork\n",
      "\n",
      "Problem moving tf_files/sort/fork/21.planetbox_fork_and_spoon_stainless_steel_grande.jpg : Destination path 'tf_files/sort/fork/21.planetbox_fork_and_spoon_stainless_steel_grande.jpg' already exists\n",
      "reading tf_files/sort/fork/301.dessert-fork-sydney-basics-sydney-18152-img1.jpg\n",
      "fork (score=0.99986)\n",
      "coffee_mug (score=0.00014)\n",
      "apple (score=0.00000)\n",
      "612Test  : fork == fork\n",
      "\n",
      "Problem moving tf_files/sort/fork/301.dessert-fork-sydney-basics-sydney-18152-img1.jpg : Destination path 'tf_files/sort/fork/301.dessert-fork-sydney-basics-sydney-18152-img1.jpg' already exists\n",
      "reading tf_files/sort/fork/11.williams-sonoma-open-kitchen-fork-o.jpg\n",
      "fork (score=1.00000)\n",
      "coffee_mug (score=0.00000)\n",
      "apple (score=0.00000)\n",
      "613Test  : fork == fork\n",
      "\n",
      "Problem moving tf_files/sort/fork/11.williams-sonoma-open-kitchen-fork-o.jpg : Destination path 'tf_files/sort/fork/11.williams-sonoma-open-kitchen-fork-o.jpg' already exists\n",
      "reading tf_files/sort/fork/277.pexels-photo-940302.jpg\n",
      "fork (score=0.99605)\n",
      "coffee_mug (score=0.00392)\n",
      "apple (score=0.00002)\n",
      "614Test  : fork == fork\n",
      "\n",
      "Problem moving tf_files/sort/fork/277.pexels-photo-940302.jpg : Destination path 'tf_files/sort/fork/277.pexels-photo-940302.jpg' already exists\n",
      "reading tf_files/sort/fork/305.1k0213-01.jpg\n",
      "fork (score=0.99634)\n",
      "coffee_mug (score=0.00366)\n",
      "apple (score=0.00000)\n",
      "615Test  : fork == fork\n",
      "\n",
      "Problem moving tf_files/sort/fork/305.1k0213-01.jpg : Destination path 'tf_files/sort/fork/305.1k0213-01.jpg' already exists\n",
      "reading tf_files/sort/fork/327.u520322_web_fork_3-500x500.jpg\n",
      "fork (score=0.99435)\n",
      "coffee_mug (score=0.00565)\n",
      "apple (score=0.00000)\n",
      "616Test  : fork == fork\n",
      "\n",
      "Problem moving tf_files/sort/fork/327.u520322_web_fork_3-500x500.jpg : Destination path 'tf_files/sort/fork/327.u520322_web_fork_3-500x500.jpg' already exists\n",
      "reading tf_files/sort/fork/256.wooden_cutlery_p_57d7529a42336.jpg\n",
      "fork (score=0.99371)\n",
      "coffee_mug (score=0.00626)\n",
      "apple (score=0.00003)\n",
      "617Test  : fork == fork\n",
      "\n",
      "Problem moving tf_files/sort/fork/256.wooden_cutlery_p_57d7529a42336.jpg : Destination path 'tf_files/sort/fork/256.wooden_cutlery_p_57d7529a42336.jpg' already exists\n",
      "reading tf_files/sort/fork/221.garden-fork.jpg\n",
      "fork (score=0.99998)\n",
      "coffee_mug (score=0.00001)\n",
      "apple (score=0.00000)\n",
      "618Test  : fork == fork\n",
      "\n",
      "Problem moving tf_files/sort/fork/221.garden-fork.jpg : Destination path 'tf_files/sort/fork/221.garden-fork.jpg' already exists\n",
      "reading tf_files/sort/fork/300.fork-stem-product__32585.1526649074.386.513.jpg\n",
      "fork (score=0.99861)\n",
      "coffee_mug (score=0.00139)\n",
      "apple (score=0.00000)\n",
      "619Test  : fork == fork\n",
      "\n",
      "Problem moving tf_files/sort/fork/300.fork-stem-product__32585.1526649074.386.513.jpg : Destination path 'tf_files/sort/fork/300.fork-stem-product__32585.1526649074.386.513.jpg' already exists\n",
      "reading tf_files/sort/fork/172.elegance-oyster-fork.jpg\n",
      "fork (score=0.99998)\n",
      "coffee_mug (score=0.00002)\n",
      "apple (score=0.00000)\n",
      "620Test  : fork == fork\n",
      "\n",
      "Problem moving tf_files/sort/fork/172.elegance-oyster-fork.jpg : Destination path 'tf_files/sort/fork/172.elegance-oyster-fork.jpg' already exists\n",
      "reading tf_files/sort/fork/554.salad-fork-set-buy.jpg\n",
      "fork (score=0.99959)\n",
      "coffee_mug (score=0.00041)\n",
      "apple (score=0.00000)\n",
      "621Test  : fork == fork\n",
      "\n",
      "Problem moving tf_files/sort/fork/554.salad-fork-set-buy.jpg : Destination path 'tf_files/sort/fork/554.salad-fork-set-buy.jpg' already exists\n",
      "reading tf_files/sort/fork/448.2977_fork_thumb.jpg\n"
     ]
    },
    {
     "name": "stdout",
     "output_type": "stream",
     "text": [
      "fork (score=0.99881)\n",
      "coffee_mug (score=0.00119)\n",
      "apple (score=0.00000)\n",
      "622Test  : fork == fork\n",
      "\n",
      "Problem moving tf_files/sort/fork/448.2977_fork_thumb.jpg : Destination path 'tf_files/sort/fork/448.2977_fork_thumb.jpg' already exists\n",
      "reading tf_files/sort/fork/625.itahookblockfork.jpg\n",
      "fork (score=0.99262)\n",
      "coffee_mug (score=0.00738)\n",
      "apple (score=0.00000)\n",
      "623Test  : fork == fork\n",
      "\n",
      "Problem moving tf_files/sort/fork/625.itahookblockfork.jpg : Destination path 'tf_files/sort/fork/625.itahookblockfork.jpg' already exists\n",
      "reading tf_files/sort/fork/249.camping-fork-with-marshmallows_web.jpg\n",
      "fork (score=0.99988)\n",
      "coffee_mug (score=0.00012)\n",
      "apple (score=0.00000)\n",
      "624Test  : fork == fork\n",
      "\n",
      "Problem moving tf_files/sort/fork/249.camping-fork-with-marshmallows_web.jpg : Destination path 'tf_files/sort/fork/249.camping-fork-with-marshmallows_web.jpg' already exists\n",
      "reading tf_files/sort/fork/335.kinesis-uk-maxlight-carbon-mtb-fork-p332984-487361_thumb.jpg\n",
      "fork (score=0.99342)\n",
      "coffee_mug (score=0.00658)\n",
      "apple (score=0.00000)\n",
      "625Test  : fork == fork\n",
      "\n",
      "Problem moving tf_files/sort/fork/335.kinesis-uk-maxlight-carbon-mtb-fork-p332984-487361_thumb.jpg : Destination path 'tf_files/sort/fork/335.kinesis-uk-maxlight-carbon-mtb-fork-p332984-487361_thumb.jpg' already exists\n",
      "reading tf_files/sort/fork/220.enve-gravel-road-fork-alt5.jpg\n",
      "fork (score=0.99991)\n",
      "coffee_mug (score=0.00009)\n",
      "apple (score=0.00000)\n",
      "626Test  : fork == fork\n",
      "\n",
      "Problem moving tf_files/sort/fork/220.enve-gravel-road-fork-alt5.jpg : Destination path 'tf_files/sort/fork/220.enve-gravel-road-fork-alt5.jpg' already exists\n",
      "reading tf_files/sort/fork/271.3134.jpg\n",
      "fork (score=0.99413)\n",
      "coffee_mug (score=0.00586)\n",
      "apple (score=0.00001)\n",
      "627Test  : fork == fork\n",
      "\n",
      "Problem moving tf_files/sort/fork/271.3134.jpg : Destination path 'tf_files/sort/fork/271.3134.jpg' already exists\n",
      "reading tf_files/sort/fork/353.fork_cx_15mmback.jpg\n",
      "fork (score=0.99956)\n",
      "coffee_mug (score=0.00044)\n",
      "apple (score=0.00000)\n",
      "628Test  : fork == fork\n",
      "\n",
      "Problem moving tf_files/sort/fork/353.fork_cx_15mmback.jpg : Destination path 'tf_files/sort/fork/353.fork_cx_15mmback.jpg' already exists\n",
      "reading tf_files/sort/fork/671.fork-pictures-11.jpg\n",
      "fork (score=0.99983)\n",
      "coffee_mug (score=0.00017)\n",
      "apple (score=0.00000)\n",
      "629Test  : fork == fork\n",
      "\n",
      "Problem moving tf_files/sort/fork/671.fork-pictures-11.jpg : Destination path 'tf_files/sort/fork/671.fork-pictures-11.jpg' already exists\n",
      "reading tf_files/sort/fork/184.fork.jpg\n",
      "fork (score=1.00000)\n",
      "coffee_mug (score=0.00000)\n",
      "apple (score=0.00000)\n",
      "630Test  : fork == fork\n",
      "\n",
      "Problem moving tf_files/sort/fork/184.fork.jpg : Destination path 'tf_files/sort/fork/184.fork.jpg' already exists\n",
      "reading tf_files/sort/fork/558.34219815.jpg\n",
      "fork (score=0.99989)\n",
      "coffee_mug (score=0.00011)\n",
      "apple (score=0.00000)\n",
      "631Test  : fork == fork\n",
      "\n",
      "Problem moving tf_files/sort/fork/558.34219815.jpg : Destination path 'tf_files/sort/fork/558.34219815.jpg' already exists\n",
      "reading tf_files/sort/fork/146.9137ef8a-bf93-4e02-9552-4054363ddc9e.jpg\n",
      "fork (score=0.99984)\n",
      "coffee_mug (score=0.00016)\n",
      "apple (score=0.00000)\n",
      "632Test  : fork == fork\n",
      "\n",
      "Problem moving tf_files/sort/fork/146.9137ef8a-bf93-4e02-9552-4054363ddc9e.jpg : Destination path 'tf_files/sort/fork/146.9137ef8a-bf93-4e02-9552-4054363ddc9e.jpg' already exists\n",
      "reading tf_files/sort/fork/207.pcp-1012622.jpg\n",
      "fork (score=0.99999)\n",
      "coffee_mug (score=0.00001)\n",
      "apple (score=0.00000)\n",
      "633Test  : fork == fork\n",
      "\n",
      "Problem moving tf_files/sort/fork/207.pcp-1012622.jpg : Destination path 'tf_files/sort/fork/207.pcp-1012622.jpg' already exists\n",
      "reading tf_files/sort/fork/92.6088.jpg\n",
      "fork (score=0.99329)\n",
      "coffee_mug (score=0.00671)\n",
      "apple (score=0.00000)\n",
      "634Test  : fork == fork\n",
      "\n",
      "Problem moving tf_files/sort/fork/92.6088.jpg : Destination path 'tf_files/sort/fork/92.6088.jpg' already exists\n",
      "reading tf_files/sort/fork/10.duna-matt-black-dessert-fork-338045.jpg\n",
      "fork (score=0.99991)\n",
      "coffee_mug (score=0.00009)\n",
      "apple (score=0.00000)\n",
      "635Test  : fork == fork\n",
      "\n",
      "Problem moving tf_files/sort/fork/10.duna-matt-black-dessert-fork-338045.jpg : Destination path 'tf_files/sort/fork/10.duna-matt-black-dessert-fork-338045.jpg' already exists\n",
      "reading tf_files/sort/fork/164.fork-1-small.jpg\n",
      "fork (score=0.99999)\n",
      "coffee_mug (score=0.00001)\n",
      "apple (score=0.00000)\n",
      "636Test  : fork == fork\n",
      "\n",
      "Problem moving tf_files/sort/fork/164.fork-1-small.jpg : Destination path 'tf_files/sort/fork/164.fork-1-small.jpg' already exists\n",
      "reading tf_files/sort/fork/383.439560-standard.jpg\n",
      "fork (score=0.99749)\n",
      "coffee_mug (score=0.00251)\n",
      "apple (score=0.00000)\n",
      "637Test  : fork == fork\n",
      "\n",
      "Problem moving tf_files/sort/fork/383.439560-standard.jpg : Destination path 'tf_files/sort/fork/383.439560-standard.jpg' already exists\n",
      "reading tf_files/sort/fork/133.p-4206-compost_fork_4_prong_claw_-_bulldog_garden_tools_equipment.jpg\n",
      "fork (score=0.99985)\n",
      "coffee_mug (score=0.00015)\n",
      "apple (score=0.00000)\n",
      "638Test  : fork == fork\n",
      "\n",
      "Problem moving tf_files/sort/fork/133.p-4206-compost_fork_4_prong_claw_-_bulldog_garden_tools_equipment.jpg : Destination path 'tf_files/sort/fork/133.p-4206-compost_fork_4_prong_claw_-_bulldog_garden_tools_equipment.jpg' already exists\n",
      "reading tf_files/sort/fork/636.650c_fork.jpg\n",
      "fork (score=0.99111)\n",
      "coffee_mug (score=0.00889)\n",
      "apple (score=0.00000)\n",
      "639Test  : fork == fork\n",
      "\n",
      "Problem moving tf_files/sort/fork/636.650c_fork.jpg : Destination path 'tf_files/sort/fork/636.650c_fork.jpg' already exists\n",
      "reading tf_files/sort/fork/26.regency-dinner-fork.jpg\n",
      "fork (score=0.99990)\n",
      "coffee_mug (score=0.00010)\n",
      "apple (score=0.00000)\n",
      "640Test  : fork == fork\n",
      "\n",
      "Problem moving tf_files/sort/fork/26.regency-dinner-fork.jpg : Destination path 'tf_files/sort/fork/26.regency-dinner-fork.jpg' already exists\n",
      "reading tf_files/sort/fork/150.jh1119461.jpg\n",
      "fork (score=0.99591)\n",
      "coffee_mug (score=0.00409)\n",
      "apple (score=0.00000)\n",
      "641Test  : fork == fork\n",
      "\n",
      "Problem moving tf_files/sort/fork/150.jh1119461.jpg : Destination path 'tf_files/sort/fork/150.jh1119461.jpg' already exists\n",
      "reading tf_files/sort/fork/364.rsprct3da66-3.jpg\n",
      "fork (score=0.99965)\n",
      "coffee_mug (score=0.00035)\n",
      "apple (score=0.00000)\n",
      "642Test  : fork == fork\n",
      "\n",
      "Problem moving tf_files/sort/fork/364.rsprct3da66-3.jpg : Destination path 'tf_files/sort/fork/364.rsprct3da66-3.jpg' already exists\n",
      "reading tf_files/sort/fork/423.4737103050.jpg\n",
      "fork (score=1.00000)\n",
      "coffee_mug (score=0.00000)\n",
      "apple (score=0.00000)\n",
      "643Test  : fork == fork\n",
      "\n",
      "Problem moving tf_files/sort/fork/423.4737103050.jpg : Destination path 'tf_files/sort/fork/423.4737103050.jpg' already exists\n",
      "reading tf_files/sort/fork/597.efe.jpg\n",
      "fork (score=1.00000)\n",
      "coffee_mug (score=0.00000)\n",
      "apple (score=0.00000)\n",
      "644Test  : fork == fork\n",
      "\n",
      "Problem moving tf_files/sort/fork/597.efe.jpg : Destination path 'tf_files/sort/fork/597.efe.jpg' already exists\n",
      "reading tf_files/sort/fork/124.colonysweettoothfork.jpg\n",
      "fork (score=1.00000)\n",
      "coffee_mug (score=0.00000)\n",
      "apple (score=0.00000)\n",
      "645Test  : fork == fork\n",
      "\n",
      "Problem moving tf_files/sort/fork/124.colonysweettoothfork.jpg : Destination path 'tf_files/sort/fork/124.colonysweettoothfork.jpg' already exists\n",
      "reading tf_files/sort/fork/338.imagehandler.jpg\n",
      "fork (score=0.99989)\n",
      "coffee_mug (score=0.00011)\n",
      "apple (score=0.00000)\n",
      "646Test  : fork == fork\n",
      "\n",
      "Problem moving tf_files/sort/fork/338.imagehandler.jpg : Destination path 'tf_files/sort/fork/338.imagehandler.jpg' already exists\n",
      "reading tf_files/sort/fork/322.img_2557_1024x1024@2x.jpg\n",
      "fork (score=0.99735)\n",
      "coffee_mug (score=0.00262)\n",
      "apple (score=0.00003)\n",
      "647Test  : fork == fork\n",
      "\n",
      "Problem moving tf_files/sort/fork/322.img_2557_1024x1024@2x.jpg : Destination path 'tf_files/sort/fork/322.img_2557_1024x1024@2x.jpg' already exists\n",
      "reading tf_files/sort/fork/598.t50-fork-1.jpg\n",
      "fork (score=0.99896)\n",
      "coffee_mug (score=0.00069)\n",
      "apple (score=0.00035)\n",
      "648Test  : fork == fork\n",
      "\n",
      "Problem moving tf_files/sort/fork/598.t50-fork-1.jpg : Destination path 'tf_files/sort/fork/598.t50-fork-1.jpg' already exists\n",
      "reading tf_files/sort/fork/266.chain_fork_02_p.jpg\n",
      "fork (score=0.99985)\n",
      "coffee_mug (score=0.00014)\n",
      "apple (score=0.00001)\n",
      "649Test  : fork == fork\n",
      "\n",
      "Problem moving tf_files/sort/fork/266.chain_fork_02_p.jpg : Destination path 'tf_files/sort/fork/266.chain_fork_02_p.jpg' already exists\n",
      "reading tf_files/sort/fork/68.fork.jpg\n",
      "fork (score=0.99998)\n",
      "coffee_mug (score=0.00002)\n",
      "apple (score=0.00000)\n",
      "650Test  : fork == fork\n",
      "\n",
      "Problem moving tf_files/sort/fork/68.fork.jpg : Destination path 'tf_files/sort/fork/68.fork.jpg' already exists\n",
      "reading tf_files/sort/fork/514.big-spoon-and-fork-wall-decor-fork-wall-decor-fork-and-spoon-wall-decor-unique-x-large-fork-and-spoon-wall-decor.jpg\n"
     ]
    },
    {
     "name": "stdout",
     "output_type": "stream",
     "text": [
      "fork (score=0.99858)\n",
      "coffee_mug (score=0.00140)\n",
      "apple (score=0.00002)\n",
      "651Test  : fork == fork\n",
      "\n",
      "Problem moving tf_files/sort/fork/514.big-spoon-and-fork-wall-decor-fork-wall-decor-fork-and-spoon-wall-decor-unique-x-large-fork-and-spoon-wall-decor.jpg : Destination path 'tf_files/sort/fork/514.big-spoon-and-fork-wall-decor-fork-wall-decor-fork-and-spoon-wall-decor-unique-x-large-fork-and-spoon-wall-decor.jpg' already exists\n",
      "reading tf_files/sort/fork/4.fork-eat-metal-fork-dine-39565.jpg\n",
      "fork (score=1.00000)\n",
      "coffee_mug (score=0.00000)\n",
      "apple (score=0.00000)\n",
      "652Test  : fork == fork\n",
      "\n",
      "Problem moving tf_files/sort/fork/4.fork-eat-metal-fork-dine-39565.jpg : Destination path 'tf_files/sort/fork/4.fork-eat-metal-fork-dine-39565.jpg' already exists\n",
      "reading tf_files/sort/fork/187.0000800_tuning-fork-256student_560.jpg\n",
      "fork (score=0.99989)\n",
      "coffee_mug (score=0.00011)\n",
      "apple (score=0.00000)\n",
      "653Test  : fork == fork\n",
      "\n",
      "Problem moving tf_files/sort/fork/187.0000800_tuning-fork-256student_560.jpg : Destination path 'tf_files/sort/fork/187.0000800_tuning-fork-256student_560.jpg' already exists\n",
      "reading tf_files/sort/fork/661.3-tine-fork-flatware-set-brilliant-three-prong-baby-piece-with-regard-to-16.jpg\n",
      "fork (score=0.99969)\n",
      "coffee_mug (score=0.00031)\n",
      "apple (score=0.00000)\n",
      "654Test  : fork == fork\n",
      "\n",
      "Problem moving tf_files/sort/fork/661.3-tine-fork-flatware-set-brilliant-three-prong-baby-piece-with-regard-to-16.jpg : Destination path 'tf_files/sort/fork/661.3-tine-fork-flatware-set-brilliant-three-prong-baby-piece-with-regard-to-16.jpg' already exists\n",
      "reading tf_files/sort/fork/127.u641-lightweight-fork-wh.jpg\n",
      "fork (score=0.99980)\n",
      "coffee_mug (score=0.00020)\n",
      "apple (score=0.00000)\n",
      "655Test  : fork == fork\n",
      "\n",
      "Problem moving tf_files/sort/fork/127.u641-lightweight-fork-wh.jpg : Destination path 'tf_files/sort/fork/127.u641-lightweight-fork-wh.jpg' already exists\n",
      "reading tf_files/sort/fork/548.77-1125.jpg\n",
      "fork (score=0.99065)\n",
      "coffee_mug (score=0.00934)\n",
      "apple (score=0.00001)\n",
      "656Test  : fork == fork\n",
      "\n",
      "Problem moving tf_files/sort/fork/548.77-1125.jpg : Destination path 'tf_files/sort/fork/548.77-1125.jpg' already exists\n",
      "reading tf_files/sort/fork/259.f754eb13c842f86cdab17c7624b6a73e_forks-images-free-fork-picture-download-clip-art-clipartbarn-fork-clipart-free_1024-768.jpg\n",
      "fork (score=0.99996)\n",
      "coffee_mug (score=0.00004)\n",
      "apple (score=0.00000)\n",
      "657Test  : fork == fork\n",
      "\n",
      "Problem moving tf_files/sort/fork/259.f754eb13c842f86cdab17c7624b6a73e_forks-images-free-fork-picture-download-clip-art-clipartbarn-fork-clipart-free_1024-768.jpg : Destination path 'tf_files/sort/fork/259.f754eb13c842f86cdab17c7624b6a73e_forks-images-free-fork-picture-download-clip-art-clipartbarn-fork-clipart-free_1024-768.jpg' already exists\n",
      "reading tf_files/sort/fork/260.cargo-fork-side-view.jpg\n",
      "fork (score=0.99389)\n",
      "coffee_mug (score=0.00610)\n",
      "apple (score=0.00001)\n",
      "658Test  : fork == fork\n",
      "\n",
      "Problem moving tf_files/sort/fork/260.cargo-fork-side-view.jpg : Destination path 'tf_files/sort/fork/260.cargo-fork-side-view.jpg' already exists\n",
      "reading tf_files/sort/fork/337.titanium-single-arm-fork-mvvn0350d.jpg\n",
      "fork (score=0.99999)\n",
      "coffee_mug (score=0.00001)\n",
      "apple (score=0.00000)\n",
      "659Test  : fork == fork\n",
      "\n",
      "Problem moving tf_files/sort/fork/337.titanium-single-arm-fork-mvvn0350d.jpg : Destination path 'tf_files/sort/fork/337.titanium-single-arm-fork-mvvn0350d.jpg' already exists\n",
      "reading tf_files/sort/fork/216.18-10-cutlery-fish-forks-specially-designed.jpg\n",
      "fork (score=0.99999)\n",
      "coffee_mug (score=0.00001)\n",
      "apple (score=0.00000)\n",
      "660Test  : fork == fork\n",
      "\n",
      "Problem moving tf_files/sort/fork/216.18-10-cutlery-fish-forks-specially-designed.jpg : Destination path 'tf_files/sort/fork/216.18-10-cutlery-fish-forks-specially-designed.jpg' already exists\n",
      "reading tf_files/sort/fork/555.trendy-metal-fork-knife-spoon-isolated-whit-4705046.jpg\n",
      "fork (score=0.99965)\n",
      "coffee_mug (score=0.00035)\n",
      "apple (score=0.00000)\n",
      "661Test  : fork == fork\n",
      "\n",
      "Problem moving tf_files/sort/fork/555.trendy-metal-fork-knife-spoon-isolated-whit-4705046.jpg : Destination path 'tf_files/sort/fork/555.trendy-metal-fork-knife-spoon-isolated-whit-4705046.jpg' already exists\n",
      "reading tf_files/sort/fork/280.weeding-fork.jpg\n",
      "fork (score=0.99912)\n",
      "coffee_mug (score=0.00087)\n",
      "apple (score=0.00001)\n",
      "662Test  : fork == fork\n",
      "\n",
      "Problem moving tf_files/sort/fork/280.weeding-fork.jpg : Destination path 'tf_files/sort/fork/280.weeding-fork.jpg' already exists\n",
      "reading tf_files/sort/fork/295.kicut-star14%20%20fork%20spoon%20toddler%20kids%20melamine%20cutlery%20green%20&%20red%20blue%20star%20print%20rice%20dk%20-%20copy.jpg\n",
      "fork (score=0.99957)\n",
      "coffee_mug (score=0.00043)\n",
      "apple (score=0.00000)\n",
      "663Test  : fork == fork\n",
      "\n",
      "Problem moving tf_files/sort/fork/295.kicut-star14%20%20fork%20spoon%20toddler%20kids%20melamine%20cutlery%20green%20&%20red%20blue%20star%20print%20rice%20dk%20-%20copy.jpg : Destination path 'tf_files/sort/fork/295.kicut-star14%20%20fork%20spoon%20toddler%20kids%20melamine%20cutlery%20green%20&%20red%20blue%20star%20print%20rice%20dk%20-%20copy.jpg' already exists\n",
      "reading tf_files/sort/fork/226.a-fork.jpg\n",
      "fork (score=0.99999)\n",
      "coffee_mug (score=0.00001)\n",
      "apple (score=0.00000)\n",
      "664Test  : fork == fork\n",
      "\n",
      "Problem moving tf_files/sort/fork/226.a-fork.jpg : Destination path 'tf_files/sort/fork/226.a-fork.jpg' already exists\n",
      "reading tf_files/sort/fork/61.k306-df-2.jpg\n",
      "fork (score=0.99976)\n",
      "coffee_mug (score=0.00024)\n",
      "apple (score=0.00000)\n",
      "665Test  : fork == fork\n",
      "\n",
      "Problem moving tf_files/sort/fork/61.k306-df-2.jpg : Destination path 'tf_files/sort/fork/61.k306-df-2.jpg' already exists\n",
      "reading tf_files/sort/fork/642.3-tine-fork-flatware-set-awesome-kids-sets-with-forks-dugunsusleme-info-intended-for-10.jpg\n",
      "fork (score=0.99992)\n",
      "coffee_mug (score=0.00008)\n",
      "apple (score=0.00000)\n",
      "666Test  : fork == fork\n",
      "\n",
      "Problem moving tf_files/sort/fork/642.3-tine-fork-flatware-set-awesome-kids-sets-with-forks-dugunsusleme-info-intended-for-10.jpg : Destination path 'tf_files/sort/fork/642.3-tine-fork-flatware-set-awesome-kids-sets-with-forks-dugunsusleme-info-intended-for-10.jpg' already exists\n",
      "reading tf_files/sort/fork/594.fork-clipart-black-and-white-613329-732096.jpg\n",
      "fork (score=0.99544)\n",
      "coffee_mug (score=0.00433)\n",
      "apple (score=0.00023)\n",
      "667Test  : fork == fork\n",
      "\n",
      "Problem moving tf_files/sort/fork/594.fork-clipart-black-and-white-613329-732096.jpg : Destination path 'tf_files/sort/fork/594.fork-clipart-black-and-white-613329-732096.jpg' already exists\n",
      "reading tf_files/sort/fork/239.tramontina-spanish-polywood-steak-knife-and-fork-set-12pc_1_750px.jpg\n",
      "fork (score=0.99964)\n",
      "coffee_mug (score=0.00036)\n",
      "apple (score=0.00000)\n",
      "668Test  : fork == fork\n",
      "\n",
      "Problem moving tf_files/sort/fork/239.tramontina-spanish-polywood-steak-knife-and-fork-set-12pc_1_750px.jpg : Destination path 'tf_files/sort/fork/239.tramontina-spanish-polywood-steak-knife-and-fork-set-12pc_1_750px.jpg' already exists\n",
      "reading tf_files/sort/fork/309.fork-clipart-613325-2687320.jpg\n",
      "fork (score=0.99758)\n",
      "coffee_mug (score=0.00242)\n",
      "apple (score=0.00000)\n",
      "669Test  : fork == fork\n",
      "\n",
      "Problem moving tf_files/sort/fork/309.fork-clipart-613325-2687320.jpg : Destination path 'tf_files/sort/fork/309.fork-clipart-613325-2687320.jpg' already exists\n",
      "reading tf_files/sort/fork/106.fork-eat-metal-fork-dine-39565.jpg\n",
      "fork (score=0.99995)\n",
      "coffee_mug (score=0.00005)\n",
      "apple (score=0.00000)\n",
      "670Test  : fork == fork\n",
      "\n",
      "Problem moving tf_files/sort/fork/106.fork-eat-metal-fork-dine-39565.jpg : Destination path 'tf_files/sort/fork/106.fork-eat-metal-fork-dine-39565.jpg' already exists\n",
      "reading tf_files/sort/fork/603.sterling-silver-baby-fork-spoon-restored.jpg\n",
      "fork (score=0.99976)\n",
      "coffee_mug (score=0.00021)\n",
      "apple (score=0.00003)\n",
      "671Test  : fork == fork\n",
      "\n",
      "Problem moving tf_files/sort/fork/603.sterling-silver-baby-fork-spoon-restored.jpg : Destination path 'tf_files/sort/fork/603.sterling-silver-baby-fork-spoon-restored.jpg' already exists\n",
      "reading tf_files/sort/fork/386.img_1520.jpg\n",
      "fork (score=0.99998)\n",
      "coffee_mug (score=0.00002)\n",
      "apple (score=0.00000)\n",
      "672Test  : fork == fork\n",
      "\n",
      "Problem moving tf_files/sort/fork/386.img_1520.jpg : Destination path 'tf_files/sort/fork/386.img_1520.jpg' already exists\n",
      "reading tf_files/sort/fork/138.130107035356-smart-fork-story-body.jpg\n",
      "fork (score=0.99974)\n",
      "coffee_mug (score=0.00026)\n",
      "apple (score=0.00000)\n",
      "673Test  : fork == fork\n",
      "\n",
      "Problem moving tf_files/sort/fork/138.130107035356-smart-fork-story-body.jpg : Destination path 'tf_files/sort/fork/138.130107035356-smart-fork-story-body.jpg' already exists\n",
      "reading tf_files/sort/fork/373.dessert-fork.jpg\n"
     ]
    },
    {
     "name": "stdout",
     "output_type": "stream",
     "text": [
      "fork (score=0.99997)\n",
      "coffee_mug (score=0.00003)\n",
      "apple (score=0.00000)\n",
      "674Test  : fork == fork\n",
      "\n",
      "Problem moving tf_files/sort/fork/373.dessert-fork.jpg : Destination path 'tf_files/sort/fork/373.dessert-fork.jpg' already exists\n",
      "reading tf_files/sort/fork/240.bionic-scs-fork-matte-blue-back.jpg\n",
      "fork (score=0.99133)\n",
      "coffee_mug (score=0.00867)\n",
      "apple (score=0.00000)\n",
      "675Test  : fork == fork\n",
      "\n",
      "Problem moving tf_files/sort/fork/240.bionic-scs-fork-matte-blue-back.jpg : Destination path 'tf_files/sort/fork/240.bionic-scs-fork-matte-blue-back.jpg' already exists\n",
      "reading tf_files/sort/fork/430.fundi.jpg\n",
      "fork (score=0.99980)\n",
      "coffee_mug (score=0.00020)\n",
      "apple (score=0.00000)\n",
      "676Test  : fork == fork\n",
      "\n",
      "Problem moving tf_files/sort/fork/430.fundi.jpg : Destination path 'tf_files/sort/fork/430.fundi.jpg' already exists\n",
      "reading tf_files/sort/fork/664.appetizer-cocktail-fork-all-about-events.jpg\n",
      "fork (score=1.00000)\n",
      "coffee_mug (score=0.00000)\n",
      "apple (score=0.00000)\n",
      "677Test  : fork == fork\n",
      "\n",
      "Problem moving tf_files/sort/fork/664.appetizer-cocktail-fork-all-about-events.jpg : Destination path 'tf_files/sort/fork/664.appetizer-cocktail-fork-all-about-events.jpg' already exists\n",
      "reading tf_files/sort/fork/632.1f1d9a850a3123fedb02715b76b904fd--printable-stencils-stencil-art.jpg\n",
      "fork (score=0.99999)\n",
      "coffee_mug (score=0.00001)\n",
      "apple (score=0.00000)\n",
      "678Test  : fork == fork\n",
      "\n",
      "Problem moving tf_files/sort/fork/632.1f1d9a850a3123fedb02715b76b904fd--printable-stencils-stencil-art.jpg : Destination path 'tf_files/sort/fork/632.1f1d9a850a3123fedb02715b76b904fd--printable-stencils-stencil-art.jpg' already exists\n",
      "reading tf_files/sort/fork/185.rd12-fork-thru-road-angleweb_grande.jpg\n",
      "fork (score=0.99996)\n",
      "coffee_mug (score=0.00004)\n",
      "apple (score=0.00000)\n",
      "679Test  : fork == fork\n",
      "\n",
      "Problem moving tf_files/sort/fork/185.rd12-fork-thru-road-angleweb_grande.jpg : Destination path 'tf_files/sort/fork/185.rd12-fork-thru-road-angleweb_grande.jpg' already exists\n",
      "reading tf_files/sort/fork/262.fsbqqpvr.jpg\n",
      "fork (score=0.99995)\n",
      "coffee_mug (score=0.00005)\n",
      "apple (score=0.00000)\n",
      "680Test  : fork == fork\n",
      "\n",
      "Problem moving tf_files/sort/fork/262.fsbqqpvr.jpg : Destination path 'tf_files/sort/fork/262.fsbqqpvr.jpg' already exists\n",
      "reading tf_files/sort/fork/232.43291.lg.jpg\n",
      "fork (score=0.99998)\n",
      "coffee_mug (score=0.00002)\n",
      "apple (score=0.00000)\n",
      "681Test  : fork == fork\n",
      "\n",
      "Problem moving tf_files/sort/fork/232.43291.lg.jpg : Destination path 'tf_files/sort/fork/232.43291.lg.jpg' already exists\n",
      "reading tf_files/sort/fork/128.86263_p&$prodimagemedium$.jpg\n",
      "fork (score=0.99648)\n",
      "coffee_mug (score=0.00352)\n",
      "apple (score=0.00000)\n",
      "682Test  : fork == fork\n",
      "\n",
      "Problem moving tf_files/sort/fork/128.86263_p&$prodimagemedium$.jpg : Destination path 'tf_files/sort/fork/128.86263_p&$prodimagemedium$.jpg' already exists\n",
      "reading tf_files/sort/fork/91.k303tf.jpg\n",
      "fork (score=0.99987)\n",
      "coffee_mug (score=0.00013)\n",
      "apple (score=0.00000)\n",
      "683Test  : fork == fork\n",
      "\n",
      "Problem moving tf_files/sort/fork/91.k303tf.jpg : Destination path 'tf_files/sort/fork/91.k303tf.jpg' already exists\n",
      "reading tf_files/sort/fork/41.2848.jpg\n",
      "fork (score=0.99609)\n",
      "coffee_mug (score=0.00391)\n",
      "apple (score=0.00000)\n",
      "684Test  : fork == fork\n",
      "\n",
      "Problem moving tf_files/sort/fork/41.2848.jpg : Destination path 'tf_files/sort/fork/41.2848.jpg' already exists\n",
      "reading tf_files/sort/fork/465.fango.jpg\n",
      "fork (score=0.99757)\n",
      "coffee_mug (score=0.00243)\n",
      "apple (score=0.00000)\n",
      "685Test  : fork == fork\n",
      "\n",
      "Problem moving tf_files/sort/fork/465.fango.jpg : Destination path 'tf_files/sort/fork/465.fango.jpg' already exists\n",
      "reading tf_files/sort/fork/526.aid1403694-v4-728px-replace-fork-seals-step-2.jpg\n",
      "fork (score=0.99931)\n",
      "coffee_mug (score=0.00068)\n",
      "apple (score=0.00000)\n",
      "686Test  : fork == fork\n",
      "\n",
      "Problem moving tf_files/sort/fork/526.aid1403694-v4-728px-replace-fork-seals-step-2.jpg : Destination path 'tf_files/sort/fork/526.aid1403694-v4-728px-replace-fork-seals-step-2.jpg' already exists\n",
      "reading tf_files/sort/fork/233.lucky_vektor_fork_black__38964.1419393896.1280.1280.jpg\n",
      "fork (score=0.99862)\n",
      "coffee_mug (score=0.00138)\n",
      "apple (score=0.00000)\n",
      "687Test  : fork == fork\n",
      "\n",
      "Problem moving tf_files/sort/fork/233.lucky_vektor_fork_black__38964.1419393896.1280.1280.jpg : Destination path 'tf_files/sort/fork/233.lucky_vektor_fork_black__38964.1419393896.1280.1280.jpg' already exists\n",
      "reading tf_files/sort/fork/330.enve_cx_fork_through_axle_hirez_1-1-1300x0-c-default.jpg\n",
      "fork (score=0.99995)\n",
      "coffee_mug (score=0.00005)\n",
      "apple (score=0.00000)\n",
      "688Test  : fork == fork\n",
      "\n",
      "Problem moving tf_files/sort/fork/330.enve_cx_fork_through_axle_hirez_1-1-1300x0-c-default.jpg : Destination path 'tf_files/sort/fork/330.enve_cx_fork_through_axle_hirez_1-1-1300x0-c-default.jpg' already exists\n",
      "reading tf_files/sort/fork/30.victoria_gold_starter_dessert_fork_resize_2016.jpg\n",
      "fork (score=0.99409)\n",
      "coffee_mug (score=0.00591)\n",
      "apple (score=0.00000)\n",
      "689Test  : fork == fork\n",
      "\n",
      "Problem moving tf_files/sort/fork/30.victoria_gold_starter_dessert_fork_resize_2016.jpg : Destination path 'tf_files/sort/fork/30.victoria_gold_starter_dessert_fork_resize_2016.jpg' already exists\n",
      "reading tf_files/sort/fork/35.jpg\n",
      "fork (score=0.99207)\n",
      "coffee_mug (score=0.00793)\n",
      "apple (score=0.00000)\n",
      "690Test  : fork == fork\n",
      "\n",
      "Problem moving tf_files/sort/fork/35.jpg : Destination path 'tf_files/sort/fork/35.jpg' already exists\n",
      "reading tf_files/sort/fork/516.pasta-promotional-product-idea-twist-spaghetti-forks.jpg\n",
      "fork (score=0.99989)\n",
      "coffee_mug (score=0.00011)\n",
      "apple (score=0.00000)\n",
      "691Test  : fork == fork\n",
      "\n",
      "Problem moving tf_files/sort/fork/516.pasta-promotional-product-idea-twist-spaghetti-forks.jpg : Destination path 'tf_files/sort/fork/516.pasta-promotional-product-idea-twist-spaghetti-forks.jpg' already exists\n",
      "reading tf_files/sort/fork/639.ritchey-pro-carbon-forks-med.jpg\n",
      "fork (score=0.99949)\n",
      "coffee_mug (score=0.00051)\n",
      "apple (score=0.00000)\n",
      "692Test  : fork == fork\n",
      "\n",
      "Problem moving tf_files/sort/fork/639.ritchey-pro-carbon-forks-med.jpg : Destination path 'tf_files/sort/fork/639.ritchey-pro-carbon-forks-med.jpg' already exists\n",
      "reading tf_files/sort/fork/38.bigstock-fork-1211956-640x428.jpg\n",
      "fork (score=0.99999)\n",
      "coffee_mug (score=0.00001)\n",
      "apple (score=0.00000)\n",
      "693Test  : fork == fork\n",
      "\n",
      "Problem moving tf_files/sort/fork/38.bigstock-fork-1211956-640x428.jpg : Destination path 'tf_files/sort/fork/38.bigstock-fork-1211956-640x428.jpg' already exists\n",
      "reading tf_files/sort/fork/562.12741-pr16648%20fiskars%20garden%20light%20digging%20fork.jpg\n",
      "fork (score=0.99979)\n",
      "coffee_mug (score=0.00021)\n",
      "apple (score=0.00000)\n",
      "694Test  : fork == fork\n",
      "\n",
      "Problem moving tf_files/sort/fork/562.12741-pr16648%20fiskars%20garden%20light%20digging%20fork.jpg : Destination path 'tf_files/sort/fork/562.12741-pr16648%20fiskars%20garden%20light%20digging%20fork.jpg' already exists\n",
      "reading tf_files/sort/fork/228.image-151.jpg\n",
      "fork (score=0.99293)\n",
      "coffee_mug (score=0.00707)\n",
      "apple (score=0.00000)\n",
      "695Test  : fork == fork\n",
      "\n",
      "Problem moving tf_files/sort/fork/228.image-151.jpg : Destination path 'tf_files/sort/fork/228.image-151.jpg' already exists\n",
      "reading tf_files/sort/fork/71.fork.jpg\n",
      "fork (score=0.99999)\n",
      "coffee_mug (score=0.00001)\n",
      "apple (score=0.00000)\n",
      "696Test  : fork == fork\n",
      "\n",
      "Problem moving tf_files/sort/fork/71.fork.jpg : Destination path 'tf_files/sort/fork/71.fork.jpg' already exists\n",
      "reading tf_files/sort/fork/14.lct004met-0_01.jpg\n",
      "fork (score=0.99990)\n",
      "coffee_mug (score=0.00010)\n",
      "apple (score=0.00000)\n",
      "697Test  : fork == fork\n",
      "\n",
      "Problem moving tf_files/sort/fork/14.lct004met-0_01.jpg : Destination path 'tf_files/sort/fork/14.lct004met-0_01.jpg' already exists\n",
      "reading tf_files/sort/fork/662.fork-and-spoon-wall-art-wooden-fork-and-spoon-wall-decor-cute-decorative-wall-clocks.jpg\n",
      "fork (score=0.99718)\n",
      "apple (score=0.00255)\n",
      "coffee_mug (score=0.00027)\n",
      "698Test  : fork == fork\n",
      "\n",
      "Problem moving tf_files/sort/fork/662.fork-and-spoon-wall-art-wooden-fork-and-spoon-wall-decor-cute-decorative-wall-clocks.jpg : Destination path 'tf_files/sort/fork/662.fork-and-spoon-wall-art-wooden-fork-and-spoon-wall-decor-cute-decorative-wall-clocks.jpg' already exists\n",
      "reading tf_files/sort/fork/158.41876817-1-tf.jpg\n",
      "fork (score=0.99847)\n",
      "coffee_mug (score=0.00152)\n",
      "apple (score=0.00000)\n",
      "699Test  : fork == fork\n",
      "\n",
      "Problem moving tf_files/sort/fork/158.41876817-1-tf.jpg : Destination path 'tf_files/sort/fork/158.41876817-1-tf.jpg' already exists\n",
      "reading tf_files/sort/fork/390.rxf-36-27.5-front-fork_4-380x240.jpg\n"
     ]
    },
    {
     "name": "stdout",
     "output_type": "stream",
     "text": [
      "fork (score=0.99971)\n",
      "coffee_mug (score=0.00029)\n",
      "apple (score=0.00000)\n",
      "700Test  : fork == fork\n",
      "\n",
      "Problem moving tf_files/sort/fork/390.rxf-36-27.5-front-fork_4-380x240.jpg : Destination path 'tf_files/sort/fork/390.rxf-36-27.5-front-fork_4-380x240.jpg' already exists\n",
      "reading tf_files/sort/fork/402.3171injupjl._sy300_ql70_.jpg\n",
      "fork (score=1.00000)\n",
      "coffee_mug (score=0.00000)\n",
      "apple (score=0.00000)\n",
      "701Test  : fork == fork\n",
      "\n",
      "Problem moving tf_files/sort/fork/402.3171injupjl._sy300_ql70_.jpg : Destination path 'tf_files/sort/fork/402.3171injupjl._sy300_ql70_.jpg' already exists\n",
      "reading tf_files/sort/fork/45.ruth-pretty-blending-fork_f_grande.jpg\n",
      "fork (score=0.99992)\n",
      "coffee_mug (score=0.00008)\n",
      "apple (score=0.00000)\n",
      "702Test  : fork == fork\n",
      "\n",
      "Problem moving tf_files/sort/fork/45.ruth-pretty-blending-fork_f_grande.jpg : Destination path 'tf_files/sort/fork/45.ruth-pretty-blending-fork_f_grande.jpg' already exists\n",
      "reading tf_files/sort/fork/52.garden-fork-with-long-handle.jpg\n",
      "fork (score=0.99998)\n",
      "coffee_mug (score=0.00002)\n",
      "apple (score=0.00000)\n",
      "703Test  : fork == fork\n",
      "\n",
      "Problem moving tf_files/sort/fork/52.garden-fork-with-long-handle.jpg : Destination path 'tf_files/sort/fork/52.garden-fork-with-long-handle.jpg' already exists\n",
      "reading tf_files/sort/fork/418.love_fork_spoon_chopsticks_set.jpg\n",
      "fork (score=0.99940)\n",
      "coffee_mug (score=0.00060)\n",
      "apple (score=0.00000)\n",
      "704Test  : fork == fork\n",
      "\n",
      "Problem moving tf_files/sort/fork/418.love_fork_spoon_chopsticks_set.jpg : Destination path 'tf_files/sort/fork/418.love_fork_spoon_chopsticks_set.jpg' already exists\n",
      "reading tf_files/sort/fork/222.cake-fork-sydney-basics-sydney-18158-img1.jpg\n",
      "fork (score=0.99987)\n",
      "coffee_mug (score=0.00013)\n",
      "apple (score=0.00000)\n",
      "705Test  : fork == fork\n",
      "\n",
      "Problem moving tf_files/sort/fork/222.cake-fork-sydney-basics-sydney-18158-img1.jpg : Destination path 'tf_files/sort/fork/222.cake-fork-sydney-basics-sydney-18158-img1.jpg' already exists\n",
      "reading tf_files/sort/fork/272.p-4198-border_fork-_bulldog_garden_fork_australia.jpg\n",
      "fork (score=1.00000)\n",
      "coffee_mug (score=0.00000)\n",
      "apple (score=0.00000)\n",
      "706Test  : fork == fork\n",
      "\n",
      "Problem moving tf_files/sort/fork/272.p-4198-border_fork-_bulldog_garden_fork_australia.jpg : Destination path 'tf_files/sort/fork/272.p-4198-border_fork-_bulldog_garden_fork_australia.jpg' already exists\n",
      "reading tf_files/sort/fork/294.jpg\n",
      "fork (score=0.99893)\n",
      "coffee_mug (score=0.00107)\n",
      "apple (score=0.00000)\n",
      "707Test  : fork == fork\n",
      "\n",
      "Problem moving tf_files/sort/fork/294.jpg : Destination path 'tf_files/sort/fork/294.jpg' already exists\n",
      "reading tf_files/sort/fork/333.mix-salad-fork.jpg\n",
      "fork (score=0.99981)\n",
      "coffee_mug (score=0.00019)\n",
      "apple (score=0.00000)\n",
      "708Test  : fork == fork\n",
      "\n",
      "Problem moving tf_files/sort/fork/333.mix-salad-fork.jpg : Destination path 'tf_files/sort/fork/333.mix-salad-fork.jpg' already exists\n",
      "reading tf_files/sort/fork/8.shutterstock_88722283.jpg\n",
      "fork (score=0.99915)\n",
      "coffee_mug (score=0.00085)\n",
      "apple (score=0.00000)\n",
      "709Test  : fork == fork\n",
      "\n",
      "Problem moving tf_files/sort/fork/8.shutterstock_88722283.jpg : Destination path 'tf_files/sort/fork/8.shutterstock_88722283.jpg' already exists\n",
      "reading tf_files/sort/fork/121.princess-serving-spoon-fork.jpg\n",
      "fork (score=0.99996)\n",
      "coffee_mug (score=0.00004)\n",
      "apple (score=0.00000)\n",
      "710Test  : fork == fork\n",
      "\n",
      "Problem moving tf_files/sort/fork/121.princess-serving-spoon-fork.jpg : Destination path 'tf_files/sort/fork/121.princess-serving-spoon-fork.jpg' already exists\n",
      "reading tf_files/sort/fork/156.image-2420.jpg\n",
      "fork (score=0.99689)\n",
      "coffee_mug (score=0.00311)\n",
      "apple (score=0.00000)\n",
      "711Test  : fork == fork\n",
      "\n",
      "Problem moving tf_files/sort/fork/156.image-2420.jpg : Destination path 'tf_files/sort/fork/156.image-2420.jpg' already exists\n",
      "reading tf_files/sort/fork/215.864ffa4f-4d4a-4433-96ad-ecbabcf153d2.jpg\n",
      "fork (score=0.99845)\n",
      "coffee_mug (score=0.00155)\n",
      "apple (score=0.00000)\n",
      "712Test  : fork == fork\n",
      "\n",
      "Problem moving tf_files/sort/fork/215.864ffa4f-4d4a-4433-96ad-ecbabcf153d2.jpg : Destination path 'tf_files/sort/fork/215.864ffa4f-4d4a-4433-96ad-ecbabcf153d2.jpg' already exists\n",
      "reading tf_files/sort/fork/530.3t-funda-team-forks-med.jpg\n",
      "fork (score=0.99683)\n",
      "coffee_mug (score=0.00317)\n",
      "apple (score=0.00000)\n",
      "713Test  : fork == fork\n",
      "\n",
      "Problem moving tf_files/sort/fork/530.3t-funda-team-forks-med.jpg : Destination path 'tf_files/sort/fork/530.3t-funda-team-forks-med.jpg' already exists\n",
      "reading tf_files/sort/fork/284.0086719_tea-spoon-fork-small-06-piece-nc14_550.jpg\n",
      "fork (score=0.99997)\n",
      "coffee_mug (score=0.00003)\n",
      "apple (score=0.00000)\n",
      "714Test  : fork == fork\n",
      "\n",
      "Problem moving tf_files/sort/fork/284.0086719_tea-spoon-fork-small-06-piece-nc14_550.jpg : Destination path 'tf_files/sort/fork/284.0086719_tea-spoon-fork-small-06-piece-nc14_550.jpg' already exists\n",
      "reading tf_files/sort/fork/193.271.jpg\n",
      "fork (score=0.99987)\n",
      "coffee_mug (score=0.00013)\n",
      "apple (score=0.00000)\n",
      "715Test  : fork == fork\n",
      "\n",
      "Problem moving tf_files/sort/fork/193.271.jpg : Destination path 'tf_files/sort/fork/193.271.jpg' already exists\n",
      "reading tf_files/sort/fork/267.hc28-56905-grape-fork-white-28_56905-800x800.jpg\n",
      "fork (score=0.99966)\n",
      "coffee_mug (score=0.00034)\n",
      "apple (score=0.00000)\n",
      "716Test  : fork == fork\n",
      "\n",
      "Problem moving tf_files/sort/fork/267.hc28-56905-grape-fork-white-28_56905-800x800.jpg : Destination path 'tf_files/sort/fork/267.hc28-56905-grape-fork-white-28_56905-800x800.jpg' already exists\n",
      "reading tf_files/sort/fork/477.fork_02.jpg\n",
      "fork (score=0.99773)\n",
      "coffee_mug (score=0.00227)\n",
      "apple (score=0.00000)\n",
      "717Test  : fork == fork\n",
      "\n",
      "Problem moving tf_files/sort/fork/477.fork_02.jpg : Destination path 'tf_files/sort/fork/477.fork_02.jpg' already exists\n",
      "reading tf_files/sort/fork/252.mami_fork.jpg\n",
      "fork (score=0.99996)\n",
      "coffee_mug (score=0.00004)\n",
      "apple (score=0.00000)\n",
      "718Test  : fork == fork\n",
      "\n",
      "Problem moving tf_files/sort/fork/252.mami_fork.jpg : Destination path 'tf_files/sort/fork/252.mami_fork.jpg' already exists\n",
      "reading tf_files/sort/fork/73.may-the-fork-be-with-you-300x250.jpg\n",
      "fork (score=0.99716)\n",
      "coffee_mug (score=0.00282)\n",
      "apple (score=0.00002)\n",
      "719Test  : fork == fork\n",
      "\n",
      "Problem moving tf_files/sort/fork/73.may-the-fork-be-with-you-300x250.jpg : Destination path 'tf_files/sort/fork/73.may-the-fork-be-with-you-300x250.jpg' already exists\n",
      "reading tf_files/sort/fork/279.rockshox-sektor-gold-rl-solo-air-130-29-tapered-black-ev302318-8500-1.jpg\n"
     ]
    },
    {
     "ename": "NotFoundError",
     "evalue": "tf_files/sort/fork/279.rockshox-sektor-gold-rl-solo-air-130-29-tapered-black-ev302318-8500-1.jpg; No such file or directory\n\t [[Node: file_reader_2699 = ReadFile[_device=\"/job:localhost/replica:0/task:0/device:CPU:0\"](file_reader_2699/filename)]]\n\nCaused by op 'file_reader_2699', defined at:\n  File \"/usr/local/Cellar/python3/3.5.2_3/Frameworks/Python.framework/Versions/3.5/lib/python3.5/runpy.py\", line 184, in _run_module_as_main\n    \"__main__\", mod_spec)\n  File \"/usr/local/Cellar/python3/3.5.2_3/Frameworks/Python.framework/Versions/3.5/lib/python3.5/runpy.py\", line 85, in _run_code\n    exec(code, run_globals)\n  File \"/usr/local/Cellar/python3/3.5.2_3/Frameworks/Python.framework/Versions/3.5/lib/python3.5/site-packages/ipykernel_launcher.py\", line 16, in <module>\n    app.launch_new_instance()\n  File \"/usr/local/Cellar/python3/3.5.2_3/Frameworks/Python.framework/Versions/3.5/lib/python3.5/site-packages/traitlets/config/application.py\", line 658, in launch_instance\n    app.start()\n  File \"/usr/local/Cellar/python3/3.5.2_3/Frameworks/Python.framework/Versions/3.5/lib/python3.5/site-packages/ipykernel/kernelapp.py\", line 486, in start\n    self.io_loop.start()\n  File \"/usr/local/Cellar/python3/3.5.2_3/Frameworks/Python.framework/Versions/3.5/lib/python3.5/site-packages/tornado/platform/asyncio.py\", line 112, in start\n    self.asyncio_loop.run_forever()\n  File \"/usr/local/Cellar/python3/3.5.2_3/Frameworks/Python.framework/Versions/3.5/lib/python3.5/asyncio/base_events.py\", line 345, in run_forever\n    self._run_once()\n  File \"/usr/local/Cellar/python3/3.5.2_3/Frameworks/Python.framework/Versions/3.5/lib/python3.5/asyncio/base_events.py\", line 1312, in _run_once\n    handle._run()\n  File \"/usr/local/Cellar/python3/3.5.2_3/Frameworks/Python.framework/Versions/3.5/lib/python3.5/asyncio/events.py\", line 125, in _run\n    self._callback(*self._args)\n  File \"/usr/local/Cellar/python3/3.5.2_3/Frameworks/Python.framework/Versions/3.5/lib/python3.5/site-packages/tornado/platform/asyncio.py\", line 102, in _handle_events\n    handler_func(fileobj, events)\n  File \"/usr/local/Cellar/python3/3.5.2_3/Frameworks/Python.framework/Versions/3.5/lib/python3.5/site-packages/tornado/stack_context.py\", line 276, in null_wrapper\n    return fn(*args, **kwargs)\n  File \"/usr/local/Cellar/python3/3.5.2_3/Frameworks/Python.framework/Versions/3.5/lib/python3.5/site-packages/zmq/eventloop/zmqstream.py\", line 450, in _handle_events\n    self._handle_recv()\n  File \"/usr/local/Cellar/python3/3.5.2_3/Frameworks/Python.framework/Versions/3.5/lib/python3.5/site-packages/zmq/eventloop/zmqstream.py\", line 480, in _handle_recv\n    self._run_callback(callback, msg)\n  File \"/usr/local/Cellar/python3/3.5.2_3/Frameworks/Python.framework/Versions/3.5/lib/python3.5/site-packages/zmq/eventloop/zmqstream.py\", line 432, in _run_callback\n    callback(*args, **kwargs)\n  File \"/usr/local/Cellar/python3/3.5.2_3/Frameworks/Python.framework/Versions/3.5/lib/python3.5/site-packages/tornado/stack_context.py\", line 276, in null_wrapper\n    return fn(*args, **kwargs)\n  File \"/usr/local/Cellar/python3/3.5.2_3/Frameworks/Python.framework/Versions/3.5/lib/python3.5/site-packages/ipykernel/kernelbase.py\", line 283, in dispatcher\n    return self.dispatch_shell(stream, msg)\n  File \"/usr/local/Cellar/python3/3.5.2_3/Frameworks/Python.framework/Versions/3.5/lib/python3.5/site-packages/ipykernel/kernelbase.py\", line 233, in dispatch_shell\n    handler(stream, idents, msg)\n  File \"/usr/local/Cellar/python3/3.5.2_3/Frameworks/Python.framework/Versions/3.5/lib/python3.5/site-packages/ipykernel/kernelbase.py\", line 399, in execute_request\n    user_expressions, allow_stdin)\n  File \"/usr/local/Cellar/python3/3.5.2_3/Frameworks/Python.framework/Versions/3.5/lib/python3.5/site-packages/ipykernel/ipkernel.py\", line 208, in do_execute\n    res = shell.run_cell(code, store_history=store_history, silent=silent)\n  File \"/usr/local/Cellar/python3/3.5.2_3/Frameworks/Python.framework/Versions/3.5/lib/python3.5/site-packages/ipykernel/zmqshell.py\", line 537, in run_cell\n    return super(ZMQInteractiveShell, self).run_cell(*args, **kwargs)\n  File \"/usr/local/Cellar/python3/3.5.2_3/Frameworks/Python.framework/Versions/3.5/lib/python3.5/site-packages/IPython/core/interactiveshell.py\", line 2728, in run_cell\n    interactivity=interactivity, compiler=compiler, result=result)\n  File \"/usr/local/Cellar/python3/3.5.2_3/Frameworks/Python.framework/Versions/3.5/lib/python3.5/site-packages/IPython/core/interactiveshell.py\", line 2850, in run_ast_nodes\n    if self.run_code(code, result):\n  File \"/usr/local/Cellar/python3/3.5.2_3/Frameworks/Python.framework/Versions/3.5/lib/python3.5/site-packages/IPython/core/interactiveshell.py\", line 2910, in run_code\n    exec(code_obj, self.user_global_ns, self.user_ns)\n  File \"<ipython-input-46-88df69019b2d>\", line 14, in <module>\n    resultLabel,resultValue = label_image(filePath)\n  File \"<string>\", line 160, in label_image\n  File \"<string>\", line 42, in read_tensor_from_image_file\n  File \"/usr/local/Cellar/python3/3.5.2_3/Frameworks/Python.framework/Versions/3.5/lib/python3.5/site-packages/tensorflow/python/ops/gen_io_ops.py\", line 376, in read_file\n    \"ReadFile\", filename=filename, name=name)\n  File \"/usr/local/Cellar/python3/3.5.2_3/Frameworks/Python.framework/Versions/3.5/lib/python3.5/site-packages/tensorflow/python/framework/op_def_library.py\", line 787, in _apply_op_helper\n    op_def=op_def)\n  File \"/usr/local/Cellar/python3/3.5.2_3/Frameworks/Python.framework/Versions/3.5/lib/python3.5/site-packages/tensorflow/python/framework/ops.py\", line 2956, in create_op\n    op_def=op_def)\n  File \"/usr/local/Cellar/python3/3.5.2_3/Frameworks/Python.framework/Versions/3.5/lib/python3.5/site-packages/tensorflow/python/framework/ops.py\", line 1470, in __init__\n    self._traceback = self._graph._extract_stack()  # pylint: disable=protected-access\n\nNotFoundError (see above for traceback): tf_files/sort/fork/279.rockshox-sektor-gold-rl-solo-air-130-29-tapered-black-ev302318-8500-1.jpg; No such file or directory\n\t [[Node: file_reader_2699 = ReadFile[_device=\"/job:localhost/replica:0/task:0/device:CPU:0\"](file_reader_2699/filename)]]\n",
     "output_type": "error",
     "traceback": [
      "\u001b[0;31m---------------------------------------------------------------------------\u001b[0m",
      "\u001b[0;31mNotFoundError\u001b[0m                             Traceback (most recent call last)",
      "\u001b[0;32m/usr/local/Cellar/python3/3.5.2_3/Frameworks/Python.framework/Versions/3.5/lib/python3.5/site-packages/tensorflow/python/client/session.py\u001b[0m in \u001b[0;36m_do_call\u001b[0;34m(self, fn, *args)\u001b[0m\n\u001b[1;32m   1322\u001b[0m     \u001b[0;32mtry\u001b[0m\u001b[0;34m:\u001b[0m\u001b[0;34m\u001b[0m\u001b[0m\n\u001b[0;32m-> 1323\u001b[0;31m       \u001b[0;32mreturn\u001b[0m \u001b[0mfn\u001b[0m\u001b[0;34m(\u001b[0m\u001b[0;34m*\u001b[0m\u001b[0margs\u001b[0m\u001b[0;34m)\u001b[0m\u001b[0;34m\u001b[0m\u001b[0m\n\u001b[0m\u001b[1;32m   1324\u001b[0m     \u001b[0;32mexcept\u001b[0m \u001b[0merrors\u001b[0m\u001b[0;34m.\u001b[0m\u001b[0mOpError\u001b[0m \u001b[0;32mas\u001b[0m \u001b[0me\u001b[0m\u001b[0;34m:\u001b[0m\u001b[0;34m\u001b[0m\u001b[0m\n",
      "\u001b[0;32m/usr/local/Cellar/python3/3.5.2_3/Frameworks/Python.framework/Versions/3.5/lib/python3.5/site-packages/tensorflow/python/client/session.py\u001b[0m in \u001b[0;36m_run_fn\u001b[0;34m(session, feed_dict, fetch_list, target_list, options, run_metadata)\u001b[0m\n\u001b[1;32m   1301\u001b[0m                                    \u001b[0mfeed_dict\u001b[0m\u001b[0;34m,\u001b[0m \u001b[0mfetch_list\u001b[0m\u001b[0;34m,\u001b[0m \u001b[0mtarget_list\u001b[0m\u001b[0;34m,\u001b[0m\u001b[0;34m\u001b[0m\u001b[0m\n\u001b[0;32m-> 1302\u001b[0;31m                                    status, run_metadata)\n\u001b[0m\u001b[1;32m   1303\u001b[0m \u001b[0;34m\u001b[0m\u001b[0m\n",
      "\u001b[0;32m/usr/local/Cellar/python3/3.5.2_3/Frameworks/Python.framework/Versions/3.5/lib/python3.5/site-packages/tensorflow/python/framework/errors_impl.py\u001b[0m in \u001b[0;36m__exit__\u001b[0;34m(self, type_arg, value_arg, traceback_arg)\u001b[0m\n\u001b[1;32m    472\u001b[0m             \u001b[0mcompat\u001b[0m\u001b[0;34m.\u001b[0m\u001b[0mas_text\u001b[0m\u001b[0;34m(\u001b[0m\u001b[0mc_api\u001b[0m\u001b[0;34m.\u001b[0m\u001b[0mTF_Message\u001b[0m\u001b[0;34m(\u001b[0m\u001b[0mself\u001b[0m\u001b[0;34m.\u001b[0m\u001b[0mstatus\u001b[0m\u001b[0;34m.\u001b[0m\u001b[0mstatus\u001b[0m\u001b[0;34m)\u001b[0m\u001b[0;34m)\u001b[0m\u001b[0;34m,\u001b[0m\u001b[0;34m\u001b[0m\u001b[0m\n\u001b[0;32m--> 473\u001b[0;31m             c_api.TF_GetCode(self.status.status))\n\u001b[0m\u001b[1;32m    474\u001b[0m     \u001b[0;31m# Delete the underlying status object from memory otherwise it stays alive\u001b[0m\u001b[0;34m\u001b[0m\u001b[0;34m\u001b[0m\u001b[0m\n",
      "\u001b[0;31mNotFoundError\u001b[0m: tf_files/sort/fork/279.rockshox-sektor-gold-rl-solo-air-130-29-tapered-black-ev302318-8500-1.jpg; No such file or directory\n\t [[Node: file_reader_2699 = ReadFile[_device=\"/job:localhost/replica:0/task:0/device:CPU:0\"](file_reader_2699/filename)]]",
      "\nDuring handling of the above exception, another exception occurred:\n",
      "\u001b[0;31mNotFoundError\u001b[0m                             Traceback (most recent call last)",
      "\u001b[0;32m<ipython-input-46-88df69019b2d>\u001b[0m in \u001b[0;36m<module>\u001b[0;34m()\u001b[0m\n\u001b[1;32m     12\u001b[0m             \u001b[0;32mtry\u001b[0m\u001b[0;34m:\u001b[0m\u001b[0;34m\u001b[0m\u001b[0m\n\u001b[1;32m     13\u001b[0m                 \u001b[0mprint\u001b[0m\u001b[0;34m(\u001b[0m\u001b[0;34m\"reading \"\u001b[0m\u001b[0;34m+\u001b[0m\u001b[0mfilePath\u001b[0m\u001b[0;34m)\u001b[0m\u001b[0;34m\u001b[0m\u001b[0m\n\u001b[0;32m---> 14\u001b[0;31m                 \u001b[0mresultLabel\u001b[0m\u001b[0;34m,\u001b[0m\u001b[0mresultValue\u001b[0m \u001b[0;34m=\u001b[0m \u001b[0mlabel_image\u001b[0m\u001b[0;34m(\u001b[0m\u001b[0mfilePath\u001b[0m\u001b[0;34m)\u001b[0m\u001b[0;34m\u001b[0m\u001b[0m\n\u001b[0m\u001b[1;32m     15\u001b[0m                 \u001b[0mtest\u001b[0m \u001b[0;34m=\u001b[0m \u001b[0mstr\u001b[0m\u001b[0;34m(\u001b[0m\u001b[0mos\u001b[0m\u001b[0;34m.\u001b[0m\u001b[0mpath\u001b[0m\u001b[0;34m.\u001b[0m\u001b[0mbasename\u001b[0m\u001b[0;34m(\u001b[0m\u001b[0msubdir\u001b[0m\u001b[0;34m)\u001b[0m\u001b[0;34m)\u001b[0m\u001b[0;34m\u001b[0m\u001b[0m\n\u001b[1;32m     16\u001b[0m                 \u001b[0mprint\u001b[0m\u001b[0;34m(\u001b[0m\u001b[0mstr\u001b[0m\u001b[0;34m(\u001b[0m\u001b[0mfiles\u001b[0m\u001b[0;34m)\u001b[0m\u001b[0;34m+\u001b[0m \u001b[0;34m\"Test \"\u001b[0m\u001b[0;34m+\u001b[0m\u001b[0;34m\" : \"\u001b[0m\u001b[0;34m+\u001b[0m\u001b[0mtest\u001b[0m \u001b[0;34m+\u001b[0m \u001b[0;34m\" == \"\u001b[0m \u001b[0;34m+\u001b[0m \u001b[0mresultLabel\u001b[0m \u001b[0;34m+\u001b[0m\u001b[0;34m\"\\n\"\u001b[0m\u001b[0;34m)\u001b[0m\u001b[0;34m\u001b[0m\u001b[0m\n",
      "\u001b[0;32m<string>\u001b[0m in \u001b[0;36mlabel_image\u001b[0;34m(file)\u001b[0m\n",
      "\u001b[0;32m<string>\u001b[0m in \u001b[0;36mread_tensor_from_image_file\u001b[0;34m(file_name, input_height, input_width, input_mean, input_std)\u001b[0m\n",
      "\u001b[0;32m/usr/local/Cellar/python3/3.5.2_3/Frameworks/Python.framework/Versions/3.5/lib/python3.5/site-packages/tensorflow/python/client/session.py\u001b[0m in \u001b[0;36mrun\u001b[0;34m(self, fetches, feed_dict, options, run_metadata)\u001b[0m\n\u001b[1;32m    887\u001b[0m     \u001b[0;32mtry\u001b[0m\u001b[0;34m:\u001b[0m\u001b[0;34m\u001b[0m\u001b[0m\n\u001b[1;32m    888\u001b[0m       result = self._run(None, fetches, feed_dict, options_ptr,\n\u001b[0;32m--> 889\u001b[0;31m                          run_metadata_ptr)\n\u001b[0m\u001b[1;32m    890\u001b[0m       \u001b[0;32mif\u001b[0m \u001b[0mrun_metadata\u001b[0m\u001b[0;34m:\u001b[0m\u001b[0;34m\u001b[0m\u001b[0m\n\u001b[1;32m    891\u001b[0m         \u001b[0mproto_data\u001b[0m \u001b[0;34m=\u001b[0m \u001b[0mtf_session\u001b[0m\u001b[0;34m.\u001b[0m\u001b[0mTF_GetBuffer\u001b[0m\u001b[0;34m(\u001b[0m\u001b[0mrun_metadata_ptr\u001b[0m\u001b[0;34m)\u001b[0m\u001b[0;34m\u001b[0m\u001b[0m\n",
      "\u001b[0;32m/usr/local/Cellar/python3/3.5.2_3/Frameworks/Python.framework/Versions/3.5/lib/python3.5/site-packages/tensorflow/python/client/session.py\u001b[0m in \u001b[0;36m_run\u001b[0;34m(self, handle, fetches, feed_dict, options, run_metadata)\u001b[0m\n\u001b[1;32m   1118\u001b[0m     \u001b[0;32mif\u001b[0m \u001b[0mfinal_fetches\u001b[0m \u001b[0;32mor\u001b[0m \u001b[0mfinal_targets\u001b[0m \u001b[0;32mor\u001b[0m \u001b[0;34m(\u001b[0m\u001b[0mhandle\u001b[0m \u001b[0;32mand\u001b[0m \u001b[0mfeed_dict_tensor\u001b[0m\u001b[0;34m)\u001b[0m\u001b[0;34m:\u001b[0m\u001b[0;34m\u001b[0m\u001b[0m\n\u001b[1;32m   1119\u001b[0m       results = self._do_run(handle, final_targets, final_fetches,\n\u001b[0;32m-> 1120\u001b[0;31m                              feed_dict_tensor, options, run_metadata)\n\u001b[0m\u001b[1;32m   1121\u001b[0m     \u001b[0;32melse\u001b[0m\u001b[0;34m:\u001b[0m\u001b[0;34m\u001b[0m\u001b[0m\n\u001b[1;32m   1122\u001b[0m       \u001b[0mresults\u001b[0m \u001b[0;34m=\u001b[0m \u001b[0;34m[\u001b[0m\u001b[0;34m]\u001b[0m\u001b[0;34m\u001b[0m\u001b[0m\n",
      "\u001b[0;32m/usr/local/Cellar/python3/3.5.2_3/Frameworks/Python.framework/Versions/3.5/lib/python3.5/site-packages/tensorflow/python/client/session.py\u001b[0m in \u001b[0;36m_do_run\u001b[0;34m(self, handle, target_list, fetch_list, feed_dict, options, run_metadata)\u001b[0m\n\u001b[1;32m   1315\u001b[0m     \u001b[0;32mif\u001b[0m \u001b[0mhandle\u001b[0m \u001b[0;32mis\u001b[0m \u001b[0;32mNone\u001b[0m\u001b[0;34m:\u001b[0m\u001b[0;34m\u001b[0m\u001b[0m\n\u001b[1;32m   1316\u001b[0m       return self._do_call(_run_fn, self._session, feeds, fetches, targets,\n\u001b[0;32m-> 1317\u001b[0;31m                            options, run_metadata)\n\u001b[0m\u001b[1;32m   1318\u001b[0m     \u001b[0;32melse\u001b[0m\u001b[0;34m:\u001b[0m\u001b[0;34m\u001b[0m\u001b[0m\n\u001b[1;32m   1319\u001b[0m       \u001b[0;32mreturn\u001b[0m \u001b[0mself\u001b[0m\u001b[0;34m.\u001b[0m\u001b[0m_do_call\u001b[0m\u001b[0;34m(\u001b[0m\u001b[0m_prun_fn\u001b[0m\u001b[0;34m,\u001b[0m \u001b[0mself\u001b[0m\u001b[0;34m.\u001b[0m\u001b[0m_session\u001b[0m\u001b[0;34m,\u001b[0m \u001b[0mhandle\u001b[0m\u001b[0;34m,\u001b[0m \u001b[0mfeeds\u001b[0m\u001b[0;34m,\u001b[0m \u001b[0mfetches\u001b[0m\u001b[0;34m)\u001b[0m\u001b[0;34m\u001b[0m\u001b[0m\n",
      "\u001b[0;32m/usr/local/Cellar/python3/3.5.2_3/Frameworks/Python.framework/Versions/3.5/lib/python3.5/site-packages/tensorflow/python/client/session.py\u001b[0m in \u001b[0;36m_do_call\u001b[0;34m(self, fn, *args)\u001b[0m\n\u001b[1;32m   1334\u001b[0m         \u001b[0;32mexcept\u001b[0m \u001b[0mKeyError\u001b[0m\u001b[0;34m:\u001b[0m\u001b[0;34m\u001b[0m\u001b[0m\n\u001b[1;32m   1335\u001b[0m           \u001b[0;32mpass\u001b[0m\u001b[0;34m\u001b[0m\u001b[0m\n\u001b[0;32m-> 1336\u001b[0;31m       \u001b[0;32mraise\u001b[0m \u001b[0mtype\u001b[0m\u001b[0;34m(\u001b[0m\u001b[0me\u001b[0m\u001b[0;34m)\u001b[0m\u001b[0;34m(\u001b[0m\u001b[0mnode_def\u001b[0m\u001b[0;34m,\u001b[0m \u001b[0mop\u001b[0m\u001b[0;34m,\u001b[0m \u001b[0mmessage\u001b[0m\u001b[0;34m)\u001b[0m\u001b[0;34m\u001b[0m\u001b[0m\n\u001b[0m\u001b[1;32m   1337\u001b[0m \u001b[0;34m\u001b[0m\u001b[0m\n\u001b[1;32m   1338\u001b[0m   \u001b[0;32mdef\u001b[0m \u001b[0m_extend_graph\u001b[0m\u001b[0;34m(\u001b[0m\u001b[0mself\u001b[0m\u001b[0;34m)\u001b[0m\u001b[0;34m:\u001b[0m\u001b[0;34m\u001b[0m\u001b[0m\n",
      "\u001b[0;31mNotFoundError\u001b[0m: tf_files/sort/fork/279.rockshox-sektor-gold-rl-solo-air-130-29-tapered-black-ev302318-8500-1.jpg; No such file or directory\n\t [[Node: file_reader_2699 = ReadFile[_device=\"/job:localhost/replica:0/task:0/device:CPU:0\"](file_reader_2699/filename)]]\n\nCaused by op 'file_reader_2699', defined at:\n  File \"/usr/local/Cellar/python3/3.5.2_3/Frameworks/Python.framework/Versions/3.5/lib/python3.5/runpy.py\", line 184, in _run_module_as_main\n    \"__main__\", mod_spec)\n  File \"/usr/local/Cellar/python3/3.5.2_3/Frameworks/Python.framework/Versions/3.5/lib/python3.5/runpy.py\", line 85, in _run_code\n    exec(code, run_globals)\n  File \"/usr/local/Cellar/python3/3.5.2_3/Frameworks/Python.framework/Versions/3.5/lib/python3.5/site-packages/ipykernel_launcher.py\", line 16, in <module>\n    app.launch_new_instance()\n  File \"/usr/local/Cellar/python3/3.5.2_3/Frameworks/Python.framework/Versions/3.5/lib/python3.5/site-packages/traitlets/config/application.py\", line 658, in launch_instance\n    app.start()\n  File \"/usr/local/Cellar/python3/3.5.2_3/Frameworks/Python.framework/Versions/3.5/lib/python3.5/site-packages/ipykernel/kernelapp.py\", line 486, in start\n    self.io_loop.start()\n  File \"/usr/local/Cellar/python3/3.5.2_3/Frameworks/Python.framework/Versions/3.5/lib/python3.5/site-packages/tornado/platform/asyncio.py\", line 112, in start\n    self.asyncio_loop.run_forever()\n  File \"/usr/local/Cellar/python3/3.5.2_3/Frameworks/Python.framework/Versions/3.5/lib/python3.5/asyncio/base_events.py\", line 345, in run_forever\n    self._run_once()\n  File \"/usr/local/Cellar/python3/3.5.2_3/Frameworks/Python.framework/Versions/3.5/lib/python3.5/asyncio/base_events.py\", line 1312, in _run_once\n    handle._run()\n  File \"/usr/local/Cellar/python3/3.5.2_3/Frameworks/Python.framework/Versions/3.5/lib/python3.5/asyncio/events.py\", line 125, in _run\n    self._callback(*self._args)\n  File \"/usr/local/Cellar/python3/3.5.2_3/Frameworks/Python.framework/Versions/3.5/lib/python3.5/site-packages/tornado/platform/asyncio.py\", line 102, in _handle_events\n    handler_func(fileobj, events)\n  File \"/usr/local/Cellar/python3/3.5.2_3/Frameworks/Python.framework/Versions/3.5/lib/python3.5/site-packages/tornado/stack_context.py\", line 276, in null_wrapper\n    return fn(*args, **kwargs)\n  File \"/usr/local/Cellar/python3/3.5.2_3/Frameworks/Python.framework/Versions/3.5/lib/python3.5/site-packages/zmq/eventloop/zmqstream.py\", line 450, in _handle_events\n    self._handle_recv()\n  File \"/usr/local/Cellar/python3/3.5.2_3/Frameworks/Python.framework/Versions/3.5/lib/python3.5/site-packages/zmq/eventloop/zmqstream.py\", line 480, in _handle_recv\n    self._run_callback(callback, msg)\n  File \"/usr/local/Cellar/python3/3.5.2_3/Frameworks/Python.framework/Versions/3.5/lib/python3.5/site-packages/zmq/eventloop/zmqstream.py\", line 432, in _run_callback\n    callback(*args, **kwargs)\n  File \"/usr/local/Cellar/python3/3.5.2_3/Frameworks/Python.framework/Versions/3.5/lib/python3.5/site-packages/tornado/stack_context.py\", line 276, in null_wrapper\n    return fn(*args, **kwargs)\n  File \"/usr/local/Cellar/python3/3.5.2_3/Frameworks/Python.framework/Versions/3.5/lib/python3.5/site-packages/ipykernel/kernelbase.py\", line 283, in dispatcher\n    return self.dispatch_shell(stream, msg)\n  File \"/usr/local/Cellar/python3/3.5.2_3/Frameworks/Python.framework/Versions/3.5/lib/python3.5/site-packages/ipykernel/kernelbase.py\", line 233, in dispatch_shell\n    handler(stream, idents, msg)\n  File \"/usr/local/Cellar/python3/3.5.2_3/Frameworks/Python.framework/Versions/3.5/lib/python3.5/site-packages/ipykernel/kernelbase.py\", line 399, in execute_request\n    user_expressions, allow_stdin)\n  File \"/usr/local/Cellar/python3/3.5.2_3/Frameworks/Python.framework/Versions/3.5/lib/python3.5/site-packages/ipykernel/ipkernel.py\", line 208, in do_execute\n    res = shell.run_cell(code, store_history=store_history, silent=silent)\n  File \"/usr/local/Cellar/python3/3.5.2_3/Frameworks/Python.framework/Versions/3.5/lib/python3.5/site-packages/ipykernel/zmqshell.py\", line 537, in run_cell\n    return super(ZMQInteractiveShell, self).run_cell(*args, **kwargs)\n  File \"/usr/local/Cellar/python3/3.5.2_3/Frameworks/Python.framework/Versions/3.5/lib/python3.5/site-packages/IPython/core/interactiveshell.py\", line 2728, in run_cell\n    interactivity=interactivity, compiler=compiler, result=result)\n  File \"/usr/local/Cellar/python3/3.5.2_3/Frameworks/Python.framework/Versions/3.5/lib/python3.5/site-packages/IPython/core/interactiveshell.py\", line 2850, in run_ast_nodes\n    if self.run_code(code, result):\n  File \"/usr/local/Cellar/python3/3.5.2_3/Frameworks/Python.framework/Versions/3.5/lib/python3.5/site-packages/IPython/core/interactiveshell.py\", line 2910, in run_code\n    exec(code_obj, self.user_global_ns, self.user_ns)\n  File \"<ipython-input-46-88df69019b2d>\", line 14, in <module>\n    resultLabel,resultValue = label_image(filePath)\n  File \"<string>\", line 160, in label_image\n  File \"<string>\", line 42, in read_tensor_from_image_file\n  File \"/usr/local/Cellar/python3/3.5.2_3/Frameworks/Python.framework/Versions/3.5/lib/python3.5/site-packages/tensorflow/python/ops/gen_io_ops.py\", line 376, in read_file\n    \"ReadFile\", filename=filename, name=name)\n  File \"/usr/local/Cellar/python3/3.5.2_3/Frameworks/Python.framework/Versions/3.5/lib/python3.5/site-packages/tensorflow/python/framework/op_def_library.py\", line 787, in _apply_op_helper\n    op_def=op_def)\n  File \"/usr/local/Cellar/python3/3.5.2_3/Frameworks/Python.framework/Versions/3.5/lib/python3.5/site-packages/tensorflow/python/framework/ops.py\", line 2956, in create_op\n    op_def=op_def)\n  File \"/usr/local/Cellar/python3/3.5.2_3/Frameworks/Python.framework/Versions/3.5/lib/python3.5/site-packages/tensorflow/python/framework/ops.py\", line 1470, in __init__\n    self._traceback = self._graph._extract_stack()  # pylint: disable=protected-access\n\nNotFoundError (see above for traceback): tf_files/sort/fork/279.rockshox-sektor-gold-rl-solo-air-130-29-tapered-black-ev302318-8500-1.jpg; No such file or directory\n\t [[Node: file_reader_2699 = ReadFile[_device=\"/job:localhost/replica:0/task:0/device:CPU:0\"](file_reader_2699/filename)]]\n"
     ]
    }
   ],
   "source": [
    "for subdir, dirs, folder in os.walk(directory):\n",
    "    for file in folder:\n",
    "        \n",
    "        (name, extension) = os.path.splitext(file)\n",
    "        #only process images with .jpg extension\n",
    "        if(extension == \".jpg\"):\n",
    "            files+=1\n",
    "            filePath = os.path.join(subdir,file)\n",
    "            #print(filePath)\n",
    "            #run ml on the image and save the first text reults\n",
    "            resultValue= \"\"\n",
    "            try:\n",
    "                print(\"reading \"+filePath)\n",
    "                resultLabel,resultValue = label_image(filePath)\n",
    "                test = str(os.path.basename(subdir))\n",
    "                print(str(files)+ \"Test \"+\" : \"+test + \" == \" + resultLabel +\"\\n\")\n",
    "            except IOError as e:\n",
    "                print(\"Problem classifying\", filePath, \":\", e)\n",
    "                resultLabel = \"discard\"\n",
    "                \n",
    "            #discardFolderPath = os.path.join(directory, str(resultLabel))\n",
    "            #(name, extension) = os.path.splitext(filePath)\n",
    "            #if the image result is above the threshhold then move it to the label directory\n",
    "            if(resultValue >= threshold):\n",
    "                destPath = os.path.join(directory, resultLabel)\n",
    "            else:\n",
    "                resultLabel = \"discard\"\n",
    "                destPath = os.path.join(directory, resultLabel)\n",
    "  \n",
    "            #print(destPath)\n",
    "            try:\n",
    "                move(filePath, destPath)\n",
    "            except IOError as e:\n",
    "            # Report error, and then skip to the next argument\n",
    "                print (\"Problem moving\", filePath, \":\", e)\n",
    "            \n",
    "                \n",
    "        "
   ]
  },
  {
   "cell_type": "code",
   "execution_count": 32,
   "metadata": {},
   "outputs": [
    {
     "name": "stdout",
     "output_type": "stream",
     "text": [
      "fork (score=0.55269)\n",
      "coffee_mug (score=0.44731)\n",
      "apple (score=0.00000)\n"
     ]
    }
   ],
   "source": [
    "directory = \"tf_files/sort/645bike.jpg\"\n",
    "resultLabel = label_image(directory)"
   ]
  },
  {
   "cell_type": "code",
   "execution_count": null,
   "metadata": {},
   "outputs": [],
   "source": []
  }
 ],
 "metadata": {
  "kernelspec": {
   "display_name": "Python 3",
   "language": "python",
   "name": "python3"
  },
  "language_info": {
   "codemirror_mode": {
    "name": "ipython",
    "version": 3
   },
   "file_extension": ".py",
   "mimetype": "text/x-python",
   "name": "python",
   "nbconvert_exporter": "python",
   "pygments_lexer": "ipython3",
   "version": "3.5.2"
  }
 },
 "nbformat": 4,
 "nbformat_minor": 2
}
