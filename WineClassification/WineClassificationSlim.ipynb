{
 "cells": [
  {
   "cell_type": "code",
   "execution_count": 17,
   "metadata": {},
   "outputs": [],
   "source": [
    "#import our Neural Net with 3 layers. Change path depending on where the script is located\n",
    "exec(open(\"../Utilities/NNx3.py\").read())\n",
    "import pandas as pd\n",
    "import numpy as np"
   ]
  },
  {
   "cell_type": "code",
   "execution_count": 18,
   "metadata": {},
   "outputs": [],
   "source": [
    "import matplotlib\n",
    "import matplotlib.pyplot as plt\n",
    "\n",
    "import sklearn\n",
    "import sklearn.datasets\n",
    "import sklearn.linear_model\n",
    "from sklearn.preprocessing import OneHotEncoder\n",
    "from sklearn.metrics import accuracy_score"
   ]
  },
  {
   "cell_type": "code",
   "execution_count": 19,
   "metadata": {},
   "outputs": [
    {
     "data": {
      "text/html": [
       "<div>\n",
       "<style scoped>\n",
       "    .dataframe tbody tr th:only-of-type {\n",
       "        vertical-align: middle;\n",
       "    }\n",
       "\n",
       "    .dataframe tbody tr th {\n",
       "        vertical-align: top;\n",
       "    }\n",
       "\n",
       "    .dataframe thead th {\n",
       "        text-align: right;\n",
       "    }\n",
       "</style>\n",
       "<table border=\"1\" class=\"dataframe\">\n",
       "  <thead>\n",
       "    <tr style=\"text-align: right;\">\n",
       "      <th></th>\n",
       "      <th>Alcohol</th>\n",
       "      <th>Malic acid</th>\n",
       "      <th>Ash</th>\n",
       "      <th>Alcalinity of ash</th>\n",
       "      <th>Magnesium</th>\n",
       "      <th>Total phenols</th>\n",
       "      <th>Flavanoids</th>\n",
       "      <th>Nonflavanoid phenols</th>\n",
       "      <th>Proanthocyanins</th>\n",
       "      <th>Color intensity</th>\n",
       "      <th>Hue</th>\n",
       "      <th>OD280/OD315 of diluted wines</th>\n",
       "      <th>Proline</th>\n",
       "      <th>Cultivar 1</th>\n",
       "      <th>Cultivar 2</th>\n",
       "      <th>Cultivar 3</th>\n",
       "    </tr>\n",
       "  </thead>\n",
       "  <tbody>\n",
       "    <tr>\n",
       "      <th>0</th>\n",
       "      <td>0.246290</td>\n",
       "      <td>-0.499413</td>\n",
       "      <td>-0.827996</td>\n",
       "      <td>-2.490847</td>\n",
       "      <td>0.018145</td>\n",
       "      <td>0.568648</td>\n",
       "      <td>0.733629</td>\n",
       "      <td>-0.820719</td>\n",
       "      <td>-0.544721</td>\n",
       "      <td>-0.293321</td>\n",
       "      <td>0.406051</td>\n",
       "      <td>1.113449</td>\n",
       "      <td>0.965242</td>\n",
       "      <td>1</td>\n",
       "      <td>0</td>\n",
       "      <td>0</td>\n",
       "    </tr>\n",
       "    <tr>\n",
       "      <th>1</th>\n",
       "      <td>1.691550</td>\n",
       "      <td>-0.346811</td>\n",
       "      <td>0.487926</td>\n",
       "      <td>-0.809251</td>\n",
       "      <td>0.930918</td>\n",
       "      <td>2.491446</td>\n",
       "      <td>1.466525</td>\n",
       "      <td>-0.981875</td>\n",
       "      <td>1.032155</td>\n",
       "      <td>1.186068</td>\n",
       "      <td>-0.427544</td>\n",
       "      <td>1.184071</td>\n",
       "      <td>2.334574</td>\n",
       "      <td>1</td>\n",
       "      <td>0</td>\n",
       "      <td>0</td>\n",
       "    </tr>\n",
       "    <tr>\n",
       "      <th>2</th>\n",
       "      <td>0.295700</td>\n",
       "      <td>0.227694</td>\n",
       "      <td>1.840403</td>\n",
       "      <td>0.451946</td>\n",
       "      <td>1.281985</td>\n",
       "      <td>0.808997</td>\n",
       "      <td>0.663351</td>\n",
       "      <td>0.226796</td>\n",
       "      <td>0.401404</td>\n",
       "      <td>-0.319276</td>\n",
       "      <td>0.362177</td>\n",
       "      <td>0.449601</td>\n",
       "      <td>-0.037874</td>\n",
       "      <td>1</td>\n",
       "      <td>0</td>\n",
       "      <td>0</td>\n",
       "    </tr>\n",
       "    <tr>\n",
       "      <th>3</th>\n",
       "      <td>1.481555</td>\n",
       "      <td>-0.517367</td>\n",
       "      <td>0.305159</td>\n",
       "      <td>-1.289707</td>\n",
       "      <td>0.860705</td>\n",
       "      <td>1.562093</td>\n",
       "      <td>1.366128</td>\n",
       "      <td>-0.176095</td>\n",
       "      <td>0.664217</td>\n",
       "      <td>0.731870</td>\n",
       "      <td>0.406051</td>\n",
       "      <td>0.336606</td>\n",
       "      <td>2.239039</td>\n",
       "      <td>1</td>\n",
       "      <td>0</td>\n",
       "      <td>0</td>\n",
       "    </tr>\n",
       "    <tr>\n",
       "      <th>4</th>\n",
       "      <td>1.716255</td>\n",
       "      <td>-0.418624</td>\n",
       "      <td>0.305159</td>\n",
       "      <td>-1.469878</td>\n",
       "      <td>-0.262708</td>\n",
       "      <td>0.328298</td>\n",
       "      <td>0.492677</td>\n",
       "      <td>-0.498407</td>\n",
       "      <td>0.681738</td>\n",
       "      <td>0.083015</td>\n",
       "      <td>0.274431</td>\n",
       "      <td>1.367689</td>\n",
       "      <td>1.729520</td>\n",
       "      <td>1</td>\n",
       "      <td>0</td>\n",
       "      <td>0</td>\n",
       "    </tr>\n",
       "  </tbody>\n",
       "</table>\n",
       "</div>"
      ],
      "text/plain": [
       "    Alcohol  Malic acid       Ash  Alcalinity of ash  Magnesium  \\\n",
       "0  0.246290   -0.499413 -0.827996          -2.490847   0.018145   \n",
       "1  1.691550   -0.346811  0.487926          -0.809251   0.930918   \n",
       "2  0.295700    0.227694  1.840403           0.451946   1.281985   \n",
       "3  1.481555   -0.517367  0.305159          -1.289707   0.860705   \n",
       "4  1.716255   -0.418624  0.305159          -1.469878  -0.262708   \n",
       "\n",
       "   Total phenols  Flavanoids  Nonflavanoid phenols  Proanthocyanins  \\\n",
       "0       0.568648    0.733629             -0.820719        -0.544721   \n",
       "1       2.491446    1.466525             -0.981875         1.032155   \n",
       "2       0.808997    0.663351              0.226796         0.401404   \n",
       "3       1.562093    1.366128             -0.176095         0.664217   \n",
       "4       0.328298    0.492677             -0.498407         0.681738   \n",
       "\n",
       "   Color intensity       Hue  OD280/OD315 of diluted wines   Proline  \\\n",
       "0        -0.293321  0.406051                      1.113449  0.965242   \n",
       "1         1.186068 -0.427544                      1.184071  2.334574   \n",
       "2        -0.319276  0.362177                      0.449601 -0.037874   \n",
       "3         0.731870  0.406051                      0.336606  2.239039   \n",
       "4         0.083015  0.274431                      1.367689  1.729520   \n",
       "\n",
       "   Cultivar 1  Cultivar 2  Cultivar 3  \n",
       "0           1           0           0  \n",
       "1           1           0           0  \n",
       "2           1           0           0  \n",
       "3           1           0           0  \n",
       "4           1           0           0  "
      ]
     },
     "execution_count": 19,
     "metadata": {},
     "output_type": "execute_result"
    }
   ],
   "source": [
    "df = pd.read_csv('W1data.csv')\n",
    "dfTest = pd.read_csv('W1TestData.csv')\n",
    "df.head()"
   ]
  },
  {
   "cell_type": "code",
   "execution_count": 20,
   "metadata": {},
   "outputs": [],
   "source": [
    "# Get labels\n",
    "y = df[['Cultivar 1', 'Cultivar 2', 'Cultivar 3']].values\n",
    "\n",
    "# Get inputs; we define our x and y here.\n",
    "X = df.drop(['Cultivar 1', 'Cultivar 2', 'Cultivar 3'], axis = 1)\n",
    "X.shape, y.shape # Print shapes just to check\n",
    "X = X.values"
   ]
  },
  {
   "cell_type": "code",
   "execution_count": 21,
   "metadata": {},
   "outputs": [
    {
     "name": "stdout",
     "output_type": "stream",
     "text": [
      "Loss after iteration 0 : 1.4619703912286877\n",
      "Accuracy after iteration 0 : 24.539877300613497 %\n",
      "Loss after iteration 100 : 0.5410202294391878\n",
      "Accuracy after iteration 100 : 79.75460122699386 %\n",
      "Loss after iteration 200 : 0.4080293260109097\n",
      "Accuracy after iteration 200 : 85.88957055214725 %\n",
      "Loss after iteration 300 : 0.35777911648501554\n",
      "Accuracy after iteration 300 : 87.73006134969326 %\n",
      "Loss after iteration 400 : 0.3309813130264834\n",
      "Accuracy after iteration 400 : 88.95705521472392 %\n",
      "Loss after iteration 500 : 0.31100773668997195\n",
      "Accuracy after iteration 500 : 88.95705521472392 %\n",
      "Loss after iteration 600 : 0.29279721209183823\n",
      "Accuracy after iteration 600 : 88.95705521472392 %\n",
      "Loss after iteration 700 : 0.27377332699561086\n",
      "Accuracy after iteration 700 : 88.95705521472392 %\n",
      "Loss after iteration 800 : 0.26020299559480736\n",
      "Accuracy after iteration 800 : 88.95705521472392 %\n",
      "Loss after iteration 900 : 0.2451752446736815\n",
      "Accuracy after iteration 900 : 88.95705521472392 %\n",
      "Loss after iteration 1000 : 0.23328634720806354\n",
      "Accuracy after iteration 1000 : 91.41104294478528 %\n",
      "Loss after iteration 1100 : 0.22387338114330593\n",
      "Accuracy after iteration 1100 : 92.02453987730061 %\n",
      "Loss after iteration 1200 : 0.20024678639973392\n",
      "Accuracy after iteration 1200 : 92.02453987730061 %\n",
      "Loss after iteration 1300 : 0.18741428035754282\n",
      "Accuracy after iteration 1300 : 92.63803680981594 %\n",
      "Loss after iteration 1400 : 0.17602379298318693\n",
      "Accuracy after iteration 1400 : 93.25153374233128 %\n",
      "Loss after iteration 1500 : 0.16567932515430203\n",
      "Accuracy after iteration 1500 : 93.86503067484662 %\n",
      "Loss after iteration 1600 : 0.15773723847206594\n",
      "Accuracy after iteration 1600 : 94.47852760736197 %\n",
      "Loss after iteration 1700 : 0.15298508918378761\n",
      "Accuracy after iteration 1700 : 94.47852760736197 %\n",
      "Loss after iteration 1800 : 0.1496036648962879\n",
      "Accuracy after iteration 1800 : 94.47852760736197 %\n",
      "Loss after iteration 1900 : 0.14690541626691983\n",
      "Accuracy after iteration 1900 : 94.47852760736197 %\n",
      "Loss after iteration 2000 : 0.14466711126872134\n",
      "Accuracy after iteration 2000 : 94.47852760736197 %\n",
      "Loss after iteration 2100 : 0.14274632609613921\n",
      "Accuracy after iteration 2100 : 94.47852760736197 %\n",
      "Loss after iteration 2200 : 0.14105478988307757\n",
      "Accuracy after iteration 2200 : 94.47852760736197 %\n",
      "Loss after iteration 2300 : 0.139538837147013\n",
      "Accuracy after iteration 2300 : 94.47852760736197 %\n",
      "Loss after iteration 2400 : 0.1381590536089957\n",
      "Accuracy after iteration 2400 : 94.47852760736197 %\n",
      "Loss after iteration 2500 : 0.13688041530549844\n",
      "Accuracy after iteration 2500 : 94.47852760736197 %\n",
      "Loss after iteration 2600 : 0.13566256655753042\n",
      "Accuracy after iteration 2600 : 94.47852760736197 %\n",
      "Loss after iteration 2700 : 0.1344357411388349\n",
      "Accuracy after iteration 2700 : 94.47852760736197 %\n",
      "Loss after iteration 2800 : 0.1329813513262281\n",
      "Accuracy after iteration 2800 : 94.47852760736197 %\n",
      "Loss after iteration 2900 : 0.12962412680703445\n",
      "Accuracy after iteration 2900 : 94.47852760736197 %\n",
      "Loss after iteration 3000 : 0.12410879960302691\n",
      "Accuracy after iteration 3000 : 95.0920245398773 %\n",
      "Loss after iteration 3100 : 0.1215630993417392\n",
      "Accuracy after iteration 3100 : 95.0920245398773 %\n",
      "Loss after iteration 3200 : 0.11863561826902874\n",
      "Accuracy after iteration 3200 : 95.70552147239265 %\n",
      "Loss after iteration 3300 : 0.11463650516964635\n",
      "Accuracy after iteration 3300 : 96.31901840490798 %\n",
      "Loss after iteration 3400 : 0.1127888361105384\n",
      "Accuracy after iteration 3400 : 96.31901840490798 %\n",
      "Loss after iteration 3500 : 0.11146549404821418\n",
      "Accuracy after iteration 3500 : 96.31901840490798 %\n",
      "Loss after iteration 3600 : 0.11035854626516534\n",
      "Accuracy after iteration 3600 : 96.31901840490798 %\n",
      "Loss after iteration 3700 : 0.10934417606445253\n",
      "Accuracy after iteration 3700 : 96.31901840490798 %\n",
      "Loss after iteration 3800 : 0.10834087629699816\n",
      "Accuracy after iteration 3800 : 96.31901840490798 %\n",
      "Loss after iteration 3900 : 0.10724380811746845\n",
      "Accuracy after iteration 3900 : 96.31901840490798 %\n",
      "Loss after iteration 4000 : 0.10580252083347381\n",
      "Accuracy after iteration 4000 : 96.31901840490798 %\n",
      "Loss after iteration 4100 : 0.10296056666845388\n",
      "Accuracy after iteration 4100 : 96.31901840490798 %\n",
      "Loss after iteration 4200 : 0.08980522637673993\n",
      "Accuracy after iteration 4200 : 96.93251533742331 %\n",
      "Loss after iteration 4300 : 0.06712672950627403\n",
      "Accuracy after iteration 4300 : 98.15950920245399 %\n",
      "Loss after iteration 4400 : 0.06540956728635056\n",
      "Accuracy after iteration 4400 : 98.15950920245399 %\n"
     ]
    },
    {
     "data": {
      "text/plain": [
       "[<matplotlib.lines.Line2D at 0x28ef0b08278>]"
      ]
     },
     "execution_count": 21,
     "metadata": {},
     "output_type": "execute_result"
    },
    {
     "data": {
      "image/png": "[encoded data removed]",
      "text/plain": [
       "<Figure size 432x288 with 1 Axes>"
      ]
     },
     "metadata": {},
     "output_type": "display_data"
    }
   ],
   "source": [
    "#need to make random start from a base of 0\n",
    "np.random.seed(0)\n",
    "#epochs is one full training forward and back propagation\n",
    "#LEarning rate is hoow rapidly the parameters change\n",
    "# This is what we return at the end\n",
    "model = initialise_parameters(nn_input_dim=13, nn_hdim= 5, nn_output_dim= 3)\n",
    "model = train(model,X,y,learning_rate=0.07,epochs=4500,print_loss=True)\n",
    "plt.plot(losses)"
   ]
  },
  {
   "cell_type": "code",
   "execution_count": 22,
   "metadata": {},
   "outputs": [],
   "source": [
    "# Get labels\n",
    "yTest = dfTest[['Cultivar 1', 'Cultivar 2', 'Cultivar 3']].values\n",
    "\n",
    "# Get inputs; we define our x and y here.\n",
    "XTest = dfTest.drop(['Cultivar 1', 'Cultivar 2', 'Cultivar 3'], axis = 1)\n",
    "XTest.shape, yTest.shape # Print shapes just to check\n",
    "XTest = XTest.values"
   ]
  },
  {
   "cell_type": "code",
   "execution_count": 23,
   "metadata": {},
   "outputs": [],
   "source": [
    "#now test on our test file"
   ]
  },
  {
   "cell_type": "code",
   "execution_count": 24,
   "metadata": {},
   "outputs": [],
   "source": [
    "yTest = predict(model,XTest)"
   ]
  },
  {
   "cell_type": "code",
   "execution_count": 25,
   "metadata": {},
   "outputs": [],
   "source": [
    "#change the test answers data array into a 1d array that can be compared for measuring the accuracy\n",
    "answersArray = []\n",
    "for index, row in dfTest[['Cultivar 1', 'Cultivar 2', 'Cultivar 3']].iterrows():\n",
    "    #print(str(index) +\" : \"+str((row.values)))\n",
    "    finalValue = 0;\n",
    "    for idx, num in enumerate(row.values):\n",
    "        correctedNum = idx*num\n",
    "        finalValue += correctedNum\n",
    "    answersArray.append(finalValue)\n",
    "    #print(str(index) +\":\" +str(finalValue))"
   ]
  },
  {
   "cell_type": "code",
   "execution_count": 26,
   "metadata": {},
   "outputs": [
    {
     "data": {
      "text/plain": [
       "array([2, 1, 0, 0, 2, 0, 2, 1, 0, 0, 2, 1, 1, 1, 2], dtype=int64)"
      ]
     },
     "execution_count": 26,
     "metadata": {},
     "output_type": "execute_result"
    }
   ],
   "source": [
    "#The predicted answers\n",
    "yTest"
   ]
  },
  {
   "cell_type": "code",
   "execution_count": 27,
   "metadata": {},
   "outputs": [
    {
     "data": {
      "text/plain": [
       "array([2, 1, 0, 0, 2, 0, 2, 1, 0, 0, 2, 1, 1, 1, 2], dtype=int64)"
      ]
     },
     "execution_count": 27,
     "metadata": {},
     "output_type": "execute_result"
    }
   ],
   "source": [
    "#the real answers\n",
    "np.array(answersArray)"
   ]
  },
  {
   "cell_type": "code",
   "execution_count": 28,
   "metadata": {},
   "outputs": [
    {
     "data": {
      "text/plain": [
       "1.0"
      ]
     },
     "execution_count": 28,
     "metadata": {},
     "output_type": "execute_result"
    }
   ],
   "source": [
    "#runn an accuracy score between the predicted numbers and real answers.\n",
    "accuracy_score(answersArray, yTest)"
   ]
  },
  {
   "cell_type": "code",
   "execution_count": null,
   "metadata": {},
   "outputs": [],
   "source": []
  }
 ],
 "metadata": {
  "kernelspec": {
   "display_name": "Python 3",
   "language": "python",
   "name": "python3"
  },
  "language_info": {
   "codemirror_mode": {
    "name": "ipython",
    "version": 3
   },
   "file_extension": ".py",
   "mimetype": "text/x-python",
   "name": "python",
   "nbconvert_exporter": "python",
   "pygments_lexer": "ipython3",
   "version": "3.6.2"
  }
 },
 "nbformat": 4,
 "nbformat_minor": 2
}
